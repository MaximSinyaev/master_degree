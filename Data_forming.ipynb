{
 "cells": [
  {
   "cell_type": "code",
   "execution_count": 1,
   "metadata": {},
   "outputs": [],
   "source": [
    "import numpy as np\n",
    "import pandas as pd\n",
    "import os\n",
    "import re\n",
    "import matplotlib.pyplot as plt\n",
    "import seaborn as sns"
   ]
  },
  {
   "cell_type": "code",
   "execution_count": 2,
   "metadata": {},
   "outputs": [],
   "source": [
    "data_directory = './data'\n",
    "gens_dir = [dir for dir in os.listdir(data_directory) if dir[0] != '.'\\\n",
    "            and os.path.isdir(data_directory + '/' + dir)]\n",
    "# gen1_dir = '/gen_1_25'\n",
    "# gen2_dir = '/gen_2_80'\n",
    "data_dir_list = os.listdir(data_directory)\n",
    "expr_spaces_begin_end = re.compile(r'(^\\ +)|(\\ +$)', re.M)\n",
    "sep = ','\n",
    "header = f\"t{sep}Ug{sep}Us{sep}Pij{sep}Pg{sep}Pgt{sep}delta\""
   ]
  },
  {
   "cell_type": "code",
   "execution_count": 62,
   "metadata": {},
   "outputs": [],
   "source": [
    "def convert_to_csv(filename, sep=',', format='csv', encoding='cyrillic'):\n",
    "    prev_buf = ''\n",
    "    with open(filename, 'r', encoding=encoding) as f1:\n",
    "        with open(f1.name.replace(\"TXT\", format), 'w') as f2:\n",
    "            [f1.readline() for i in range(6)]\n",
    "            print(header.expandtabs(1), file=f2)\n",
    "            res = ''\n",
    "            for line in f1:\n",
    "                buf = line\n",
    "                buf = expr_spaces_begin_end.sub('', buf)\n",
    "                buf = re.sub('\\ +', ',', buf)\n",
    "                if prev_buf[:6] != buf[:6]:\n",
    "                    res += buf\n",
    "                else:\n",
    "                    res = res[:-len(prev_buf)] + buf\n",
    "                prev_buf = buf\n",
    "            print(res, file=f2, end='')\n",
    "    print(f'Converted {f1.name} -> {f2.name}')\n"
   ]
  },
  {
   "cell_type": "code",
   "execution_count": 63,
   "metadata": {},
   "outputs": [
    {
     "data": {
      "text/plain": [
       "['gen_3_25', 'gen_3_80', 'gen_1_80', 'gen_4_80', 'gen_1_25', 'gen_2_80']"
      ]
     },
     "execution_count": 63,
     "metadata": {},
     "output_type": "execute_result"
    }
   ],
   "source": [
    "gens_dir"
   ]
  },
  {
   "cell_type": "code",
   "execution_count": 64,
   "metadata": {},
   "outputs": [
    {
     "data": {
      "text/plain": [
       "'/home/poligon/master_degree'"
      ]
     },
     "execution_count": 64,
     "metadata": {},
     "output_type": "execute_result"
    }
   ],
   "source": [
    "# os.chdir('../')\n",
    "# os.chdir('master_degree/')\n",
    "os.getcwd()"
   ]
  },
  {
   "cell_type": "code",
   "execution_count": 65,
   "metadata": {},
   "outputs": [],
   "source": [
    "def conver_all_files_from_directory(data_directory):\n",
    "    os.chdir(data_directory)\n",
    "    print(data_directory)\n",
    "    for directory in os.listdir('.'):\n",
    "        if os.path.isfile(directory) or directory[0] == '.':\n",
    "            continue\n",
    "        os.chdir(directory)\n",
    "        print('Converting files in', os.getcwd())\n",
    "        for filename in os.listdir(os.curdir):\n",
    "            if re.match(r'(.*TXT)|(.*txt)', filename):\n",
    "                convert_to_csv(filename)\n",
    "        os.chdir('../')\n",
    "    os.chdir('../..')"
   ]
  },
  {
   "cell_type": "code",
   "execution_count": 66,
   "metadata": {
    "scrolled": true
   },
   "outputs": [
    {
     "name": "stdout",
     "output_type": "stream",
     "text": [
      "./data/gen_3_25\n",
      "Converting files in /home/poligon/master_degree/data/gen_3_25/more_20\n",
      "Converted 15.TXT -> 15.csv\n",
      "Converted 6.TXT -> 6.csv\n",
      "Converted 4.TXT -> 4.csv\n",
      "Converted 8.TXT -> 8.csv\n",
      "Converted 1.TXT -> 1.csv\n",
      "Converted 7.TXT -> 7.csv\n",
      "Converted 10.TXT -> 10.csv\n",
      "Converted 12.TXT -> 12.csv\n",
      "Converted 5.TXT -> 5.csv\n",
      "Converted 13.TXT -> 13.csv\n",
      "Converted 11.TXT -> 11.csv\n",
      "Converted 2.TXT -> 2.csv\n",
      "Converted 9.TXT -> 9.csv\n",
      "Converted 3.TXT -> 3.csv\n",
      "Converted 14.TXT -> 14.csv\n",
      "Converting files in /home/poligon/master_degree/data/gen_3_25/more_8\n",
      "Converted 15.TXT -> 15.csv\n",
      "Converted 6.TXT -> 6.csv\n",
      "Converted 4.TXT -> 4.csv\n",
      "Converted 8.TXT -> 8.csv\n",
      "Converted 1.TXT -> 1.csv\n",
      "Converted 7.TXT -> 7.csv\n",
      "Converted 10.TXT -> 10.csv\n",
      "Converted 12.TXT -> 12.csv\n",
      "Converted 5.TXT -> 5.csv\n",
      "Converted 13.TXT -> 13.csv\n",
      "Converted 11.TXT -> 11.csv\n",
      "Converted 2.TXT -> 2.csv\n",
      "Converted 16.TXT -> 16.csv\n",
      "Converted 9.TXT -> 9.csv\n",
      "Converted 3.TXT -> 3.csv\n",
      "Converted 14.TXT -> 14.csv\n",
      "Converting files in /home/poligon/master_degree/data/gen_3_25/le_8\n",
      "Converted 6.TXT -> 6.csv\n",
      "Converted 4.TXT -> 4.csv\n",
      "Converted 8.TXT -> 8.csv\n",
      "Converted 1.TXT -> 1.csv\n",
      "Converted 7.TXT -> 7.csv\n",
      "Converted 10.TXT -> 10.csv\n",
      "Converted 12.TXT -> 12.csv\n",
      "Converted 5.TXT -> 5.csv\n",
      "Converted 11.TXT -> 11.csv\n",
      "Converted 2.TXT -> 2.csv\n",
      "Converted 9.TXT -> 9.csv\n",
      "Converted 3.TXT -> 3.csv\n",
      "./data/gen_3_80\n",
      "Converting files in /home/poligon/master_degree/data/gen_3_80/more_20\n",
      "Converted 15.TXT -> 15.csv\n",
      "Converted 6.TXT -> 6.csv\n",
      "Converted 4.TXT -> 4.csv\n",
      "Converted 8.TXT -> 8.csv\n",
      "Converted 1.TXT -> 1.csv\n",
      "Converted 7.TXT -> 7.csv\n",
      "Converted 10.TXT -> 10.csv\n",
      "Converted 12.TXT -> 12.csv\n",
      "Converted 5.TXT -> 5.csv\n",
      "Converted 13.TXT -> 13.csv\n",
      "Converted 11.TXT -> 11.csv\n",
      "Converted 2.TXT -> 2.csv\n",
      "Converted 9.TXT -> 9.csv\n",
      "Converted 3.TXT -> 3.csv\n",
      "Converted 14.TXT -> 14.csv\n",
      "Converting files in /home/poligon/master_degree/data/gen_3_80/more_8\n",
      "Converted 32.TXT -> 32.csv\n",
      "Converted 20.TXT -> 20.csv\n",
      "Converted 46.TXT -> 46.csv\n",
      "Converted 34.TXT -> 34.csv\n",
      "Converted 6.TXT -> 6.csv\n",
      "Converted 30.TXT -> 30.csv\n",
      "Converted 4.TXT -> 4.csv\n",
      "Converted 8.TXT -> 8.csv\n",
      "Converted 1.TXT -> 1.csv\n",
      "Converted 24.TXT -> 24.csv\n",
      "Converted 40.TXT -> 40.csv\n",
      "Converted 45.TXT -> 45.csv\n",
      "Converted 26.TXT -> 26.csv\n",
      "Converted 36.TXT -> 36.csv\n",
      "Converted 43.TXT -> 43.csv\n",
      "Converted 18.TXT -> 18.csv\n",
      "Converted 7.TXT -> 7.csv\n",
      "Converted 10.TXT -> 10.csv\n",
      "Converted 12.TXT -> 12.csv\n",
      "Converted 42.TXT -> 42.csv\n",
      "Converted 5.TXT -> 5.csv\n",
      "Converted 28.TXT -> 28.csv\n",
      "Converted 2.TXT -> 2.csv\n",
      "Converted 16.TXT -> 16.csv\n",
      "Converted 44.TXT -> 44.csv\n",
      "Converted 9.TXT -> 9.csv\n",
      "Converted 38.TXT -> 38.csv\n",
      "Converted 3.TXT -> 3.csv\n",
      "Converted 22.TXT -> 22.csv\n",
      "Converted 14.TXT -> 14.csv\n",
      "Converting files in /home/poligon/master_degree/data/gen_3_80/le_8\n",
      "Converted 15.TXT -> 15.csv\n",
      "Converted 30.TXT -> 30.csv\n",
      "Converted 4.TXT -> 4.csv\n",
      "Converted 25.TXT -> 25.csv\n",
      "Converted 1.TXT -> 1.csv\n",
      "Converted 7.TXT -> 7.csv\n",
      "Converted 5.TXT -> 5.csv\n",
      "Converted 28.TXT -> 28.csv\n",
      "Converted 13.TXT -> 13.csv\n",
      "Converted 31.TXT -> 31.csv\n",
      "Converted 11.TXT -> 11.csv\n",
      "Converted 29.TXT -> 29.csv\n",
      "Converted 2.TXT -> 2.csv\n",
      "Converted 9.TXT -> 9.csv\n",
      "Converted 19.TXT -> 19.csv\n",
      "Converted 3.TXT -> 3.csv\n",
      "Converted 17.TXT -> 17.csv\n",
      "Converted 27.TXT -> 27.csv\n",
      "./data/gen_1_80\n",
      "Converting files in /home/poligon/master_degree/data/gen_1_80/more_20\n",
      "Converted 15.TXT -> 15.csv\n",
      "Converted 6.TXT -> 6.csv\n",
      "Converted 4.TXT -> 4.csv\n",
      "Converted 8.TXT -> 8.csv\n",
      "Converted 1.TXT -> 1.csv\n",
      "Converted 7.TXT -> 7.csv\n",
      "Converted 10.TXT -> 10.csv\n",
      "Converted 12.TXT -> 12.csv\n",
      "Converted 5.TXT -> 5.csv\n",
      "Converted 13.TXT -> 13.csv\n",
      "Converted 11.TXT -> 11.csv\n",
      "Converted 2.TXT -> 2.csv\n",
      "Converted 9.TXT -> 9.csv\n",
      "Converted 3.TXT -> 3.csv\n",
      "Converted 14.TXT -> 14.csv\n",
      "Converting files in /home/poligon/master_degree/data/gen_1_80/more_8\n",
      "Converted 20.TXT -> 20.csv\n",
      "Converted 15.TXT -> 15.csv\n",
      "Converted 6.TXT -> 6.csv\n",
      "Converted 4.TXT -> 4.csv\n",
      "Converted 25.TXT -> 25.csv\n",
      "Converted 8.TXT -> 8.csv\n",
      "Converted 1.TXT -> 1.csv\n",
      "Converted 24.TXT -> 24.csv\n",
      "Converted 18.TXT -> 18.csv\n",
      "Converted 7.TXT -> 7.csv\n",
      "Converted 10.TXT -> 10.csv\n",
      "Converted 12.TXT -> 12.csv\n",
      "Converted 5.TXT -> 5.csv\n",
      "Converted 13.TXT -> 13.csv\n",
      "Converted 21.TXT -> 21.csv\n",
      "Converted 11.TXT -> 11.csv\n",
      "Converted 2.TXT -> 2.csv\n",
      "Converted 16.TXT -> 16.csv\n",
      "Converted 9.TXT -> 9.csv\n",
      "Converted 19.TXT -> 19.csv\n",
      "Converted 23.TXT -> 23.csv\n",
      "Converted 3.TXT -> 3.csv\n",
      "Converted 22.TXT -> 22.csv\n",
      "Converted 17.TXT -> 17.csv\n",
      "Converted 14.TXT -> 14.csv\n",
      "Converting files in /home/poligon/master_degree/data/gen_1_80/le_8\n",
      "Converted 15.TXT -> 15.csv\n",
      "Converted 6.TXT -> 6.csv\n",
      "Converted 4.TXT -> 4.csv\n",
      "Converted 8.TXT -> 8.csv\n",
      "Converted 1.TXT -> 1.csv\n",
      "Converted 18.TXT -> 18.csv\n",
      "Converted 7.TXT -> 7.csv\n",
      "Converted 10.TXT -> 10.csv\n",
      "Converted 12.TXT -> 12.csv\n",
      "Converted 5.TXT -> 5.csv\n",
      "Converted 13.TXT -> 13.csv\n",
      "Converted 11.TXT -> 11.csv\n",
      "Converted 2.TXT -> 2.csv\n",
      "Converted 16.TXT -> 16.csv\n",
      "Converted 9.TXT -> 9.csv\n",
      "Converted 3.TXT -> 3.csv\n",
      "Converted 17.TXT -> 17.csv\n",
      "Converted 14.TXT -> 14.csv\n",
      "./data/gen_4_80\n",
      "Converting files in /home/poligon/master_degree/data/gen_4_80/more_20\n",
      "Converted 15.TXT -> 15.csv\n",
      "Converted 6.TXT -> 6.csv\n",
      "Converted 4.TXT -> 4.csv\n",
      "Converted 8.TXT -> 8.csv\n",
      "Converted 1.TXT -> 1.csv\n",
      "Converted 7.TXT -> 7.csv\n",
      "Converted 10.TXT -> 10.csv\n",
      "Converted 12.TXT -> 12.csv\n",
      "Converted 5.TXT -> 5.csv\n",
      "Converted 13.TXT -> 13.csv\n",
      "Converted 11.TXT -> 11.csv\n",
      "Converted 2.TXT -> 2.csv\n",
      "Converted 9.TXT -> 9.csv\n",
      "Converted 3.TXT -> 3.csv\n",
      "Converted 14.TXT -> 14.csv\n",
      "Converting files in /home/poligon/master_degree/data/gen_4_80/more_8\n",
      "Converted 20.TXT -> 20.csv\n",
      "Converted 6.TXT -> 6.csv\n",
      "Converted 4.TXT -> 4.csv\n",
      "Converted 25.TXT -> 25.csv\n",
      "Converted 8.TXT -> 8.csv\n",
      "Converted 1.TXT -> 1.csv\n",
      "Converted 24.TXT -> 24.csv\n",
      "Converted 26.TXT -> 26.csv\n",
      "Converted 18.TXT -> 18.csv\n",
      "Converted 7.TXT -> 7.csv\n",
      "Converted 10.TXT -> 10.csv\n",
      "Converted 12.TXT -> 12.csv\n",
      "Converted 5.TXT -> 5.csv\n",
      "Converted 28.TXT -> 28.csv\n",
      "Converted 29.TXT -> 29.csv\n",
      "Converted 2.TXT -> 2.csv\n",
      "Converted 16.TXT -> 16.csv\n",
      "Converted 3.TXT -> 3.csv\n",
      "Converted 22.TXT -> 22.csv\n",
      "Converted 14.TXT -> 14.csv\n",
      "Converted 27.TXT -> 27.csv\n",
      "Converting files in /home/poligon/master_degree/data/gen_4_80/le_8\n",
      "Converted 20.TXT -> 20.csv\n",
      "Converted 15.TXT -> 15.csv\n",
      "Converted 6.TXT -> 6.csv\n",
      "Converted 4.TXT -> 4.csv\n",
      "Converted 8.TXT -> 8.csv\n",
      "Converted 1.TXT -> 1.csv\n",
      "Converted 18.TXT -> 18.csv\n",
      "Converted 10.TXT -> 10.csv\n",
      "Converted 12.TXT -> 12.csv\n",
      "Converted 5.TXT -> 5.csv\n",
      "Converted 21.TXT -> 21.csv\n",
      "Converted 2.TXT -> 2.csv\n",
      "Converted 16.TXT -> 16.csv\n",
      "Converted 19.TXT -> 19.csv\n",
      "Converted 3.TXT -> 3.csv\n",
      "Converted 22.TXT -> 22.csv\n",
      "Converted 17.TXT -> 17.csv\n",
      "Converted 14.TXT -> 14.csv\n",
      "./data/gen_1_25\n",
      "Converting files in /home/poligon/master_degree/data/gen_1_25/more_20\n",
      "Converted 15.TXT -> 15.csv\n",
      "Converted 6.TXT -> 6.csv\n",
      "Converted 4.TXT -> 4.csv\n",
      "Converted 8.TXT -> 8.csv\n",
      "Converted 1.TXT -> 1.csv\n",
      "Converted 7.TXT -> 7.csv\n",
      "Converted 10.TXT -> 10.csv\n",
      "Converted 12.TXT -> 12.csv\n",
      "Converted 5.TXT -> 5.csv\n",
      "Converted 13.TXT -> 13.csv\n",
      "Converted 11.TXT -> 11.csv\n",
      "Converted 2.TXT -> 2.csv\n",
      "Converted 9.TXT -> 9.csv\n",
      "Converted 3.TXT -> 3.csv\n",
      "Converted 14.TXT -> 14.csv\n",
      "Converting files in /home/poligon/master_degree/data/gen_1_25/more_8\n",
      "Converted 20.TXT -> 20.csv\n",
      "Converted 15.TXT -> 15.csv\n",
      "Converted 6.TXT -> 6.csv\n",
      "Converted 4.TXT -> 4.csv\n",
      "Converted 25.TXT -> 25.csv\n",
      "Converted 8.TXT -> 8.csv\n",
      "Converted 1.TXT -> 1.csv\n",
      "Converted 24.TXT -> 24.csv\n",
      "Converted 26.TXT -> 26.csv\n",
      "Converted 18.TXT -> 18.csv\n",
      "Converted 7.TXT -> 7.csv\n",
      "Converted 10.TXT -> 10.csv\n",
      "Converted 12.TXT -> 12.csv\n",
      "Converted 5.TXT -> 5.csv\n",
      "Converted 13.TXT -> 13.csv\n",
      "Converted 21.TXT -> 21.csv\n",
      "Converted 11.TXT -> 11.csv\n",
      "Converted 2.TXT -> 2.csv\n",
      "Converted 16.TXT -> 16.csv\n",
      "Converted 9.TXT -> 9.csv\n",
      "Converted 19.TXT -> 19.csv\n",
      "Converted 23.TXT -> 23.csv\n",
      "Converted 3.TXT -> 3.csv\n",
      "Converted 22.TXT -> 22.csv\n",
      "Converted 17.TXT -> 17.csv\n",
      "Converted 14.TXT -> 14.csv\n",
      "Converting files in /home/poligon/master_degree/data/gen_1_25/le_8\n",
      "Converted 15.TXT -> 15.csv\n",
      "Converted 6.TXT -> 6.csv\n",
      "Converted 4.TXT -> 4.csv\n",
      "Converted 8.TXT -> 8.csv\n",
      "Converted 1.TXT -> 1.csv\n",
      "Converted 7.TXT -> 7.csv\n",
      "Converted 10.TXT -> 10.csv\n",
      "Converted 12.TXT -> 12.csv\n",
      "Converted 5.TXT -> 5.csv\n",
      "Converted 13.TXT -> 13.csv\n",
      "Converted 11.TXT -> 11.csv\n",
      "Converted 2.TXT -> 2.csv\n",
      "Converted 16.TXT -> 16.csv\n",
      "Converted 9.TXT -> 9.csv\n"
     ]
    },
    {
     "name": "stdout",
     "output_type": "stream",
     "text": [
      "Converted 3.TXT -> 3.csv\n",
      "Converted 17.TXT -> 17.csv\n",
      "Converted 14.TXT -> 14.csv\n",
      "./data/gen_2_80\n",
      "Converting files in /home/poligon/master_degree/data/gen_2_80/more_20\n",
      "Converted 15.TXT -> 15.csv\n",
      "Converted 6.TXT -> 6.csv\n",
      "Converted 4.TXT -> 4.csv\n",
      "Converted 8.TXT -> 8.csv\n",
      "Converted 1.TXT -> 1.csv\n",
      "Converted 7.TXT -> 7.csv\n",
      "Converted 10.TXT -> 10.csv\n",
      "Converted 12.TXT -> 12.csv\n",
      "Converted 5.TXT -> 5.csv\n",
      "Converted 13.TXT -> 13.csv\n",
      "Converted 11.TXT -> 11.csv\n",
      "Converted 2.TXT -> 2.csv\n",
      "Converted 9.TXT -> 9.csv\n",
      "Converted 3.TXT -> 3.csv\n",
      "Converted 14.TXT -> 14.csv\n",
      "Converting files in /home/poligon/master_degree/data/gen_2_80/more_8\n",
      "Converted 32.TXT -> 32.csv\n",
      "Converted 15.TXT -> 15.csv\n",
      "Converted 34.TXT -> 34.csv\n",
      "Converted 33.TXT -> 33.csv\n",
      "Converted 30.TXT -> 30.csv\n",
      "Converted 25.TXT -> 25.csv\n",
      "Converted 1.TXT -> 1.csv\n",
      "Converted 7.TXT -> 7.csv\n",
      "Converted 5.TXT -> 5.csv\n",
      "Converted 13.TXT -> 13.csv\n",
      "Converted 21.TXT -> 21.csv\n",
      "Converted 31.TXT -> 31.csv\n",
      "Converted 11.TXT -> 11.csv\n",
      "Converted 29.TXT -> 29.csv\n",
      "Converted 2.TXT -> 2.csv\n",
      "Converted 9.TXT -> 9.csv\n",
      "Converted 19.TXT -> 19.csv\n",
      "Converted 23.TXT -> 23.csv\n",
      "Converted 3.TXT -> 3.csv\n",
      "Converted 17.TXT -> 17.csv\n",
      "Converted 27.TXT -> 27.csv\n",
      "Converting files in /home/poligon/master_degree/data/gen_2_80/le_8\n",
      "Converted 15.TXT -> 15.csv\n",
      "Converted 1.TXT -> 1.csv\n",
      "Converted 24.TXT -> 24.csv\n",
      "Converted 7.TXT -> 7.csv\n",
      "Converted 5.TXT -> 5.csv\n",
      "Converted 13.TXT -> 13.csv\n",
      "Converted 21.TXT -> 21.csv\n",
      "Converted 11.TXT -> 11.csv\n",
      "Converted 2.TXT -> 2.csv\n",
      "Converted 9.TXT -> 9.csv\n",
      "Converted 19.TXT -> 19.csv\n",
      "Converted 23.TXT -> 23.csv\n",
      "Converted 3.TXT -> 3.csv\n",
      "Converted 17.TXT -> 17.csv\n"
     ]
    }
   ],
   "source": [
    "for generator in gens_dir:\n",
    "    conver_all_files_from_directory(data_directory + '/' + generator)"
   ]
  },
  {
   "cell_type": "code",
   "execution_count": 67,
   "metadata": {},
   "outputs": [],
   "source": [
    "from sklearn.preprocessing import normalize"
   ]
  },
  {
   "cell_type": "code",
   "execution_count": 68,
   "metadata": {},
   "outputs": [],
   "source": [
    "ex = pd.read_csv('./data/gen_3_25/le_8/5.csv')\n",
    "columns = ex.columns[1:]\n",
    "for column in ex.columns[1:]:\n",
    "    ex[column] = (ex[column] - ex[column].mean()) / ex[column].std()\n",
    "ex = ex.drop(['Pgt', \"Pij\", \"Us\"], axis=1)"
   ]
  },
  {
   "cell_type": "code",
   "execution_count": 69,
   "metadata": {},
   "outputs": [
    {
     "data": {
      "text/plain": [
       "<matplotlib.legend.Legend at 0x7fe8d06feac8>"
      ]
     },
     "execution_count": 69,
     "metadata": {},
     "output_type": "execute_result"
    },
    {
     "data": {
      "image/png": "[encoded data removed]",
      "text/plain": [
       "<Figure size 1152x576 with 1 Axes>"
      ]
     },
     "metadata": {
      "needs_background": "light"
     },
     "output_type": "display_data"
    }
   ],
   "source": [
    "plt.figure(figsize=(16,8))\n",
    "for feature in ex.columns[1:]:\n",
    "    sns.lineplot(x='t', y=feature, data=ex, legend='full')\n",
    "plt.legend(ex.columns[1:])"
   ]
  },
  {
   "cell_type": "code",
   "execution_count": 70,
   "metadata": {},
   "outputs": [],
   "source": [
    "ex = pd.read_csv('./data/gen_3_80/more_8/22.csv')\n",
    "columns = ex.columns[1:]\n",
    "for column in ex.columns[1:]:\n",
    "    ex[column] = (ex[column] - ex[column].mean()) / ex[column].std()\n",
    "ex = ex.drop(['Pgt', \"Pij\", \"Us\"], axis=1)"
   ]
  },
  {
   "cell_type": "code",
   "execution_count": 71,
   "metadata": {},
   "outputs": [
    {
     "data": {
      "text/plain": [
       "<matplotlib.legend.Legend at 0x7fe8d06f0a90>"
      ]
     },
     "execution_count": 71,
     "metadata": {},
     "output_type": "execute_result"
    },
    {
     "data": {
      "image/png": "[encoded data removed]",
      "text/plain": [
       "<Figure size 1152x576 with 1 Axes>"
      ]
     },
     "metadata": {
      "needs_background": "light"
     },
     "output_type": "display_data"
    }
   ],
   "source": [
    "plt.figure(figsize=(16,8))\n",
    "for feature in ex.columns[1:]:\n",
    "    sns.lineplot(x='t', y=feature, data=ex, legend='full')\n",
    "plt.legend(ex.columns[1:])"
   ]
  },
  {
   "cell_type": "code",
   "execution_count": 72,
   "metadata": {},
   "outputs": [],
   "source": [
    "test_path = './data/gen_4_80/more_8'"
   ]
  },
  {
   "cell_type": "code",
   "execution_count": 73,
   "metadata": {},
   "outputs": [
    {
     "data": {
      "text/plain": [
       "'/home/poligon/master_degree'"
      ]
     },
     "execution_count": 73,
     "metadata": {},
     "output_type": "execute_result"
    }
   ],
   "source": [
    "# os.chdir(old_pwd)\n",
    "os.getcwd()"
   ]
  },
  {
   "cell_type": "code",
   "execution_count": null,
   "metadata": {},
   "outputs": [],
   "source": [
    "old_pwd = os.getcwd()\n",
    "os.chdir(test_path)\n",
    "fig = plt.figure(figsize=(18, 10))\n",
    "# ax = plt.subplots(2, 2, figsize=(16, 8))\n",
    "grid = plt.GridSpec(2, 2)\n",
    "u_ax = fig.add_subplot(grid[0, 0], xlabel='t', ylabel='U')\n",
    "# u_ax.xlabel('asd')\n",
    "p_ax = fig.add_subplot(grid[0, 1], xlabel='t', ylabel='P')\n",
    "delta_ax = fig.add_subplot(grid[1, :], xlabel='t', ylabel='delta')\n",
    "for file in os.listdir('.'):\n",
    "    \n",
    "    if file.endswith('.csv'):\n",
    "        temp = pd.read_csv(file)\n",
    "#         print(temp)\n",
    "        label = file.split('.')[0] if int(file.split('.')[0]) in [1, 5, 11, 12] else None\n",
    "        u_ax.plot(temp['t'], temp['Ug'], label=label)\n",
    "        p_ax.plot(temp['t'], temp['Pg'], label=label)\n",
    "        delta_ax.plot(temp['t'], temp['delta'], label=label)\n",
    "#         break\n",
    "\n",
    "axes_list = [u_ax, p_ax, delta_ax]\n",
    "u_ax.set_title(test_path.split('/')[-2] + ' / Pm = 23.2 MWt')\n",
    "for ax in axes_list[:]:\n",
    "    ax.legend(loc='lower right')\n",
    "    ax.set_xlim(0, 2.01)\n",
    "u_ax.legend(loc='best')\n",
    "plt.show()\n",
    "os.chdir(old_pwd)"
   ]
  },
  {
   "cell_type": "code",
   "execution_count": null,
   "metadata": {},
   "outputs": [],
   "source": []
  },
  {
   "cell_type": "code",
   "execution_count": null,
   "metadata": {},
   "outputs": [],
   "source": []
  },
  {
   "cell_type": "code",
   "execution_count": null,
   "metadata": {},
   "outputs": [],
   "source": []
  },
  {
   "cell_type": "code",
   "execution_count": null,
   "metadata": {},
   "outputs": [],
   "source": []
  },
  {
   "cell_type": "code",
   "execution_count": null,
   "metadata": {},
   "outputs": [],
   "source": []
  },
  {
   "cell_type": "code",
   "execution_count": null,
   "metadata": {},
   "outputs": [],
   "source": []
  },
  {
   "cell_type": "code",
   "execution_count": null,
   "metadata": {},
   "outputs": [],
   "source": []
  }
 ],
 "metadata": {
  "kernelspec": {
   "display_name": "Python 3",
   "language": "python",
   "name": "python3"
  },
  "language_info": {
   "codemirror_mode": {
    "name": "ipython",
    "version": 3
   },
   "file_extension": ".py",
   "mimetype": "text/x-python",
   "name": "python",
   "nbconvert_exporter": "python",
   "pygments_lexer": "ipython3",
   "version": "3.7.3"
  }
 },
 "nbformat": 4,
 "nbformat_minor": 2
}
