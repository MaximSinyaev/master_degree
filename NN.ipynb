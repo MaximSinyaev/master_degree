{
 "cells": [
  {
   "cell_type": "code",
   "execution_count": 1,
   "metadata": {},
   "outputs": [
    {
     "name": "stderr",
     "output_type": "stream",
     "text": [
      "Using TensorFlow backend.\n"
     ]
    }
   ],
   "source": [
    "from keras.models import Sequential, load_model\n",
    "from keras.layers import MaxPooling1D, Conv1D, Embedding, LSTM, Flatten, Dense, Dropout\n",
    "from tensorflow.keras import regularizers\n",
    "from keras import optimizers\n",
    "from tensorflow import random as tf_random\n",
    "import random\n",
    "\n",
    "import pandas as pd\n",
    "import os\n",
    "import numpy as np\n",
    "import re"
   ]
  },
  {
   "cell_type": "code",
   "execution_count": 2,
   "metadata": {},
   "outputs": [],
   "source": [
    "from sklearn.feature_selection import SelectKBest, chi2\n",
    "from sklearn.ensemble import ExtraTreesClassifier\n",
    "from sklearn.preprocessing import LabelEncoder\n",
    "from sklearn.utils import shuffle\n",
    "from sklearn.metrics import confusion_matrix, f1_score, accuracy_score\n",
    "import matplotlib.pyplot as plt"
   ]
  },
  {
   "cell_type": "code",
   "execution_count": 3,
   "metadata": {},
   "outputs": [],
   "source": [
    "def normalize_signal(signal, min_max=False):\n",
    "    \"\"\"\n",
    "    signal - np.array or pd.Series with signal values\n",
    "    \n",
    "    Returns normalized TS: (TS - mean(TS))/std(TS)\n",
    "    \"\"\"\n",
    "    if signal.name == 'delta':\n",
    "        return signal / 180\n",
    "    if min_max:\n",
    "        return (signal - signal.min()) / (signal.max() - signal.min())\n",
    "    std = np.std(signal)\n",
    "    norm_signal = (signal - np.mean(signal)) / std if std else 1\n",
    "    return norm_signal"
   ]
  },
  {
   "cell_type": "code",
   "execution_count": 4,
   "metadata": {},
   "outputs": [],
   "source": [
    "def normalize_all_signals_in_ds(one_group_ds, min_max=False):\n",
    "    drop_cols = ['t'] if 't' in one_group_ds.columns else []\n",
    "    for signal in one_group_ds.drop(drop_cols, axis=1):\n",
    "        if signal in ['Ug', 'Pg']:\n",
    "            one_group_ds[signal] = one_group_ds[signal] / one_group_ds[signal][0] - 1\n",
    "        else:\n",
    "            one_group_ds[signal] = normalize_signal(one_group_ds[signal], min_max)"
   ]
  },
  {
   "cell_type": "code",
   "execution_count": 5,
   "metadata": {},
   "outputs": [
    {
     "name": "stdout",
     "output_type": "stream",
     "text": [
      "/home/poligon/master_degree\n"
     ]
    }
   ],
   "source": [
    "oldpwd = os.getcwd()\n",
    "print(oldpwd)"
   ]
  },
  {
   "cell_type": "code",
   "execution_count": 6,
   "metadata": {},
   "outputs": [
    {
     "data": {
      "text/plain": [
       "'/home/poligon/master_degree'"
      ]
     },
     "execution_count": 6,
     "metadata": {},
     "output_type": "execute_result"
    }
   ],
   "source": [
    "# os.chdir(oldpwd)\n",
    "# os.chdir('..')\n",
    "os.getcwd()"
   ]
  },
  {
   "cell_type": "code",
   "execution_count": 7,
   "metadata": {},
   "outputs": [],
   "source": [
    "def append_signals_np_array(data_directory, signals_np_array = None, labels = None):\n",
    "    drop_cols = ['Us', 'Pgt', 'Pij', 't']\n",
    "    data_dir_list = os.listdir(data_directory)\n",
    "    os.chdir(data_directory)\n",
    "    if labels is None:\n",
    "        signal_id = 0\n",
    "        labels = pd.DataFrame(columns=['id', 'class', 'label'])\n",
    "    else:\n",
    "        signal_id = labels.id.max() + 1\n",
    "    for signal_label, directory in enumerate(data_dir_list):\n",
    "        if os.path.isfile(directory) or directory[0] == '.':\n",
    "                continue\n",
    "        os.chdir(directory)\n",
    "        for filename in os.listdir(os.curdir):\n",
    "            if re.match(r'(.*\\.csv)', filename):\n",
    "                if (signals_np_array) is not None:\n",
    "                    tmp_ar = pd.read_csv(filename).drop(drop_cols, axis=1)\n",
    "                    normalize_all_signals_in_ds(tmp_ar)\n",
    "#                     print(tmp_ar.values.T.reshape(-1, 1))\n",
    "                    signals_np_array = np.append(signals_np_array, tmp_ar.values.T.reshape(1, -1), axis=0)\n",
    "                else:\n",
    "                    signals_np_array = pd.read_csv(filename).drop(drop_cols, axis=1)\n",
    "                    normalize_all_signals_in_ds(signals_np_array)\n",
    "                    signals_np_array = signals_np_array.values.T.reshape(1, -1)\n",
    "#                     print(signals_np_array)\n",
    "#                 print(signals_dataset.head(5))\n",
    "                tmp_labels = pd.Series([signal_id, directory, np.int(signal_label)],\n",
    "                                         index=labels.columns)\n",
    "                labels = labels.append(tmp_labels, ignore_index=True)\n",
    "                signal_id += 1\n",
    "        os.chdir('../')\n",
    "    os.chdir('../..')\n",
    "    return signals_np_array, labels"
   ]
  },
  {
   "cell_type": "code",
   "execution_count": 8,
   "metadata": {},
   "outputs": [],
   "source": [
    "# Dataset for first gen\n",
    "X_train, labels_train = append_signals_np_array('./data/gen_1_25')\n",
    "X_train, labels_train = append_signals_np_array('./data/gen_3_25', X_train, labels_train)\n",
    "# dataset, labels = append_signals_dataset('./data/gen_1_80', dataset, labels)\n",
    "# Dataset for second gen\n",
    "X_val, labels_val = append_signals_np_array('./data/gen_1_80')\n",
    "X_val, labels_val = append_signals_np_array('./data/gen_2_80', X_val, labels_val)\n",
    "X_val, labels_val = append_signals_np_array('./data/gen_3_80', X_val, labels_val)"
   ]
  },
  {
   "cell_type": "code",
   "execution_count": 9,
   "metadata": {},
   "outputs": [],
   "source": [
    "# labelizer = LabelEncoder().fit(labels['class'])\n",
    "def normalize_labels(labels_df):\n",
    "    \"\"\"\n",
    "    Разметим все классы числами от 0 до количества классов\n",
    "    и преобразуем новую колонку в формат чисел (float)\n",
    "    \"\"\"\n",
    "    labels_df['label'] = labels_df['class'].replace({'le_8': 0,\n",
    "                        'more_8': 1,\n",
    "                        'more_20': 2,\n",
    "                       })"
   ]
  },
  {
   "cell_type": "code",
   "execution_count": 10,
   "metadata": {},
   "outputs": [
    {
     "name": "stdout",
     "output_type": "stream",
     "text": [
      "(101, 600) (171, 600)\n"
     ]
    }
   ],
   "source": [
    "print(X_train.shape, X_val.shape)"
   ]
  },
  {
   "cell_type": "code",
   "execution_count": 11,
   "metadata": {},
   "outputs": [],
   "source": [
    "normalize_labels(labels_train)\n",
    "normalize_labels(labels_val)"
   ]
  },
  {
   "cell_type": "code",
   "execution_count": 12,
   "metadata": {},
   "outputs": [],
   "source": [
    "Y_train = labels_train.label.values\n",
    "Y_val = labels_val.label.values"
   ]
  },
  {
   "cell_type": "code",
   "execution_count": 13,
   "metadata": {},
   "outputs": [],
   "source": [
    "# X & Y dims check\n",
    "assert X_train.shape[0] == Y_train.shape[0]\n",
    "assert X_val.shape[0] == Y_val.shape[0]"
   ]
  },
  {
   "cell_type": "code",
   "execution_count": 14,
   "metadata": {},
   "outputs": [],
   "source": [
    "X_train, Y_train = shuffle(X_train, Y_train, random_state=42)\n",
    "X_val, Y_val = shuffle(X_val, Y_val, random_state=42)"
   ]
  },
  {
   "cell_type": "code",
   "execution_count": 15,
   "metadata": {},
   "outputs": [
    {
     "data": {
      "text/plain": [
       "(101, 600)"
      ]
     },
     "execution_count": 15,
     "metadata": {},
     "output_type": "execute_result"
    }
   ],
   "source": [
    "X_train.shape"
   ]
  },
  {
   "cell_type": "markdown",
   "metadata": {},
   "source": [
    "## Using fully-connected NN"
   ]
  },
  {
   "cell_type": "code",
   "execution_count": 16,
   "metadata": {},
   "outputs": [],
   "source": [
    "# History data\n",
    "historical_hp = pd.DataFrame(columns=['n_'])"
   ]
  },
  {
   "cell_type": "code",
   "execution_count": 30,
   "metadata": {},
   "outputs": [],
   "source": [
    "# Hyperparametrs\n",
    "EPOCHS = 950\n",
    "n_0 = X_train.shape[1]\n",
    "n_1 = 256\n",
    "n_2 = 128\n",
    "n_3 = 256\n",
    "n_4 = labels_val.label.nunique()\n",
    "lr = 25e-5\n",
    "seed = 42\n",
    "# np.random.seed(seed)\n",
    "# tf_random.set_seed(seed)\n",
    "# random.seed(seed)"
   ]
  },
  {
   "cell_type": "code",
   "execution_count": 31,
   "metadata": {},
   "outputs": [],
   "source": [
    "model = Sequential()\n",
    "model.add(Dense(n_1, input_dim=n_0,\n",
    "                activation='relu',\n",
    "                kernel_regularizer=regularizers.l2(33e-6)))\n",
    "# model.add(Dense(n_2, activation='relu'))\n",
    "# model.add(Dropout(0.3))\n",
    "model.add(Dense(n_3, activation='relu',\n",
    "                kernel_regularizer=regularizers.l2(63e-6)))\n",
    "# model.add(Dropout(0.3))\n",
    "model.add(Dense(n_4, activation='softmax'))\n",
    "\n",
    "optimizer = optimizers.Adam(\n",
    "                            learning_rate=lr,\n",
    "                            )\n",
    "\n",
    "model.compile(optimizer=optimizer,\n",
    "              loss='sparse_categorical_crossentropy',\n",
    "              metrics=['accuracy'],\n",
    "          \n",
    "             )"
   ]
  },
  {
   "cell_type": "code",
   "execution_count": 32,
   "metadata": {},
   "outputs": [],
   "source": [
    "# model = load_model('best_model.h5')"
   ]
  },
  {
   "cell_type": "code",
   "execution_count": 33,
   "metadata": {},
   "outputs": [
    {
     "name": "stdout",
     "output_type": "stream",
     "text": [
      "Model: \"sequential_2\"\n",
      "_________________________________________________________________\n",
      "Layer (type)                 Output Shape              Param #   \n",
      "=================================================================\n",
      "dense_4 (Dense)              (None, 256)               153856    \n",
      "_________________________________________________________________\n",
      "dense_5 (Dense)              (None, 256)               65792     \n",
      "_________________________________________________________________\n",
      "dense_6 (Dense)              (None, 3)                 771       \n",
      "=================================================================\n",
      "Total params: 220,419\n",
      "Trainable params: 220,419\n",
      "Non-trainable params: 0\n",
      "_________________________________________________________________\n"
     ]
    }
   ],
   "source": [
    "model.summary()"
   ]
  },
  {
   "cell_type": "code",
   "execution_count": 34,
   "metadata": {},
   "outputs": [
    {
     "data": {
      "text/plain": [
       "array([[0.27309766, 0.37678894, 0.3501134 ],\n",
       "       [0.27165306, 0.37877196, 0.34957504],\n",
       "       [0.26965067, 0.3747457 , 0.35560364],\n",
       "       [0.26089308, 0.39339268, 0.3457143 ],\n",
       "       [0.26726568, 0.39695895, 0.33577543],\n",
       "       [0.27085036, 0.372316  , 0.35683364],\n",
       "       [0.26101905, 0.39197028, 0.3470106 ],\n",
       "       [0.27709937, 0.38404062, 0.33886   ],\n",
       "       [0.26666704, 0.39283815, 0.34049484],\n",
       "       [0.2641282 , 0.39262432, 0.34324753]], dtype=float32)"
      ]
     },
     "execution_count": 34,
     "metadata": {},
     "output_type": "execute_result"
    }
   ],
   "source": [
    "model.predict(X_val[:10])"
   ]
  },
  {
   "cell_type": "code",
   "execution_count": 35,
   "metadata": {},
   "outputs": [],
   "source": [
    "history = model.fit(X_train, Y_train,\n",
    "                    epochs=EPOCHS,\n",
    "                    verbose=0,\n",
    "                    validation_data=(X_val, Y_val),\n",
    "                    shuffle=False,\n",
    "                    batch_size=32,\n",
    "                    use_multiprocessing=True\n",
    "                   )"
   ]
  },
  {
   "cell_type": "code",
   "execution_count": 36,
   "metadata": {},
   "outputs": [],
   "source": [
    "history_df = pd.DataFrame(history.history)\n",
    "history_df['val_loss'] = history_df['val_loss'] / history_df['val_loss'].max()\n",
    "history_df['loss'] /= history_df['loss'].max()"
   ]
  },
  {
   "cell_type": "code",
   "execution_count": 37,
   "metadata": {},
   "outputs": [
    {
     "name": "stdout",
     "output_type": "stream",
     "text": [
      "901\n"
     ]
    },
    {
     "data": {
      "text/plain": [
       "0.7777777910232544"
      ]
     },
     "execution_count": 37,
     "metadata": {},
     "output_type": "execute_result"
    }
   ],
   "source": [
    "print(history_df.val_accuracy.argmax())\n",
    "history_df.val_accuracy.max()"
   ]
  },
  {
   "cell_type": "code",
   "execution_count": 47,
   "metadata": {},
   "outputs": [
    {
     "data": {
      "image/png": "[encoded data removed]",
      "text/plain": [
       "<Figure size 720x576 with 1 Axes>"
      ]
     },
     "metadata": {
      "needs_background": "light"
     },
     "output_type": "display_data"
    }
   ],
   "source": [
    "plt.figure(figsize=(10,8))\n",
    "plt.plot(history_df.index, history_df['val_accuracy'], label='Точность на отложенной выборке')\n",
    "plt.plot(history_df.index, history_df['accuracy'], label='Точность на обучающей выборке')\n",
    "plt.plot(history_df.index, history_df['loss'], label='Функция потерь')\n",
    "# plt.axvline(history_df.val_accuracy.idxmax(), label=history_df.val_accuracy.idxmax())\n",
    "# plt.axvline(history_df.loss.idxmin(), label=history_df.loss.idxmin())\n",
    "# plt.plot(history.index, history['loss'])\n",
    "# plt.legend(['val_accuracy', 'accuracy', 'loss'])\n",
    "plt.xlabel('Количество эпох')\n",
    "plt.ylabel('отн. ед.')\n",
    "plt.legend(loc='right')\n",
    "plt.ylim(0)\n",
    "plt.show()"
   ]
  },
  {
   "cell_type": "code",
   "execution_count": 39,
   "metadata": {},
   "outputs": [],
   "source": [
    "y_pred = model.predict_classes(X_val)"
   ]
  },
  {
   "cell_type": "code",
   "execution_count": 40,
   "metadata": {},
   "outputs": [
    {
     "data": {
      "text/plain": [
       "0.7853397612488523"
      ]
     },
     "execution_count": 40,
     "metadata": {},
     "output_type": "execute_result"
    }
   ],
   "source": [
    "f1_score(Y_val, y_pred, average='macro')"
   ]
  },
  {
   "cell_type": "code",
   "execution_count": 41,
   "metadata": {},
   "outputs": [
    {
     "data": {
      "text/plain": [
       "0.7719298245614035"
      ]
     },
     "execution_count": 41,
     "metadata": {},
     "output_type": "execute_result"
    }
   ],
   "source": [
    "accuracy_score(Y_val, y_pred)"
   ]
  },
  {
   "cell_type": "code",
   "execution_count": 42,
   "metadata": {},
   "outputs": [
    {
     "data": {
      "text/plain": [
       "array([[46,  4,  0],\n",
       "       [ 0, 41, 35],\n",
       "       [ 0,  0, 45]])"
      ]
     },
     "execution_count": 42,
     "metadata": {},
     "output_type": "execute_result"
    }
   ],
   "source": [
    "y_pred = model.predict_classes(X_val)\n",
    "confusion_matrix(Y_val, y_pred)"
   ]
  },
  {
   "cell_type": "code",
   "execution_count": 628,
   "metadata": {},
   "outputs": [],
   "source": [
    "# model.save('best_model.h5')"
   ]
  },
  {
   "cell_type": "markdown",
   "metadata": {},
   "source": [
    "## Short circuit test"
   ]
  },
  {
   "cell_type": "code",
   "execution_count": 654,
   "metadata": {},
   "outputs": [],
   "source": [
    "X_test, labels_test = append_signals_np_array('./data/gen_4_80')\n",
    "normalize_labels(labels_test)\n",
    "Y_test = labels_test.label.values"
   ]
  },
  {
   "cell_type": "code",
   "execution_count": 655,
   "metadata": {},
   "outputs": [],
   "source": [
    "y_pred = model.predict_classes(X_test)"
   ]
  },
  {
   "cell_type": "code",
   "execution_count": 657,
   "metadata": {},
   "outputs": [
    {
     "data": {
      "text/plain": [
       "array([2, 2, 2, 2, 2, 2, 2, 2, 2, 2, 2, 2, 2, 2, 2, 1, 1, 1, 1, 1, 1, 1,\n",
       "       1, 1, 1, 1, 1, 1, 1, 1, 1, 1, 1, 1, 1, 1, 0, 0, 0, 0, 0, 0, 0, 0,\n",
       "       0, 0, 0, 0, 0, 0, 0, 0, 0, 0])"
      ]
     },
     "execution_count": 657,
     "metadata": {},
     "output_type": "execute_result"
    }
   ],
   "source": [
    "Y_test"
   ]
  },
  {
   "cell_type": "code",
   "execution_count": 660,
   "metadata": {},
   "outputs": [
    {
     "name": "stdout",
     "output_type": "stream",
     "text": [
      "F1: 0.5764480581657659\n",
      "Accuracy 0.6481481481481481\n",
      "----------\n"
     ]
    },
    {
     "data": {
      "text/plain": [
       "array([[18,  0,  0],\n",
       "       [11,  2,  8],\n",
       "       [ 0,  0, 15]])"
      ]
     },
     "execution_count": 660,
     "metadata": {},
     "output_type": "execute_result"
    }
   ],
   "source": [
    "print('F1:', f1_score(Y_test, y_pred, average='macro'))\n",
    "print('Accuracy', accuracy_score(Y_test, y_pred))\n",
    "print('-' * 10)\n",
    "confusion_matrix(Y_test, y_pred)"
   ]
  },
  {
   "cell_type": "markdown",
   "metadata": {},
   "source": [
    "## Grid Search"
   ]
  },
  {
   "cell_type": "code",
   "execution_count": 125,
   "metadata": {},
   "outputs": [],
   "source": [
    "f1 = dict()\n",
    "acc = dict()"
   ]
  },
  {
   "cell_type": "code",
   "execution_count": 467,
   "metadata": {},
   "outputs": [],
   "source": [
    "for i in range(60, 251, 10):\n",
    "    model = Sequential()\n",
    "    model.add(Dense(i, input_dim=n_0,\n",
    "                    activation='relu',))\n",
    "    model.add(Dense(n_4, activation='softmax'))\n",
    "    optimizer = optimizers.Adam(learning_rate=lr)\n",
    "    model.compile(optimizer=optimizer,\n",
    "                  loss='sparse_categorical_crossentropy',\n",
    "                  metrics=['accuracy'])\n",
    "    model.fit(X_train, Y_train,\n",
    "                    epochs=EPOCHS,\n",
    "                    verbose=0,\n",
    "                    validation_data=(X_val, Y_val)\n",
    "                   )\n",
    "    y_pred = model.predict_classes(X_val)\n",
    "    f1[i] = f1_score(Y_val, y_pred, average='macro')\n",
    "    acc[i] = accuracy_score(Y_val, y_pred)"
   ]
  },
  {
   "cell_type": "code",
   "execution_count": 468,
   "metadata": {},
   "outputs": [],
   "source": [
    "def plot_grid_search(acc, f1):\n",
    "    '''\n",
    "    results - dict of searched values\n",
    "    '''\n",
    "    plt.figure(figsize=(8,6))\n",
    "    x = acc.keys()\n",
    "    acc = acc.values()\n",
    "    f1 = f1.values()\n",
    "    plt.plot(list(x), list(acc), 'rv-')\n",
    "    plt.plot(list(x), list(f1), 'bs--')\n",
    "    plt.xlabel('Количество нейронов в первом слое')\n",
    "    plt.ylabel('Точность')\n",
    "    plt.legend(['Средняя точность', 'Точность для класса'], loc='lower right')\n",
    "    plt.show()"
   ]
  },
  {
   "cell_type": "code",
   "execution_count": 469,
   "metadata": {},
   "outputs": [
    {
     "data": {
      "image/png": "[encoded data removed]",
      "text/plain": [
       "<Figure size 576x432 with 1 Axes>"
      ]
     },
     "metadata": {
      "needs_background": "light"
     },
     "output_type": "display_data"
    }
   ],
   "source": [
    "plot_grid_search(acc, f1)"
   ]
  },
  {
   "cell_type": "code",
   "execution_count": 470,
   "metadata": {},
   "outputs": [
    {
     "data": {
      "text/plain": [
       "0.7134502923976608"
      ]
     },
     "execution_count": 470,
     "metadata": {},
     "output_type": "execute_result"
    }
   ],
   "source": [
    "acc[190]"
   ]
  },
  {
   "cell_type": "code",
   "execution_count": 471,
   "metadata": {},
   "outputs": [],
   "source": [
    "f1_n2 = dict()\n",
    "acc_n2 = dict()"
   ]
  },
  {
   "cell_type": "code",
   "execution_count": 472,
   "metadata": {},
   "outputs": [],
   "source": [
    "n_range = range(60, 161, 10)\n",
    "for dropout_th in [0.5, 0.4, 0.3]:\n",
    "    f1_n2[dropout_th] = dict()\n",
    "    acc_n2[dropout_th] = dict()\n",
    "    for i in n_range:\n",
    "        model = Sequential()\n",
    "        model.add(Dense(n_1, input_dim=n_0,\n",
    "                        activation='relu',))\n",
    "        model.add(Dense(i, activation='relu',))\n",
    "        model.add(Dropout(dropout_th))\n",
    "        model.add(Dense(n_4, activation='softmax'))\n",
    "        optimizer = optimizers.Adam(learning_rate=lr)\n",
    "        model.compile(optimizer=optimizer,\n",
    "                      loss='sparse_categorical_crossentropy',\n",
    "                      metrics=['accuracy'])\n",
    "        model.fit(X_train, Y_train,\n",
    "                        epochs=EPOCHS,\n",
    "                        verbose=0,\n",
    "                        validation_data=(X_val, Y_val)\n",
    "                       )\n",
    "        y_pred = model.predict_classes(X_val)\n",
    "        f1_n2[dropout_th][i] = f1_score(Y_val, y_pred, average='macro')\n",
    "        acc_n2[dropout_th][i] = accuracy_score(Y_val, y_pred)"
   ]
  },
  {
   "cell_type": "code",
   "execution_count": 473,
   "metadata": {},
   "outputs": [
    {
     "ename": "KeyError",
     "evalue": "0.5",
     "output_type": "error",
     "traceback": [
      "\u001b[0;31m---------------------------------------------------------------------------\u001b[0m",
      "\u001b[0;31mKeyError\u001b[0m                                  Traceback (most recent call last)",
      "\u001b[0;32m<ipython-input-473-15b2f70119f6>\u001b[0m in \u001b[0;36m<module>\u001b[0;34m\u001b[0m\n\u001b[0;32m----> 1\u001b[0;31m \u001b[0mprint\u001b[0m\u001b[0;34m(\u001b[0m\u001b[0mf1\u001b[0m\u001b[0;34m,\u001b[0m \u001b[0mf1\u001b[0m\u001b[0;34m[\u001b[0m\u001b[0;36m0.5\u001b[0m\u001b[0;34m]\u001b[0m\u001b[0;34m)\u001b[0m\u001b[0;34m\u001b[0m\u001b[0;34m\u001b[0m\u001b[0m\n\u001b[0m",
      "\u001b[0;31mKeyError\u001b[0m: 0.5"
     ]
    }
   ],
   "source": [
    "print(f1, f1[0.5])"
   ]
  },
  {
   "cell_type": "code",
   "execution_count": 481,
   "metadata": {},
   "outputs": [],
   "source": [
    "def plot_grid_search_n2(acc, f1):\n",
    "    '''\n",
    "    results - dict of searched values\n",
    "    '''\n",
    "    plt.figure(figsize=(8,6))\n",
    "    legend = list()\n",
    "    x = acc[list(acc.keys())[0]].keys()\n",
    "    for dropout in acc:\n",
    "        legend.append(f'Dropout {dropout}')\n",
    "        plt.plot(list(x), list(acc[dropout].values()))\n",
    "    plt.xlabel('Количество нейронов в первом слое')\n",
    "    plt.ylabel('Точность')\n",
    "    plt.legend(legend, loc='lower right')\n",
    "    plt.show()"
   ]
  },
  {
   "cell_type": "code",
   "execution_count": 482,
   "metadata": {},
   "outputs": [
    {
     "data": {
      "image/png": "[encoded data removed]",
      "text/plain": [
       "<Figure size 576x432 with 1 Axes>"
      ]
     },
     "metadata": {
      "needs_background": "light"
     },
     "output_type": "display_data"
    }
   ],
   "source": [
    "plot_grid_search_n2(acc_n2, f1_n2)"
   ]
  },
  {
   "cell_type": "code",
   "execution_count": null,
   "metadata": {},
   "outputs": [],
   "source": []
  },
  {
   "cell_type": "code",
   "execution_count": null,
   "metadata": {},
   "outputs": [],
   "source": []
  },
  {
   "cell_type": "code",
   "execution_count": null,
   "metadata": {},
   "outputs": [],
   "source": []
  },
  {
   "cell_type": "code",
   "execution_count": null,
   "metadata": {},
   "outputs": [],
   "source": []
  }
 ],
 "metadata": {
  "kernelspec": {
   "display_name": "Python 3",
   "language": "python",
   "name": "python3"
  },
  "language_info": {
   "codemirror_mode": {
    "name": "ipython",
    "version": 3
   },
   "file_extension": ".py",
   "mimetype": "text/x-python",
   "name": "python",
   "nbconvert_exporter": "python",
   "pygments_lexer": "ipython3",
   "version": "3.7.3"
  }
 },
 "nbformat": 4,
 "nbformat_minor": 2
}
