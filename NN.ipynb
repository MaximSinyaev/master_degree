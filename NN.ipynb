{
 "cells": [
  {
   "cell_type": "code",
   "execution_count": 38,
   "metadata": {},
   "outputs": [],
   "source": [
    "from keras.models import Sequential\n",
    "from keras.layers import MaxPooling1D, Conv1D, Embedding, LSTM, Flatten, Dense, Dropout\n",
    "from keras import optimizers\n",
    "\n",
    "import pandas as pd\n",
    "import os\n",
    "import numpy as np\n",
    "import re"
   ]
  },
  {
   "cell_type": "code",
   "execution_count": 132,
   "metadata": {},
   "outputs": [],
   "source": [
    "from sklearn.feature_selection import SelectKBest, chi2\n",
    "from sklearn.ensemble import ExtraTreesClassifier\n",
    "from sklearn.preprocessing import LabelEncoder\n",
    "from sklearn.utils import shuffle\n",
    "from sklearn.metrics import confusion_matrix\n",
    "import matplotlib.pyplot as plt"
   ]
  },
  {
   "cell_type": "code",
   "execution_count": 3,
   "metadata": {},
   "outputs": [],
   "source": [
    "def normalize_signal(signal):\n",
    "    \"\"\"\n",
    "    time_series\n",
    "    \n",
    "    Returns normalized TS: (TS - mean(TS))/std(TS)\n",
    "    \"\"\"\n",
    "    std = np.std(signal)\n",
    "    norm_signal = (signal - np.mean(signal)) / std if std else 1\n",
    "    return norm_signal"
   ]
  },
  {
   "cell_type": "code",
   "execution_count": 4,
   "metadata": {},
   "outputs": [],
   "source": [
    "def normalize_all_signals_in_ds(one_group_ds):\n",
    "    drop_cols = ['t'] if 't' in one_group_ds.columns else []\n",
    "    for signal in one_group_ds.drop(drop_cols, axis=1):\n",
    "        one_group_ds[signal] = normalize_signal(one_group_ds[signal])"
   ]
  },
  {
   "cell_type": "code",
   "execution_count": 5,
   "metadata": {},
   "outputs": [
    {
     "name": "stdout",
     "output_type": "stream",
     "text": [
      "/home/poligon/master_degree\n"
     ]
    }
   ],
   "source": [
    "oldpwd = os.getcwd()\n",
    "print(oldpwd)"
   ]
  },
  {
   "cell_type": "code",
   "execution_count": 28,
   "metadata": {},
   "outputs": [
    {
     "data": {
      "text/plain": [
       "'/home/poligon/master_degree'"
      ]
     },
     "execution_count": 28,
     "metadata": {},
     "output_type": "execute_result"
    }
   ],
   "source": [
    "# os.chdir(oldpwd)\n",
    "# os.chdir('..')\n",
    "os.getcwd()"
   ]
  },
  {
   "cell_type": "code",
   "execution_count": 29,
   "metadata": {},
   "outputs": [],
   "source": [
    "def append_signals_np_array(data_directory, signals_np_array = None, labels = None):\n",
    "    drop_cols = ['Us', 'Pgt', 'Pij', 't']\n",
    "    data_dir_list = os.listdir(data_directory)\n",
    "    os.chdir(data_directory)\n",
    "    if labels is None:\n",
    "        signal_id = 0\n",
    "        labels = pd.DataFrame(columns=['id', 'class', 'label'])\n",
    "    else:\n",
    "        signal_id = labels.id.max() + 1\n",
    "    for signal_label, directory in enumerate(data_dir_list):\n",
    "        if os.path.isfile(directory) or directory[0] == '.':\n",
    "                continue\n",
    "        os.chdir(directory)\n",
    "        for filename in os.listdir(os.curdir):\n",
    "            if re.match(r'(.*\\.csv)', filename):\n",
    "                if (signals_np_array) is not None:\n",
    "                    tmp_ar = pd.read_csv(filename).drop(drop_cols, axis=1)\n",
    "                    normalize_all_signals_in_ds(tmp_ar)\n",
    "#                     print(tmp_ar.values.T.reshape(-1, 1))\n",
    "                    signals_np_array = np.append(signals_np_array, tmp_ar.values.T.reshape(1, -1), axis=0)\n",
    "                else:\n",
    "                    signals_np_array = pd.read_csv(filename).drop(drop_cols, axis=1)\n",
    "                    normalize_all_signals_in_ds(signals_np_array)\n",
    "                    signals_np_array = signals_np_array.values.T.reshape(1, -1)\n",
    "#                     print(signals_np_array)\n",
    "#                 print(signals_dataset.head(5))\n",
    "                tmp_labels = pd.Series([signal_id, directory, np.int(signal_label)],\n",
    "                                         index=labels.columns)\n",
    "                labels = labels.append(tmp_labels, ignore_index=True)\n",
    "                signal_id += 1\n",
    "        os.chdir('../')\n",
    "    os.chdir('../..')\n",
    "    return signals_np_array, labels"
   ]
  },
  {
   "cell_type": "code",
   "execution_count": 30,
   "metadata": {},
   "outputs": [],
   "source": [
    "labelizer = LabelEncoder().fit(labels['class'])\n",
    "def normalize_labels(labels_df):\n",
    "    \"\"\"\n",
    "    Разметим все классы числами от 0 до количества классов\n",
    "    и преобразуем новую колонку в формат чисел (float)\n",
    "    \"\"\"\n",
    "    labels_df['label'] = labelizer.transform(labels_df['class'])\n",
    "    labels_df.index = labels_df['id']\n",
    "    labels_df.drop(columns=['id'])"
   ]
  },
  {
   "cell_type": "code",
   "execution_count": 31,
   "metadata": {},
   "outputs": [],
   "source": [
    "# Dataset for first gen\n",
    "X_train, labels_train = append_signals_np_array('./data/gen_1_25')\n",
    "X_train, labels_train = append_signals_np_array('./data/gen_3_25', X_train, labels_train)\n",
    "# dataset, labels = append_signals_dataset('./data/gen_1_80', dataset, labels)\n",
    "# Dataset for second gen\n",
    "X_val, labels_val = append_signals_np_array('./data/gen_1_80')\n",
    "X_val, labels_val = append_signals_np_array('./data/gen_2_80', X_val, labels_val)\n",
    "X_val, labels_val = append_signals_np_array('./data/gen_3_80', X_val, labels_val)"
   ]
  },
  {
   "cell_type": "code",
   "execution_count": 32,
   "metadata": {},
   "outputs": [
    {
     "name": "stdout",
     "output_type": "stream",
     "text": [
      "(101, 600) (171, 600)\n"
     ]
    }
   ],
   "source": [
    "print(X_train.shape, X_val.shape)"
   ]
  },
  {
   "cell_type": "code",
   "execution_count": 19,
   "metadata": {},
   "outputs": [],
   "source": [
    "normalize_labels(labels_train)\n",
    "normalize_labels(labels_val)"
   ]
  },
  {
   "cell_type": "code",
   "execution_count": 20,
   "metadata": {},
   "outputs": [],
   "source": [
    "Y_train = labels_train.label.values\n",
    "Y_val = labels_val.label.values"
   ]
  },
  {
   "cell_type": "code",
   "execution_count": 35,
   "metadata": {},
   "outputs": [],
   "source": [
    "# X & Y dims check\n",
    "assert X_train.shape[0] == Y_train.shape[0]\n",
    "assert X_val.shape[0] == Y_val.shape[0]"
   ]
  },
  {
   "cell_type": "code",
   "execution_count": 36,
   "metadata": {},
   "outputs": [],
   "source": [
    "X_train, Y_train = shuffle(X_train, Y_train, random_state=42)\n",
    "X_val, Y_val = shuffle(X_val, Y_val, random_state=42)"
   ]
  },
  {
   "cell_type": "code",
   "execution_count": 37,
   "metadata": {},
   "outputs": [
    {
     "data": {
      "text/plain": [
       "(101, 600)"
      ]
     },
     "execution_count": 37,
     "metadata": {},
     "output_type": "execute_result"
    }
   ],
   "source": [
    "X_train.shape"
   ]
  },
  {
   "cell_type": "markdown",
   "metadata": {},
   "source": [
    "## Using fully-connected NN"
   ]
  },
  {
   "cell_type": "code",
   "execution_count": null,
   "metadata": {},
   "outputs": [],
   "source": [
    "# History data\n",
    "historical_hp = pd.DataFrame(columns=['n_'])"
   ]
  },
  {
   "cell_type": "code",
   "execution_count": 316,
   "metadata": {},
   "outputs": [],
   "source": [
    "# Hyperparametrs\n",
    "EPOCHS = 2400\n",
    "n_0 = X_train.shape[1]\n",
    "n_1 = 80\n",
    "# n_2 = 30\n",
    "n_3 = 80\n",
    "n_4 = len(labelizer.classes_)\n",
    "lr = 1e-3"
   ]
  },
  {
   "cell_type": "code",
   "execution_count": 317,
   "metadata": {},
   "outputs": [],
   "source": [
    "model = Sequential()\n",
    "model.add(Dense(n_1, input_dim=n_0, activation='relu'))\n",
    "# model.add(Dense(n_2, activation='relu'))\n",
    "# model.add(Dropout(0.5))\n",
    "model.add(Dense(n_3, activation='relu'))\n",
    "model.add(Dropout(0.5))\n",
    "model.add(Dense(n_4, activation='softmax'))\n",
    "\n",
    "optimizer = optimizers.Adam(learning_rate=lr)\n",
    "\n",
    "model.compile(optimizer=optimizer,\n",
    "              loss='sparse_categorical_crossentropy',\n",
    "              metrics=['accuracy'])"
   ]
  },
  {
   "cell_type": "code",
   "execution_count": 318,
   "metadata": {},
   "outputs": [
    {
     "name": "stdout",
     "output_type": "stream",
     "text": [
      "Model: \"sequential_29\"\n",
      "_________________________________________________________________\n",
      "Layer (type)                 Output Shape              Param #   \n",
      "=================================================================\n",
      "dense_97 (Dense)             (None, 80)                48080     \n",
      "_________________________________________________________________\n",
      "dense_98 (Dense)             (None, 80)                6480      \n",
      "_________________________________________________________________\n",
      "dropout_39 (Dropout)         (None, 80)                0         \n",
      "_________________________________________________________________\n",
      "dense_99 (Dense)             (None, 3)                 243       \n",
      "=================================================================\n",
      "Total params: 54,803\n",
      "Trainable params: 54,803\n",
      "Non-trainable params: 0\n",
      "_________________________________________________________________\n"
     ]
    }
   ],
   "source": [
    "model.summary()"
   ]
  },
  {
   "cell_type": "code",
   "execution_count": 319,
   "metadata": {},
   "outputs": [
    {
     "data": {
      "text/plain": [
       "array([[0.16523603, 0.0824333 , 0.7523307 ],\n",
       "       [0.19547483, 0.07124487, 0.73328024],\n",
       "       [0.19655272, 0.07194407, 0.7315031 ],\n",
       "       [0.18517332, 0.06525714, 0.74956954],\n",
       "       [0.17632209, 0.08171769, 0.7419601 ],\n",
       "       [0.16195016, 0.076182  , 0.7618679 ],\n",
       "       [0.1169642 , 0.07752497, 0.8055108 ],\n",
       "       [0.14972734, 0.09033155, 0.7599412 ],\n",
       "       [0.09306788, 0.15722062, 0.74971145],\n",
       "       [0.10077678, 0.12082437, 0.7783989 ]], dtype=float32)"
      ]
     },
     "execution_count": 319,
     "metadata": {},
     "output_type": "execute_result"
    }
   ],
   "source": [
    "model.predict(X_val[:10])"
   ]
  },
  {
   "cell_type": "code",
   "execution_count": 320,
   "metadata": {},
   "outputs": [],
   "source": [
    "history = model.fit(X_train, Y_train,\n",
    "                    epochs=EPOCHS,\n",
    "                    verbose=0,\n",
    "                    validation_data=(X_val, Y_val)\n",
    "                   )"
   ]
  },
  {
   "cell_type": "code",
   "execution_count": 321,
   "metadata": {},
   "outputs": [],
   "source": [
    "history_df = pd.DataFrame(history.history)\n",
    "history_df['val_loss'] = history_df['val_loss'] / history_df['val_loss'].max()\n",
    "history_df['loss'] /= history_df['loss'].max()"
   ]
  },
  {
   "cell_type": "code",
   "execution_count": 322,
   "metadata": {},
   "outputs": [
    {
     "data": {
      "text/plain": [
       "0.7543859481811523"
      ]
     },
     "execution_count": 322,
     "metadata": {},
     "output_type": "execute_result"
    }
   ],
   "source": [
    "history_df.val_accuracy.max()"
   ]
  },
  {
   "cell_type": "code",
   "execution_count": 323,
   "metadata": {},
   "outputs": [
    {
     "data": {
      "image/png": "[encoded data removed]",
      "text/plain": [
       "<Figure size 720x720 with 1 Axes>"
      ]
     },
     "metadata": {
      "needs_background": "light"
     },
     "output_type": "display_data"
    }
   ],
   "source": [
    "plt.figure(figsize=(10,10))\n",
    "plt.plot(history_df.index, history_df['val_accuracy'])\n",
    "plt.plot(history_df.index, history_df['accuracy'])\n",
    "plt.plot(history_df.index, history_df['loss'])\n",
    "# plt.plot(history.index, history['loss'])\n",
    "plt.legend(['val_accuracy', 'accuracy', 'loss'])\n",
    "plt.show()"
   ]
  },
  {
   "cell_type": "code",
   "execution_count": 324,
   "metadata": {},
   "outputs": [],
   "source": [
    "y_pred = model.predict_classes(X_val)"
   ]
  },
  {
   "cell_type": "code",
   "execution_count": 325,
   "metadata": {},
   "outputs": [
    {
     "data": {
      "text/plain": [
       "array([[50,  0,  0],\n",
       "       [ 0,  8, 37],\n",
       "       [ 5, 12, 59]])"
      ]
     },
     "execution_count": 325,
     "metadata": {},
     "output_type": "execute_result"
    }
   ],
   "source": [
    "confusion_matrix(Y_val, y_pred)"
   ]
  },
  {
   "cell_type": "code",
   "execution_count": 304,
   "metadata": {},
   "outputs": [],
   "source": [
    "# model.save('best_model.h5')"
   ]
  },
  {
   "cell_type": "code",
   "execution_count": 179,
   "metadata": {},
   "outputs": [],
   "source": [
    "X_train_3d = np.array(X_train).reshape(X_train.shape[0], X_train.shape[1], 1)"
   ]
  },
  {
   "cell_type": "code",
   "execution_count": 292,
   "metadata": {},
   "outputs": [],
   "source": [
    "X_test_3d = np.array(X_test).reshape(X_test.shape[0], X_test.shape[1], 1)"
   ]
  },
  {
   "cell_type": "code",
   "execution_count": 381,
   "metadata": {},
   "outputs": [],
   "source": [
    "model = Sequential()\n",
    "model.add(Conv1D(32, 10, padding='same', activation='relu', input_shape=(TIME_PERIODS,1)))\n",
    "model.add(MaxPooling1D(pool_size=10))\n",
    "model.add(Conv1D(64, kernel_size=10, padding='same', activation='relu'))\n",
    "model.add(MaxPooling1D(pool_size=10))\n",
    "model.add(Flatten())\n",
    "model.add(Dense(100, activation='relu'))\n",
    "model.add(Dropout(0.5))\n",
    "model.add(Dense(1, activation='sigmoid'))\n",
    "model.compile(loss='binary_crossentropy', optimizer='adam', metrics=['accuracy'])"
   ]
  },
  {
   "cell_type": "code",
   "execution_count": 384,
   "metadata": {},
   "outputs": [
    {
     "data": {
      "text/plain": [
       "['loss', 'accuracy']"
      ]
     },
     "execution_count": 384,
     "metadata": {},
     "output_type": "execute_result"
    }
   ],
   "source": [
    "model.metrics_names"
   ]
  },
  {
   "cell_type": "code",
   "execution_count": 385,
   "metadata": {},
   "outputs": [
    {
     "name": "stdout",
     "output_type": "stream",
     "text": [
      "\r",
      "8/8 [==============================] - 0s 27ms/step\n"
     ]
    },
    {
     "data": {
      "text/plain": [
       "[0.5827293395996094, 0.875]"
      ]
     },
     "execution_count": 385,
     "metadata": {},
     "output_type": "execute_result"
    }
   ],
   "source": [
    "model.evaluate(X_test_3d, y_test)"
   ]
  },
  {
   "cell_type": "code",
   "execution_count": 278,
   "metadata": {},
   "outputs": [],
   "source": [
    "import keras.metrics"
   ]
  },
  {
   "cell_type": "code",
   "execution_count": null,
   "metadata": {},
   "outputs": [],
   "source": [
    "keras.metrics.accuracy"
   ]
  }
 ],
 "metadata": {
  "kernelspec": {
   "display_name": "Python 3",
   "language": "python",
   "name": "python3"
  },
  "language_info": {
   "codemirror_mode": {
    "name": "ipython",
    "version": 3
   },
   "file_extension": ".py",
   "mimetype": "text/x-python",
   "name": "python",
   "nbconvert_exporter": "python",
   "pygments_lexer": "ipython3",
   "version": "3.7.3"
  }
 },
 "nbformat": 4,
 "nbformat_minor": 2
}
