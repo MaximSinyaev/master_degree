{
 "cells": [
  {
   "cell_type": "code",
   "execution_count": 1,
   "metadata": {},
   "outputs": [],
   "source": [
    "import numpy as np\n",
    "import pandas as pd\n",
    "from tsfresh import feature_extraction\n",
    "import os\n",
    "import seaborn as sns\n",
    "import re\n",
    "from collections import defaultdict"
   ]
  },
  {
   "cell_type": "code",
   "execution_count": 2,
   "metadata": {},
   "outputs": [],
   "source": [
    "from sklearn.feature_selection import SelectKBest, chi2\n",
    "from sklearn.ensemble import ExtraTreesClassifier\n",
    "import matplotlib.pyplot as plt"
   ]
  },
  {
   "cell_type": "code",
   "execution_count": 3,
   "metadata": {},
   "outputs": [],
   "source": [
    "def normalize_signal(signal):\n",
    "    \"\"\"\n",
    "    time_series\n",
    "    \n",
    "    Returns normalized TS: (TS - mean(TS))/std(TS)\n",
    "    \"\"\"\n",
    "    std = np.std(signal)\n",
    "    norm_signal = (signal - np.mean(signal)) / std if std else 1\n",
    "    return norm_signal"
   ]
  },
  {
   "cell_type": "code",
   "execution_count": 4,
   "metadata": {},
   "outputs": [],
   "source": [
    "def normalize_all_signals_in_ds(one_group_ds):\n",
    "    for signal in one_group_ds.drop('t', axis=1):\n",
    "        one_group_ds[signal] = normalize_signal(one_group_ds[signal])"
   ]
  },
  {
   "cell_type": "code",
   "execution_count": 5,
   "metadata": {},
   "outputs": [
    {
     "data": {
      "text/plain": [
       "'/home/poligon/master_degree'"
      ]
     },
     "execution_count": 5,
     "metadata": {},
     "output_type": "execute_result"
    }
   ],
   "source": [
    "# os.chdir('..')\n",
    "os.getcwd()"
   ]
  },
  {
   "cell_type": "code",
   "execution_count": 6,
   "metadata": {},
   "outputs": [],
   "source": [
    "# labels = pd.DataFrame(columns=['id', 'class', 'label'])\n",
    "# labels.columns\n",
    "# labels.append((pd.Series( [1, 2, 3], index=labels.columns)), ignore_index=True)\n",
    "# # dfObj.append(pd.Series(['Raju', 21, 'Bangalore', 'India'], index=dfObj.columns ), ignore_index=True)"
   ]
  },
  {
   "cell_type": "code",
   "execution_count": 7,
   "metadata": {},
   "outputs": [],
   "source": [
    "def append_signals_dataset(data_directory, signals_dataset = None, labels = None):\n",
    "    data_dir_list = os.listdir(data_directory)\n",
    "    os.chdir(data_directory)\n",
    "    if labels is None:\n",
    "        signal_id = 0\n",
    "        labels = pd.DataFrame(columns=['id', 'class', 'label'])\n",
    "    else:\n",
    "        signal_id = labels.id.max() + 1\n",
    "    for signal_label, directory in enumerate(data_dir_list):\n",
    "        if os.path.isfile(directory) or directory[0] == '.':\n",
    "                continue\n",
    "        os.chdir(directory)\n",
    "        for filename in os.listdir(os.curdir):\n",
    "            if re.match(r'(.*csv)', filename):\n",
    "                if (signals_dataset) is not None:\n",
    "                    tmp_df = pd.read_csv(filename)\n",
    "                    normalize_all_signals_in_ds(tmp_df)\n",
    "                    tmp_df['id'] = signal_id\n",
    "                    signals_dataset = signals_dataset.append(tmp_df, ignore_index=True)\n",
    "                else:\n",
    "                    signals_dataset = pd.read_csv(filename)\n",
    "                    normalize_all_signals_in_ds(signals_dataset)\n",
    "                    signals_dataset['id'] = signal_id\n",
    "#                 print(signals_dataset.head(5))\n",
    "                tmp_labels = pd.Series([signal_id, directory, np.int(signal_label)],\n",
    "                                         index=labels.columns)\n",
    "                labels = labels.append(tmp_labels, ignore_index=True)\n",
    "                signal_id += 1\n",
    "        os.chdir('../')\n",
    "    os.chdir('../..')\n",
    "    return signals_dataset, labels"
   ]
  },
  {
   "cell_type": "markdown",
   "metadata": {},
   "source": [
    "Data preprocessing:\n",
    "    - dropping U.1 == U\n",
    "    - changing type\n",
    "    - generating features"
   ]
  },
  {
   "cell_type": "code",
   "execution_count": 8,
   "metadata": {},
   "outputs": [
    {
     "data": {
      "text/plain": [
       "'/home/poligon/master_degree'"
      ]
     },
     "execution_count": 8,
     "metadata": {},
     "output_type": "execute_result"
    }
   ],
   "source": [
    "# os.chdir('../')\n",
    "os.getcwd()"
   ]
  },
  {
   "cell_type": "code",
   "execution_count": 23,
   "metadata": {},
   "outputs": [],
   "source": [
    "# Dataset for first gen\n",
    "dataset, labels = append_signals_dataset('./data/gen_1_25')\n",
    "dataset, labels = append_signals_dataset('./data/gen_3_25', dataset, labels)\n",
    "# Dataset for second gen\n",
    "dataset_2, labels_2 = append_signals_dataset('./data/gen_3_80')"
   ]
  },
  {
   "cell_type": "code",
   "execution_count": 24,
   "metadata": {},
   "outputs": [],
   "source": [
    "def normalize_labels(labels_df):\n",
    "    \"\"\"\n",
    "    Разметим все классы числами от 0 до количества классов\n",
    "    и преобразуем новую колонку в формат чисел (float)\n",
    "    \"\"\"\n",
    "    unique_classes = np.unique(labels_df['class'])\n",
    "    labels_df['label'] = labels['class'].map(dict(zip(unique_classes, range(len(unique_classes)))))\n",
    "    labels_df.label = labels.label.astype('int')"
   ]
  },
  {
   "cell_type": "code",
   "execution_count": 25,
   "metadata": {},
   "outputs": [
    {
     "data": {
      "text/plain": [
       "(65, 3)"
      ]
     },
     "execution_count": 25,
     "metadata": {},
     "output_type": "execute_result"
    }
   ],
   "source": [
    "labels.shape"
   ]
  },
  {
   "cell_type": "code",
   "execution_count": 26,
   "metadata": {},
   "outputs": [
    {
     "name": "stdout",
     "output_type": "stream",
     "text": [
      "Уникальные классы в датасете: ['le_8' 'more_8']\n"
     ]
    },
    {
     "data": {
      "text/html": [
       "<div>\n",
       "<style scoped>\n",
       "    .dataframe tbody tr th:only-of-type {\n",
       "        vertical-align: middle;\n",
       "    }\n",
       "\n",
       "    .dataframe tbody tr th {\n",
       "        vertical-align: top;\n",
       "    }\n",
       "\n",
       "    .dataframe thead th {\n",
       "        text-align: right;\n",
       "    }\n",
       "</style>\n",
       "<table border=\"1\" class=\"dataframe\">\n",
       "  <thead>\n",
       "    <tr style=\"text-align: right;\">\n",
       "      <th></th>\n",
       "      <th>id</th>\n",
       "      <th>class</th>\n",
       "      <th>label</th>\n",
       "    </tr>\n",
       "  </thead>\n",
       "  <tbody>\n",
       "    <tr>\n",
       "      <th>38</th>\n",
       "      <td>38</td>\n",
       "      <td>more_8</td>\n",
       "      <td>1</td>\n",
       "    </tr>\n",
       "    <tr>\n",
       "      <th>39</th>\n",
       "      <td>39</td>\n",
       "      <td>more_8</td>\n",
       "      <td>1</td>\n",
       "    </tr>\n",
       "    <tr>\n",
       "      <th>20</th>\n",
       "      <td>20</td>\n",
       "      <td>le_8</td>\n",
       "      <td>0</td>\n",
       "    </tr>\n",
       "    <tr>\n",
       "      <th>3</th>\n",
       "      <td>3</td>\n",
       "      <td>more_8</td>\n",
       "      <td>1</td>\n",
       "    </tr>\n",
       "    <tr>\n",
       "      <th>31</th>\n",
       "      <td>31</td>\n",
       "      <td>le_8</td>\n",
       "      <td>0</td>\n",
       "    </tr>\n",
       "  </tbody>\n",
       "</table>\n",
       "</div>"
      ],
      "text/plain": [
       "    id   class  label\n",
       "38  38  more_8      1\n",
       "39  39  more_8      1\n",
       "20  20    le_8      0\n",
       "3    3  more_8      1\n",
       "31  31    le_8      0"
      ]
     },
     "execution_count": 26,
     "metadata": {},
     "output_type": "execute_result"
    }
   ],
   "source": [
    "print(\"Уникальные классы в датасете:\", np.unique(labels['class']))\n",
    "normalize_labels(labels)\n",
    "normalize_labels(labels_2)\n",
    "labels.sample(5)"
   ]
  },
  {
   "cell_type": "code",
   "execution_count": 34,
   "metadata": {},
   "outputs": [
    {
     "data": {
      "text/html": [
       "<div>\n",
       "<style scoped>\n",
       "    .dataframe tbody tr th:only-of-type {\n",
       "        vertical-align: middle;\n",
       "    }\n",
       "\n",
       "    .dataframe tbody tr th {\n",
       "        vertical-align: top;\n",
       "    }\n",
       "\n",
       "    .dataframe thead th {\n",
       "        text-align: right;\n",
       "    }\n",
       "</style>\n",
       "<table border=\"1\" class=\"dataframe\">\n",
       "  <thead>\n",
       "    <tr style=\"text-align: right;\">\n",
       "      <th></th>\n",
       "      <th>t</th>\n",
       "      <th>Ug</th>\n",
       "      <th>Us</th>\n",
       "      <th>Pij</th>\n",
       "      <th>Pg</th>\n",
       "      <th>Pgt</th>\n",
       "      <th>delta</th>\n",
       "      <th>id</th>\n",
       "    </tr>\n",
       "    <tr>\n",
       "      <th>_temporary_index_column</th>\n",
       "      <th></th>\n",
       "      <th></th>\n",
       "      <th></th>\n",
       "      <th></th>\n",
       "      <th></th>\n",
       "      <th></th>\n",
       "      <th></th>\n",
       "      <th></th>\n",
       "    </tr>\n",
       "  </thead>\n",
       "  <tbody>\n",
       "    <tr>\n",
       "      <th>0</th>\n",
       "      <td>0.01</td>\n",
       "      <td>1.116687</td>\n",
       "      <td>1.647838</td>\n",
       "      <td>-2.859261</td>\n",
       "      <td>-0.257116</td>\n",
       "      <td>1.0</td>\n",
       "      <td>-1.511526</td>\n",
       "      <td>0</td>\n",
       "    </tr>\n",
       "    <tr>\n",
       "      <th>1</th>\n",
       "      <td>0.02</td>\n",
       "      <td>1.116687</td>\n",
       "      <td>1.647838</td>\n",
       "      <td>-2.859261</td>\n",
       "      <td>-0.257116</td>\n",
       "      <td>1.0</td>\n",
       "      <td>-1.511526</td>\n",
       "      <td>0</td>\n",
       "    </tr>\n",
       "    <tr>\n",
       "      <th>2</th>\n",
       "      <td>0.03</td>\n",
       "      <td>1.116687</td>\n",
       "      <td>1.647838</td>\n",
       "      <td>-2.859261</td>\n",
       "      <td>-0.257116</td>\n",
       "      <td>1.0</td>\n",
       "      <td>-1.511526</td>\n",
       "      <td>0</td>\n",
       "    </tr>\n",
       "    <tr>\n",
       "      <th>3</th>\n",
       "      <td>0.04</td>\n",
       "      <td>1.116687</td>\n",
       "      <td>1.647838</td>\n",
       "      <td>-2.859261</td>\n",
       "      <td>-0.257116</td>\n",
       "      <td>1.0</td>\n",
       "      <td>-1.511526</td>\n",
       "      <td>0</td>\n",
       "    </tr>\n",
       "    <tr>\n",
       "      <th>4</th>\n",
       "      <td>0.05</td>\n",
       "      <td>1.116687</td>\n",
       "      <td>1.647838</td>\n",
       "      <td>-2.859261</td>\n",
       "      <td>-0.257116</td>\n",
       "      <td>1.0</td>\n",
       "      <td>-1.511526</td>\n",
       "      <td>0</td>\n",
       "    </tr>\n",
       "    <tr>\n",
       "      <th>5</th>\n",
       "      <td>0.06</td>\n",
       "      <td>1.116687</td>\n",
       "      <td>1.647838</td>\n",
       "      <td>-2.859261</td>\n",
       "      <td>-0.257116</td>\n",
       "      <td>1.0</td>\n",
       "      <td>-1.511526</td>\n",
       "      <td>0</td>\n",
       "    </tr>\n",
       "    <tr>\n",
       "      <th>6</th>\n",
       "      <td>0.07</td>\n",
       "      <td>1.116687</td>\n",
       "      <td>1.647838</td>\n",
       "      <td>-2.859261</td>\n",
       "      <td>-0.257116</td>\n",
       "      <td>1.0</td>\n",
       "      <td>-1.511526</td>\n",
       "      <td>0</td>\n",
       "    </tr>\n",
       "    <tr>\n",
       "      <th>7</th>\n",
       "      <td>0.08</td>\n",
       "      <td>1.116687</td>\n",
       "      <td>1.647838</td>\n",
       "      <td>-2.859261</td>\n",
       "      <td>-0.257116</td>\n",
       "      <td>1.0</td>\n",
       "      <td>-1.511526</td>\n",
       "      <td>0</td>\n",
       "    </tr>\n",
       "    <tr>\n",
       "      <th>8</th>\n",
       "      <td>0.09</td>\n",
       "      <td>1.116687</td>\n",
       "      <td>1.647838</td>\n",
       "      <td>-2.859261</td>\n",
       "      <td>-0.257116</td>\n",
       "      <td>1.0</td>\n",
       "      <td>-1.511526</td>\n",
       "      <td>0</td>\n",
       "    </tr>\n",
       "    <tr>\n",
       "      <th>9</th>\n",
       "      <td>0.10</td>\n",
       "      <td>1.116687</td>\n",
       "      <td>1.647838</td>\n",
       "      <td>-2.859261</td>\n",
       "      <td>-0.257116</td>\n",
       "      <td>1.0</td>\n",
       "      <td>-1.511526</td>\n",
       "      <td>0</td>\n",
       "    </tr>\n",
       "    <tr>\n",
       "      <th>10</th>\n",
       "      <td>0.11</td>\n",
       "      <td>1.116687</td>\n",
       "      <td>1.647838</td>\n",
       "      <td>-2.859261</td>\n",
       "      <td>-0.257116</td>\n",
       "      <td>1.0</td>\n",
       "      <td>-1.511526</td>\n",
       "      <td>0</td>\n",
       "    </tr>\n",
       "    <tr>\n",
       "      <th>11</th>\n",
       "      <td>0.12</td>\n",
       "      <td>1.116687</td>\n",
       "      <td>1.647838</td>\n",
       "      <td>-2.859261</td>\n",
       "      <td>-0.257116</td>\n",
       "      <td>1.0</td>\n",
       "      <td>-1.511526</td>\n",
       "      <td>0</td>\n",
       "    </tr>\n",
       "    <tr>\n",
       "      <th>12</th>\n",
       "      <td>0.13</td>\n",
       "      <td>1.116687</td>\n",
       "      <td>1.647838</td>\n",
       "      <td>-2.859261</td>\n",
       "      <td>-0.257116</td>\n",
       "      <td>1.0</td>\n",
       "      <td>-1.511526</td>\n",
       "      <td>0</td>\n",
       "    </tr>\n",
       "    <tr>\n",
       "      <th>13</th>\n",
       "      <td>0.14</td>\n",
       "      <td>1.116687</td>\n",
       "      <td>1.647838</td>\n",
       "      <td>-2.859261</td>\n",
       "      <td>-0.257116</td>\n",
       "      <td>1.0</td>\n",
       "      <td>-1.511526</td>\n",
       "      <td>0</td>\n",
       "    </tr>\n",
       "    <tr>\n",
       "      <th>14</th>\n",
       "      <td>0.15</td>\n",
       "      <td>1.116687</td>\n",
       "      <td>1.647838</td>\n",
       "      <td>-2.859261</td>\n",
       "      <td>-0.257116</td>\n",
       "      <td>1.0</td>\n",
       "      <td>-1.511526</td>\n",
       "      <td>0</td>\n",
       "    </tr>\n",
       "    <tr>\n",
       "      <th>15</th>\n",
       "      <td>0.16</td>\n",
       "      <td>1.116687</td>\n",
       "      <td>1.647838</td>\n",
       "      <td>-2.859261</td>\n",
       "      <td>-0.257116</td>\n",
       "      <td>1.0</td>\n",
       "      <td>-1.511526</td>\n",
       "      <td>0</td>\n",
       "    </tr>\n",
       "    <tr>\n",
       "      <th>16</th>\n",
       "      <td>0.17</td>\n",
       "      <td>1.116687</td>\n",
       "      <td>1.647838</td>\n",
       "      <td>-2.859261</td>\n",
       "      <td>-0.257116</td>\n",
       "      <td>1.0</td>\n",
       "      <td>-1.511526</td>\n",
       "      <td>0</td>\n",
       "    </tr>\n",
       "    <tr>\n",
       "      <th>17</th>\n",
       "      <td>0.18</td>\n",
       "      <td>1.116687</td>\n",
       "      <td>1.647838</td>\n",
       "      <td>-2.859261</td>\n",
       "      <td>-0.257116</td>\n",
       "      <td>1.0</td>\n",
       "      <td>-1.511526</td>\n",
       "      <td>0</td>\n",
       "    </tr>\n",
       "    <tr>\n",
       "      <th>18</th>\n",
       "      <td>0.19</td>\n",
       "      <td>1.116687</td>\n",
       "      <td>1.647838</td>\n",
       "      <td>-2.859261</td>\n",
       "      <td>-0.257116</td>\n",
       "      <td>1.0</td>\n",
       "      <td>-1.511526</td>\n",
       "      <td>0</td>\n",
       "    </tr>\n",
       "    <tr>\n",
       "      <th>19</th>\n",
       "      <td>0.20</td>\n",
       "      <td>1.598058</td>\n",
       "      <td>1.396548</td>\n",
       "      <td>-0.527061</td>\n",
       "      <td>-2.094193</td>\n",
       "      <td>1.0</td>\n",
       "      <td>-1.511526</td>\n",
       "      <td>0</td>\n",
       "    </tr>\n",
       "  </tbody>\n",
       "</table>\n",
       "</div>"
      ],
      "text/plain": [
       "                            t        Ug        Us       Pij        Pg  Pgt  \\\n",
       "_temporary_index_column                                                      \n",
       "0                        0.01  1.116687  1.647838 -2.859261 -0.257116  1.0   \n",
       "1                        0.02  1.116687  1.647838 -2.859261 -0.257116  1.0   \n",
       "2                        0.03  1.116687  1.647838 -2.859261 -0.257116  1.0   \n",
       "3                        0.04  1.116687  1.647838 -2.859261 -0.257116  1.0   \n",
       "4                        0.05  1.116687  1.647838 -2.859261 -0.257116  1.0   \n",
       "5                        0.06  1.116687  1.647838 -2.859261 -0.257116  1.0   \n",
       "6                        0.07  1.116687  1.647838 -2.859261 -0.257116  1.0   \n",
       "7                        0.08  1.116687  1.647838 -2.859261 -0.257116  1.0   \n",
       "8                        0.09  1.116687  1.647838 -2.859261 -0.257116  1.0   \n",
       "9                        0.10  1.116687  1.647838 -2.859261 -0.257116  1.0   \n",
       "10                       0.11  1.116687  1.647838 -2.859261 -0.257116  1.0   \n",
       "11                       0.12  1.116687  1.647838 -2.859261 -0.257116  1.0   \n",
       "12                       0.13  1.116687  1.647838 -2.859261 -0.257116  1.0   \n",
       "13                       0.14  1.116687  1.647838 -2.859261 -0.257116  1.0   \n",
       "14                       0.15  1.116687  1.647838 -2.859261 -0.257116  1.0   \n",
       "15                       0.16  1.116687  1.647838 -2.859261 -0.257116  1.0   \n",
       "16                       0.17  1.116687  1.647838 -2.859261 -0.257116  1.0   \n",
       "17                       0.18  1.116687  1.647838 -2.859261 -0.257116  1.0   \n",
       "18                       0.19  1.116687  1.647838 -2.859261 -0.257116  1.0   \n",
       "19                       0.20  1.598058  1.396548 -0.527061 -2.094193  1.0   \n",
       "\n",
       "                            delta  id  \n",
       "_temporary_index_column                \n",
       "0                       -1.511526   0  \n",
       "1                       -1.511526   0  \n",
       "2                       -1.511526   0  \n",
       "3                       -1.511526   0  \n",
       "4                       -1.511526   0  \n",
       "5                       -1.511526   0  \n",
       "6                       -1.511526   0  \n",
       "7                       -1.511526   0  \n",
       "8                       -1.511526   0  \n",
       "9                       -1.511526   0  \n",
       "10                      -1.511526   0  \n",
       "11                      -1.511526   0  \n",
       "12                      -1.511526   0  \n",
       "13                      -1.511526   0  \n",
       "14                      -1.511526   0  \n",
       "15                      -1.511526   0  \n",
       "16                      -1.511526   0  \n",
       "17                      -1.511526   0  \n",
       "18                      -1.511526   0  \n",
       "19                      -1.511526   0  "
      ]
     },
     "execution_count": 34,
     "metadata": {},
     "output_type": "execute_result"
    }
   ],
   "source": [
    "dataset.head(20)"
   ]
  },
  {
   "cell_type": "code",
   "execution_count": 35,
   "metadata": {},
   "outputs": [
    {
     "data": {
      "text/html": [
       "<div>\n",
       "<style scoped>\n",
       "    .dataframe tbody tr th:only-of-type {\n",
       "        vertical-align: middle;\n",
       "    }\n",
       "\n",
       "    .dataframe tbody tr th {\n",
       "        vertical-align: top;\n",
       "    }\n",
       "\n",
       "    .dataframe thead th {\n",
       "        text-align: right;\n",
       "    }\n",
       "</style>\n",
       "<table border=\"1\" class=\"dataframe\">\n",
       "  <thead>\n",
       "    <tr style=\"text-align: right;\">\n",
       "      <th></th>\n",
       "      <th>t</th>\n",
       "      <th>Ug</th>\n",
       "      <th>Pg</th>\n",
       "      <th>delta</th>\n",
       "      <th>id</th>\n",
       "    </tr>\n",
       "    <tr>\n",
       "      <th>_temporary_index_column</th>\n",
       "      <th></th>\n",
       "      <th></th>\n",
       "      <th></th>\n",
       "      <th></th>\n",
       "      <th></th>\n",
       "    </tr>\n",
       "  </thead>\n",
       "  <tbody>\n",
       "    <tr>\n",
       "      <th>0</th>\n",
       "      <td>0.01</td>\n",
       "      <td>1.116687</td>\n",
       "      <td>-0.257116</td>\n",
       "      <td>-1.511526</td>\n",
       "      <td>0</td>\n",
       "    </tr>\n",
       "    <tr>\n",
       "      <th>1</th>\n",
       "      <td>0.02</td>\n",
       "      <td>1.116687</td>\n",
       "      <td>-0.257116</td>\n",
       "      <td>-1.511526</td>\n",
       "      <td>0</td>\n",
       "    </tr>\n",
       "    <tr>\n",
       "      <th>2</th>\n",
       "      <td>0.03</td>\n",
       "      <td>1.116687</td>\n",
       "      <td>-0.257116</td>\n",
       "      <td>-1.511526</td>\n",
       "      <td>0</td>\n",
       "    </tr>\n",
       "    <tr>\n",
       "      <th>3</th>\n",
       "      <td>0.04</td>\n",
       "      <td>1.116687</td>\n",
       "      <td>-0.257116</td>\n",
       "      <td>-1.511526</td>\n",
       "      <td>0</td>\n",
       "    </tr>\n",
       "    <tr>\n",
       "      <th>4</th>\n",
       "      <td>0.05</td>\n",
       "      <td>1.116687</td>\n",
       "      <td>-0.257116</td>\n",
       "      <td>-1.511526</td>\n",
       "      <td>0</td>\n",
       "    </tr>\n",
       "  </tbody>\n",
       "</table>\n",
       "</div>"
      ],
      "text/plain": [
       "                            t        Ug        Pg     delta  id\n",
       "_temporary_index_column                                        \n",
       "0                        0.01  1.116687 -0.257116 -1.511526   0\n",
       "1                        0.02  1.116687 -0.257116 -1.511526   0\n",
       "2                        0.03  1.116687 -0.257116 -1.511526   0\n",
       "3                        0.04  1.116687 -0.257116 -1.511526   0\n",
       "4                        0.05  1.116687 -0.257116 -1.511526   0"
      ]
     },
     "execution_count": 35,
     "metadata": {},
     "output_type": "execute_result"
    }
   ],
   "source": [
    "# Удалим колонки которые не несут достаточной информации (повторяют значения, не изменяются)\n",
    "# или могут быть некорректны\n",
    "def drop_columns(dataset):\n",
    "    mod_dataset = dataset.drop(['Us', 'Pgt', 'Pij'], axis=1)\n",
    "    return mod_dataset\n",
    "mod_dataset = drop_columns(dataset)\n",
    "mod_dataset_2 = drop_columns(dataset_2)\n",
    "# Проверим возможность склеить сигнал с метками\n",
    "mod_dataset.head(5)"
   ]
  },
  {
   "cell_type": "code",
   "execution_count": 32,
   "metadata": {},
   "outputs": [
    {
     "name": "stderr",
     "output_type": "stream",
     "text": [
      "Feature Extraction: 100%|██████████| 10/10 [00:28<00:00,  2.82s/it]\n",
      "Feature Extraction: 100%|██████████| 10/10 [00:29<00:00,  2.94s/it]\n",
      "Feature Extraction: 100%|██████████| 10/10 [00:28<00:00,  2.85s/it]\n"
     ]
    }
   ],
   "source": [
    "features = defaultdict()\n",
    "for param in mod_dataset.loc[:,'Ug':'delta']:\n",
    "#     mod_dataset[param] = mod_dataset[param].astype('float')\n",
    "    features[param] = feature_extraction.extract_features\\\n",
    "    (mod_dataset.loc[:,[param,'id','t']], column_sort='t', column_id='id')\n",
    "    "
   ]
  },
  {
   "cell_type": "markdown",
   "metadata": {},
   "source": [
    "Извлечем те же признаки для проверочного датасета, который модель никогда не видела"
   ]
  },
  {
   "cell_type": "code",
   "execution_count": 33,
   "metadata": {},
   "outputs": [
    {
     "name": "stderr",
     "output_type": "stream",
     "text": [
      "Feature Extraction: 100%|██████████| 9/9 [00:18<00:00,  2.06s/it]\n",
      "Feature Extraction: 100%|██████████| 9/9 [00:19<00:00,  2.19s/it]\n",
      "Feature Extraction: 100%|██████████| 9/9 [00:15<00:00,  1.72s/it]\n"
     ]
    }
   ],
   "source": [
    "features_val = defaultdict()\n",
    "for param in mod_dataset_2.loc[:,'Ug':'delta']:\n",
    "    features_val[param] = feature_extraction.extract_features\\\n",
    "    (mod_dataset_2.loc[:,[param,'id','t']], column_sort='t', column_id='id')"
   ]
  },
  {
   "cell_type": "markdown",
   "metadata": {},
   "source": [
    "### После обработки каждого сигнала библиотекой tsfresh извлекаем всевозможные признаки, признаки классифицированы по сигналу, из которого были получены (словарь features)\n",
    "В конечном счете для каждого сигнала сформирован следующий набор данных:"
   ]
  },
  {
   "cell_type": "code",
   "execution_count": 36,
   "metadata": {},
   "outputs": [
    {
     "name": "stdout",
     "output_type": "stream",
     "text": [
      "Для параметра Ug получено 756 признака(ов).\n",
      "Для параметра Pg получено 756 признака(ов).\n",
      "Для параметра delta получено 756 признака(ов).\n"
     ]
    }
   ],
   "source": [
    "for param in features:\n",
    "    print(\"Для параметра\", param, \"получено\", features[param].shape[1], \"признака(ов).\")"
   ]
  },
  {
   "cell_type": "code",
   "execution_count": 56,
   "metadata": {},
   "outputs": [
    {
     "data": {
      "text/html": [
       "<div>\n",
       "<style scoped>\n",
       "    .dataframe tbody tr th:only-of-type {\n",
       "        vertical-align: middle;\n",
       "    }\n",
       "\n",
       "    .dataframe tbody tr th {\n",
       "        vertical-align: top;\n",
       "    }\n",
       "\n",
       "    .dataframe thead th {\n",
       "        text-align: right;\n",
       "    }\n",
       "</style>\n",
       "<table border=\"1\" class=\"dataframe\">\n",
       "  <thead>\n",
       "    <tr style=\"text-align: right;\">\n",
       "      <th>variable</th>\n",
       "      <th>Ug__abs_energy</th>\n",
       "      <th>Ug__absolute_sum_of_changes</th>\n",
       "      <th>Ug__agg_autocorrelation__f_agg_\"mean\"__maxlag_40</th>\n",
       "      <th>Ug__agg_autocorrelation__f_agg_\"median\"__maxlag_40</th>\n",
       "      <th>Ug__agg_autocorrelation__f_agg_\"var\"__maxlag_40</th>\n",
       "      <th>Ug__agg_linear_trend__f_agg_\"max\"__chunk_len_10__attr_\"intercept\"</th>\n",
       "      <th>Ug__agg_linear_trend__f_agg_\"max\"__chunk_len_10__attr_\"rvalue\"</th>\n",
       "      <th>Ug__agg_linear_trend__f_agg_\"max\"__chunk_len_10__attr_\"slope\"</th>\n",
       "      <th>Ug__agg_linear_trend__f_agg_\"max\"__chunk_len_10__attr_\"stderr\"</th>\n",
       "      <th>Ug__agg_linear_trend__f_agg_\"max\"__chunk_len_50__attr_\"intercept\"</th>\n",
       "      <th>...</th>\n",
       "      <th>Ug__symmetry_looking__r_0.9</th>\n",
       "      <th>Ug__symmetry_looking__r_0.9500000000000001</th>\n",
       "      <th>Ug__time_reversal_asymmetry_statistic__lag_1</th>\n",
       "      <th>Ug__time_reversal_asymmetry_statistic__lag_2</th>\n",
       "      <th>Ug__time_reversal_asymmetry_statistic__lag_3</th>\n",
       "      <th>Ug__value_count__value_-1</th>\n",
       "      <th>Ug__value_count__value_0</th>\n",
       "      <th>Ug__value_count__value_1</th>\n",
       "      <th>Ug__variance</th>\n",
       "      <th>Ug__variance_larger_than_standard_deviation</th>\n",
       "    </tr>\n",
       "    <tr>\n",
       "      <th>id</th>\n",
       "      <th></th>\n",
       "      <th></th>\n",
       "      <th></th>\n",
       "      <th></th>\n",
       "      <th></th>\n",
       "      <th></th>\n",
       "      <th></th>\n",
       "      <th></th>\n",
       "      <th></th>\n",
       "      <th></th>\n",
       "      <th></th>\n",
       "      <th></th>\n",
       "      <th></th>\n",
       "      <th></th>\n",
       "      <th></th>\n",
       "      <th></th>\n",
       "      <th></th>\n",
       "      <th></th>\n",
       "      <th></th>\n",
       "      <th></th>\n",
       "      <th></th>\n",
       "    </tr>\n",
       "  </thead>\n",
       "  <tbody>\n",
       "    <tr>\n",
       "      <th>0</th>\n",
       "      <td>200.0</td>\n",
       "      <td>4.193479</td>\n",
       "      <td>0.859504</td>\n",
       "      <td>0.907176</td>\n",
       "      <td>0.018722</td>\n",
       "      <td>1.592504</td>\n",
       "      <td>-0.884128</td>\n",
       "      <td>-0.156445</td>\n",
       "      <td>0.019487</td>\n",
       "      <td>1.619349</td>\n",
       "      <td>...</td>\n",
       "      <td>1.0</td>\n",
       "      <td>1.0</td>\n",
       "      <td>-0.009735</td>\n",
       "      <td>-0.019772</td>\n",
       "      <td>-0.030139</td>\n",
       "      <td>0.0</td>\n",
       "      <td>0.0</td>\n",
       "      <td>0.0</td>\n",
       "      <td>1.0</td>\n",
       "      <td>0.0</td>\n",
       "    </tr>\n",
       "    <tr>\n",
       "      <th>1</th>\n",
       "      <td>200.0</td>\n",
       "      <td>3.987191</td>\n",
       "      <td>0.863016</td>\n",
       "      <td>0.908495</td>\n",
       "      <td>0.017426</td>\n",
       "      <td>1.628019</td>\n",
       "      <td>-0.906909</td>\n",
       "      <td>-0.160746</td>\n",
       "      <td>0.017602</td>\n",
       "      <td>1.644996</td>\n",
       "      <td>...</td>\n",
       "      <td>1.0</td>\n",
       "      <td>1.0</td>\n",
       "      <td>-0.010222</td>\n",
       "      <td>-0.020889</td>\n",
       "      <td>-0.032033</td>\n",
       "      <td>0.0</td>\n",
       "      <td>0.0</td>\n",
       "      <td>0.0</td>\n",
       "      <td>1.0</td>\n",
       "      <td>1.0</td>\n",
       "    </tr>\n",
       "    <tr>\n",
       "      <th>2</th>\n",
       "      <td>200.0</td>\n",
       "      <td>3.159681</td>\n",
       "      <td>0.839157</td>\n",
       "      <td>0.867914</td>\n",
       "      <td>0.015207</td>\n",
       "      <td>1.711693</td>\n",
       "      <td>-0.978199</td>\n",
       "      <td>-0.171906</td>\n",
       "      <td>0.008602</td>\n",
       "      <td>1.630660</td>\n",
       "      <td>...</td>\n",
       "      <td>1.0</td>\n",
       "      <td>1.0</td>\n",
       "      <td>-0.028362</td>\n",
       "      <td>-0.056951</td>\n",
       "      <td>-0.085767</td>\n",
       "      <td>0.0</td>\n",
       "      <td>0.0</td>\n",
       "      <td>0.0</td>\n",
       "      <td>1.0</td>\n",
       "      <td>0.0</td>\n",
       "    </tr>\n",
       "    <tr>\n",
       "      <th>3</th>\n",
       "      <td>200.0</td>\n",
       "      <td>3.735931</td>\n",
       "      <td>0.864389</td>\n",
       "      <td>0.907419</td>\n",
       "      <td>0.016397</td>\n",
       "      <td>1.655567</td>\n",
       "      <td>-0.927172</td>\n",
       "      <td>-0.164271</td>\n",
       "      <td>0.015645</td>\n",
       "      <td>1.662409</td>\n",
       "      <td>...</td>\n",
       "      <td>1.0</td>\n",
       "      <td>1.0</td>\n",
       "      <td>-0.011141</td>\n",
       "      <td>-0.022884</td>\n",
       "      <td>-0.035280</td>\n",
       "      <td>0.0</td>\n",
       "      <td>0.0</td>\n",
       "      <td>0.0</td>\n",
       "      <td>1.0</td>\n",
       "      <td>1.0</td>\n",
       "    </tr>\n",
       "    <tr>\n",
       "      <th>4</th>\n",
       "      <td>200.0</td>\n",
       "      <td>4.322899</td>\n",
       "      <td>0.857019</td>\n",
       "      <td>0.905694</td>\n",
       "      <td>0.019463</td>\n",
       "      <td>1.576482</td>\n",
       "      <td>-0.871448</td>\n",
       "      <td>-0.154393</td>\n",
       "      <td>0.020482</td>\n",
       "      <td>1.609345</td>\n",
       "      <td>...</td>\n",
       "      <td>1.0</td>\n",
       "      <td>1.0</td>\n",
       "      <td>-0.009580</td>\n",
       "      <td>-0.019411</td>\n",
       "      <td>-0.029522</td>\n",
       "      <td>0.0</td>\n",
       "      <td>0.0</td>\n",
       "      <td>0.0</td>\n",
       "      <td>1.0</td>\n",
       "      <td>0.0</td>\n",
       "    </tr>\n",
       "    <tr>\n",
       "      <th>...</th>\n",
       "      <td>...</td>\n",
       "      <td>...</td>\n",
       "      <td>...</td>\n",
       "      <td>...</td>\n",
       "      <td>...</td>\n",
       "      <td>...</td>\n",
       "      <td>...</td>\n",
       "      <td>...</td>\n",
       "      <td>...</td>\n",
       "      <td>...</td>\n",
       "      <td>...</td>\n",
       "      <td>...</td>\n",
       "      <td>...</td>\n",
       "      <td>...</td>\n",
       "      <td>...</td>\n",
       "      <td>...</td>\n",
       "      <td>...</td>\n",
       "      <td>...</td>\n",
       "      <td>...</td>\n",
       "      <td>...</td>\n",
       "      <td>...</td>\n",
       "    </tr>\n",
       "    <tr>\n",
       "      <th>60</th>\n",
       "      <td>200.0</td>\n",
       "      <td>3.569846</td>\n",
       "      <td>0.786377</td>\n",
       "      <td>0.798389</td>\n",
       "      <td>0.019136</td>\n",
       "      <td>1.681618</td>\n",
       "      <td>-0.982850</td>\n",
       "      <td>-0.167872</td>\n",
       "      <td>0.007424</td>\n",
       "      <td>1.453506</td>\n",
       "      <td>...</td>\n",
       "      <td>1.0</td>\n",
       "      <td>1.0</td>\n",
       "      <td>-0.058002</td>\n",
       "      <td>-0.113351</td>\n",
       "      <td>-0.165352</td>\n",
       "      <td>0.0</td>\n",
       "      <td>0.0</td>\n",
       "      <td>0.0</td>\n",
       "      <td>1.0</td>\n",
       "      <td>0.0</td>\n",
       "    </tr>\n",
       "    <tr>\n",
       "      <th>61</th>\n",
       "      <td>200.0</td>\n",
       "      <td>3.344199</td>\n",
       "      <td>0.822504</td>\n",
       "      <td>0.842017</td>\n",
       "      <td>0.016757</td>\n",
       "      <td>1.736013</td>\n",
       "      <td>-0.990607</td>\n",
       "      <td>-0.173829</td>\n",
       "      <td>0.005656</td>\n",
       "      <td>1.578476</td>\n",
       "      <td>...</td>\n",
       "      <td>1.0</td>\n",
       "      <td>1.0</td>\n",
       "      <td>-0.031586</td>\n",
       "      <td>-0.063123</td>\n",
       "      <td>-0.094609</td>\n",
       "      <td>0.0</td>\n",
       "      <td>0.0</td>\n",
       "      <td>0.0</td>\n",
       "      <td>1.0</td>\n",
       "      <td>0.0</td>\n",
       "    </tr>\n",
       "    <tr>\n",
       "      <th>62</th>\n",
       "      <td>200.0</td>\n",
       "      <td>3.272611</td>\n",
       "      <td>0.831384</td>\n",
       "      <td>0.853030</td>\n",
       "      <td>0.016383</td>\n",
       "      <td>1.748300</td>\n",
       "      <td>-0.990010</td>\n",
       "      <td>-0.175168</td>\n",
       "      <td>0.005880</td>\n",
       "      <td>1.612456</td>\n",
       "      <td>...</td>\n",
       "      <td>1.0</td>\n",
       "      <td>1.0</td>\n",
       "      <td>-0.025188</td>\n",
       "      <td>-0.050879</td>\n",
       "      <td>-0.077078</td>\n",
       "      <td>0.0</td>\n",
       "      <td>0.0</td>\n",
       "      <td>0.0</td>\n",
       "      <td>1.0</td>\n",
       "      <td>1.0</td>\n",
       "    </tr>\n",
       "    <tr>\n",
       "      <th>63</th>\n",
       "      <td>200.0</td>\n",
       "      <td>3.467708</td>\n",
       "      <td>0.806009</td>\n",
       "      <td>0.821851</td>\n",
       "      <td>0.017729</td>\n",
       "      <td>1.712235</td>\n",
       "      <td>-0.988597</td>\n",
       "      <td>-0.171251</td>\n",
       "      <td>0.006148</td>\n",
       "      <td>1.518402</td>\n",
       "      <td>...</td>\n",
       "      <td>1.0</td>\n",
       "      <td>1.0</td>\n",
       "      <td>-0.043314</td>\n",
       "      <td>-0.085286</td>\n",
       "      <td>-0.126280</td>\n",
       "      <td>0.0</td>\n",
       "      <td>0.0</td>\n",
       "      <td>0.0</td>\n",
       "      <td>1.0</td>\n",
       "      <td>1.0</td>\n",
       "    </tr>\n",
       "    <tr>\n",
       "      <th>64</th>\n",
       "      <td>200.0</td>\n",
       "      <td>3.607566</td>\n",
       "      <td>0.779558</td>\n",
       "      <td>0.790258</td>\n",
       "      <td>0.019672</td>\n",
       "      <td>1.671180</td>\n",
       "      <td>-0.980390</td>\n",
       "      <td>-0.166625</td>\n",
       "      <td>0.007894</td>\n",
       "      <td>1.432013</td>\n",
       "      <td>...</td>\n",
       "      <td>1.0</td>\n",
       "      <td>1.0</td>\n",
       "      <td>-0.063536</td>\n",
       "      <td>-0.122980</td>\n",
       "      <td>-0.179213</td>\n",
       "      <td>0.0</td>\n",
       "      <td>0.0</td>\n",
       "      <td>0.0</td>\n",
       "      <td>1.0</td>\n",
       "      <td>0.0</td>\n",
       "    </tr>\n",
       "  </tbody>\n",
       "</table>\n",
       "<p>65 rows × 756 columns</p>\n",
       "</div>"
      ],
      "text/plain": [
       "variable  Ug__abs_energy  Ug__absolute_sum_of_changes  \\\n",
       "id                                                      \n",
       "0                  200.0                     4.193479   \n",
       "1                  200.0                     3.987191   \n",
       "2                  200.0                     3.159681   \n",
       "3                  200.0                     3.735931   \n",
       "4                  200.0                     4.322899   \n",
       "..                   ...                          ...   \n",
       "60                 200.0                     3.569846   \n",
       "61                 200.0                     3.344199   \n",
       "62                 200.0                     3.272611   \n",
       "63                 200.0                     3.467708   \n",
       "64                 200.0                     3.607566   \n",
       "\n",
       "variable  Ug__agg_autocorrelation__f_agg_\"mean\"__maxlag_40  \\\n",
       "id                                                           \n",
       "0                                                 0.859504   \n",
       "1                                                 0.863016   \n",
       "2                                                 0.839157   \n",
       "3                                                 0.864389   \n",
       "4                                                 0.857019   \n",
       "..                                                     ...   \n",
       "60                                                0.786377   \n",
       "61                                                0.822504   \n",
       "62                                                0.831384   \n",
       "63                                                0.806009   \n",
       "64                                                0.779558   \n",
       "\n",
       "variable  Ug__agg_autocorrelation__f_agg_\"median\"__maxlag_40  \\\n",
       "id                                                             \n",
       "0                                                  0.907176    \n",
       "1                                                  0.908495    \n",
       "2                                                  0.867914    \n",
       "3                                                  0.907419    \n",
       "4                                                  0.905694    \n",
       "..                                                      ...    \n",
       "60                                                 0.798389    \n",
       "61                                                 0.842017    \n",
       "62                                                 0.853030    \n",
       "63                                                 0.821851    \n",
       "64                                                 0.790258    \n",
       "\n",
       "variable  Ug__agg_autocorrelation__f_agg_\"var\"__maxlag_40  \\\n",
       "id                                                          \n",
       "0                                                0.018722   \n",
       "1                                                0.017426   \n",
       "2                                                0.015207   \n",
       "3                                                0.016397   \n",
       "4                                                0.019463   \n",
       "..                                                    ...   \n",
       "60                                               0.019136   \n",
       "61                                               0.016757   \n",
       "62                                               0.016383   \n",
       "63                                               0.017729   \n",
       "64                                               0.019672   \n",
       "\n",
       "variable  Ug__agg_linear_trend__f_agg_\"max\"__chunk_len_10__attr_\"intercept\"  \\\n",
       "id                                                                            \n",
       "0                                                  1.592504                   \n",
       "1                                                  1.628019                   \n",
       "2                                                  1.711693                   \n",
       "3                                                  1.655567                   \n",
       "4                                                  1.576482                   \n",
       "..                                                      ...                   \n",
       "60                                                 1.681618                   \n",
       "61                                                 1.736013                   \n",
       "62                                                 1.748300                   \n",
       "63                                                 1.712235                   \n",
       "64                                                 1.671180                   \n",
       "\n",
       "variable  Ug__agg_linear_trend__f_agg_\"max\"__chunk_len_10__attr_\"rvalue\"  \\\n",
       "id                                                                         \n",
       "0                                                 -0.884128                \n",
       "1                                                 -0.906909                \n",
       "2                                                 -0.978199                \n",
       "3                                                 -0.927172                \n",
       "4                                                 -0.871448                \n",
       "..                                                      ...                \n",
       "60                                                -0.982850                \n",
       "61                                                -0.990607                \n",
       "62                                                -0.990010                \n",
       "63                                                -0.988597                \n",
       "64                                                -0.980390                \n",
       "\n",
       "variable  Ug__agg_linear_trend__f_agg_\"max\"__chunk_len_10__attr_\"slope\"  \\\n",
       "id                                                                        \n",
       "0                                                 -0.156445               \n",
       "1                                                 -0.160746               \n",
       "2                                                 -0.171906               \n",
       "3                                                 -0.164271               \n",
       "4                                                 -0.154393               \n",
       "..                                                      ...               \n",
       "60                                                -0.167872               \n",
       "61                                                -0.173829               \n",
       "62                                                -0.175168               \n",
       "63                                                -0.171251               \n",
       "64                                                -0.166625               \n",
       "\n",
       "variable  Ug__agg_linear_trend__f_agg_\"max\"__chunk_len_10__attr_\"stderr\"  \\\n",
       "id                                                                         \n",
       "0                                                  0.019487                \n",
       "1                                                  0.017602                \n",
       "2                                                  0.008602                \n",
       "3                                                  0.015645                \n",
       "4                                                  0.020482                \n",
       "..                                                      ...                \n",
       "60                                                 0.007424                \n",
       "61                                                 0.005656                \n",
       "62                                                 0.005880                \n",
       "63                                                 0.006148                \n",
       "64                                                 0.007894                \n",
       "\n",
       "variable  Ug__agg_linear_trend__f_agg_\"max\"__chunk_len_50__attr_\"intercept\"  \\\n",
       "id                                                                            \n",
       "0                                                  1.619349                   \n",
       "1                                                  1.644996                   \n",
       "2                                                  1.630660                   \n",
       "3                                                  1.662409                   \n",
       "4                                                  1.609345                   \n",
       "..                                                      ...                   \n",
       "60                                                 1.453506                   \n",
       "61                                                 1.578476                   \n",
       "62                                                 1.612456                   \n",
       "63                                                 1.518402                   \n",
       "64                                                 1.432013                   \n",
       "\n",
       "variable  ...  Ug__symmetry_looking__r_0.9  \\\n",
       "id        ...                                \n",
       "0         ...                          1.0   \n",
       "1         ...                          1.0   \n",
       "2         ...                          1.0   \n",
       "3         ...                          1.0   \n",
       "4         ...                          1.0   \n",
       "..        ...                          ...   \n",
       "60        ...                          1.0   \n",
       "61        ...                          1.0   \n",
       "62        ...                          1.0   \n",
       "63        ...                          1.0   \n",
       "64        ...                          1.0   \n",
       "\n",
       "variable  Ug__symmetry_looking__r_0.9500000000000001  \\\n",
       "id                                                     \n",
       "0                                                1.0   \n",
       "1                                                1.0   \n",
       "2                                                1.0   \n",
       "3                                                1.0   \n",
       "4                                                1.0   \n",
       "..                                               ...   \n",
       "60                                               1.0   \n",
       "61                                               1.0   \n",
       "62                                               1.0   \n",
       "63                                               1.0   \n",
       "64                                               1.0   \n",
       "\n",
       "variable  Ug__time_reversal_asymmetry_statistic__lag_1  \\\n",
       "id                                                       \n",
       "0                                            -0.009735   \n",
       "1                                            -0.010222   \n",
       "2                                            -0.028362   \n",
       "3                                            -0.011141   \n",
       "4                                            -0.009580   \n",
       "..                                                 ...   \n",
       "60                                           -0.058002   \n",
       "61                                           -0.031586   \n",
       "62                                           -0.025188   \n",
       "63                                           -0.043314   \n",
       "64                                           -0.063536   \n",
       "\n",
       "variable  Ug__time_reversal_asymmetry_statistic__lag_2  \\\n",
       "id                                                       \n",
       "0                                            -0.019772   \n",
       "1                                            -0.020889   \n",
       "2                                            -0.056951   \n",
       "3                                            -0.022884   \n",
       "4                                            -0.019411   \n",
       "..                                                 ...   \n",
       "60                                           -0.113351   \n",
       "61                                           -0.063123   \n",
       "62                                           -0.050879   \n",
       "63                                           -0.085286   \n",
       "64                                           -0.122980   \n",
       "\n",
       "variable  Ug__time_reversal_asymmetry_statistic__lag_3  \\\n",
       "id                                                       \n",
       "0                                            -0.030139   \n",
       "1                                            -0.032033   \n",
       "2                                            -0.085767   \n",
       "3                                            -0.035280   \n",
       "4                                            -0.029522   \n",
       "..                                                 ...   \n",
       "60                                           -0.165352   \n",
       "61                                           -0.094609   \n",
       "62                                           -0.077078   \n",
       "63                                           -0.126280   \n",
       "64                                           -0.179213   \n",
       "\n",
       "variable  Ug__value_count__value_-1  Ug__value_count__value_0  \\\n",
       "id                                                              \n",
       "0                               0.0                       0.0   \n",
       "1                               0.0                       0.0   \n",
       "2                               0.0                       0.0   \n",
       "3                               0.0                       0.0   \n",
       "4                               0.0                       0.0   \n",
       "..                              ...                       ...   \n",
       "60                              0.0                       0.0   \n",
       "61                              0.0                       0.0   \n",
       "62                              0.0                       0.0   \n",
       "63                              0.0                       0.0   \n",
       "64                              0.0                       0.0   \n",
       "\n",
       "variable  Ug__value_count__value_1  Ug__variance  \\\n",
       "id                                                 \n",
       "0                              0.0           1.0   \n",
       "1                              0.0           1.0   \n",
       "2                              0.0           1.0   \n",
       "3                              0.0           1.0   \n",
       "4                              0.0           1.0   \n",
       "..                             ...           ...   \n",
       "60                             0.0           1.0   \n",
       "61                             0.0           1.0   \n",
       "62                             0.0           1.0   \n",
       "63                             0.0           1.0   \n",
       "64                             0.0           1.0   \n",
       "\n",
       "variable  Ug__variance_larger_than_standard_deviation  \n",
       "id                                                     \n",
       "0                                                 0.0  \n",
       "1                                                 1.0  \n",
       "2                                                 0.0  \n",
       "3                                                 1.0  \n",
       "4                                                 0.0  \n",
       "..                                                ...  \n",
       "60                                                0.0  \n",
       "61                                                0.0  \n",
       "62                                                1.0  \n",
       "63                                                1.0  \n",
       "64                                                0.0  \n",
       "\n",
       "[65 rows x 756 columns]"
      ]
     },
     "execution_count": 56,
     "metadata": {},
     "output_type": "execute_result"
    }
   ],
   "source": [
    "# Пример хранящихся признаков\n",
    "features['Ug']"
   ]
  },
  {
   "cell_type": "markdown",
   "metadata": {},
   "source": [
    "## Поиск наиболее важных признаков, которые позволят предсказывать результат переходного процесса"
   ]
  },
  {
   "cell_type": "code",
   "execution_count": 47,
   "metadata": {},
   "outputs": [],
   "source": [
    "# Удаляем фичи количество признаков в которых меньше количества классов\n",
    "def clear_useless_features(features, threshold=2):\n",
    "    for feature in features.columns:\n",
    "        if features[feature].nunique() <= threshold \\\n",
    "            or features[feature].isna().sum():\n",
    "            features = features.drop(feature, axis=1)\n",
    "    return features"
   ]
  },
  {
   "cell_type": "code",
   "execution_count": 48,
   "metadata": {},
   "outputs": [
    {
     "name": "stdout",
     "output_type": "stream",
     "text": [
      "Число удаленных признаков для Ug: 71\n",
      "Число удаленных признаков для Pg: 65\n",
      "Число удаленных признаков для delta: 70\n"
     ]
    }
   ],
   "source": [
    "modified_features = defaultdict()\n",
    "for param in features:\n",
    "    modified_features[param] = clear_useless_features(features[param],\n",
    "                                                     labels.label.nunique())\n",
    "    print(f\"Число удаленных признаков для {param}:\",\n",
    "          features[param].shape[1] - modified_features[param].shape[1])"
   ]
  },
  {
   "cell_type": "markdown",
   "metadata": {},
   "source": [
    "Поиск признаков, имеющих наибольшую корреляцию с целевой переменной sklearn (Только для регресии и неотрицательных признаков)"
   ]
  },
  {
   "cell_type": "code",
   "execution_count": 49,
   "metadata": {},
   "outputs": [],
   "source": [
    "def delete_negative_features(X):\n",
    "    for i in X.columns:\n",
    "        if X[i].min() < 0:\n",
    "            X = X.drop(i, axis=1)\n",
    "    return X"
   ]
  },
  {
   "cell_type": "code",
   "execution_count": 50,
   "metadata": {},
   "outputs": [],
   "source": [
    "# X = delete_negative_features(modified_features['U'])\n",
    "# X_2 = \n",
    "y = labels.label\n",
    "# bestfeatures = SelectKBest(score_func=chi2, k=10)\n",
    "# fit = bestfeatures.fit(X, labels.label)\n",
    "# dfscores = pd.DataFrame(fit.scores_)\n",
    "# dfcolumns = pd.DataFrame(X.columns)\n",
    "# featureScores = pd.concat([dfcolumns,dfscores],axis=1)\n",
    "# featureScores.columns = ['Specs','Score']  #naming the dataframe columns\n",
    "# print(featureScores.nlargest(10,'Score'))"
   ]
  },
  {
   "cell_type": "markdown",
   "metadata": {},
   "source": [
    "Использование дерева для поиска фич"
   ]
  },
  {
   "cell_type": "code",
   "execution_count": 51,
   "metadata": {},
   "outputs": [],
   "source": [
    "def plot_features(X, y):\n",
    "#     X = modified_features['U']\n",
    "#     y = labels.label\n",
    "    model = ExtraTreesClassifier(n_estimators=200)\n",
    "    model.fit(X,y)\n",
    "#     print(model.feature_importances_) #use inbuilt class feature_importances of tree based classifiers\n",
    "    #plot graph of feature importances for better visualization\n",
    "    feat_importances = pd.Series(model.feature_importances_, index=X.columns)\n",
    "    feat_importances.nlargest(15).plot(kind='barh')\n",
    "    plt.show()\n",
    "    return feat_importances.nlargest(15)"
   ]
  },
  {
   "cell_type": "code",
   "execution_count": 52,
   "metadata": {},
   "outputs": [
    {
     "data": {
      "image/png": "[encoded data removed]",
      "text/plain": [
       "<Figure size 432x288 with 1 Axes>"
      ]
     },
     "metadata": {
      "needs_background": "light"
     },
     "output_type": "display_data"
    },
    {
     "data": {
      "image/png": "[encoded data removed]",
      "text/plain": [
       "<Figure size 432x288 with 1 Axes>"
      ]
     },
     "metadata": {
      "needs_background": "light"
     },
     "output_type": "display_data"
    },
    {
     "data": {
      "image/png": "[encoded data removed]",
      "text/plain": [
       "<Figure size 432x288 with 1 Axes>"
      ]
     },
     "metadata": {
      "needs_background": "light"
     },
     "output_type": "display_data"
    }
   ],
   "source": [
    "most_valuable_feat = dict([[feat, None] for feat in features])\n",
    "for param in features:\n",
    "    most_valuable_feat[param] = (plot_features(modified_features[param].astype('float32'), labels.label))"
   ]
  },
  {
   "cell_type": "code",
   "execution_count": 57,
   "metadata": {},
   "outputs": [],
   "source": [
    "# Создаем датафрэйм с индексами, который будем доплнять самыми релевантными фичами\n",
    "def remain_relevant_features(features):\n",
    "    resulted_df = pd.DataFrame(index=features['Ug'].index)\n",
    "    # Дополняем датафрэйм\n",
    "    for param in features:\n",
    "        for feat in features[param]:\n",
    "            if feat in most_valuable_feat[param]:\n",
    "                if most_valuable_feat[param][feat] >= 0.014:\n",
    "                    resulted_df = resulted_df.join(features[param][feat])\n",
    "    return resulted_df"
   ]
  },
  {
   "cell_type": "code",
   "execution_count": 59,
   "metadata": {},
   "outputs": [
    {
     "data": {
      "text/html": [
       "<div>\n",
       "<style scoped>\n",
       "    .dataframe tbody tr th:only-of-type {\n",
       "        vertical-align: middle;\n",
       "    }\n",
       "\n",
       "    .dataframe tbody tr th {\n",
       "        vertical-align: top;\n",
       "    }\n",
       "\n",
       "    .dataframe thead th {\n",
       "        text-align: right;\n",
       "    }\n",
       "</style>\n",
       "<table border=\"1\" class=\"dataframe\">\n",
       "  <thead>\n",
       "    <tr style=\"text-align: right;\">\n",
       "      <th></th>\n",
       "      <th>Ug__agg_linear_trend__f_agg_\"min\"__chunk_len_50__attr_\"slope\"</th>\n",
       "      <th>Ug__agg_linear_trend__f_agg_\"var\"__chunk_len_50__attr_\"rvalue\"</th>\n",
       "      <th>Ug__change_quantiles__f_agg_\"mean\"__isabs_False__qh_1.0__ql_0.6</th>\n",
       "      <th>Ug__change_quantiles__f_agg_\"var\"__isabs_False__qh_0.8__ql_0.6</th>\n",
       "      <th>Ug__count_below__t_0</th>\n",
       "      <th>Ug__fft_coefficient__coeff_1__attr_\"real\"</th>\n",
       "      <th>Ug__longest_strike_above_mean</th>\n",
       "      <th>Ug__median</th>\n",
       "      <th>Ug__quantile__q_0.1</th>\n",
       "      <th>Pg__fft_coefficient__coeff_27__attr_\"real\"</th>\n",
       "      <th>Pg__fft_coefficient__coeff_49__attr_\"real\"</th>\n",
       "      <th>Pg__fft_coefficient__coeff_75__attr_\"real\"</th>\n",
       "      <th>Pg__fft_coefficient__coeff_9__attr_\"imag\"</th>\n",
       "      <th>Pg__partial_autocorrelation__lag_9</th>\n",
       "    </tr>\n",
       "    <tr>\n",
       "      <th>id</th>\n",
       "      <th></th>\n",
       "      <th></th>\n",
       "      <th></th>\n",
       "      <th></th>\n",
       "      <th></th>\n",
       "      <th></th>\n",
       "      <th></th>\n",
       "      <th></th>\n",
       "      <th></th>\n",
       "      <th></th>\n",
       "      <th></th>\n",
       "      <th></th>\n",
       "      <th></th>\n",
       "      <th></th>\n",
       "    </tr>\n",
       "  </thead>\n",
       "  <tbody>\n",
       "    <tr>\n",
       "      <th>0</th>\n",
       "      <td>-0.777599</td>\n",
       "      <td>-0.062383</td>\n",
       "      <td>-0.010195</td>\n",
       "      <td>0.000259</td>\n",
       "      <td>0.56</td>\n",
       "      <td>38.977855</td>\n",
       "      <td>88.0</td>\n",
       "      <td>-0.322796</td>\n",
       "      <td>-1.160566</td>\n",
       "      <td>-0.326442</td>\n",
       "      <td>-0.600430</td>\n",
       "      <td>-0.707186</td>\n",
       "      <td>5.550073</td>\n",
       "      <td>-0.04674</td>\n",
       "    </tr>\n",
       "    <tr>\n",
       "      <th>1</th>\n",
       "      <td>-0.780215</td>\n",
       "      <td>-0.139870</td>\n",
       "      <td>-0.009811</td>\n",
       "      <td>0.000239</td>\n",
       "      <td>0.55</td>\n",
       "      <td>32.632124</td>\n",
       "      <td>90.0</td>\n",
       "      <td>-0.319320</td>\n",
       "      <td>-1.146038</td>\n",
       "      <td>-0.378597</td>\n",
       "      <td>-0.664108</td>\n",
       "      <td>-0.773791</td>\n",
       "      <td>6.031831</td>\n",
       "      <td>-0.04307</td>\n",
       "    </tr>\n",
       "  </tbody>\n",
       "</table>\n",
       "</div>"
      ],
      "text/plain": [
       "    Ug__agg_linear_trend__f_agg_\"min\"__chunk_len_50__attr_\"slope\"  \\\n",
       "id                                                                  \n",
       "0                                           -0.777599               \n",
       "1                                           -0.780215               \n",
       "\n",
       "    Ug__agg_linear_trend__f_agg_\"var\"__chunk_len_50__attr_\"rvalue\"  \\\n",
       "id                                                                   \n",
       "0                                           -0.062383                \n",
       "1                                           -0.139870                \n",
       "\n",
       "    Ug__change_quantiles__f_agg_\"mean\"__isabs_False__qh_1.0__ql_0.6  \\\n",
       "id                                                                    \n",
       "0                                           -0.010195                 \n",
       "1                                           -0.009811                 \n",
       "\n",
       "    Ug__change_quantiles__f_agg_\"var\"__isabs_False__qh_0.8__ql_0.6  \\\n",
       "id                                                                   \n",
       "0                                            0.000259                \n",
       "1                                            0.000239                \n",
       "\n",
       "    Ug__count_below__t_0  Ug__fft_coefficient__coeff_1__attr_\"real\"  \\\n",
       "id                                                                    \n",
       "0                   0.56                                  38.977855   \n",
       "1                   0.55                                  32.632124   \n",
       "\n",
       "    Ug__longest_strike_above_mean  Ug__median  Ug__quantile__q_0.1  \\\n",
       "id                                                                   \n",
       "0                            88.0   -0.322796            -1.160566   \n",
       "1                            90.0   -0.319320            -1.146038   \n",
       "\n",
       "    Pg__fft_coefficient__coeff_27__attr_\"real\"  \\\n",
       "id                                               \n",
       "0                                    -0.326442   \n",
       "1                                    -0.378597   \n",
       "\n",
       "    Pg__fft_coefficient__coeff_49__attr_\"real\"  \\\n",
       "id                                               \n",
       "0                                    -0.600430   \n",
       "1                                    -0.664108   \n",
       "\n",
       "    Pg__fft_coefficient__coeff_75__attr_\"real\"  \\\n",
       "id                                               \n",
       "0                                    -0.707186   \n",
       "1                                    -0.773791   \n",
       "\n",
       "    Pg__fft_coefficient__coeff_9__attr_\"imag\"  \\\n",
       "id                                              \n",
       "0                                    5.550073   \n",
       "1                                    6.031831   \n",
       "\n",
       "    Pg__partial_autocorrelation__lag_9  \n",
       "id                                      \n",
       "0                             -0.04674  \n",
       "1                             -0.04307  "
      ]
     },
     "execution_count": 59,
     "metadata": {},
     "output_type": "execute_result"
    }
   ],
   "source": [
    "# Выведем первые две строки получившегося датафрэйма\n",
    "resulted_df = remain_relevant_features(features)\n",
    "resulted_df.head(2)"
   ]
  },
  {
   "cell_type": "code",
   "execution_count": 61,
   "metadata": {},
   "outputs": [
    {
     "name": "stdout",
     "output_type": "stream",
     "text": [
      "Оставшиеся фичи:\n",
      "Ug__agg_linear_trend__f_agg_\"min\"__chunk_len_50__attr_\"slope\"\n",
      "Ug__agg_linear_trend__f_agg_\"var\"__chunk_len_50__attr_\"rvalue\"\n",
      "Ug__change_quantiles__f_agg_\"mean\"__isabs_False__qh_1.0__ql_0.6\n",
      "Ug__change_quantiles__f_agg_\"var\"__isabs_False__qh_0.8__ql_0.6\n",
      "Ug__count_below__t_0\n",
      "Ug__fft_coefficient__coeff_1__attr_\"real\"\n",
      "Ug__longest_strike_above_mean\n",
      "Ug__median\n",
      "Ug__quantile__q_0.1\n",
      "Pg__fft_coefficient__coeff_27__attr_\"real\"\n",
      "Pg__fft_coefficient__coeff_49__attr_\"real\"\n",
      "Pg__fft_coefficient__coeff_75__attr_\"real\"\n",
      "Pg__fft_coefficient__coeff_9__attr_\"imag\"\n",
      "Pg__partial_autocorrelation__lag_9\n"
     ]
    }
   ],
   "source": [
    "print(\"Оставшиеся фичи:\")\n",
    "print(*resulted_df.columns, sep='\\n')"
   ]
  },
  {
   "cell_type": "markdown",
   "metadata": {},
   "source": [
    "Построим тепловую карту фич, взятых из предыдущего шага"
   ]
  },
  {
   "cell_type": "code",
   "execution_count": 62,
   "metadata": {},
   "outputs": [],
   "source": [
    "# data = features['U'].iloc[:,0:50].join(labels.loc[:,['label']], on='id')"
   ]
  },
  {
   "cell_type": "code",
   "execution_count": 63,
   "metadata": {},
   "outputs": [
    {
     "data": {
      "image/png": "[encoded data removed]",
      "text/plain": [
       "<Figure size 1440x1440 with 2 Axes>"
      ]
     },
     "metadata": {
      "needs_background": "light"
     },
     "output_type": "display_data"
    }
   ],
   "source": [
    "## get correlations of each features in dataset\n",
    "data = resulted_df.join(labels.loc[:,['id', 'label']])\n",
    "corrmat = data.corr()\n",
    "top_corr_features = corrmat.index\n",
    "plt.figure(figsize=(20,20))\n",
    "#plot heat map\n",
    "g=sns.heatmap(data[top_corr_features].corr(),annot=True,cmap=\"RdYlGn\")"
   ]
  },
  {
   "cell_type": "markdown",
   "metadata": {},
   "source": [
    "## Постоение простейших моделей, градиентный бустинг и ансамбль решающих деревьев"
   ]
  },
  {
   "cell_type": "code",
   "execution_count": 64,
   "metadata": {},
   "outputs": [],
   "source": [
    "from sklearn.ensemble import GradientBoostingClassifier\n",
    "from sklearn.ensemble import RandomForestClassifier\n",
    "from sklearn.model_selection import train_test_split\n",
    "from sklearn.model_selection import cross_val_score\n",
    "from sklearn import metrics"
   ]
  },
  {
   "cell_type": "code",
   "execution_count": 65,
   "metadata": {},
   "outputs": [],
   "source": [
    "X_train, X_test, y_train, y_test = train_test_split(resulted_df, labels.label, test_size=0.2, random_state=42)"
   ]
  },
  {
   "cell_type": "markdown",
   "metadata": {},
   "source": [
    "### Ансамбль решающих деревьев"
   ]
  },
  {
   "cell_type": "code",
   "execution_count": 66,
   "metadata": {},
   "outputs": [
    {
     "data": {
      "text/plain": [
       "array([1.        , 0.85714286, 1.        , 0.90909091, 1.        ])"
      ]
     },
     "execution_count": 66,
     "metadata": {},
     "output_type": "execute_result"
    }
   ],
   "source": [
    "clf = RandomForestClassifier(n_estimators=200, max_depth=5, max_features=0.7)\n",
    "scores = cross_val_score(clf, X_train, y_train, cv=5, scoring='f1')\n",
    "scores"
   ]
  },
  {
   "cell_type": "code",
   "execution_count": 67,
   "metadata": {},
   "outputs": [
    {
     "data": {
      "text/plain": [
       "RandomForestClassifier(bootstrap=True, ccp_alpha=0.0, class_weight=None,\n",
       "                       criterion='gini', max_depth=5, max_features=0.7,\n",
       "                       max_leaf_nodes=None, max_samples=None,\n",
       "                       min_impurity_decrease=0.0, min_impurity_split=None,\n",
       "                       min_samples_leaf=1, min_samples_split=2,\n",
       "                       min_weight_fraction_leaf=0.0, n_estimators=200,\n",
       "                       n_jobs=None, oob_score=False, random_state=None,\n",
       "                       verbose=0, warm_start=False)"
      ]
     },
     "execution_count": 67,
     "metadata": {},
     "output_type": "execute_result"
    }
   ],
   "source": [
    "clf.fit(X_train, y_train)"
   ]
  },
  {
   "cell_type": "code",
   "execution_count": 68,
   "metadata": {},
   "outputs": [
    {
     "data": {
      "text/plain": [
       "array([0.005, 0.235, 1.   , 0.64 , 1.   , 0.09 , 1.   , 1.   , 0.235,\n",
       "       0.   , 0.   , 0.93 , 1.   ])"
      ]
     },
     "execution_count": 68,
     "metadata": {},
     "output_type": "execute_result"
    }
   ],
   "source": [
    "y_pred = clf.predict_proba(X_test)\n",
    "y_scores = y_pred[:,1]\n",
    "y_scores"
   ]
  },
  {
   "cell_type": "code",
   "execution_count": 69,
   "metadata": {},
   "outputs": [
    {
     "data": {
      "text/plain": [
       "1.0"
      ]
     },
     "execution_count": 69,
     "metadata": {},
     "output_type": "execute_result"
    }
   ],
   "source": [
    "y_true = np.array(y_test)\n",
    "metrics.roc_auc_score(y_true, y_scores)"
   ]
  },
  {
   "cell_type": "markdown",
   "metadata": {},
   "source": [
    "## Проверка на другом генераторе, который модель никогда ранее не видела"
   ]
  },
  {
   "cell_type": "code",
   "execution_count": 70,
   "metadata": {},
   "outputs": [
    {
     "name": "stdout",
     "output_type": "stream",
     "text": [
      "[0.84  0.84  0.555 0.79  0.515 0.51  0.84  0.625 0.55  0.625 0.625 0.82\n",
      " 0.55  0.83  0.84  0.575 0.525 0.625 0.21  0.32  0.365 0.    0.37  0.335\n",
      " 0.    0.33  0.33  0.24  0.015 0.625 0.215 0.55  0.395 0.    0.32  0.325]\n"
     ]
    },
    {
     "data": {
      "text/plain": [
       "array([1, 1, 1, 1, 1, 1, 1, 1, 1, 1, 1, 1, 1, 1, 1, 1, 1, 1, 0, 0, 0, 0,\n",
       "       0, 0, 0, 0, 0, 0, 0, 1, 0, 1, 0, 0, 0, 0])"
      ]
     },
     "execution_count": 70,
     "metadata": {},
     "output_type": "execute_result"
    }
   ],
   "source": [
    "resulted_df_val = remain_relevant_features(features_val)\n",
    "labels_2.label = pd.to_numeric(labels_2.label)\n",
    "X_val, y_val = resulted_df_val, labels_2.label\n",
    "y_pred = clf.predict_proba(X_val)\n",
    "y_scores = y_pred[:,1]\n",
    "y_predicted_class = clf.predict(X_val)\n",
    "print(y_scores)\n",
    "y_predicted_class"
   ]
  },
  {
   "cell_type": "code",
   "execution_count": 71,
   "metadata": {},
   "outputs": [
    {
     "data": {
      "text/plain": [
       "array([1, 1, 1, 1, 1, 1, 1, 1, 1, 1, 1, 1, 1, 1, 1, 1, 1, 1, 1, 1, 0, 0,\n",
       "       0, 0, 0, 0, 0, 0, 0, 0, 0, 0, 0, 0, 0, 0])"
      ]
     },
     "execution_count": 71,
     "metadata": {},
     "output_type": "execute_result"
    }
   ],
   "source": [
    "y_true = np.array(y_val)\n",
    "y_true"
   ]
  },
  {
   "cell_type": "code",
   "execution_count": 73,
   "metadata": {},
   "outputs": [
    {
     "name": "stdout",
     "output_type": "stream",
     "text": [
      "ROC AUC score: 0.8921875000000001\n",
      "F1 score: 0.9\n",
      "Accuracy: 0.8888888888888888\n"
     ]
    }
   ],
   "source": [
    "print(\"ROC AUC score:\", metrics.roc_auc_score(y_true, y_scores))\n",
    "print(\"F1 score:\", metrics.f1_score(y_true, y_predicted_class))\n",
    "print(\"Accuracy:\", metrics.accuracy_score(y_true, y_predicted_class))"
   ]
  },
  {
   "cell_type": "markdown",
   "metadata": {},
   "source": [
    "### Градиентный бустинг"
   ]
  },
  {
   "cell_type": "code",
   "execution_count": 89,
   "metadata": {},
   "outputs": [
    {
     "data": {
      "text/plain": [
       "array([1.        , 0.85714286, 1.        , 0.90909091, 1.        ])"
      ]
     },
     "execution_count": 89,
     "metadata": {},
     "output_type": "execute_result"
    }
   ],
   "source": [
    "clf = GradientBoostingClassifier(learning_rate=0.05, random_state=42, n_estimators=60, max_depth=5)\n",
    "scores = cross_val_score(clf, X_train, y_train, cv=5, scoring='f1')\n",
    "scores"
   ]
  },
  {
   "cell_type": "code",
   "execution_count": 90,
   "metadata": {},
   "outputs": [
    {
     "data": {
      "text/plain": [
       "GradientBoostingClassifier(ccp_alpha=0.0, criterion='friedman_mse', init=None,\n",
       "                           learning_rate=0.05, loss='deviance', max_depth=5,\n",
       "                           max_features=None, max_leaf_nodes=None,\n",
       "                           min_impurity_decrease=0.0, min_impurity_split=None,\n",
       "                           min_samples_leaf=1, min_samples_split=2,\n",
       "                           min_weight_fraction_leaf=0.0, n_estimators=60,\n",
       "                           n_iter_no_change=None, presort='deprecated',\n",
       "                           random_state=42, subsample=1.0, tol=0.0001,\n",
       "                           validation_fraction=0.1, verbose=0,\n",
       "                           warm_start=False)"
      ]
     },
     "execution_count": 90,
     "metadata": {},
     "output_type": "execute_result"
    }
   ],
   "source": [
    "clf.fit(X_train, y_train)"
   ]
  },
  {
   "cell_type": "code",
   "execution_count": 91,
   "metadata": {},
   "outputs": [
    {
     "data": {
      "text/plain": [
       "array([0.02721432, 0.02721432, 0.97829055, 0.97829055, 0.97829055,\n",
       "       0.02721432, 0.97829055, 0.97829055, 0.02721432, 0.02721432,\n",
       "       0.02721432, 0.97829055, 0.97829055])"
      ]
     },
     "execution_count": 91,
     "metadata": {},
     "output_type": "execute_result"
    }
   ],
   "source": [
    "y_pred = clf.predict_proba(X_test)\n",
    "y_scores = y_pred[:,1]\n",
    "y_scores"
   ]
  },
  {
   "cell_type": "code",
   "execution_count": 92,
   "metadata": {},
   "outputs": [
    {
     "data": {
      "text/plain": [
       "1.0"
      ]
     },
     "execution_count": 92,
     "metadata": {},
     "output_type": "execute_result"
    }
   ],
   "source": [
    "y_true = np.array(y_test)\n",
    "metrics.roc_auc_score(y_true, y_scores)"
   ]
  },
  {
   "cell_type": "markdown",
   "metadata": {},
   "source": [
    "## Проверка градиентного бустинга"
   ]
  },
  {
   "cell_type": "code",
   "execution_count": 93,
   "metadata": {},
   "outputs": [
    {
     "data": {
      "text/plain": [
       "array([0.97829055, 0.97829055, 0.97829055, 0.97829055, 0.97829055,\n",
       "       0.97829055, 0.97829055, 0.97829055, 0.97829055, 0.97829055,\n",
       "       0.97829055, 0.97829055, 0.97829055, 0.97829055, 0.97829055,\n",
       "       0.97829055, 0.97829055, 0.97829055, 0.97829055, 0.97829055,\n",
       "       0.97829055, 0.02721432, 0.97829055, 0.97829055, 0.02721432,\n",
       "       0.97829055, 0.97829055, 0.97829055, 0.02721432, 0.97829055,\n",
       "       0.97829055, 0.97829055, 0.97829055, 0.02721432, 0.97829055,\n",
       "       0.97829055])"
      ]
     },
     "execution_count": 93,
     "metadata": {},
     "output_type": "execute_result"
    }
   ],
   "source": [
    "resulted_df_val = remain_relevant_features(features_val)\n",
    "labels_2.label = pd.to_numeric(labels_2.label)\n",
    "X_val, y_val = resulted_df_val, labels_2.label\n",
    "y_pred = clf.predict_proba(X_val)\n",
    "y_scores = y_pred[:,1]\n",
    "y_predicted_class = clf.predict(X_val)\n",
    "y_scores"
   ]
  },
  {
   "cell_type": "code",
   "execution_count": 94,
   "metadata": {},
   "outputs": [
    {
     "data": {
      "text/plain": [
       "array([1, 1, 1, 1, 1, 1, 1, 1, 1, 1, 1, 1, 1, 1, 1, 1, 1, 1, 1, 1, 0, 0,\n",
       "       0, 0, 0, 0, 0, 0, 0, 0, 0, 0, 0, 0, 0, 0])"
      ]
     },
     "execution_count": 94,
     "metadata": {},
     "output_type": "execute_result"
    }
   ],
   "source": [
    "y_true = np.array(y_val)\n",
    "y_true"
   ]
  },
  {
   "cell_type": "code",
   "execution_count": 95,
   "metadata": {},
   "outputs": [
    {
     "name": "stdout",
     "output_type": "stream",
     "text": [
      "ROC AUC score: 0.625\n",
      "F1 score: 0.7692307692307693\n",
      "Accuracy: 0.6666666666666666\n"
     ]
    }
   ],
   "source": [
    "print(\"ROC AUC score:\", metrics.roc_auc_score(y_true, y_scores))\n",
    "print(\"F1 score:\", metrics.f1_score(y_true, y_predicted_class))\n",
    "print(\"Accuracy:\", metrics.accuracy_score(y_true, y_predicted_class)) "
   ]
  },
  {
   "cell_type": "markdown",
   "metadata": {},
   "source": [
    "Гит комит"
   ]
  },
  {
   "cell_type": "code",
   "execution_count": 81,
   "metadata": {},
   "outputs": [
    {
     "name": "stdout",
     "output_type": "stream",
     "text": [
      "On branch master\r\n",
      "Your branch is ahead of 'origin/master' by 1 commit.\r\n",
      "  (use \"git push\" to publish your local commits)\r\n",
      "\r\n",
      "Changes not staged for commit:\r\n",
      "  (use \"git add/rm <file>...\" to update what will be committed)\r\n",
      "  (use \"git checkout -- <file>...\" to discard changes in working directory)\r\n",
      "  (commit or discard the untracked or modified content in submodules)\r\n",
      "\r\n",
      "\t\u001b[31mmodified:   Data_forming.ipynb\u001b[m\r\n",
      "\t\u001b[31mmodified:   Data_processing.ipynb\u001b[m\r\n",
      "\t\u001b[31mmodified:   data/gen_1_25/le_8/1.csv\u001b[m\r\n",
      "\t\u001b[31mmodified:   data/gen_1_25/le_8/10.csv\u001b[m\r\n",
      "\t\u001b[31mmodified:   data/gen_1_25/le_8/11.csv\u001b[m\r\n",
      "\t\u001b[31mmodified:   data/gen_1_25/le_8/12.csv\u001b[m\r\n",
      "\t\u001b[31mmodified:   data/gen_1_25/le_8/13.csv\u001b[m\r\n",
      "\t\u001b[31mmodified:   data/gen_1_25/le_8/14.csv\u001b[m\r\n",
      "\t\u001b[31mmodified:   data/gen_1_25/le_8/15.csv\u001b[m\r\n",
      "\t\u001b[31mmodified:   data/gen_1_25/le_8/16.csv\u001b[m\r\n",
      "\t\u001b[31mmodified:   data/gen_1_25/le_8/17.csv\u001b[m\r\n",
      "\t\u001b[31mmodified:   data/gen_1_25/le_8/2.csv\u001b[m\r\n",
      "\t\u001b[31mmodified:   data/gen_1_25/le_8/3.csv\u001b[m\r\n",
      "\t\u001b[31mmodified:   data/gen_1_25/le_8/4.csv\u001b[m\r\n",
      "\t\u001b[31mmodified:   data/gen_1_25/le_8/5.csv\u001b[m\r\n",
      "\t\u001b[31mmodified:   data/gen_1_25/le_8/6.csv\u001b[m\r\n",
      "\t\u001b[31mmodified:   data/gen_1_25/le_8/7.csv\u001b[m\r\n",
      "\t\u001b[31mmodified:   data/gen_1_25/le_8/8.csv\u001b[m\r\n",
      "\t\u001b[31mmodified:   data/gen_1_25/le_8/9.csv\u001b[m\r\n",
      "\t\u001b[31mmodified:   data/gen_1_25/more_8/1.csv\u001b[m\r\n",
      "\t\u001b[31mmodified:   data/gen_1_25/more_8/10.csv\u001b[m\r\n",
      "\t\u001b[31mmodified:   data/gen_1_25/more_8/11.csv\u001b[m\r\n",
      "\t\u001b[31mmodified:   data/gen_1_25/more_8/12.csv\u001b[m\r\n",
      "\t\u001b[31mmodified:   data/gen_1_25/more_8/13.csv\u001b[m\r\n",
      "\t\u001b[31mmodified:   data/gen_1_25/more_8/14.csv\u001b[m\r\n",
      "\t\u001b[31mmodified:   data/gen_1_25/more_8/15.csv\u001b[m\r\n",
      "\t\u001b[31mmodified:   data/gen_1_25/more_8/16.csv\u001b[m\r\n",
      "\t\u001b[31mmodified:   data/gen_1_25/more_8/17.csv\u001b[m\r\n",
      "\t\u001b[31mmodified:   data/gen_1_25/more_8/18.csv\u001b[m\r\n",
      "\t\u001b[31mmodified:   data/gen_1_25/more_8/19.csv\u001b[m\r\n",
      "\t\u001b[31mmodified:   data/gen_1_25/more_8/2.csv\u001b[m\r\n",
      "\t\u001b[31mmodified:   data/gen_1_25/more_8/20.csv\u001b[m\r\n",
      "\t\u001b[31mmodified:   data/gen_1_25/more_8/3.csv\u001b[m\r\n",
      "\t\u001b[31mmodified:   data/gen_1_25/more_8/4.csv\u001b[m\r\n",
      "\t\u001b[31mmodified:   data/gen_1_25/more_8/5.csv\u001b[m\r\n",
      "\t\u001b[31mmodified:   data/gen_1_25/more_8/6.csv\u001b[m\r\n",
      "\t\u001b[31mmodified:   data/gen_1_25/more_8/7.csv\u001b[m\r\n",
      "\t\u001b[31mmodified:   data/gen_1_25/more_8/8.csv\u001b[m\r\n",
      "\t\u001b[31mmodified:   data/gen_1_25/more_8/9.csv\u001b[m\r\n",
      "\t\u001b[31mmodified:   data/gen_1_80/le_8/1.csv\u001b[m\r\n",
      "\t\u001b[31mmodified:   data/gen_1_80/le_8/10.csv\u001b[m\r\n",
      "\t\u001b[31mmodified:   data/gen_1_80/le_8/11.csv\u001b[m\r\n",
      "\t\u001b[31mmodified:   data/gen_1_80/le_8/12.csv\u001b[m\r\n",
      "\t\u001b[31mmodified:   data/gen_1_80/le_8/13.csv\u001b[m\r\n",
      "\t\u001b[31mmodified:   data/gen_1_80/le_8/14.csv\u001b[m\r\n",
      "\t\u001b[31mmodified:   data/gen_1_80/le_8/15.csv\u001b[m\r\n",
      "\t\u001b[31mmodified:   data/gen_1_80/le_8/16.csv\u001b[m\r\n",
      "\t\u001b[31mmodified:   data/gen_1_80/le_8/17.csv\u001b[m\r\n",
      "\t\u001b[31mmodified:   data/gen_1_80/le_8/18.csv\u001b[m\r\n",
      "\t\u001b[31mmodified:   data/gen_1_80/le_8/2.csv\u001b[m\r\n",
      "\t\u001b[31mmodified:   data/gen_1_80/le_8/3.csv\u001b[m\r\n",
      "\t\u001b[31mmodified:   data/gen_1_80/le_8/4.csv\u001b[m\r\n",
      "\t\u001b[31mmodified:   data/gen_1_80/le_8/5.csv\u001b[m\r\n",
      "\t\u001b[31mmodified:   data/gen_1_80/le_8/6.csv\u001b[m\r\n",
      "\t\u001b[31mmodified:   data/gen_1_80/le_8/7.csv\u001b[m\r\n",
      "\t\u001b[31mmodified:   data/gen_1_80/le_8/8.csv\u001b[m\r\n",
      "\t\u001b[31mmodified:   data/gen_1_80/le_8/9.csv\u001b[m\r\n",
      "\t\u001b[31mmodified:   data/gen_1_80/more_8/1.csv\u001b[m\r\n",
      "\t\u001b[31mmodified:   data/gen_1_80/more_8/10.csv\u001b[m\r\n",
      "\t\u001b[31mmodified:   data/gen_1_80/more_8/11.csv\u001b[m\r\n",
      "\t\u001b[31mmodified:   data/gen_1_80/more_8/12.csv\u001b[m\r\n",
      "\t\u001b[31mmodified:   data/gen_1_80/more_8/13.csv\u001b[m\r\n",
      "\t\u001b[31mmodified:   data/gen_1_80/more_8/14.csv\u001b[m\r\n",
      "\t\u001b[31mmodified:   data/gen_1_80/more_8/15.csv\u001b[m\r\n",
      "\t\u001b[31mmodified:   data/gen_1_80/more_8/16.csv\u001b[m\r\n",
      "\t\u001b[31mmodified:   data/gen_1_80/more_8/17.csv\u001b[m\r\n",
      "\t\u001b[31mmodified:   data/gen_1_80/more_8/18.csv\u001b[m\r\n",
      "\t\u001b[31mmodified:   data/gen_1_80/more_8/19.csv\u001b[m\r\n",
      "\t\u001b[31mmodified:   data/gen_1_80/more_8/2.csv\u001b[m\r\n",
      "\t\u001b[31mmodified:   data/gen_1_80/more_8/3.csv\u001b[m\r\n",
      "\t\u001b[31mmodified:   data/gen_1_80/more_8/4.csv\u001b[m\r\n",
      "\t\u001b[31mmodified:   data/gen_1_80/more_8/5.csv\u001b[m\r\n",
      "\t\u001b[31mmodified:   data/gen_1_80/more_8/6.csv\u001b[m\r\n",
      "\t\u001b[31mmodified:   data/gen_1_80/more_8/7.csv\u001b[m\r\n",
      "\t\u001b[31mmodified:   data/gen_1_80/more_8/8.csv\u001b[m\r\n",
      "\t\u001b[31mmodified:   data/gen_1_80/more_8/9.csv\u001b[m\r\n",
      "\t\u001b[31mmodified:   data/gen_2_80/le_8/1.csv\u001b[m\r\n",
      "\t\u001b[31mmodified:   data/gen_2_80/le_8/11.csv\u001b[m\r\n",
      "\t\u001b[31mmodified:   data/gen_2_80/le_8/13.csv\u001b[m\r\n",
      "\t\u001b[31mmodified:   data/gen_2_80/le_8/15.csv\u001b[m\r\n",
      "\t\u001b[31mmodified:   data/gen_2_80/le_8/17.csv\u001b[m\r\n",
      "\t\u001b[31mmodified:   data/gen_2_80/le_8/19.csv\u001b[m\r\n",
      "\t\u001b[31mmodified:   data/gen_2_80/le_8/2.csv\u001b[m\r\n",
      "\t\u001b[31mmodified:   data/gen_2_80/le_8/21.csv\u001b[m\r\n",
      "\t\u001b[31mmodified:   data/gen_2_80/le_8/23.csv\u001b[m\r\n",
      "\t\u001b[31mmodified:   data/gen_2_80/le_8/24.csv\u001b[m\r\n",
      "\t\u001b[31mmodified:   data/gen_2_80/le_8/3.csv\u001b[m\r\n",
      "\t\u001b[31mmodified:   data/gen_2_80/le_8/5.csv\u001b[m\r\n",
      "\t\u001b[31mmodified:   data/gen_2_80/le_8/7.csv\u001b[m\r\n",
      "\t\u001b[31mmodified:   data/gen_2_80/le_8/9.csv\u001b[m\r\n",
      "\t\u001b[31mmodified:   data/gen_2_80/more_8/1.csv\u001b[m\r\n",
      "\t\u001b[31mmodified:   data/gen_2_80/more_8/11.csv\u001b[m\r\n",
      "\t\u001b[31mmodified:   data/gen_2_80/more_8/13.csv\u001b[m\r\n",
      "\t\u001b[31mmodified:   data/gen_2_80/more_8/15.csv\u001b[m\r\n",
      "\t\u001b[31mmodified:   data/gen_2_80/more_8/17.csv\u001b[m\r\n",
      "\t\u001b[31mmodified:   data/gen_2_80/more_8/19.csv\u001b[m\r\n",
      "\t\u001b[31mmodified:   data/gen_2_80/more_8/2.csv\u001b[m\r\n",
      "\t\u001b[31mmodified:   data/gen_2_80/more_8/21.csv\u001b[m\r\n",
      "\t\u001b[31mmodified:   data/gen_2_80/more_8/23.csv\u001b[m\r\n",
      "\t\u001b[31mmodified:   data/gen_2_80/more_8/3.csv\u001b[m\r\n",
      "\t\u001b[31mmodified:   data/gen_2_80/more_8/5.csv\u001b[m\r\n",
      "\t\u001b[31mmodified:   data/gen_2_80/more_8/7.csv\u001b[m\r\n",
      "\t\u001b[31mmodified:   data/gen_2_80/more_8/9.csv\u001b[m\r\n",
      "\t\u001b[31mdeleted:    data/gen_3_25/descr.inf.txt\u001b[m\r\n",
      "\t\u001b[31mmodified:   data/gen_3_25/le_8/1.csv\u001b[m\r\n",
      "\t\u001b[31mmodified:   data/gen_3_25/le_8/10.csv\u001b[m\r\n",
      "\t\u001b[31mmodified:   data/gen_3_25/le_8/11.csv\u001b[m\r\n",
      "\t\u001b[31mmodified:   data/gen_3_25/le_8/12.csv\u001b[m\r\n",
      "\t\u001b[31mmodified:   data/gen_3_25/le_8/2.csv\u001b[m\r\n",
      "\t\u001b[31mmodified:   data/gen_3_25/le_8/3.csv\u001b[m\r\n",
      "\t\u001b[31mmodified:   data/gen_3_25/le_8/4.csv\u001b[m\r\n",
      "\t\u001b[31mmodified:   data/gen_3_25/le_8/5.csv\u001b[m\r\n",
      "\t\u001b[31mmodified:   data/gen_3_25/le_8/6.csv\u001b[m\r\n",
      "\t\u001b[31mmodified:   data/gen_3_25/le_8/7.csv\u001b[m\r\n",
      "\t\u001b[31mmodified:   data/gen_3_25/le_8/8.csv\u001b[m\r\n",
      "\t\u001b[31mmodified:   data/gen_3_25/le_8/9.csv\u001b[m\r\n",
      "\t\u001b[31mmodified:   data/gen_3_25/more_8/1.csv\u001b[m\r\n",
      "\t\u001b[31mmodified:   data/gen_3_25/more_8/10.csv\u001b[m\r\n",
      "\t\u001b[31mmodified:   data/gen_3_25/more_8/11.csv\u001b[m\r\n",
      "\t\u001b[31mmodified:   data/gen_3_25/more_8/12.csv\u001b[m\r\n",
      "\t\u001b[31mmodified:   data/gen_3_25/more_8/13.csv\u001b[m\r\n",
      "\t\u001b[31mmodified:   data/gen_3_25/more_8/14.csv\u001b[m\r\n",
      "\t\u001b[31mmodified:   data/gen_3_25/more_8/15.csv\u001b[m\r\n",
      "\t\u001b[31mmodified:   data/gen_3_25/more_8/16.csv\u001b[m\r\n",
      "\t\u001b[31mmodified:   data/gen_3_25/more_8/2.csv\u001b[m\r\n",
      "\t\u001b[31mmodified:   data/gen_3_25/more_8/3.csv\u001b[m\r\n",
      "\t\u001b[31mmodified:   data/gen_3_25/more_8/4.csv\u001b[m\r\n",
      "\t\u001b[31mmodified:   data/gen_3_25/more_8/5.csv\u001b[m\r\n",
      "\t\u001b[31mmodified:   data/gen_3_25/more_8/6.csv\u001b[m\r\n",
      "\t\u001b[31mmodified:   data/gen_3_25/more_8/7.csv\u001b[m\r\n",
      "\t\u001b[31mmodified:   data/gen_3_25/more_8/8.csv\u001b[m\r\n",
      "\t\u001b[31mmodified:   data/gen_3_25/more_8/9.csv\u001b[m\r\n",
      "\t\u001b[31mdeleted:    data/gen_3_80/descr.inf.txt\u001b[m\r\n",
      "\t\u001b[31mmodified:   data/gen_3_80/le_8/1.csv\u001b[m\r\n",
      "\t\u001b[31mmodified:   data/gen_3_80/le_8/11.csv\u001b[m\r\n",
      "\t\u001b[31mmodified:   data/gen_3_80/le_8/13.csv\u001b[m\r\n",
      "\t\u001b[31mmodified:   data/gen_3_80/le_8/15.csv\u001b[m\r\n",
      "\t\u001b[31mmodified:   data/gen_3_80/le_8/17.csv\u001b[m\r\n",
      "\t\u001b[31mmodified:   data/gen_3_80/le_8/19.csv\u001b[m\r\n",
      "\t\u001b[31mmodified:   data/gen_3_80/le_8/2.csv\u001b[m\r\n",
      "\t\u001b[31mmodified:   data/gen_3_80/le_8/25.csv\u001b[m\r\n",
      "\t\u001b[31mmodified:   data/gen_3_80/le_8/27.csv\u001b[m\r\n",
      "\t\u001b[31mmodified:   data/gen_3_80/le_8/28.csv\u001b[m\r\n",
      "\t\u001b[31mmodified:   data/gen_3_80/le_8/29.csv\u001b[m\r\n",
      "\t\u001b[31mmodified:   data/gen_3_80/le_8/3.csv\u001b[m\r\n",
      "\t\u001b[31mmodified:   data/gen_3_80/le_8/30.csv\u001b[m\r\n",
      "\t\u001b[31mmodified:   data/gen_3_80/le_8/31.csv\u001b[m\r\n",
      "\t\u001b[31mmodified:   data/gen_3_80/le_8/4.csv\u001b[m\r\n",
      "\t\u001b[31mmodified:   data/gen_3_80/le_8/5.csv\u001b[m\r\n",
      "\t\u001b[31mmodified:   data/gen_3_80/le_8/7.csv\u001b[m\r\n",
      "\t\u001b[31mmodified:   data/gen_3_80/le_8/9.csv\u001b[m\r\n",
      "\t\u001b[31mmodified:   data/gen_3_80/more_8/1.csv\u001b[m\r\n",
      "\t\u001b[31mmodified:   data/gen_3_80/more_8/10.csv\u001b[m\r\n",
      "\t\u001b[31mmodified:   data/gen_3_80/more_8/12.csv\u001b[m\r\n",
      "\t\u001b[31mmodified:   data/gen_3_80/more_8/14.csv\u001b[m\r\n",
      "\t\u001b[31mmodified:   data/gen_3_80/more_8/16.csv\u001b[m\r\n",
      "\t\u001b[31mmodified:   data/gen_3_80/more_8/18.csv\u001b[m\r\n",
      "\t\u001b[31mmodified:   data/gen_3_80/more_8/2.csv\u001b[m\r\n",
      "\t\u001b[31mmodified:   data/gen_3_80/more_8/20.csv\u001b[m\r\n",
      "\t\u001b[31mmodified:   data/gen_3_80/more_8/22.csv\u001b[m\r\n",
      "\t\u001b[31mmodified:   data/gen_3_80/more_8/24.csv\u001b[m\r\n",
      "\t\u001b[31mmodified:   data/gen_3_80/more_8/26.csv\u001b[m\r\n",
      "\t\u001b[31mmodified:   data/gen_3_80/more_8/3.csv\u001b[m\r\n",
      "\t\u001b[31mmodified:   data/gen_3_80/more_8/4.csv\u001b[m\r\n",
      "\t\u001b[31mmodified:   data/gen_3_80/more_8/5.csv\u001b[m\r\n",
      "\t\u001b[31mmodified:   data/gen_3_80/more_8/6.csv\u001b[m\r\n",
      "\t\u001b[31mmodified:   data/gen_3_80/more_8/7.csv\u001b[m\r\n",
      "\t\u001b[31mmodified:   data/gen_3_80/more_8/8.csv\u001b[m\r\n",
      "\t\u001b[31mmodified:   data/gen_3_80/more_8/9.csv\u001b[m\r\n",
      "\t\u001b[31mmodified:   tsfresh\u001b[m (new commits, modified content, untracked content)\r\n",
      "\r\n",
      "Untracked files:\r\n",
      "  (use \"git add <file>...\" to include in what will be committed)\r\n",
      "\r\n",
      "\t\u001b[31mdata/gen_3_25/descr.inf\u001b[m\r\n",
      "\t\u001b[31mdata/gen_3_80/descr.inf\u001b[m\r\n",
      "\r\n",
      "no changes added to commit (use \"git add\" and/or \"git commit -a\")\r\n"
     ]
    },
    {
     "name": "stdout",
     "output_type": "stream",
     "text": [
      "warning: CRLF will be replaced by LF in data/gen_3_25/descr.inf.\n",
      "The file will have its original line endings in your working directory.\n",
      "warning: CRLF will be replaced by LF in data/gen_3_80/descr.inf.\n",
      "The file will have its original line endings in your working directory.\n",
      "[master 2dd83fa] Added another generator\n",
      " 170 files changed, 1994 insertions(+), 911 deletions(-)\n",
      " rewrite Data_forming.ipynb (88%)\n",
      " rename data/gen_3_25/{descr.inf.txt => descr.inf} (100%)\n",
      " rename data/gen_3_80/{descr.inf.txt => descr.inf} (100%)\n"
     ]
    }
   ],
   "source": [
    "!git status\n",
    "!git add .\n",
    "!git commit -m \"Added another generator\"\n"
   ]
  },
  {
   "cell_type": "code",
   "execution_count": null,
   "metadata": {},
   "outputs": [],
   "source": []
  }
 ],
 "metadata": {
  "kernelspec": {
   "display_name": "Python 3",
   "language": "python",
   "name": "python3"
  },
  "language_info": {
   "codemirror_mode": {
    "name": "ipython",
    "version": 3
   },
   "file_extension": ".py",
   "mimetype": "text/x-python",
   "name": "python",
   "nbconvert_exporter": "python",
   "pygments_lexer": "ipython3",
   "version": "3.7.3"
  }
 },
 "nbformat": 4,
 "nbformat_minor": 2
}
