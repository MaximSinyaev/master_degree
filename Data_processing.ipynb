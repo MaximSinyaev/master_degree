{
 "cells": [
  {
   "cell_type": "code",
   "execution_count": 286,
   "metadata": {},
   "outputs": [],
   "source": [
    "import numpy as np\n",
    "import pandas as pd\n",
    "from tsfresh import feature_extraction\n",
    "import os\n",
    "import seaborn as sns\n",
    "import re\n",
    "from collections import defaultdict"
   ]
  },
  {
   "cell_type": "code",
   "execution_count": 331,
   "metadata": {},
   "outputs": [],
   "source": [
    "from sklearn.feature_selection import SelectKBest, chi2\n",
    "from sklearn.ensemble import ExtraTreesClassifier\n",
    "import matplotlib.pyplot as plt"
   ]
  },
  {
   "cell_type": "code",
   "execution_count": 268,
   "metadata": {},
   "outputs": [],
   "source": [
    "def normalize_signal(signal):\n",
    "    \"\"\"\n",
    "    time_series\n",
    "    \n",
    "    Returns normalized TS: (TS - mean(TS))/std(TS)\n",
    "    \"\"\"\n",
    "    std = np.std(signal)\n",
    "    norm_signal = (signal - np.mean(signal)) / std if std else 1\n",
    "    return norm_signal"
   ]
  },
  {
   "cell_type": "code",
   "execution_count": 242,
   "metadata": {},
   "outputs": [],
   "source": [
    "def normalize_all_signals_in_ds(one_group_ds):\n",
    "    for signal in one_group_ds.drop('t', axis=1):\n",
    "        one_group_ds[signal] = normalize_signal(one_group_ds[signal])"
   ]
  },
  {
   "cell_type": "code",
   "execution_count": 323,
   "metadata": {},
   "outputs": [
    {
     "data": {
      "text/plain": [
       "'/Users/aolen/master_degree'"
      ]
     },
     "execution_count": 323,
     "metadata": {},
     "output_type": "execute_result"
    }
   ],
   "source": [
    "# os.chdir('..')\n",
    "os.getcwd()"
   ]
  },
  {
   "cell_type": "code",
   "execution_count": 208,
   "metadata": {},
   "outputs": [
    {
     "data": {
      "text/html": [
       "<div>\n",
       "<style scoped>\n",
       "    .dataframe tbody tr th:only-of-type {\n",
       "        vertical-align: middle;\n",
       "    }\n",
       "\n",
       "    .dataframe tbody tr th {\n",
       "        vertical-align: top;\n",
       "    }\n",
       "\n",
       "    .dataframe thead th {\n",
       "        text-align: right;\n",
       "    }\n",
       "</style>\n",
       "<table border=\"1\" class=\"dataframe\">\n",
       "  <thead>\n",
       "    <tr style=\"text-align: right;\">\n",
       "      <th></th>\n",
       "      <th>id</th>\n",
       "      <th>class</th>\n",
       "      <th>label</th>\n",
       "    </tr>\n",
       "  </thead>\n",
       "  <tbody>\n",
       "    <tr>\n",
       "      <td>0</td>\n",
       "      <td>1</td>\n",
       "      <td>2</td>\n",
       "      <td>3</td>\n",
       "    </tr>\n",
       "  </tbody>\n",
       "</table>\n",
       "</div>"
      ],
      "text/plain": [
       "  id class label\n",
       "0  1     2     3"
      ]
     },
     "execution_count": 208,
     "metadata": {},
     "output_type": "execute_result"
    }
   ],
   "source": [
    "labels = pd.DataFrame(columns=['id', 'class', 'label'])\n",
    "labels.columns\n",
    "labels.append((pd.Series( [1, 2, 3], index=labels.columns)), ignore_index=True)\n",
    "# dfObj.append(pd.Series(['Raju', 21, 'Bangalore', 'India'], index=dfObj.columns ), ignore_index=True)"
   ]
  },
  {
   "cell_type": "code",
   "execution_count": 405,
   "metadata": {},
   "outputs": [],
   "source": [
    "def append_signals_dataset(data_directory, signals_dataset = None, labels = None):\n",
    "    data_dir_list = os.listdir(data_directory)\n",
    "    os.chdir(data_directory)\n",
    "    signal_id = 0\n",
    "    if not labels:\n",
    "        labels = pd.DataFrame(columns=['id', 'class', 'label'])\n",
    "    for signal_label, directory in enumerate(data_dir_list):\n",
    "        os.chdir(directory)\n",
    "        for filename in os.listdir(os.curdir):\n",
    "            if re.match(r'(.*csv)', filename):\n",
    "                if (signals_dataset) is not None:\n",
    "                    tmp_df = pd.read_csv(filename)\n",
    "                    normalize_all_signals_in_ds(tmp_df)\n",
    "                    tmp_df['id'] = signal_id\n",
    "                    signals_dataset = signals_dataset.append(tmp_df, ignore_index=True)\n",
    "                else:\n",
    "                    signals_dataset = pd.read_csv(filename)\n",
    "                    normalize_all_signals_in_ds(signals_dataset)\n",
    "                    signals_dataset['id'] = 0\n",
    "#                 print(signals_dataset.head(5))\n",
    "                tmp_labels = pd.Series([signal_id, directory, np.int(signal_label)],\n",
    "                                         index=labels.columns)\n",
    "                labels = labels.append(tmp_labels, ignore_index=True)\n",
    "                signal_id += 1\n",
    "        os.chdir('../')\n",
    "    os.chdir('../')\n",
    "    return signals_dataset, labels"
   ]
  },
  {
   "cell_type": "code",
   "execution_count": 61,
   "metadata": {},
   "outputs": [],
   "source": [
    "ex = pd.read_csv('./data/le_8/1.csv')\n",
    "ex2 = pd.read_csv('./data/le_8/2.csv')\n",
    "ex3 = pd.read_csv('./data/more_8/2.csv')"
   ]
  },
  {
   "cell_type": "markdown",
   "metadata": {},
   "source": [
    "Data preprocessing:\n",
    "    - dropping U.1 == U\n",
    "    - changing type\n",
    "    - generating features"
   ]
  },
  {
   "cell_type": "code",
   "execution_count": 406,
   "metadata": {},
   "outputs": [],
   "source": [
    "dataset, labels = append_signals_dataset('./data')"
   ]
  },
  {
   "cell_type": "code",
   "execution_count": 410,
   "metadata": {},
   "outputs": [],
   "source": [
    "# converting data in labels dataframe\n",
    "labels.label = pd.to_numeric(labels.label)"
   ]
  },
  {
   "cell_type": "code",
   "execution_count": 415,
   "metadata": {},
   "outputs": [
    {
     "data": {
      "text/html": [
       "<div>\n",
       "<style scoped>\n",
       "    .dataframe tbody tr th:only-of-type {\n",
       "        vertical-align: middle;\n",
       "    }\n",
       "\n",
       "    .dataframe tbody tr th {\n",
       "        vertical-align: top;\n",
       "    }\n",
       "\n",
       "    .dataframe thead th {\n",
       "        text-align: right;\n",
       "    }\n",
       "</style>\n",
       "<table border=\"1\" class=\"dataframe\">\n",
       "  <thead>\n",
       "    <tr style=\"text-align: right;\">\n",
       "      <th></th>\n",
       "      <th>t</th>\n",
       "      <th>U</th>\n",
       "      <th>Pij</th>\n",
       "      <th>Pg</th>\n",
       "      <th>delta</th>\n",
       "      <th>id</th>\n",
       "      <th>class</th>\n",
       "      <th>label</th>\n",
       "    </tr>\n",
       "  </thead>\n",
       "  <tbody>\n",
       "    <tr>\n",
       "      <td>0</td>\n",
       "      <td>0.01</td>\n",
       "      <td>0.980952</td>\n",
       "      <td>-0.273585</td>\n",
       "      <td>0.657965</td>\n",
       "      <td>-0.953874</td>\n",
       "      <td>0.0</td>\n",
       "      <td>le_8</td>\n",
       "      <td>0</td>\n",
       "    </tr>\n",
       "    <tr>\n",
       "      <td>1</td>\n",
       "      <td>0.02</td>\n",
       "      <td>0.980952</td>\n",
       "      <td>-0.273585</td>\n",
       "      <td>0.657965</td>\n",
       "      <td>-0.953874</td>\n",
       "      <td>0.0</td>\n",
       "      <td>le_8</td>\n",
       "      <td>0</td>\n",
       "    </tr>\n",
       "    <tr>\n",
       "      <td>2</td>\n",
       "      <td>0.03</td>\n",
       "      <td>0.980952</td>\n",
       "      <td>-0.273585</td>\n",
       "      <td>0.657965</td>\n",
       "      <td>-0.953874</td>\n",
       "      <td>0.0</td>\n",
       "      <td>le_8</td>\n",
       "      <td>0</td>\n",
       "    </tr>\n",
       "    <tr>\n",
       "      <td>3</td>\n",
       "      <td>0.04</td>\n",
       "      <td>0.980952</td>\n",
       "      <td>-0.273585</td>\n",
       "      <td>0.657965</td>\n",
       "      <td>-0.953874</td>\n",
       "      <td>0.0</td>\n",
       "      <td>le_8</td>\n",
       "      <td>0</td>\n",
       "    </tr>\n",
       "    <tr>\n",
       "      <td>4</td>\n",
       "      <td>0.05</td>\n",
       "      <td>0.980952</td>\n",
       "      <td>-0.273585</td>\n",
       "      <td>0.657965</td>\n",
       "      <td>-0.953874</td>\n",
       "      <td>0.0</td>\n",
       "      <td>le_8</td>\n",
       "      <td>0</td>\n",
       "    </tr>\n",
       "    <tr>\n",
       "      <td>...</td>\n",
       "      <td>...</td>\n",
       "      <td>...</td>\n",
       "      <td>...</td>\n",
       "      <td>...</td>\n",
       "      <td>...</td>\n",
       "      <td>...</td>\n",
       "      <td>...</td>\n",
       "      <td>...</td>\n",
       "    </tr>\n",
       "    <tr>\n",
       "      <td>7432</td>\n",
       "      <td>1.96</td>\n",
       "      <td>-1.107748</td>\n",
       "      <td>0.546772</td>\n",
       "      <td>0.863101</td>\n",
       "      <td>1.072291</td>\n",
       "      <td>36.0</td>\n",
       "      <td>more_8</td>\n",
       "      <td>1</td>\n",
       "    </tr>\n",
       "    <tr>\n",
       "      <td>7433</td>\n",
       "      <td>1.97</td>\n",
       "      <td>-1.094790</td>\n",
       "      <td>0.547869</td>\n",
       "      <td>0.862314</td>\n",
       "      <td>1.064166</td>\n",
       "      <td>36.0</td>\n",
       "      <td>more_8</td>\n",
       "      <td>1</td>\n",
       "    </tr>\n",
       "    <tr>\n",
       "      <td>7434</td>\n",
       "      <td>1.98</td>\n",
       "      <td>-1.088311</td>\n",
       "      <td>0.549333</td>\n",
       "      <td>0.861527</td>\n",
       "      <td>1.056041</td>\n",
       "      <td>36.0</td>\n",
       "      <td>more_8</td>\n",
       "      <td>1</td>\n",
       "    </tr>\n",
       "    <tr>\n",
       "      <td>7435</td>\n",
       "      <td>1.99</td>\n",
       "      <td>-1.075353</td>\n",
       "      <td>0.550431</td>\n",
       "      <td>0.860739</td>\n",
       "      <td>1.046562</td>\n",
       "      <td>36.0</td>\n",
       "      <td>more_8</td>\n",
       "      <td>1</td>\n",
       "    </tr>\n",
       "    <tr>\n",
       "      <td>7436</td>\n",
       "      <td>2.00</td>\n",
       "      <td>-1.068873</td>\n",
       "      <td>0.551894</td>\n",
       "      <td>0.859952</td>\n",
       "      <td>1.037760</td>\n",
       "      <td>36.0</td>\n",
       "      <td>more_8</td>\n",
       "      <td>1</td>\n",
       "    </tr>\n",
       "  </tbody>\n",
       "</table>\n",
       "<p>7437 rows × 8 columns</p>\n",
       "</div>"
      ],
      "text/plain": [
       "         t         U       Pij        Pg     delta    id   class  label\n",
       "0     0.01  0.980952 -0.273585  0.657965 -0.953874   0.0    le_8      0\n",
       "1     0.02  0.980952 -0.273585  0.657965 -0.953874   0.0    le_8      0\n",
       "2     0.03  0.980952 -0.273585  0.657965 -0.953874   0.0    le_8      0\n",
       "3     0.04  0.980952 -0.273585  0.657965 -0.953874   0.0    le_8      0\n",
       "4     0.05  0.980952 -0.273585  0.657965 -0.953874   0.0    le_8      0\n",
       "...    ...       ...       ...       ...       ...   ...     ...    ...\n",
       "7432  1.96 -1.107748  0.546772  0.863101  1.072291  36.0  more_8      1\n",
       "7433  1.97 -1.094790  0.547869  0.862314  1.064166  36.0  more_8      1\n",
       "7434  1.98 -1.088311  0.549333  0.861527  1.056041  36.0  more_8      1\n",
       "7435  1.99 -1.075353  0.550431  0.860739  1.046562  36.0  more_8      1\n",
       "7436  2.00 -1.068873  0.551894  0.859952  1.037760  36.0  more_8      1\n",
       "\n",
       "[7437 rows x 8 columns]"
      ]
     },
     "execution_count": 415,
     "metadata": {},
     "output_type": "execute_result"
    }
   ],
   "source": [
    "# Check if data merging with labels\n",
    "mod_dataset = dataset.drop(['U.1', 'Pgt'], axis=1)\n",
    "mod_dataset.merge(labels, on='id')"
   ]
  },
  {
   "cell_type": "code",
   "execution_count": 241,
   "metadata": {},
   "outputs": [
    {
     "data": {
      "text/plain": [
       "count    7437.000000\n",
       "mean       36.000000\n",
       "std        21.355592\n",
       "min         0.000000\n",
       "25%        18.000000\n",
       "50%        36.000000\n",
       "75%        54.000000\n",
       "max        72.000000\n",
       "Name: id, dtype: float64"
      ]
     },
     "execution_count": 241,
     "metadata": {},
     "output_type": "execute_result"
    }
   ],
   "source": [
    "dataset.id.describe()"
   ]
  },
  {
   "cell_type": "code",
   "execution_count": 418,
   "metadata": {},
   "outputs": [
    {
     "name": "stderr",
     "output_type": "stream",
     "text": [
      "Feature Extraction: 100%|██████████| 10/10 [00:02<00:00,  3.43it/s]\n",
      "Feature Extraction: 100%|██████████| 10/10 [00:03<00:00,  2.94it/s]\n",
      "Feature Extraction: 100%|██████████| 10/10 [00:03<00:00,  3.25it/s]\n",
      "Feature Extraction: 100%|██████████| 10/10 [00:02<00:00,  3.51it/s]\n"
     ]
    }
   ],
   "source": [
    "features = defaultdict()\n",
    "for param in mod_dataset.loc[:,'U':'delta']:\n",
    "    features[param] = feature_extraction.extract_features\\\n",
    "    (dataset.loc[:,[param,'id','t']], column_sort='t', column_id='id')"
   ]
  },
  {
   "cell_type": "markdown",
   "metadata": {},
   "source": [
    "### После обработки каждого сигнала библиотекой tsfresh извлекаем всевозможные признаки, признаки классифицированы по сигналу, из которого были получены (словарь features)\n",
    "В конечном счете для каждого сигнала сформирован следующий набор данных:"
   ]
  },
  {
   "cell_type": "code",
   "execution_count": 421,
   "metadata": {},
   "outputs": [
    {
     "name": "stdout",
     "output_type": "stream",
     "text": [
      "Для параметра U получено 754 признака(ов).\n",
      "Для параметра Pij получено 754 признака(ов).\n",
      "Для параметра Pg получено 754 признака(ов).\n",
      "Для параметра delta получено 754 признака(ов).\n"
     ]
    }
   ],
   "source": [
    "for param in features:\n",
    "    print(\"Для параметра\", param, \"получено\", features[param].shape[1], \"признака(ов).\")"
   ]
  },
  {
   "cell_type": "code",
   "execution_count": 447,
   "metadata": {},
   "outputs": [
    {
     "data": {
      "text/plain": [
       "Float64Index([ 0.0,  1.0,  2.0,  3.0,  4.0,  5.0,  6.0,  7.0,  8.0,  9.0, 10.0,\n",
       "              11.0, 12.0, 13.0, 14.0, 15.0, 16.0, 17.0, 18.0, 19.0, 20.0, 21.0,\n",
       "              22.0, 23.0, 24.0, 25.0, 26.0, 27.0, 28.0, 29.0, 30.0, 31.0, 32.0,\n",
       "              33.0, 34.0, 35.0, 36.0],\n",
       "             dtype='float64', name='id')"
      ]
     },
     "execution_count": 447,
     "metadata": {},
     "output_type": "execute_result"
    }
   ],
   "source": [
    "# Пример хранящихся признаков\n",
    "features['U'].index"
   ]
  },
  {
   "cell_type": "markdown",
   "metadata": {},
   "source": [
    "## Поиск наиболее важных признаков, которые позволят предсказывать результат переходного процесса"
   ]
  },
  {
   "cell_type": "code",
   "execution_count": 425,
   "metadata": {},
   "outputs": [],
   "source": [
    "# Удаляем фичи количество признаков в которых меньше количества классов\n",
    "def clear_useless_features(features, threshold=2):\n",
    "    for feature in features.columns:\n",
    "        if features[feature].nunique() <= threshold:\n",
    "            features = features.drop(feature, axis=1)\n",
    "    return features"
   ]
  },
  {
   "cell_type": "code",
   "execution_count": 427,
   "metadata": {},
   "outputs": [
    {
     "name": "stdout",
     "output_type": "stream",
     "text": [
      "Число удаленных признаков для U: 72\n",
      "Число удаленных признаков для Pij: 72\n",
      "Число удаленных признаков для Pg: 68\n",
      "Число удаленных признаков для delta: 70\n"
     ]
    }
   ],
   "source": [
    "modified_features = defaultdict()\n",
    "for param in features:\n",
    "    modified_features[param] = clear_useless_features(features[param],\n",
    "                                                     labels.label.nunique())\n",
    "    print(f\"Число удаленных признаков для {param}:\",\n",
    "          features[param].shape[1] - modified_features[param].shape[1])"
   ]
  },
  {
   "cell_type": "markdown",
   "metadata": {},
   "source": [
    "Поиск признаков, имеющих наибольшую корреляцию с целевой переменной sklearn (Только для регресии и неотрицательных признаков)"
   ]
  },
  {
   "cell_type": "code",
   "execution_count": 428,
   "metadata": {},
   "outputs": [],
   "source": [
    "def delete_negative_features(X):\n",
    "    for i in X.columns:\n",
    "        if X[i].min() < 0:\n",
    "            X = X.drop(i, axis=1)\n",
    "    return X"
   ]
  },
  {
   "cell_type": "code",
   "execution_count": 365,
   "metadata": {},
   "outputs": [],
   "source": [
    "X = delete_negative_features(modified_features['U'])\n",
    "Y = labels.label\n",
    "# bestfeatures = SelectKBest(score_func=chi2, k=10)\n",
    "# fit = bestfeatures.fit(X, labels.label)\n",
    "# dfscores = pd.DataFrame(fit.scores_)\n",
    "# dfcolumns = pd.DataFrame(X.columns)\n",
    "# featureScores = pd.concat([dfcolumns,dfscores],axis=1)\n",
    "# featureScores.columns = ['Specs','Score']  #naming the dataframe columns\n",
    "# print(featureScores.nlargest(10,'Score'))"
   ]
  },
  {
   "cell_type": "markdown",
   "metadata": {},
   "source": [
    "Использование дерева для поиска фич"
   ]
  },
  {
   "cell_type": "code",
   "execution_count": 435,
   "metadata": {},
   "outputs": [],
   "source": [
    "def plot_features(X, Y):\n",
    "#     X = modified_features['U']\n",
    "#     y = labels.label\n",
    "    model = ExtraTreesClassifier(n_estimators=100)\n",
    "    model.fit(X,y)\n",
    "#     print(model.feature_importances_) #use inbuilt class feature_importances of tree based classifiers\n",
    "    #plot graph of feature importances for better visualization\n",
    "    feat_importances = pd.Series(model.feature_importances_, index=X.columns)\n",
    "    feat_importances.nlargest(10).plot(kind='barh')\n",
    "    plt.show()"
   ]
  },
  {
   "cell_type": "code",
   "execution_count": 437,
   "metadata": {},
   "outputs": [
    {
     "data": {
      "image/png": "[encoded data removed]",
      "text/plain": [
       "<Figure size 432x288 with 1 Axes>"
      ]
     },
     "metadata": {
      "needs_background": "light"
     },
     "output_type": "display_data"
    },
    {
     "data": {
      "image/png": "[encoded data removed]",
      "text/plain": [
       "<Figure size 432x288 with 1 Axes>"
      ]
     },
     "metadata": {
      "needs_background": "light"
     },
     "output_type": "display_data"
    },
    {
     "data": {
      "image/png": "[encoded data removed]",
      "text/plain": [
       "<Figure size 432x288 with 1 Axes>"
      ]
     },
     "metadata": {
      "needs_background": "light"
     },
     "output_type": "display_data"
    },
    {
     "data": {
      "image/png": "[encoded data removed]",
      "text/plain": [
       "<Figure size 432x288 with 1 Axes>"
      ]
     },
     "metadata": {
      "needs_background": "light"
     },
     "output_type": "display_data"
    }
   ],
   "source": [
    "for param in features:\n",
    "    plot_features(modified_features[param], labels.label)"
   ]
  },
  {
   "cell_type": "markdown",
   "metadata": {},
   "source": [
    "Построим тепловую карту фич, взятых из предыдущего шага"
   ]
  },
  {
   "cell_type": "code",
   "execution_count": null,
   "metadata": {},
   "outputs": [],
   "source": [
    "# data = features['U'].iloc[:,0:50].join(labels.loc[:,['label']], on='id')"
   ]
  },
  {
   "cell_type": "code",
   "execution_count": null,
   "metadata": {},
   "outputs": [],
   "source": [
    "## get correlations of each features in dataset\n",
    "# data = features['U'].join(labels.loc[:,['id', 'label']])\n",
    "corrmat = data.corr()\n",
    "top_corr_features = corrmat.index\n",
    "plt.figure(figsize=(20,20))\n",
    "#plot heat map\n",
    "g=sns.heatmap(data[top_corr_features].corr(),annot=True,cmap=\"RdYlGn\")"
   ]
  },
  {
   "cell_type": "code",
   "execution_count": null,
   "metadata": {},
   "outputs": [],
   "source": []
  },
  {
   "cell_type": "code",
   "execution_count": null,
   "metadata": {},
   "outputs": [
    {
     "name": "stdout",
     "output_type": "stream",
     "text": [
      "error: key does not contain a section: name\n",
      "error: key does not contain a section: email\n",
      "On branch master\n",
      "Your branch is up-to-date with 'origin/master'.\n",
      "\n",
      "Changes not staged for commit:\n",
      "  (use \"git add/rm <file>...\" to update what will be committed)\n",
      "  (use \"git checkout -- <file>...\" to discard changes in working directory)\n",
      "\n",
      "\t\u001b[31mdeleted:    Data_preprocessing.ipynb\u001b[m\n",
      "\n",
      "Untracked files:\n",
      "  (use \"git add <file>...\" to include in what will be committed)\n",
      "\n",
      "\t\u001b[31mData_forming.ipynb\u001b[m\n",
      "\t\u001b[31mData_processing.ipynb\u001b[m\n",
      "\t\u001b[31mtsfresh/\u001b[m\n",
      "\n",
      "no changes added to commit (use \"git add\" and/or \"git commit -a\")\n",
      "error: key does not contain a section: name\n",
      "error: key does not contain a section: email\n",
      "warning: adding embedded git repository: tsfresh\n",
      "hint: You've added another git repository inside your current repository.\n",
      "hint: Clones of the outer repository will not contain the contents of\n",
      "hint: the embedded repository and will not know how to obtain it.\n",
      "hint: If you meant to add a submodule, use:\n",
      "hint: \n",
      "hint: \tgit submodule add <url> tsfresh\n",
      "hint: \n",
      "hint: If you added this path by mistake, you can remove it from the\n",
      "hint: index with:\n",
      "hint: \n",
      "hint: \tgit rm --cached tsfresh\n",
      "hint: \n",
      "hint: See \"git help submodule\" for more information.\n",
      "error: key does not contain a section: name\n",
      "error: key does not contain a section: email\n",
      "[master 2e31e4d] feature extraction added\n",
      " 3 files changed, 834 insertions(+), 22 deletions(-)\n",
      " rename Data_preprocessing.ipynb => Data_forming.ipynb (97%)\n",
      " create mode 100644 Data_processing.ipynb\n",
      " create mode 160000 tsfresh\n",
      "error: key does not contain a section: name\n",
      "error: key does not contain a section: email\n",
      "Enter passphrase for key '/Users/aolen/.ssh/id_rsa': "
     ]
    }
   ],
   "source": [
    "!git status\n",
    "!git add .\n",
    "!git commit -m \"feature extraction added\"\n",
    "!git push"
   ]
  }
 ],
 "metadata": {
  "kernelspec": {
   "display_name": "Python 3",
   "language": "python",
   "name": "python3"
  },
  "language_info": {
   "codemirror_mode": {
    "name": "ipython",
    "version": 3
   },
   "file_extension": ".py",
   "mimetype": "text/x-python",
   "name": "python",
   "nbconvert_exporter": "python",
   "pygments_lexer": "ipython3",
   "version": "3.7.4"
  }
 },
 "nbformat": 4,
 "nbformat_minor": 2
}
