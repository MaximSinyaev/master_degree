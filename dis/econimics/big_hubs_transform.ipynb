{
 "cells": [
  {
   "cell_type": "code",
   "execution_count": 36,
   "metadata": {},
   "outputs": [],
   "source": [
    "import pandas as pd\n",
    "import re"
   ]
  },
  {
   "cell_type": "code",
   "execution_count": null,
   "metadata": {},
   "outputs": [],
   "source": [
    "nsk_hub_statistics = dict()"
   ]
  },
  {
   "cell_type": "code",
   "execution_count": 86,
   "metadata": {},
   "outputs": [],
   "source": [
    "dir_path = 'sib_big_nodes/'\n",
    "target_dir = 'hub_statistics/'\n",
    "cols = ['Номер узла', 'Наименование узла', 'Uном, кВ', 'Субъект РФ', 'Цена, руб', 'hour']\n",
    "new_cols = ['node', 'node_name','current', 'subject', 'cost', 'hour']\n",
    "EXPR = r'\\d+'"
   ]
  },
  {
   "cell_type": "code",
   "execution_count": 7,
   "metadata": {},
   "outputs": [],
   "source": [
    "df = pd.read_excel('sib_big_nodes/20190710_sib_big_nodes_prices_pub.xls',\n",
    "                   skiprows=2,\n",
    "                   usecols=range(5)\n",
    "                  )"
   ]
  },
  {
   "cell_type": "code",
   "execution_count": 21,
   "metadata": {},
   "outputs": [
    {
     "data": {
      "text/plain": [
       "['Номер узла', 'Наименование узла', 'Uном, кВ', 'Субъект РФ', 'Цена, руб']"
      ]
     },
     "execution_count": 21,
     "metadata": {},
     "output_type": "execute_result"
    }
   ],
   "source": [
    "list(df.columns)"
   ]
  },
  {
   "cell_type": "code",
   "execution_count": 8,
   "metadata": {},
   "outputs": [
    {
     "data": {
      "text/html": [
       "<div>\n",
       "<style scoped>\n",
       "    .dataframe tbody tr th:only-of-type {\n",
       "        vertical-align: middle;\n",
       "    }\n",
       "\n",
       "    .dataframe tbody tr th {\n",
       "        vertical-align: top;\n",
       "    }\n",
       "\n",
       "    .dataframe thead th {\n",
       "        text-align: right;\n",
       "    }\n",
       "</style>\n",
       "<table border=\"1\" class=\"dataframe\">\n",
       "  <thead>\n",
       "    <tr style=\"text-align: right;\">\n",
       "      <th></th>\n",
       "      <th>Номер узла</th>\n",
       "      <th>Наименование узла</th>\n",
       "      <th>Uном, кВ</th>\n",
       "      <th>Субъект РФ</th>\n",
       "      <th>Цена, руб</th>\n",
       "    </tr>\n",
       "  </thead>\n",
       "  <tbody>\n",
       "    <tr>\n",
       "      <th>0</th>\n",
       "      <td>100001</td>\n",
       "      <td>Асбест</td>\n",
       "      <td>115.0</td>\n",
       "      <td>Свердловская область</td>\n",
       "      <td>874.5021</td>\n",
       "    </tr>\n",
       "    <tr>\n",
       "      <th>1</th>\n",
       "      <td>100002</td>\n",
       "      <td>БАЭС</td>\n",
       "      <td>115.0</td>\n",
       "      <td>Свердловская область</td>\n",
       "      <td>874.1677</td>\n",
       "    </tr>\n",
       "    <tr>\n",
       "      <th>2</th>\n",
       "      <td>100003</td>\n",
       "      <td>Травянская</td>\n",
       "      <td>230.0</td>\n",
       "      <td>Свердловская область</td>\n",
       "      <td>889.5337</td>\n",
       "    </tr>\n",
       "    <tr>\n",
       "      <th>3</th>\n",
       "      <td>100004</td>\n",
       "      <td>Первоуральская</td>\n",
       "      <td>115.0</td>\n",
       "      <td>Свердловская область</td>\n",
       "      <td>909.1945</td>\n",
       "    </tr>\n",
       "    <tr>\n",
       "      <th>4</th>\n",
       "      <td>100005</td>\n",
       "      <td>Хромпик</td>\n",
       "      <td>115.0</td>\n",
       "      <td>Свердловская область</td>\n",
       "      <td>911.7353</td>\n",
       "    </tr>\n",
       "  </tbody>\n",
       "</table>\n",
       "</div>"
      ],
      "text/plain": [
       "   Номер узла Наименование узла  Uном, кВ            Субъект РФ  Цена, руб\n",
       "0      100001           Асбест      115.0  Свердловская область   874.5021\n",
       "1      100002             БАЭС      115.0  Свердловская область   874.1677\n",
       "2      100003       Травянская      230.0  Свердловская область   889.5337\n",
       "3      100004    Первоуральская     115.0  Свердловская область   909.1945\n",
       "4      100005          Хромпик      115.0  Свердловская область   911.7353"
      ]
     },
     "execution_count": 8,
     "metadata": {},
     "output_type": "execute_result"
    }
   ],
   "source": [
    "df.head()"
   ]
  },
  {
   "cell_type": "code",
   "execution_count": 18,
   "metadata": {},
   "outputs": [],
   "source": [
    "mask = (df['Субъект РФ'] == 'Новосибирская область')"
   ]
  },
  {
   "cell_type": "code",
   "execution_count": 19,
   "metadata": {},
   "outputs": [
    {
     "data": {
      "text/html": [
       "<div>\n",
       "<style scoped>\n",
       "    .dataframe tbody tr th:only-of-type {\n",
       "        vertical-align: middle;\n",
       "    }\n",
       "\n",
       "    .dataframe tbody tr th {\n",
       "        vertical-align: top;\n",
       "    }\n",
       "\n",
       "    .dataframe thead th {\n",
       "        text-align: right;\n",
       "    }\n",
       "</style>\n",
       "<table border=\"1\" class=\"dataframe\">\n",
       "  <thead>\n",
       "    <tr style=\"text-align: right;\">\n",
       "      <th></th>\n",
       "      <th>Номер узла</th>\n",
       "      <th>Наименование узла</th>\n",
       "      <th>Uном, кВ</th>\n",
       "      <th>Субъект РФ</th>\n",
       "      <th>Цена, руб</th>\n",
       "    </tr>\n",
       "  </thead>\n",
       "  <tbody>\n",
       "    <tr>\n",
       "      <th>6458</th>\n",
       "      <td>1000600</td>\n",
       "      <td>Заря-АТ1</td>\n",
       "      <td>510.0</td>\n",
       "      <td>Новосибирская область</td>\n",
       "      <td>819.14606</td>\n",
       "    </tr>\n",
       "    <tr>\n",
       "      <th>6459</th>\n",
       "      <td>1000601</td>\n",
       "      <td>Заря-АТ2</td>\n",
       "      <td>510.0</td>\n",
       "      <td>Новосибирская область</td>\n",
       "      <td>819.20720</td>\n",
       "    </tr>\n",
       "    <tr>\n",
       "      <th>6460</th>\n",
       "      <td>1000602</td>\n",
       "      <td>НТЭЦ-5 (3Г)_шгн</td>\n",
       "      <td>16.0</td>\n",
       "      <td>Новосибирская область</td>\n",
       "      <td>819.30670</td>\n",
       "    </tr>\n",
       "    <tr>\n",
       "      <th>6461</th>\n",
       "      <td>1000603</td>\n",
       "      <td>НТЭЦ-5 (4Г)_шгн</td>\n",
       "      <td>16.0</td>\n",
       "      <td>Новосибирская область</td>\n",
       "      <td>819.30707</td>\n",
       "    </tr>\n",
       "    <tr>\n",
       "      <th>6462</th>\n",
       "      <td>1000607</td>\n",
       "      <td>Ордынская</td>\n",
       "      <td>110.0</td>\n",
       "      <td>Новосибирская область</td>\n",
       "      <td>820.70020</td>\n",
       "    </tr>\n",
       "    <tr>\n",
       "      <th>...</th>\n",
       "      <td>...</td>\n",
       "      <td>...</td>\n",
       "      <td>...</td>\n",
       "      <td>...</td>\n",
       "      <td>...</td>\n",
       "    </tr>\n",
       "    <tr>\n",
       "      <th>6523</th>\n",
       "      <td>1000690</td>\n",
       "      <td>Татарская АТ1</td>\n",
       "      <td>220.0</td>\n",
       "      <td>Новосибирская область</td>\n",
       "      <td>872.69460</td>\n",
       "    </tr>\n",
       "    <tr>\n",
       "      <th>6524</th>\n",
       "      <td>1000691</td>\n",
       "      <td>Мостовая-110</td>\n",
       "      <td>110.0</td>\n",
       "      <td>Новосибирская область</td>\n",
       "      <td>818.73760</td>\n",
       "    </tr>\n",
       "    <tr>\n",
       "      <th>6525</th>\n",
       "      <td>1000692</td>\n",
       "      <td>Татарская АТ2</td>\n",
       "      <td>220.0</td>\n",
       "      <td>Новосибирская область</td>\n",
       "      <td>872.29236</td>\n",
       "    </tr>\n",
       "    <tr>\n",
       "      <th>6526</th>\n",
       "      <td>1000693</td>\n",
       "      <td>Кировская-110</td>\n",
       "      <td>110.0</td>\n",
       "      <td>Новосибирская область</td>\n",
       "      <td>818.46170</td>\n",
       "    </tr>\n",
       "    <tr>\n",
       "      <th>6527</th>\n",
       "      <td>1000694</td>\n",
       "      <td>Барабинская-500</td>\n",
       "      <td>500.0</td>\n",
       "      <td>Новосибирская область</td>\n",
       "      <td>836.87240</td>\n",
       "    </tr>\n",
       "  </tbody>\n",
       "</table>\n",
       "<p>70 rows × 5 columns</p>\n",
       "</div>"
      ],
      "text/plain": [
       "      Номер узла Наименование узла  Uном, кВ             Субъект РФ  Цена, руб\n",
       "6458     1000600          Заря-АТ1     510.0  Новосибирская область  819.14606\n",
       "6459     1000601          Заря-АТ2     510.0  Новосибирская область  819.20720\n",
       "6460     1000602   НТЭЦ-5 (3Г)_шгн      16.0  Новосибирская область  819.30670\n",
       "6461     1000603   НТЭЦ-5 (4Г)_шгн      16.0  Новосибирская область  819.30707\n",
       "6462     1000607         Ордынская     110.0  Новосибирская область  820.70020\n",
       "...          ...               ...       ...                    ...        ...\n",
       "6523     1000690     Татарская АТ1     220.0  Новосибирская область  872.69460\n",
       "6524     1000691      Мостовая-110     110.0  Новосибирская область  818.73760\n",
       "6525     1000692     Татарская АТ2     220.0  Новосибирская область  872.29236\n",
       "6526     1000693     Кировская-110     110.0  Новосибирская область  818.46170\n",
       "6527     1000694   Барабинская-500     500.0  Новосибирская область  836.87240\n",
       "\n",
       "[70 rows x 5 columns]"
      ]
     },
     "execution_count": 19,
     "metadata": {},
     "output_type": "execute_result"
    }
   ],
   "source": [
    "df[mask] "
   ]
  },
  {
   "cell_type": "markdown",
   "metadata": {},
   "source": [
    "## Taking info from full statistic for 20190710 (summer)"
   ]
  },
  {
   "cell_type": "code",
   "execution_count": 88,
   "metadata": {},
   "outputs": [],
   "source": [
    "season = 'summer'\n",
    "filename = dir_path + '20190710_sib_big_nodes_prices_pub.xls'\n",
    "nsk_hub_statistics[season] = pd.DataFrame(columns=cols)"
   ]
  },
  {
   "cell_type": "code",
   "execution_count": 89,
   "metadata": {
    "scrolled": true
   },
   "outputs": [
    {
     "name": "stdout",
     "output_type": "stream",
     "text": [
      "CPU times: user 2min 55s, sys: 764 ms, total: 2min 56s\n",
      "Wall time: 2min 56s\n"
     ]
    }
   ],
   "source": [
    "%%time\n",
    "for i in range(24):\n",
    "    sheet = pd.read_excel(filename,\n",
    "                          skiprows=2,\n",
    "                          usecols=range(5),\n",
    "                          sheet_name=i\n",
    "             )\n",
    "    mask = (sheet['Субъект РФ'] == 'Новосибирская область')\n",
    "    nsk_hub_statistics[season] = pd.concat([nsk_hub_statistics[season],\n",
    "                                            sheet[mask]],\n",
    "                                           ignore_index=True)\n",
    "    nsk_hub_statistics[season].fillna(i, inplace=True)\n",
    "    del sheet"
   ]
  },
  {
   "cell_type": "code",
   "execution_count": 90,
   "metadata": {
    "scrolled": true
   },
   "outputs": [
    {
     "data": {
      "text/html": [
       "<div>\n",
       "<style scoped>\n",
       "    .dataframe tbody tr th:only-of-type {\n",
       "        vertical-align: middle;\n",
       "    }\n",
       "\n",
       "    .dataframe tbody tr th {\n",
       "        vertical-align: top;\n",
       "    }\n",
       "\n",
       "    .dataframe thead th {\n",
       "        text-align: right;\n",
       "    }\n",
       "</style>\n",
       "<table border=\"1\" class=\"dataframe\">\n",
       "  <thead>\n",
       "    <tr style=\"text-align: right;\">\n",
       "      <th></th>\n",
       "      <th>Номер узла</th>\n",
       "      <th>Наименование узла</th>\n",
       "      <th>Uном, кВ</th>\n",
       "      <th>Субъект РФ</th>\n",
       "      <th>Цена, руб</th>\n",
       "      <th>hour</th>\n",
       "    </tr>\n",
       "  </thead>\n",
       "  <tbody>\n",
       "    <tr>\n",
       "      <th>0</th>\n",
       "      <td>1000600</td>\n",
       "      <td>Заря-АТ1</td>\n",
       "      <td>510.0</td>\n",
       "      <td>Новосибирская область</td>\n",
       "      <td>819.14606</td>\n",
       "      <td>0.0</td>\n",
       "    </tr>\n",
       "    <tr>\n",
       "      <th>1</th>\n",
       "      <td>1000601</td>\n",
       "      <td>Заря-АТ2</td>\n",
       "      <td>510.0</td>\n",
       "      <td>Новосибирская область</td>\n",
       "      <td>819.20720</td>\n",
       "      <td>0.0</td>\n",
       "    </tr>\n",
       "    <tr>\n",
       "      <th>2</th>\n",
       "      <td>1000602</td>\n",
       "      <td>НТЭЦ-5 (3Г)_шгн</td>\n",
       "      <td>16.0</td>\n",
       "      <td>Новосибирская область</td>\n",
       "      <td>819.30670</td>\n",
       "      <td>0.0</td>\n",
       "    </tr>\n",
       "    <tr>\n",
       "      <th>3</th>\n",
       "      <td>1000603</td>\n",
       "      <td>НТЭЦ-5 (4Г)_шгн</td>\n",
       "      <td>16.0</td>\n",
       "      <td>Новосибирская область</td>\n",
       "      <td>819.30707</td>\n",
       "      <td>0.0</td>\n",
       "    </tr>\n",
       "    <tr>\n",
       "      <th>4</th>\n",
       "      <td>1000607</td>\n",
       "      <td>Ордынская</td>\n",
       "      <td>110.0</td>\n",
       "      <td>Новосибирская область</td>\n",
       "      <td>820.70020</td>\n",
       "      <td>0.0</td>\n",
       "    </tr>\n",
       "  </tbody>\n",
       "</table>\n",
       "</div>"
      ],
      "text/plain": [
       "   Номер узла Наименование узла  Uном, кВ             Субъект РФ  Цена, руб  \\\n",
       "0     1000600          Заря-АТ1     510.0  Новосибирская область  819.14606   \n",
       "1     1000601          Заря-АТ2     510.0  Новосибирская область  819.20720   \n",
       "2     1000602   НТЭЦ-5 (3Г)_шгн      16.0  Новосибирская область  819.30670   \n",
       "3     1000603   НТЭЦ-5 (4Г)_шгн      16.0  Новосибирская область  819.30707   \n",
       "4     1000607         Ордынская     110.0  Новосибирская область  820.70020   \n",
       "\n",
       "   hour  \n",
       "0   0.0  \n",
       "1   0.0  \n",
       "2   0.0  \n",
       "3   0.0  \n",
       "4   0.0  "
      ]
     },
     "execution_count": 90,
     "metadata": {},
     "output_type": "execute_result"
    }
   ],
   "source": [
    "nsk_hub_statistics[season].head()"
   ]
  },
  {
   "cell_type": "code",
   "execution_count": 91,
   "metadata": {},
   "outputs": [],
   "source": [
    "date = re.findall(EXPR, filename)[0]\n",
    "nsk_hub_statistics[season].columns = new_cols\n",
    "nsk_hub_statistics[season].to_excel(target_dir + \\\n",
    "                                    f'hub_statistics_{date}.xls',\n",
    "                                   index=False)"
   ]
  },
  {
   "cell_type": "markdown",
   "metadata": {},
   "source": [
    "## Taking info from full statistic for 20191016 (autumn)"
   ]
  },
  {
   "cell_type": "code",
   "execution_count": 92,
   "metadata": {},
   "outputs": [],
   "source": [
    "season = 'autumn'\n",
    "filename = dir_path + '20191016_sib_big_nodes_prices_pub.xls'\n",
    "nsk_hub_statistics[season] = pd.DataFrame(columns=cols)"
   ]
  },
  {
   "cell_type": "code",
   "execution_count": 93,
   "metadata": {
    "scrolled": true
   },
   "outputs": [
    {
     "name": "stdout",
     "output_type": "stream",
     "text": [
      "CPU times: user 3min, sys: 728 ms, total: 3min 1s\n",
      "Wall time: 3min 1s\n"
     ]
    }
   ],
   "source": [
    "%%time\n",
    "for i in range(24):\n",
    "    sheet = pd.read_excel(filename,\n",
    "                          skiprows=2,\n",
    "                          usecols=range(5),\n",
    "                          sheet_name=i\n",
    "             )\n",
    "    mask = (sheet['Субъект РФ'] == 'Новосибирская область')\n",
    "    nsk_hub_statistics[season] = pd.concat([nsk_hub_statistics[season],\n",
    "                                            sheet[mask]],\n",
    "                                           ignore_index=True)\n",
    "    nsk_hub_statistics[season].fillna(i, inplace=True)\n",
    "    del sheet"
   ]
  },
  {
   "cell_type": "code",
   "execution_count": 94,
   "metadata": {
    "scrolled": true
   },
   "outputs": [
    {
     "data": {
      "text/html": [
       "<div>\n",
       "<style scoped>\n",
       "    .dataframe tbody tr th:only-of-type {\n",
       "        vertical-align: middle;\n",
       "    }\n",
       "\n",
       "    .dataframe tbody tr th {\n",
       "        vertical-align: top;\n",
       "    }\n",
       "\n",
       "    .dataframe thead th {\n",
       "        text-align: right;\n",
       "    }\n",
       "</style>\n",
       "<table border=\"1\" class=\"dataframe\">\n",
       "  <thead>\n",
       "    <tr style=\"text-align: right;\">\n",
       "      <th></th>\n",
       "      <th>Номер узла</th>\n",
       "      <th>Наименование узла</th>\n",
       "      <th>Uном, кВ</th>\n",
       "      <th>Субъект РФ</th>\n",
       "      <th>Цена, руб</th>\n",
       "      <th>hour</th>\n",
       "    </tr>\n",
       "  </thead>\n",
       "  <tbody>\n",
       "    <tr>\n",
       "      <th>0</th>\n",
       "      <td>1000600</td>\n",
       "      <td>Заря-АТ1</td>\n",
       "      <td>510.0</td>\n",
       "      <td>Новосибирская область</td>\n",
       "      <td>814.02080</td>\n",
       "      <td>0.0</td>\n",
       "    </tr>\n",
       "    <tr>\n",
       "      <th>1</th>\n",
       "      <td>1000601</td>\n",
       "      <td>Заря-АТ2</td>\n",
       "      <td>510.0</td>\n",
       "      <td>Новосибирская область</td>\n",
       "      <td>814.02070</td>\n",
       "      <td>0.0</td>\n",
       "    </tr>\n",
       "    <tr>\n",
       "      <th>2</th>\n",
       "      <td>1000602</td>\n",
       "      <td>НТЭЦ-5 (3Г)_шгн</td>\n",
       "      <td>16.0</td>\n",
       "      <td>Новосибирская область</td>\n",
       "      <td>816.79900</td>\n",
       "      <td>0.0</td>\n",
       "    </tr>\n",
       "    <tr>\n",
       "      <th>3</th>\n",
       "      <td>1000603</td>\n",
       "      <td>НТЭЦ-5 (4Г)_шгн</td>\n",
       "      <td>16.0</td>\n",
       "      <td>Новосибирская область</td>\n",
       "      <td>814.34906</td>\n",
       "      <td>0.0</td>\n",
       "    </tr>\n",
       "    <tr>\n",
       "      <th>4</th>\n",
       "      <td>1000607</td>\n",
       "      <td>Ордынская</td>\n",
       "      <td>110.0</td>\n",
       "      <td>Новосибирская область</td>\n",
       "      <td>848.94635</td>\n",
       "      <td>0.0</td>\n",
       "    </tr>\n",
       "  </tbody>\n",
       "</table>\n",
       "</div>"
      ],
      "text/plain": [
       "   Номер узла Наименование узла  Uном, кВ             Субъект РФ  Цена, руб  \\\n",
       "0     1000600          Заря-АТ1     510.0  Новосибирская область  814.02080   \n",
       "1     1000601          Заря-АТ2     510.0  Новосибирская область  814.02070   \n",
       "2     1000602   НТЭЦ-5 (3Г)_шгн      16.0  Новосибирская область  816.79900   \n",
       "3     1000603   НТЭЦ-5 (4Г)_шгн      16.0  Новосибирская область  814.34906   \n",
       "4     1000607         Ордынская     110.0  Новосибирская область  848.94635   \n",
       "\n",
       "   hour  \n",
       "0   0.0  \n",
       "1   0.0  \n",
       "2   0.0  \n",
       "3   0.0  \n",
       "4   0.0  "
      ]
     },
     "execution_count": 94,
     "metadata": {},
     "output_type": "execute_result"
    }
   ],
   "source": [
    "nsk_hub_statistics[season].head()"
   ]
  },
  {
   "cell_type": "code",
   "execution_count": 95,
   "metadata": {},
   "outputs": [],
   "source": [
    "date = re.findall(EXPR, filename)[0]\n",
    "nsk_hub_statistics[season].columns = new_cols\n",
    "nsk_hub_statistics[season].to_excel(target_dir + \\\n",
    "                                    f'hub_statistics_{date}.xls',\n",
    "                                   index=False)"
   ]
  },
  {
   "cell_type": "markdown",
   "metadata": {},
   "source": [
    "## Taking info from full statistic for 20200115 (winter)"
   ]
  },
  {
   "cell_type": "code",
   "execution_count": 96,
   "metadata": {},
   "outputs": [],
   "source": [
    "season = 'winter'\n",
    "filename = dir_path + '20200115_sib_big_nodes_prices_pub.xls'\n",
    "nsk_hub_statistics[season] = pd.DataFrame(columns=cols)"
   ]
  },
  {
   "cell_type": "code",
   "execution_count": 97,
   "metadata": {
    "scrolled": true
   },
   "outputs": [
    {
     "name": "stdout",
     "output_type": "stream",
     "text": [
      "CPU times: user 3min 2s, sys: 984 ms, total: 3min 3s\n",
      "Wall time: 3min 3s\n"
     ]
    }
   ],
   "source": [
    "%%time\n",
    "for i in range(24):\n",
    "    sheet = pd.read_excel(filename,\n",
    "                          skiprows=2,\n",
    "                          usecols=range(5),\n",
    "                          sheet_name=i\n",
    "             )\n",
    "    mask = (sheet['Субъект РФ'] == 'Новосибирская область')\n",
    "    nsk_hub_statistics[season] = pd.concat([nsk_hub_statistics[season],\n",
    "                                            sheet[mask]],\n",
    "                                           ignore_index=True)\n",
    "    nsk_hub_statistics[season].fillna(i, inplace=True)\n",
    "    del sheet"
   ]
  },
  {
   "cell_type": "code",
   "execution_count": 98,
   "metadata": {
    "scrolled": true
   },
   "outputs": [
    {
     "data": {
      "text/html": [
       "<div>\n",
       "<style scoped>\n",
       "    .dataframe tbody tr th:only-of-type {\n",
       "        vertical-align: middle;\n",
       "    }\n",
       "\n",
       "    .dataframe tbody tr th {\n",
       "        vertical-align: top;\n",
       "    }\n",
       "\n",
       "    .dataframe thead th {\n",
       "        text-align: right;\n",
       "    }\n",
       "</style>\n",
       "<table border=\"1\" class=\"dataframe\">\n",
       "  <thead>\n",
       "    <tr style=\"text-align: right;\">\n",
       "      <th></th>\n",
       "      <th>Номер узла</th>\n",
       "      <th>Наименование узла</th>\n",
       "      <th>Uном, кВ</th>\n",
       "      <th>Субъект РФ</th>\n",
       "      <th>Цена, руб</th>\n",
       "      <th>hour</th>\n",
       "    </tr>\n",
       "  </thead>\n",
       "  <tbody>\n",
       "    <tr>\n",
       "      <th>0</th>\n",
       "      <td>1000600</td>\n",
       "      <td>Заря-АТ1</td>\n",
       "      <td>510.0</td>\n",
       "      <td>Новосибирская область</td>\n",
       "      <td>866.51270</td>\n",
       "      <td>0.0</td>\n",
       "    </tr>\n",
       "    <tr>\n",
       "      <th>1</th>\n",
       "      <td>1000601</td>\n",
       "      <td>Заря-АТ2</td>\n",
       "      <td>510.0</td>\n",
       "      <td>Новосибирская область</td>\n",
       "      <td>866.58026</td>\n",
       "      <td>0.0</td>\n",
       "    </tr>\n",
       "    <tr>\n",
       "      <th>2</th>\n",
       "      <td>1000602</td>\n",
       "      <td>НТЭЦ-5 (3Г)_шгн</td>\n",
       "      <td>16.0</td>\n",
       "      <td>Новосибирская область</td>\n",
       "      <td>852.46380</td>\n",
       "      <td>0.0</td>\n",
       "    </tr>\n",
       "    <tr>\n",
       "      <th>3</th>\n",
       "      <td>1000603</td>\n",
       "      <td>НТЭЦ-5 (4Г)_шгн</td>\n",
       "      <td>16.0</td>\n",
       "      <td>Новосибирская область</td>\n",
       "      <td>852.19220</td>\n",
       "      <td>0.0</td>\n",
       "    </tr>\n",
       "    <tr>\n",
       "      <th>4</th>\n",
       "      <td>1000607</td>\n",
       "      <td>Ордынская</td>\n",
       "      <td>110.0</td>\n",
       "      <td>Новосибирская область</td>\n",
       "      <td>900.17395</td>\n",
       "      <td>0.0</td>\n",
       "    </tr>\n",
       "  </tbody>\n",
       "</table>\n",
       "</div>"
      ],
      "text/plain": [
       "   Номер узла Наименование узла  Uном, кВ             Субъект РФ  Цена, руб  \\\n",
       "0     1000600          Заря-АТ1     510.0  Новосибирская область  866.51270   \n",
       "1     1000601          Заря-АТ2     510.0  Новосибирская область  866.58026   \n",
       "2     1000602   НТЭЦ-5 (3Г)_шгн      16.0  Новосибирская область  852.46380   \n",
       "3     1000603   НТЭЦ-5 (4Г)_шгн      16.0  Новосибирская область  852.19220   \n",
       "4     1000607         Ордынская     110.0  Новосибирская область  900.17395   \n",
       "\n",
       "   hour  \n",
       "0   0.0  \n",
       "1   0.0  \n",
       "2   0.0  \n",
       "3   0.0  \n",
       "4   0.0  "
      ]
     },
     "execution_count": 98,
     "metadata": {},
     "output_type": "execute_result"
    }
   ],
   "source": [
    "nsk_hub_statistics[season].head()"
   ]
  },
  {
   "cell_type": "code",
   "execution_count": 99,
   "metadata": {},
   "outputs": [],
   "source": [
    "date = re.findall(EXPR, filename)[0]\n",
    "nsk_hub_statistics[season].columns = new_cols\n",
    "nsk_hub_statistics[season].to_excel(target_dir + \\\n",
    "                                    f'hub_statistics_{date}.xls',\n",
    "                                   index=False)"
   ]
  },
  {
   "cell_type": "code",
   "execution_count": null,
   "metadata": {},
   "outputs": [],
   "source": []
  }
 ],
 "metadata": {
  "kernelspec": {
   "display_name": "Python 3",
   "language": "python",
   "name": "python3"
  },
  "language_info": {
   "codemirror_mode": {
    "name": "ipython",
    "version": 3
   },
   "file_extension": ".py",
   "mimetype": "text/x-python",
   "name": "python",
   "nbconvert_exporter": "python",
   "pygments_lexer": "ipython3",
   "version": "3.7.3"
  }
 },
 "nbformat": 4,
 "nbformat_minor": 4
}
