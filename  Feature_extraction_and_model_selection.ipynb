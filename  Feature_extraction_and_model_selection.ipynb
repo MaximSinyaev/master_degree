{
 "cells": [
  {
   "cell_type": "code",
   "execution_count": 1,
   "metadata": {},
   "outputs": [],
   "source": [
    "import numpy as np\n",
    "import pandas as pd\n",
    "import os\n",
    "import seaborn as sns\n",
    "import re\n",
    "from collections import defaultdict"
   ]
  },
  {
   "cell_type": "code",
   "execution_count": 2,
   "metadata": {},
   "outputs": [],
   "source": [
    "from sklearn.feature_selection import SelectKBest, chi2\n",
    "from sklearn.ensemble import ExtraTreesClassifier\n",
    "from sklearn.preprocessing import LabelEncoder\n",
    "import matplotlib.pyplot as plt"
   ]
  },
  {
   "cell_type": "code",
   "execution_count": 3,
   "metadata": {},
   "outputs": [],
   "source": [
    "# Modules for signal transform\n",
    "from tsfresh import feature_extraction\n",
    "from tsfresh import select_features\n",
    "from tsfresh.utilities.dataframe_functions import impute"
   ]
  },
  {
   "cell_type": "code",
   "execution_count": 4,
   "metadata": {},
   "outputs": [],
   "source": [
    "# Consts\n",
    "n_treads = 4 # used in sklearn and tsfresh\n",
    "n_params = 90 # Params to remain in dataset\n",
    "rndst = 4"
   ]
  },
  {
   "cell_type": "code",
   "execution_count": 5,
   "metadata": {},
   "outputs": [],
   "source": [
    "def normalize_signal(signal, min_max=False):\n",
    "    \"\"\"\n",
    "    signal - np.array or pd.Series with signal values\n",
    "    \n",
    "    Returns normalized TS: (TS - mean(TS))/std(TS)\n",
    "    \"\"\"\n",
    "    if signal.name == 'delta':\n",
    "        return signal / 180\n",
    "    if min_max:\n",
    "        return (signal - signal.min()) / (signal.max() - signal.min())\n",
    "    std = np.std(signal)\n",
    "    norm_signal = (signal - np.mean(signal)) / std if std else 1\n",
    "    return norm_signal"
   ]
  },
  {
   "cell_type": "code",
   "execution_count": 6,
   "metadata": {},
   "outputs": [],
   "source": [
    "def normalize_all_signals_in_ds(one_group_ds, min_max=1):\n",
    "    global counter\n",
    "    counter += 1\n",
    "    for signal in one_group_ds.drop('t', axis=1):\n",
    "#         if signal in ['Ug', 'Pg']:\n",
    "#             one_group_ds[signal] = one_group_ds[signal] / one_group_ds[signal][0] - 1\n",
    "#         else:\n",
    "            one_group_ds[signal] = normalize_signal(one_group_ds[signal], min_max)"
   ]
  },
  {
   "cell_type": "code",
   "execution_count": 7,
   "metadata": {},
   "outputs": [
    {
     "data": {
      "text/plain": [
       "'/home/poligon/master_degree'"
      ]
     },
     "execution_count": 7,
     "metadata": {},
     "output_type": "execute_result"
    }
   ],
   "source": [
    "# os.chdir('..')\n",
    "os.getcwd()"
   ]
  },
  {
   "cell_type": "code",
   "execution_count": 8,
   "metadata": {},
   "outputs": [],
   "source": [
    "# labels = pd.DataFrame(columns=['id', 'class', 'label'])\n",
    "# labels.columns\n",
    "# labels.append((pd.Series( [1, 2, 3], index=labels.columns)), ignore_index=True)\n",
    "# # dfObj.append(pd.Series(['Raju', 21, 'Bangalore', 'India'], index=dfObj.columns ), ignore_index=True)"
   ]
  },
  {
   "cell_type": "code",
   "execution_count": 9,
   "metadata": {},
   "outputs": [],
   "source": [
    "def append_signals_dataset(data_directory, signals_dataset = None, labels = None, min_max_norm=True):\n",
    "    data_dir_list = os.listdir(data_directory)\n",
    "    os.chdir(data_directory)\n",
    "    if labels is None:\n",
    "        signal_id = 0\n",
    "        labels = pd.DataFrame(columns=['id', 'class', 'label'])\n",
    "    else:\n",
    "        signal_id = labels.id.max() + 1\n",
    "    for signal_label, directory in enumerate(data_dir_list):\n",
    "        if os.path.isfile(directory) or directory[0] == '.':\n",
    "                continue\n",
    "        os.chdir(directory)\n",
    "        for filename in os.listdir(os.curdir):\n",
    "            if re.match(r'(.*csv)', filename):\n",
    "#                 print(f'>>{filename}')\n",
    "                if (signals_dataset) is not None:\n",
    "                    tmp_df = pd.read_csv(filename)\n",
    "                    normalize_all_signals_in_ds(tmp_df, min_max_norm)\n",
    "                    tmp_df['id'] = signal_id\n",
    "                    signals_dataset = signals_dataset.append(tmp_df, ignore_index=True)\n",
    "                else:\n",
    "                    signals_dataset = pd.read_csv(filename)\n",
    "                    normalize_all_signals_in_ds(signals_dataset, min_max_norm)\n",
    "                    signals_dataset['id'] = signal_id\n",
    "#                 print(signals_dataset.head(5))\n",
    "                tmp_labels = pd.Series([signal_id, directory, np.int(signal_label)],\n",
    "                                         index=labels.columns)\n",
    "                labels = labels.append(tmp_labels, ignore_index=True)\n",
    "                signal_id += 1\n",
    "        os.chdir('../')\n",
    "    os.chdir('../..')\n",
    "    return signals_dataset, labels"
   ]
  },
  {
   "cell_type": "markdown",
   "metadata": {},
   "source": [
    "Data preprocessing:\n",
    "    - dropping U.1 == U\n",
    "    - changing type\n",
    "    - generating features"
   ]
  },
  {
   "cell_type": "code",
   "execution_count": 10,
   "metadata": {},
   "outputs": [
    {
     "data": {
      "text/plain": [
       "'/home/poligon/master_degree'"
      ]
     },
     "execution_count": 10,
     "metadata": {},
     "output_type": "execute_result"
    }
   ],
   "source": [
    "# os.chdir('../')\n",
    "os.getcwd()"
   ]
  },
  {
   "cell_type": "code",
   "execution_count": 11,
   "metadata": {},
   "outputs": [],
   "source": [
    "# Dataset for first gen\n",
    "counter = 0\n",
    "dataset, labels = append_signals_dataset('./data/gen_1_25')\n",
    "dataset, labels = append_signals_dataset('./data/gen_3_25', dataset, labels)\n",
    "# dataset, labels = append_signals_dataset('./data/gen_1_80', dataset, labels)\n",
    "# Dataset for second gen\n",
    "dataset_2, labels_2 = append_signals_dataset('./data/gen_4_80')\n",
    "# dataset_2, labels_2 = append_signals_dataset('./data/gen_2_80', dataset_2, labels_2)\n",
    "# dataset_2, labels_2 = append_signals_dataset('./data/gen_3_80', dataset_2, labels_2)"
   ]
  },
  {
   "cell_type": "code",
   "execution_count": 12,
   "metadata": {},
   "outputs": [],
   "source": [
    "labelizer = LabelEncoder().fit(labels['class'])\n",
    "def normalize_labels(labels_df):\n",
    "    \"\"\"\n",
    "    Разметим все классы числами от 0 до количества классов\n",
    "    и преобразуем новую колонку в формат чисел (float)\n",
    "    \"\"\"\n",
    "#     labels_df['label'] = labelizer.transform(labels_df['class'])\n",
    "    labels_df['label'] = labels_df['class'].replace({'le_8': 0,\n",
    "                        'more_8': 1,\n",
    "                        'more_20': 2,\n",
    "                       })\n",
    "#     labels_df.index = labels_df['id']\n",
    "#     labels_df.drop(columns=['id'])"
   ]
  },
  {
   "cell_type": "code",
   "execution_count": 13,
   "metadata": {},
   "outputs": [
    {
     "name": "stdout",
     "output_type": "stream",
     "text": [
      "Уникальные классы в датасете: ['le_8' 'more_20' 'more_8']\n"
     ]
    },
    {
     "data": {
      "text/html": [
       "<div>\n",
       "<style scoped>\n",
       "    .dataframe tbody tr th:only-of-type {\n",
       "        vertical-align: middle;\n",
       "    }\n",
       "\n",
       "    .dataframe tbody tr th {\n",
       "        vertical-align: top;\n",
       "    }\n",
       "\n",
       "    .dataframe thead th {\n",
       "        text-align: right;\n",
       "    }\n",
       "</style>\n",
       "<table border=\"1\" class=\"dataframe\">\n",
       "  <thead>\n",
       "    <tr style=\"text-align: right;\">\n",
       "      <th></th>\n",
       "      <th>id</th>\n",
       "      <th>class</th>\n",
       "      <th>label</th>\n",
       "    </tr>\n",
       "  </thead>\n",
       "  <tbody>\n",
       "    <tr>\n",
       "      <th>14</th>\n",
       "      <td>14</td>\n",
       "      <td>more_20</td>\n",
       "      <td>2</td>\n",
       "    </tr>\n",
       "    <tr>\n",
       "      <th>36</th>\n",
       "      <td>36</td>\n",
       "      <td>more_8</td>\n",
       "      <td>1</td>\n",
       "    </tr>\n",
       "    <tr>\n",
       "      <th>7</th>\n",
       "      <td>7</td>\n",
       "      <td>more_20</td>\n",
       "      <td>2</td>\n",
       "    </tr>\n",
       "    <tr>\n",
       "      <th>32</th>\n",
       "      <td>32</td>\n",
       "      <td>more_8</td>\n",
       "      <td>1</td>\n",
       "    </tr>\n",
       "    <tr>\n",
       "      <th>56</th>\n",
       "      <td>56</td>\n",
       "      <td>le_8</td>\n",
       "      <td>0</td>\n",
       "    </tr>\n",
       "  </tbody>\n",
       "</table>\n",
       "</div>"
      ],
      "text/plain": [
       "    id    class  label\n",
       "14  14  more_20      2\n",
       "36  36   more_8      1\n",
       "7    7  more_20      2\n",
       "32  32   more_8      1\n",
       "56  56     le_8      0"
      ]
     },
     "execution_count": 13,
     "metadata": {},
     "output_type": "execute_result"
    }
   ],
   "source": [
    "print(\"Уникальные классы в датасете:\", np.unique(labels['class']))\n",
    "normalize_labels(labels)\n",
    "normalize_labels(labels_2)\n",
    "labels.sample(5)"
   ]
  },
  {
   "cell_type": "code",
   "execution_count": 14,
   "metadata": {},
   "outputs": [
    {
     "data": {
      "text/plain": [
       "1    21\n",
       "0    18\n",
       "2    15\n",
       "Name: label, dtype: int64"
      ]
     },
     "execution_count": 14,
     "metadata": {},
     "output_type": "execute_result"
    }
   ],
   "source": [
    "labels_2.label.value_counts()"
   ]
  },
  {
   "cell_type": "code",
   "execution_count": 15,
   "metadata": {},
   "outputs": [
    {
     "data": {
      "text/plain": [
       "t            0\n",
       "Ug           0\n",
       "Us           0\n",
       "Pij          0\n",
       "Pg           0\n",
       "Pgt      20200\n",
       "delta        0\n",
       "id           0\n",
       "dtype: int64"
      ]
     },
     "execution_count": 15,
     "metadata": {},
     "output_type": "execute_result"
    }
   ],
   "source": [
    "dataset.isna().sum()"
   ]
  },
  {
   "cell_type": "code",
   "execution_count": 16,
   "metadata": {},
   "outputs": [
    {
     "data": {
      "text/plain": [
       "Index(['t', 'Ug', 'Us', 'Pij', 'Pg', 'Pgt', 'delta', 'id'], dtype='object')"
      ]
     },
     "execution_count": 16,
     "metadata": {},
     "output_type": "execute_result"
    }
   ],
   "source": [
    "dataset.columns"
   ]
  },
  {
   "cell_type": "code",
   "execution_count": 17,
   "metadata": {},
   "outputs": [
    {
     "data": {
      "image/png": "[encoded data removed]",
      "text/plain": [
       "<Figure size 432x432 with 1 Axes>"
      ]
     },
     "metadata": {
      "needs_background": "light"
     },
     "output_type": "display_data"
    }
   ],
   "source": [
    "ex = dataset.query('id == 35')\n",
    "fig = plt.figure(figsize=(6,6))\n",
    "ax = plt.axes()\n",
    "x_label = 't, с'\n",
    "plt.plot(ex['t'], ex['Ug'], label='Uг')\n",
    "plt.plot(ex['t'], ex['Pg'], label='Pг')\n",
    "plt.plot(ex['t'], ex['delta'], label=' δ')\n",
    "plt.xlim(-0.01, 2.05)\n",
    "plt.xlabel(x_label)\n",
    "plt.ylabel('отн. ед.')\n",
    "plt.legend(loc='best')\n",
    "\n",
    "plt.show()"
   ]
  },
  {
   "cell_type": "code",
   "execution_count": 18,
   "metadata": {},
   "outputs": [
    {
     "data": {
      "text/html": [
       "<div>\n",
       "<style scoped>\n",
       "    .dataframe tbody tr th:only-of-type {\n",
       "        vertical-align: middle;\n",
       "    }\n",
       "\n",
       "    .dataframe tbody tr th {\n",
       "        vertical-align: top;\n",
       "    }\n",
       "\n",
       "    .dataframe thead th {\n",
       "        text-align: right;\n",
       "    }\n",
       "</style>\n",
       "<table border=\"1\" class=\"dataframe\">\n",
       "  <thead>\n",
       "    <tr style=\"text-align: right;\">\n",
       "      <th></th>\n",
       "      <th>t</th>\n",
       "      <th>Ug</th>\n",
       "      <th>Pg</th>\n",
       "      <th>delta</th>\n",
       "      <th>id</th>\n",
       "    </tr>\n",
       "    <tr>\n",
       "      <th>tmp_id</th>\n",
       "      <th></th>\n",
       "      <th></th>\n",
       "      <th></th>\n",
       "      <th></th>\n",
       "      <th></th>\n",
       "    </tr>\n",
       "  </thead>\n",
       "  <tbody>\n",
       "    <tr>\n",
       "      <th>0</th>\n",
       "      <td>0.01</td>\n",
       "      <td>0.786561</td>\n",
       "      <td>0.575077</td>\n",
       "      <td>0.282944</td>\n",
       "      <td>0</td>\n",
       "    </tr>\n",
       "    <tr>\n",
       "      <th>1</th>\n",
       "      <td>0.02</td>\n",
       "      <td>0.786561</td>\n",
       "      <td>0.575077</td>\n",
       "      <td>0.282944</td>\n",
       "      <td>0</td>\n",
       "    </tr>\n",
       "    <tr>\n",
       "      <th>2</th>\n",
       "      <td>0.03</td>\n",
       "      <td>0.786561</td>\n",
       "      <td>0.575077</td>\n",
       "      <td>0.282944</td>\n",
       "      <td>0</td>\n",
       "    </tr>\n",
       "    <tr>\n",
       "      <th>3</th>\n",
       "      <td>0.04</td>\n",
       "      <td>0.786561</td>\n",
       "      <td>0.575077</td>\n",
       "      <td>0.282944</td>\n",
       "      <td>0</td>\n",
       "    </tr>\n",
       "    <tr>\n",
       "      <th>4</th>\n",
       "      <td>0.05</td>\n",
       "      <td>0.786561</td>\n",
       "      <td>0.575077</td>\n",
       "      <td>0.282944</td>\n",
       "      <td>0</td>\n",
       "    </tr>\n",
       "  </tbody>\n",
       "</table>\n",
       "</div>"
      ],
      "text/plain": [
       "           t        Ug        Pg     delta  id\n",
       "tmp_id                                        \n",
       "0       0.01  0.786561  0.575077  0.282944   0\n",
       "1       0.02  0.786561  0.575077  0.282944   0\n",
       "2       0.03  0.786561  0.575077  0.282944   0\n",
       "3       0.04  0.786561  0.575077  0.282944   0\n",
       "4       0.05  0.786561  0.575077  0.282944   0"
      ]
     },
     "execution_count": 18,
     "metadata": {},
     "output_type": "execute_result"
    }
   ],
   "source": [
    "# Удалим колонки которые не несут достаточной информации (повторяют значения, не изменяются)\n",
    "# или могут быть некорректны\n",
    "def drop_columns(dataset):\n",
    "    mod_dataset = dataset.drop(['Us', 'Pgt', 'Pij'], axis=1)\n",
    "    mod_dataset.index.name = 'tmp_id'\n",
    "    return mod_dataset\n",
    "mod_dataset = drop_columns(dataset)\n",
    "mod_dataset_2 = drop_columns(dataset_2)\n",
    "# Проверим возможность склеить сигнал с метками\n",
    "mod_dataset.head(5)"
   ]
  },
  {
   "cell_type": "code",
   "execution_count": 19,
   "metadata": {},
   "outputs": [],
   "source": [
    "def extract_signal_features(df, labels_df, feat_selection=True, signal_list=['Ug', 'Pg', 'delta']):\n",
    "    features = defaultdict()\n",
    "    for param in signal_list:\n",
    "#     mod_dataset[param] = mod_dataset[param].astype('float')\n",
    "        features[param] = feature_extraction.extract_features\\\n",
    "        (df.loc[:,[param,'id','t']], column_sort='t', column_id='id', n_jobs=n_treads)\n",
    "        impute(features[param])\n",
    "        if feat_selection:\n",
    "            features[param] = select_features(features[param], labels_df['label'], ml_task='classification', n_jobs=n_treads)\n",
    "    return features"
   ]
  },
  {
   "cell_type": "code",
   "execution_count": 20,
   "metadata": {},
   "outputs": [
    {
     "name": "stderr",
     "output_type": "stream",
     "text": [
      "Feature Extraction: 100%|██████████| 17/17 [00:38<00:00,  2.24s/it]\n",
      "Feature Extraction: 100%|██████████| 17/17 [00:42<00:00,  2.52s/it]\n",
      "Feature Extraction: 100%|██████████| 17/17 [01:21<00:00,  4.80s/it]\n",
      "/home/poligon/master_degree/tsfresh/utilities/dataframe_functions.py:170: RuntimeWarning: The columns ['delta__friedrich_coefficients__m_3__r_30__coeff_0'\n",
      " 'delta__friedrich_coefficients__m_3__r_30__coeff_1'\n",
      " 'delta__friedrich_coefficients__m_3__r_30__coeff_2'\n",
      " 'delta__friedrich_coefficients__m_3__r_30__coeff_3'\n",
      " 'delta__max_langevin_fixed_point__m_3__r_30'] did not have any finite values. Filling with zeros.\n",
      "  df.iloc[:, np.where(is_col_non_finite)[0]].columns.values), RuntimeWarning)\n"
     ]
    }
   ],
   "source": [
    "features = extract_signal_features(mod_dataset, labels)"
   ]
  },
  {
   "cell_type": "markdown",
   "metadata": {},
   "source": [
    "Извлечем те же признаки для проверочного датасета, который модель никогда не видела"
   ]
  },
  {
   "cell_type": "code",
   "execution_count": 21,
   "metadata": {},
   "outputs": [
    {
     "name": "stderr",
     "output_type": "stream",
     "text": [
      "Feature Extraction: 100%|██████████| 18/18 [00:42<00:00,  2.35s/it]\n",
      "/home/poligon/master_degree/tsfresh/utilities/dataframe_functions.py:170: RuntimeWarning: The columns ['Ug__friedrich_coefficients__m_3__r_30__coeff_0'\n",
      " 'Ug__friedrich_coefficients__m_3__r_30__coeff_1'\n",
      " 'Ug__friedrich_coefficients__m_3__r_30__coeff_2'\n",
      " 'Ug__friedrich_coefficients__m_3__r_30__coeff_3'\n",
      " 'Ug__max_langevin_fixed_point__m_3__r_30'] did not have any finite values. Filling with zeros.\n",
      "  df.iloc[:, np.where(is_col_non_finite)[0]].columns.values), RuntimeWarning)\n",
      "Feature Extraction: 100%|██████████| 18/18 [00:49<00:00,  2.77s/it]\n",
      "/home/poligon/master_degree/tsfresh/utilities/dataframe_functions.py:170: RuntimeWarning: The columns ['Pg__friedrich_coefficients__m_3__r_30__coeff_0'\n",
      " 'Pg__friedrich_coefficients__m_3__r_30__coeff_1'\n",
      " 'Pg__friedrich_coefficients__m_3__r_30__coeff_2'\n",
      " 'Pg__friedrich_coefficients__m_3__r_30__coeff_3'\n",
      " 'Pg__max_langevin_fixed_point__m_3__r_30'] did not have any finite values. Filling with zeros.\n",
      "  df.iloc[:, np.where(is_col_non_finite)[0]].columns.values), RuntimeWarning)\n",
      "Feature Extraction: 100%|██████████| 18/18 [00:43<00:00,  2.42s/it]\n",
      "/home/poligon/master_degree/tsfresh/utilities/dataframe_functions.py:170: RuntimeWarning: The columns ['delta__friedrich_coefficients__m_3__r_30__coeff_0'\n",
      " 'delta__friedrich_coefficients__m_3__r_30__coeff_1'\n",
      " 'delta__friedrich_coefficients__m_3__r_30__coeff_2'\n",
      " 'delta__friedrich_coefficients__m_3__r_30__coeff_3'\n",
      " 'delta__max_langevin_fixed_point__m_3__r_30'] did not have any finite values. Filling with zeros.\n",
      "  df.iloc[:, np.where(is_col_non_finite)[0]].columns.values), RuntimeWarning)\n"
     ]
    }
   ],
   "source": [
    "features_val = extract_signal_features(mod_dataset_2, labels_2, False)"
   ]
  },
  {
   "cell_type": "markdown",
   "metadata": {},
   "source": [
    "### Отбор признаков и формирование эквивалентных датасетов\n",
    "После обработки каждого сигнала библиотекой tsfresh извлекаем всевозможные признаки, признаки классифицированы по сигналу, из которого были получены (словарь features)\n",
    "\n",
    "В конечном счете для каждого сигнала сформирован следующий набор данных:"
   ]
  },
  {
   "cell_type": "code",
   "execution_count": 22,
   "metadata": {},
   "outputs": [
    {
     "name": "stdout",
     "output_type": "stream",
     "text": [
      "Для параметра Ug получено 541 признака(ов).\n",
      "Для параметра Pg получено 609 признака(ов).\n",
      "Для параметра delta получено 670 признака(ов).\n"
     ]
    }
   ],
   "source": [
    "for param in features:\n",
    "    print(\"Для параметра\", param, \"получено\", features[param].shape[1], \"признака(ов).\")"
   ]
  },
  {
   "cell_type": "code",
   "execution_count": 23,
   "metadata": {},
   "outputs": [
    {
     "data": {
      "text/plain": [
       "array(['Ug__energy_ratio_by_chunks__num_segments_10__segment_focus_3',\n",
       "       'Ug__quantile__q_0.2',\n",
       "       'Ug__change_quantiles__f_agg_\"mean\"__isabs_False__qh_0.8__ql_0.0',\n",
       "       'Ug__cwt_coefficients__widths_(2, 5, 10, 20)__coeff_7__w_5',\n",
       "       'Ug__autocorrelation__lag_3',\n",
       "       'Ug__fft_coefficient__coeff_79__attr_\"real\"',\n",
       "       'Ug__quantile__q_0.7',\n",
       "       'Ug__agg_linear_trend__f_agg_\"mean\"__chunk_len_10__attr_\"stderr\"',\n",
       "       'Ug__fft_coefficient__coeff_61__attr_\"imag\"',\n",
       "       'Ug__fft_coefficient__coeff_34__attr_\"real\"',\n",
       "       'Ug__fft_coefficient__coeff_90__attr_\"abs\"',\n",
       "       'Ug__fft_coefficient__coeff_80__attr_\"abs\"',\n",
       "       'Ug__linear_trend__attr_\"slope\"',\n",
       "       'Ug__cwt_coefficients__widths_(2, 5, 10, 20)__coeff_5__w_5',\n",
       "       'Ug__change_quantiles__f_agg_\"var\"__isabs_False__qh_1.0__ql_0.8',\n",
       "       'Ug__fft_coefficient__coeff_33__attr_\"real\"',\n",
       "       'Ug__fft_coefficient__coeff_77__attr_\"abs\"',\n",
       "       'Ug__cwt_coefficients__widths_(2, 5, 10, 20)__coeff_7__w_2',\n",
       "       'Ug__fft_coefficient__coeff_82__attr_\"angle\"',\n",
       "       'Ug__partial_autocorrelation__lag_7'], dtype=object)"
      ]
     },
     "execution_count": 23,
     "metadata": {},
     "output_type": "execute_result"
    }
   ],
   "source": [
    "# Пример хранящихся признаков\n",
    "features['Ug'].columns.values[np.random\\\n",
    "                              .randint(0, \n",
    "                                       features['Ug'].shape[1],\n",
    "                                       20)]"
   ]
  },
  {
   "cell_type": "markdown",
   "metadata": {},
   "source": [
    "## Поиск наиболее важных признаков, которые позволят предсказывать результат переходного процесса"
   ]
  },
  {
   "cell_type": "code",
   "execution_count": 24,
   "metadata": {},
   "outputs": [],
   "source": [
    "# Удаляем фичи количество признаков в которых меньше количества классов\n",
    "def clear_useless_features(features, threshold=3):\n",
    "    for feature in features.columns:\n",
    "        if features[feature].nunique() <= threshold \\\n",
    "            or features[feature].isna().sum():\n",
    "            features = features.drop(feature, axis=1)\n",
    "    return features"
   ]
  },
  {
   "cell_type": "code",
   "execution_count": 25,
   "metadata": {},
   "outputs": [
    {
     "name": "stdout",
     "output_type": "stream",
     "text": [
      "Число удаленных признаков для Ug: 6\n",
      "Число удаленных признаков для Pg: 9\n",
      "Число удаленных признаков для delta: 8\n"
     ]
    }
   ],
   "source": [
    "modified_features = defaultdict()\n",
    "for param in features:\n",
    "    modified_features[param] = clear_useless_features(features[param],\n",
    "                                                     labels.label.nunique())\n",
    "    print(f\"Число удаленных признаков для {param}:\",\n",
    "          features[param].shape[1] - modified_features[param].shape[1])"
   ]
  },
  {
   "cell_type": "markdown",
   "metadata": {},
   "source": [
    "Поиск признаков, имеющих наибольшую корреляцию с целевой переменной sklearn (Только для регресии и неотрицательных признаков)"
   ]
  },
  {
   "cell_type": "code",
   "execution_count": 26,
   "metadata": {},
   "outputs": [],
   "source": [
    "def delete_negative_features(X):\n",
    "    for i in X.columns:\n",
    "        if X[i].min() < 0:\n",
    "            X = X.drop(i, axis=1)\n",
    "    return X"
   ]
  },
  {
   "cell_type": "code",
   "execution_count": 27,
   "metadata": {},
   "outputs": [],
   "source": [
    "# X = delete_negative_features(modified_features['U'])\n",
    "# X_2 = \n",
    "y = labels.label\n",
    "# bestfeatures = SelectKBest(score_func=chi2, k=10)\n",
    "# fit = bestfeatures.fit(X, labels.label)\n",
    "# dfscores = pd.DataFrame(fit.scores_)\n",
    "# dfcolumns = pd.DataFrame(X.columns)\n",
    "# featureScores = pd.concat([dfcolumns,dfscores],axis=1)\n",
    "# featureScores.columns = ['Specs','Score']  #naming the dataframe columns\n",
    "# print(featureScores.nlargest(10,'Score'))"
   ]
  },
  {
   "cell_type": "markdown",
   "metadata": {},
   "source": [
    "Использование дерева для поиска фич"
   ]
  },
  {
   "cell_type": "code",
   "execution_count": 28,
   "metadata": {},
   "outputs": [],
   "source": [
    "def plot_features(X, y):\n",
    "#     X = modified_features['U']\n",
    "#     y = labels.label\n",
    "    model = ExtraTreesClassifier(n_estimators=500, random_state=rndst)\n",
    "    model.fit(X,y)\n",
    "#     print(model.feature_importances_) #use inbuilt class feature_importances of tree based classifiers\n",
    "    #plot graph of feature importances for better visualization\n",
    "    feat_importances = pd.Series(model.feature_importances_, index=X.columns)\n",
    "    feat_importances.nlargest(10).plot(kind='barh')\n",
    "    plt.xlabel('Оценка значимоссти')\n",
    "    plt.ylabel('Переменная')\n",
    "    plt.show()\n",
    "    return feat_importances.nlargest(n_params)"
   ]
  },
  {
   "cell_type": "code",
   "execution_count": 29,
   "metadata": {},
   "outputs": [
    {
     "data": {
      "image/png": "[encoded data removed]",
      "text/plain": [
       "<Figure size 432x288 with 1 Axes>"
      ]
     },
     "metadata": {
      "needs_background": "light"
     },
     "output_type": "display_data"
    },
    {
     "data": {
      "image/png": "[encoded data removed]",
      "text/plain": [
       "<Figure size 432x288 with 1 Axes>"
      ]
     },
     "metadata": {
      "needs_background": "light"
     },
     "output_type": "display_data"
    },
    {
     "data": {
      "image/png": "[encoded data removed]",
      "text/plain": [
       "<Figure size 432x288 with 1 Axes>"
      ]
     },
     "metadata": {
      "needs_background": "light"
     },
     "output_type": "display_data"
    }
   ],
   "source": [
    "most_valuable_feat = dict([[feat, None] for feat in features])\n",
    "for param in features:\n",
    "    most_valuable_feat[param] = (plot_features(modified_features[param].astype('float32'), labels.label))"
   ]
  },
  {
   "cell_type": "code",
   "execution_count": 30,
   "metadata": {},
   "outputs": [],
   "source": [
    "# Создаем датафрэйм с индексами, который будем доплнять самыми релевантными фичами\n",
    "def remain_relevant_features(features):\n",
    "    resulted_df = pd.DataFrame(index=features['Ug'].index)\n",
    "    # Дополняем датафрэйм\n",
    "    for param in features:\n",
    "        for feat in features[param]:\n",
    "            if feat in most_valuable_feat[param]:\n",
    "#                 if most_valuable_feat[param][feat] >= 0.008:\n",
    "                    resulted_df = pd.concat([resulted_df, features[param][feat]], axis=1)\n",
    "    return resulted_df"
   ]
  },
  {
   "cell_type": "code",
   "execution_count": 31,
   "metadata": {},
   "outputs": [],
   "source": [
    "def join_signal_features(features):\n",
    "    resulted_df = pd.DataFrame(index=features['Ug'].index)\n",
    "    # Дополняем датафрэйм\n",
    "    for param in features:\n",
    "        for feat in features[param]:\n",
    "            resulted_df = pd.concat([resulted_df, features[param][feat]], axis=1)\n",
    "    return resulted_df"
   ]
  },
  {
   "cell_type": "code",
   "execution_count": 32,
   "metadata": {},
   "outputs": [
    {
     "data": {
      "text/html": [
       "<div>\n",
       "<style scoped>\n",
       "    .dataframe tbody tr th:only-of-type {\n",
       "        vertical-align: middle;\n",
       "    }\n",
       "\n",
       "    .dataframe tbody tr th {\n",
       "        vertical-align: top;\n",
       "    }\n",
       "\n",
       "    .dataframe thead th {\n",
       "        text-align: right;\n",
       "    }\n",
       "</style>\n",
       "<table border=\"1\" class=\"dataframe\">\n",
       "  <thead>\n",
       "    <tr style=\"text-align: right;\">\n",
       "      <th></th>\n",
       "      <th>Ug__cwt_coefficients__widths_(2, 5, 10, 20)__coeff_5__w_10</th>\n",
       "      <th>Ug__fft_coefficient__coeff_19__attr_\"real\"</th>\n",
       "      <th>Ug__cwt_coefficients__widths_(2, 5, 10, 20)__coeff_6__w_10</th>\n",
       "      <th>Ug__agg_linear_trend__f_agg_\"var\"__chunk_len_50__attr_\"rvalue\"</th>\n",
       "      <th>Ug__fft_coefficient__coeff_3__attr_\"real\"</th>\n",
       "      <th>Ug__cwt_coefficients__widths_(2, 5, 10, 20)__coeff_4__w_10</th>\n",
       "      <th>Ug__fft_coefficient__coeff_20__attr_\"real\"</th>\n",
       "      <th>Ug__fft_coefficient__coeff_3__attr_\"angle\"</th>\n",
       "      <th>Ug__cwt_coefficients__widths_(2, 5, 10, 20)__coeff_7__w_10</th>\n",
       "      <th>Ug__cwt_coefficients__widths_(2, 5, 10, 20)__coeff_0__w_20</th>\n",
       "      <th>...</th>\n",
       "      <th>delta__fft_coefficient__coeff_24__attr_\"angle\"</th>\n",
       "      <th>delta__approximate_entropy__m_2__r_0.7</th>\n",
       "      <th>delta__agg_linear_trend__f_agg_\"var\"__chunk_len_5__attr_\"rvalue\"</th>\n",
       "      <th>delta__agg_linear_trend__f_agg_\"var\"__chunk_len_10__attr_\"rvalue\"</th>\n",
       "      <th>delta__agg_linear_trend__f_agg_\"var\"__chunk_len_50__attr_\"rvalue\"</th>\n",
       "      <th>delta__fft_coefficient__coeff_1__attr_\"angle\"</th>\n",
       "      <th>delta__count_above_mean</th>\n",
       "      <th>delta__longest_strike_below_mean</th>\n",
       "      <th>delta__count_below_mean</th>\n",
       "      <th>delta__longest_strike_above_mean</th>\n",
       "    </tr>\n",
       "    <tr>\n",
       "      <th>id</th>\n",
       "      <th></th>\n",
       "      <th></th>\n",
       "      <th></th>\n",
       "      <th></th>\n",
       "      <th></th>\n",
       "      <th></th>\n",
       "      <th></th>\n",
       "      <th></th>\n",
       "      <th></th>\n",
       "      <th></th>\n",
       "      <th></th>\n",
       "      <th></th>\n",
       "      <th></th>\n",
       "      <th></th>\n",
       "      <th></th>\n",
       "      <th></th>\n",
       "      <th></th>\n",
       "      <th></th>\n",
       "      <th></th>\n",
       "      <th></th>\n",
       "      <th></th>\n",
       "    </tr>\n",
       "  </thead>\n",
       "  <tbody>\n",
       "    <tr>\n",
       "      <th>0</th>\n",
       "      <td>0.657114</td>\n",
       "      <td>0.755949</td>\n",
       "      <td>0.769167</td>\n",
       "      <td>-0.431112</td>\n",
       "      <td>-1.734249</td>\n",
       "      <td>0.522359</td>\n",
       "      <td>0.674364</td>\n",
       "      <td>-102.385873</td>\n",
       "      <td>0.857243</td>\n",
       "      <td>-0.384502</td>\n",
       "      <td>...</td>\n",
       "      <td>111.832604</td>\n",
       "      <td>0.005399</td>\n",
       "      <td>-0.047492</td>\n",
       "      <td>-0.045574</td>\n",
       "      <td>-0.048526</td>\n",
       "      <td>92.323925</td>\n",
       "      <td>102.0</td>\n",
       "      <td>98.0</td>\n",
       "      <td>98.0</td>\n",
       "      <td>102.0</td>\n",
       "    </tr>\n",
       "    <tr>\n",
       "      <th>1</th>\n",
       "      <td>0.606452</td>\n",
       "      <td>0.761108</td>\n",
       "      <td>0.713753</td>\n",
       "      <td>-0.539858</td>\n",
       "      <td>-1.771619</td>\n",
       "      <td>0.477404</td>\n",
       "      <td>0.679939</td>\n",
       "      <td>-103.610867</td>\n",
       "      <td>0.798188</td>\n",
       "      <td>-0.421613</td>\n",
       "      <td>...</td>\n",
       "      <td>111.795840</td>\n",
       "      <td>0.006066</td>\n",
       "      <td>-0.074915</td>\n",
       "      <td>-0.077398</td>\n",
       "      <td>-0.094158</td>\n",
       "      <td>94.481583</td>\n",
       "      <td>103.0</td>\n",
       "      <td>97.0</td>\n",
       "      <td>97.0</td>\n",
       "      <td>103.0</td>\n",
       "    </tr>\n",
       "  </tbody>\n",
       "</table>\n",
       "<p>2 rows × 270 columns</p>\n",
       "</div>"
      ],
      "text/plain": [
       "    Ug__cwt_coefficients__widths_(2, 5, 10, 20)__coeff_5__w_10  \\\n",
       "id                                                               \n",
       "0                                            0.657114            \n",
       "1                                            0.606452            \n",
       "\n",
       "    Ug__fft_coefficient__coeff_19__attr_\"real\"  \\\n",
       "id                                               \n",
       "0                                     0.755949   \n",
       "1                                     0.761108   \n",
       "\n",
       "    Ug__cwt_coefficients__widths_(2, 5, 10, 20)__coeff_6__w_10  \\\n",
       "id                                                               \n",
       "0                                            0.769167            \n",
       "1                                            0.713753            \n",
       "\n",
       "    Ug__agg_linear_trend__f_agg_\"var\"__chunk_len_50__attr_\"rvalue\"  \\\n",
       "id                                                                   \n",
       "0                                           -0.431112                \n",
       "1                                           -0.539858                \n",
       "\n",
       "    Ug__fft_coefficient__coeff_3__attr_\"real\"  \\\n",
       "id                                              \n",
       "0                                   -1.734249   \n",
       "1                                   -1.771619   \n",
       "\n",
       "    Ug__cwt_coefficients__widths_(2, 5, 10, 20)__coeff_4__w_10  \\\n",
       "id                                                               \n",
       "0                                            0.522359            \n",
       "1                                            0.477404            \n",
       "\n",
       "    Ug__fft_coefficient__coeff_20__attr_\"real\"  \\\n",
       "id                                               \n",
       "0                                     0.674364   \n",
       "1                                     0.679939   \n",
       "\n",
       "    Ug__fft_coefficient__coeff_3__attr_\"angle\"  \\\n",
       "id                                               \n",
       "0                                  -102.385873   \n",
       "1                                  -103.610867   \n",
       "\n",
       "    Ug__cwt_coefficients__widths_(2, 5, 10, 20)__coeff_7__w_10  \\\n",
       "id                                                               \n",
       "0                                            0.857243            \n",
       "1                                            0.798188            \n",
       "\n",
       "    Ug__cwt_coefficients__widths_(2, 5, 10, 20)__coeff_0__w_20  ...  \\\n",
       "id                                                              ...   \n",
       "0                                           -0.384502           ...   \n",
       "1                                           -0.421613           ...   \n",
       "\n",
       "    delta__fft_coefficient__coeff_24__attr_\"angle\"  \\\n",
       "id                                                   \n",
       "0                                       111.832604   \n",
       "1                                       111.795840   \n",
       "\n",
       "    delta__approximate_entropy__m_2__r_0.7  \\\n",
       "id                                           \n",
       "0                                 0.005399   \n",
       "1                                 0.006066   \n",
       "\n",
       "    delta__agg_linear_trend__f_agg_\"var\"__chunk_len_5__attr_\"rvalue\"  \\\n",
       "id                                                                     \n",
       "0                                           -0.047492                  \n",
       "1                                           -0.074915                  \n",
       "\n",
       "    delta__agg_linear_trend__f_agg_\"var\"__chunk_len_10__attr_\"rvalue\"  \\\n",
       "id                                                                      \n",
       "0                                           -0.045574                   \n",
       "1                                           -0.077398                   \n",
       "\n",
       "    delta__agg_linear_trend__f_agg_\"var\"__chunk_len_50__attr_\"rvalue\"  \\\n",
       "id                                                                      \n",
       "0                                           -0.048526                   \n",
       "1                                           -0.094158                   \n",
       "\n",
       "    delta__fft_coefficient__coeff_1__attr_\"angle\"  delta__count_above_mean  \\\n",
       "id                                                                           \n",
       "0                                       92.323925                    102.0   \n",
       "1                                       94.481583                    103.0   \n",
       "\n",
       "    delta__longest_strike_below_mean  delta__count_below_mean  \\\n",
       "id                                                              \n",
       "0                               98.0                     98.0   \n",
       "1                               97.0                     97.0   \n",
       "\n",
       "    delta__longest_strike_above_mean  \n",
       "id                                    \n",
       "0                              102.0  \n",
       "1                              103.0  \n",
       "\n",
       "[2 rows x 270 columns]"
      ]
     },
     "execution_count": 32,
     "metadata": {},
     "output_type": "execute_result"
    }
   ],
   "source": [
    "# Выведем первые две строки получившегося датафрэйма\n",
    "resulted_df = remain_relevant_features(features)\n",
    "resulted_df.head(2)"
   ]
  },
  {
   "cell_type": "code",
   "execution_count": 33,
   "metadata": {},
   "outputs": [
    {
     "name": "stdout",
     "output_type": "stream",
     "text": [
      "Оставшиеся фичи:\n",
      "Ug__cwt_coefficients__widths_(2, 5, 10, 20)__coeff_5__w_10\n",
      "Ug__fft_coefficient__coeff_19__attr_\"real\"\n",
      "Ug__cwt_coefficients__widths_(2, 5, 10, 20)__coeff_6__w_10\n",
      "Ug__agg_linear_trend__f_agg_\"var\"__chunk_len_50__attr_\"rvalue\"\n",
      "Ug__fft_coefficient__coeff_3__attr_\"real\"\n",
      "Ug__cwt_coefficients__widths_(2, 5, 10, 20)__coeff_4__w_10\n",
      "Ug__fft_coefficient__coeff_20__attr_\"real\"\n",
      "Ug__fft_coefficient__coeff_3__attr_\"angle\"\n",
      "Ug__cwt_coefficients__widths_(2, 5, 10, 20)__coeff_7__w_10\n",
      "Ug__cwt_coefficients__widths_(2, 5, 10, 20)__coeff_0__w_20\n"
     ]
    }
   ],
   "source": [
    "print(\"Оставшиеся фичи:\")\n",
    "print(*resulted_df.columns[:10], sep='\\n')"
   ]
  },
  {
   "cell_type": "markdown",
   "metadata": {},
   "source": [
    "## Постоение простейших моделей, градиентный бустинг и ансамбль решающих деревьев\n",
    "Так как задача трансформировалась в задачу мультиклассификации, то воспользуемся методикой One-VS-All и построим модель для каждого отдельного класса"
   ]
  },
  {
   "cell_type": "code",
   "execution_count": 34,
   "metadata": {},
   "outputs": [],
   "source": [
    "# OVA strategy\n",
    "from sklearn.multiclass import OneVsRestClassifier\n",
    "# OVO strategy\n",
    "from sklearn.multiclass import OneVsOneClassifier\n",
    "# Estimators for use in OVR (OVA)\n",
    "from sklearn.ensemble import GradientBoostingClassifier\n",
    "from sklearn.ensemble import RandomForestClassifier\n",
    "from sklearn.ensemble import AdaBoostClassifier\n",
    "from sklearn.naive_bayes import GaussianNB, CategoricalNB, BernoulliNB\n",
    "from sklearn.svm import SVC\n",
    "# Estimators with built-in OVR\n",
    "from sklearn.svm import LinearSVC\n",
    "from sklearn.gaussian_process import GaussianProcessClassifier\n",
    "# Model selection\n",
    "from sklearn.model_selection import train_test_split\n",
    "from sklearn.model_selection import cross_val_score\n",
    "# Sklearn metrics\n",
    "from sklearn import metrics\n",
    "# Defaultdict\n",
    "from collections import defaultdict"
   ]
  },
  {
   "cell_type": "code",
   "execution_count": 35,
   "metadata": {},
   "outputs": [],
   "source": [
    "X = resulted_df\n",
    "y = labels.label"
   ]
  },
  {
   "cell_type": "code",
   "execution_count": 36,
   "metadata": {},
   "outputs": [],
   "source": [
    "X_train, X_val, y_train, y_val = train_test_split(X, y, test_size=0.1, random_state=42)"
   ]
  },
  {
   "cell_type": "code",
   "execution_count": 37,
   "metadata": {},
   "outputs": [],
   "source": [
    "resulted_df_val = join_signal_features(features_val).reindex(columns=X.columns)\n",
    "X_test, y_test = resulted_df_val, labels_2.label"
   ]
  },
  {
   "cell_type": "markdown",
   "metadata": {},
   "source": [
    "## Class for model evaluating"
   ]
  },
  {
   "cell_type": "code",
   "execution_count": 38,
   "metadata": {},
   "outputs": [],
   "source": [
    "class ModelEvaluator():\n",
    "    strategy_list = {'ovr': OneVsRestClassifier,\n",
    "                     'ovo': OneVsRestClassifier}\n",
    "    metric_list = {'f1_macro':\n",
    "                       lambda y_true, y_pred: metrics.f1_score(y_true, y_pred, average='macro'),\n",
    "                   'f1_micro':\n",
    "                       lambda y_true, y_pred: metrics.f1_score(y_true, y_pred, average='micro'),\n",
    "                   'accuracy': metrics.accuracy_score,\n",
    "                   }\n",
    "    \n",
    "    def __init__(self, clf, strategy='ovr', n_jobs=4):\n",
    "        \"\"\"\n",
    "        clf - classifier with fit, predict and predict_proba methods (classic)\n",
    "        X_train, y_train - training dataset\n",
    "        X_test, y_test - test dataset\n",
    "        strategy - multiclasss Strategy OVO/OVR\n",
    "        \"\"\"\n",
    "        if strategy.lower() not in self.strategy_list:\n",
    "            raise AttributeError('Strategy must be OVR or OVO')\n",
    "        self.strategy = strategy\n",
    "        self.clf = self.strategy_list[strategy.lower()](clf, n_jobs)\n",
    "        self.conf_matrix = None\n",
    "        self.metrics = defaultdict()\n",
    "    \n",
    "    def count_metrics(self, y_true, y_pred):\n",
    "        for metric_name, metric_func in self.metric_list.items():\n",
    "            self.metrics[metric_name] = metric_func(y_true, y_pred)\n",
    "    \n",
    "    def evaluate(self, X_train, y_train, X_test, y_test, output=False):\n",
    "        self.fit(X_train, y_train)\n",
    "        y_pred = self.predict(X_test)\n",
    "        self.conf_matrix = metrics.confusion_matrix(y_test, y_pred)\n",
    "        self.count_metrics(y_test, y_pred)\n",
    "        if output: print(*self.metrics.items(), sep='\\n')\n",
    "        \n",
    "    def fit(self, X, y):\n",
    "        self.clf.fit(X, y)\n",
    "        \n",
    "    def predict(self, X):\n",
    "        return self.clf.predict(X)\n",
    "    \n",
    "    def predict_proba(self, X):\n",
    "        if self.strategy == 'ovo':\n",
    "            raise AttributeError('OVO strategy has no predict_proba!')\n",
    "        return self.clf.predict_proba(X)\n",
    "    \n",
    "    def __repr__(self):\n",
    "        sep = '-' * 10 + '\\n'\n",
    "        res = ''\n",
    "        res += f'Strategy {self.strategy} with estimator:\\n'\n",
    "        res += str(self.clf.estimator) + '\\n'\n",
    "        res += sep\n",
    "        if self.conf_matrix is not None:\n",
    "            res += f'Confusion matrix:\\n{self.conf_matrix}\\n'\n",
    "            res += sep\n",
    "            res += '\\n'.join([' '.join(list(map(str, pair))) for pair in self.metrics.items()])\n",
    "        else:\n",
    "            res += 'Model is not fitted'\n",
    "        return res"
   ]
  },
  {
   "cell_type": "markdown",
   "metadata": {},
   "source": [
    "### AdaBoost"
   ]
  },
  {
   "cell_type": "code",
   "execution_count": 39,
   "metadata": {},
   "outputs": [],
   "source": [
    "ada = AdaBoostClassifier(n_estimators=70)\n",
    "#                          base_estimator=GaussianNB(),\n",
    "#                          learning_rate=0.001)"
   ]
  },
  {
   "cell_type": "code",
   "execution_count": 40,
   "metadata": {},
   "outputs": [],
   "source": [
    "ada_ev = ModelEvaluator(ada)"
   ]
  },
  {
   "cell_type": "code",
   "execution_count": 41,
   "metadata": {},
   "outputs": [
    {
     "data": {
      "text/plain": [
       "Strategy ovr with estimator:\n",
       "AdaBoostClassifier(algorithm='SAMME.R', base_estimator=None, learning_rate=1.0,\n",
       "                   n_estimators=70, random_state=None)\n",
       "----------\n",
       "Confusion matrix:\n",
       "[[18  0  0]\n",
       " [21  0  0]\n",
       " [ 2 13  0]]\n",
       "----------\n",
       "f1_macro 0.2033898305084746\n",
       "f1_micro 0.3333333333333333\n",
       "accuracy 0.3333333333333333"
      ]
     },
     "execution_count": 41,
     "metadata": {},
     "output_type": "execute_result"
    }
   ],
   "source": [
    "ada_ev.evaluate(X, y, X_test, y_test)\n",
    "ada_ev"
   ]
  },
  {
   "cell_type": "markdown",
   "metadata": {},
   "source": [
    "### Naive Bayes"
   ]
  },
  {
   "cell_type": "code",
   "execution_count": 42,
   "metadata": {},
   "outputs": [],
   "source": [
    "gnb = GaussianNB()"
   ]
  },
  {
   "cell_type": "code",
   "execution_count": 43,
   "metadata": {},
   "outputs": [],
   "source": [
    "gnb_ev = ModelEvaluator(gnb)"
   ]
  },
  {
   "cell_type": "code",
   "execution_count": 44,
   "metadata": {},
   "outputs": [
    {
     "data": {
      "text/plain": [
       "Strategy ovr with estimator:\n",
       "GaussianNB(priors=None, var_smoothing=1e-09)\n",
       "----------\n",
       "Confusion matrix:\n",
       "[[18  0  0]\n",
       " [19  0  2]\n",
       " [15  0  0]]\n",
       "----------\n",
       "f1_macro 0.1714285714285714\n",
       "f1_micro 0.3333333333333333\n",
       "accuracy 0.3333333333333333"
      ]
     },
     "execution_count": 44,
     "metadata": {},
     "output_type": "execute_result"
    }
   ],
   "source": [
    "gnb_ev.evaluate(X, y, X_test, y_test)\n",
    "gnb_ev"
   ]
  },
  {
   "cell_type": "markdown",
   "metadata": {},
   "source": [
    "### SVM (SVC)"
   ]
  },
  {
   "cell_type": "code",
   "execution_count": 45,
   "metadata": {},
   "outputs": [],
   "source": [
    "svm_clf = SVC()"
   ]
  },
  {
   "cell_type": "code",
   "execution_count": 46,
   "metadata": {},
   "outputs": [],
   "source": [
    "svm_ev = ModelEvaluator(svm_clf)"
   ]
  },
  {
   "cell_type": "code",
   "execution_count": 47,
   "metadata": {},
   "outputs": [
    {
     "data": {
      "text/plain": [
       "Strategy ovr with estimator:\n",
       "SVC(C=1.0, break_ties=False, cache_size=200, class_weight=None, coef0=0.0,\n",
       "    decision_function_shape='ovr', degree=3, gamma='scale', kernel='rbf',\n",
       "    max_iter=-1, probability=False, random_state=None, shrinking=True,\n",
       "    tol=0.001, verbose=False)\n",
       "----------\n",
       "Confusion matrix:\n",
       "[[18  0  0]\n",
       " [21  0  0]\n",
       " [15  0  0]]\n",
       "----------\n",
       "f1_macro 0.16666666666666666\n",
       "f1_micro 0.3333333333333333\n",
       "accuracy 0.3333333333333333"
      ]
     },
     "execution_count": 47,
     "metadata": {},
     "output_type": "execute_result"
    }
   ],
   "source": [
    "svm_ev.evaluate(X, y, X_test, y_test)\n",
    "svm_ev"
   ]
  },
  {
   "cell_type": "markdown",
   "metadata": {},
   "source": [
    "### GaussianProcess"
   ]
  },
  {
   "cell_type": "code",
   "execution_count": 48,
   "metadata": {},
   "outputs": [],
   "source": [
    "gpc = GaussianProcessClassifier(multi_class = 'one_vs_one',\n",
    "                                max_iter_predict=100\n",
    "                               )\n",
    "clf = gpc"
   ]
  },
  {
   "cell_type": "code",
   "execution_count": 49,
   "metadata": {},
   "outputs": [
    {
     "data": {
      "text/plain": [
       "GaussianProcessClassifier(copy_X_train=True, kernel=None, max_iter_predict=100,\n",
       "                          multi_class='one_vs_one', n_jobs=None,\n",
       "                          n_restarts_optimizer=0, optimizer='fmin_l_bfgs_b',\n",
       "                          random_state=None, warm_start=False)"
      ]
     },
     "execution_count": 49,
     "metadata": {},
     "output_type": "execute_result"
    }
   ],
   "source": [
    "clf.fit(X, y)"
   ]
  },
  {
   "cell_type": "code",
   "execution_count": 50,
   "metadata": {},
   "outputs": [],
   "source": [
    "y_pred = clf.predict(X_test)"
   ]
  },
  {
   "cell_type": "code",
   "execution_count": 51,
   "metadata": {
    "scrolled": true
   },
   "outputs": [
    {
     "name": "stdout",
     "output_type": "stream",
     "text": [
      "Accuracy: 0.3333333333333333\n",
      "F1-macro: 0.16666666666666666\n"
     ]
    },
    {
     "data": {
      "text/plain": [
       "array([[18,  0,  0],\n",
       "       [21,  0,  0],\n",
       "       [15,  0,  0]])"
      ]
     },
     "execution_count": 51,
     "metadata": {},
     "output_type": "execute_result"
    }
   ],
   "source": [
    "y_true = np.array(y_test)\n",
    "print(\"Accuracy:\", metrics.accuracy_score(y_true, y_pred))\n",
    "print(\"F1-macro:\", metrics.f1_score(y_true, y_pred, average='macro'))\n",
    "metrics.confusion_matrix(y_true, y_pred)"
   ]
  },
  {
   "cell_type": "markdown",
   "metadata": {},
   "source": [
    "### Ансамбль решающих деревьев\n",
    "Так как задача трансформировалась в задачу мультиклассификации, то воспользуемся методикой One-VS-All и построим модель для каждого отдельного класса"
   ]
  },
  {
   "cell_type": "code",
   "execution_count": 52,
   "metadata": {},
   "outputs": [],
   "source": [
    "rfc = RandomForestClassifier(n_estimators=500,\n",
    "                             max_depth=5,\n",
    "                             max_features='auto',\n",
    "                             class_weight='balanced',\n",
    "#                              bootstrap=False\n",
    "                            )"
   ]
  },
  {
   "cell_type": "code",
   "execution_count": 53,
   "metadata": {
    "scrolled": true
   },
   "outputs": [],
   "source": [
    "rfc_ev = ModelEvaluator(rfc)"
   ]
  },
  {
   "cell_type": "code",
   "execution_count": 54,
   "metadata": {},
   "outputs": [
    {
     "data": {
      "text/plain": [
       "Strategy ovr with estimator:\n",
       "RandomForestClassifier(bootstrap=True, ccp_alpha=0.0, class_weight='balanced',\n",
       "                       criterion='gini', max_depth=5, max_features='auto',\n",
       "                       max_leaf_nodes=None, max_samples=None,\n",
       "                       min_impurity_decrease=0.0, min_impurity_split=None,\n",
       "                       min_samples_leaf=1, min_samples_split=2,\n",
       "                       min_weight_fraction_leaf=0.0, n_estimators=500,\n",
       "                       n_jobs=None, oob_score=False, random_state=None,\n",
       "                       verbose=0, warm_start=False)\n",
       "----------\n",
       "Confusion matrix:\n",
       "[[ 0 18  0]\n",
       " [ 0 21  0]\n",
       " [ 0 15  0]]\n",
       "----------\n",
       "f1_macro 0.18666666666666668\n",
       "f1_micro 0.3888888888888889\n",
       "accuracy 0.3888888888888889"
      ]
     },
     "execution_count": 54,
     "metadata": {},
     "output_type": "execute_result"
    }
   ],
   "source": [
    "rfc_ev.evaluate(X, y, X_test, y_test)\n",
    "rfc_ev"
   ]
  },
  {
   "cell_type": "markdown",
   "metadata": {},
   "source": [
    "### Градиентный бустинг"
   ]
  },
  {
   "cell_type": "code",
   "execution_count": 55,
   "metadata": {},
   "outputs": [],
   "source": [
    "gbc = GradientBoostingClassifier(learning_rate=0.5,\n",
    "                                 random_state=42,\n",
    "                                 n_estimators=500,\n",
    "                                 min_samples_leaf=3,\n",
    "                                 max_depth=3)"
   ]
  },
  {
   "cell_type": "code",
   "execution_count": 56,
   "metadata": {},
   "outputs": [],
   "source": [
    "gbc_ev = ModelEvaluator(gbc)"
   ]
  },
  {
   "cell_type": "code",
   "execution_count": 57,
   "metadata": {},
   "outputs": [
    {
     "data": {
      "text/plain": [
       "Strategy ovr with estimator:\n",
       "GradientBoostingClassifier(ccp_alpha=0.0, criterion='friedman_mse', init=None,\n",
       "                           learning_rate=0.5, loss='deviance', max_depth=3,\n",
       "                           max_features=None, max_leaf_nodes=None,\n",
       "                           min_impurity_decrease=0.0, min_impurity_split=None,\n",
       "                           min_samples_leaf=3, min_samples_split=2,\n",
       "                           min_weight_fraction_leaf=0.0, n_estimators=500,\n",
       "                           n_iter_no_change=None, presort='deprecated',\n",
       "                           random_state=42, subsample=1.0, tol=0.0001,\n",
       "                           validation_fraction=0.1, verbose=0,\n",
       "                           warm_start=False)\n",
       "----------\n",
       "Confusion matrix:\n",
       "[[11  7  0]\n",
       " [ 6 15  0]\n",
       " [14  1  0]]\n",
       "----------\n",
       "f1_macro 0.3769325912183055\n",
       "f1_micro 0.48148148148148145\n",
       "accuracy 0.48148148148148145"
      ]
     },
     "execution_count": 57,
     "metadata": {},
     "output_type": "execute_result"
    }
   ],
   "source": [
    "gbc_ev.evaluate(X, y, X_test, y_test)\n",
    "gbc_ev"
   ]
  },
  {
   "cell_type": "markdown",
   "metadata": {},
   "source": [
    "## For tests"
   ]
  },
  {
   "cell_type": "code",
   "execution_count": 58,
   "metadata": {},
   "outputs": [
    {
     "data": {
      "image/png": "[encoded data removed]",
      "text/plain": [
       "<Figure size 432x288 with 1 Axes>"
      ]
     },
     "metadata": {
      "needs_background": "light"
     },
     "output_type": "display_data"
    },
    {
     "data": {
      "image/png": "[encoded data removed]",
      "text/plain": [
       "<Figure size 432x288 with 1 Axes>"
      ]
     },
     "metadata": {
      "needs_background": "light"
     },
     "output_type": "display_data"
    },
    {
     "data": {
      "image/png": "[encoded data removed]",
      "text/plain": [
       "<Figure size 432x288 with 1 Axes>"
      ]
     },
     "metadata": {
      "needs_background": "light"
     },
     "output_type": "display_data"
    }
   ],
   "source": [
    "n_params = 70\n",
    "rndst = 4\n",
    "most_valuable_feat = dict([[feat, None] for feat in features])\n",
    "for param in features:\n",
    "    most_valuable_feat[param] = (plot_features(modified_features[param].astype('float32'), labels.label))"
   ]
  },
  {
   "cell_type": "code",
   "execution_count": 59,
   "metadata": {},
   "outputs": [
    {
     "data": {
      "text/html": [
       "<div>\n",
       "<style scoped>\n",
       "    .dataframe tbody tr th:only-of-type {\n",
       "        vertical-align: middle;\n",
       "    }\n",
       "\n",
       "    .dataframe tbody tr th {\n",
       "        vertical-align: top;\n",
       "    }\n",
       "\n",
       "    .dataframe thead th {\n",
       "        text-align: right;\n",
       "    }\n",
       "</style>\n",
       "<table border=\"1\" class=\"dataframe\">\n",
       "  <thead>\n",
       "    <tr style=\"text-align: right;\">\n",
       "      <th></th>\n",
       "      <th>Ug__cwt_coefficients__widths_(2, 5, 10, 20)__coeff_5__w_10</th>\n",
       "      <th>Ug__fft_coefficient__coeff_19__attr_\"real\"</th>\n",
       "      <th>Ug__cwt_coefficients__widths_(2, 5, 10, 20)__coeff_6__w_10</th>\n",
       "      <th>Ug__agg_linear_trend__f_agg_\"var\"__chunk_len_50__attr_\"rvalue\"</th>\n",
       "      <th>Ug__fft_coefficient__coeff_3__attr_\"real\"</th>\n",
       "      <th>Ug__cwt_coefficients__widths_(2, 5, 10, 20)__coeff_4__w_10</th>\n",
       "      <th>Ug__fft_coefficient__coeff_20__attr_\"real\"</th>\n",
       "      <th>Ug__fft_coefficient__coeff_3__attr_\"angle\"</th>\n",
       "      <th>Ug__cwt_coefficients__widths_(2, 5, 10, 20)__coeff_7__w_10</th>\n",
       "      <th>Ug__cwt_coefficients__widths_(2, 5, 10, 20)__coeff_0__w_20</th>\n",
       "      <th>...</th>\n",
       "      <th>delta__approximate_entropy__m_2__r_0.5</th>\n",
       "      <th>delta__approximate_entropy__m_2__r_0.9</th>\n",
       "      <th>delta__approximate_entropy__m_2__r_0.7</th>\n",
       "      <th>delta__agg_linear_trend__f_agg_\"var\"__chunk_len_5__attr_\"rvalue\"</th>\n",
       "      <th>delta__agg_linear_trend__f_agg_\"var\"__chunk_len_10__attr_\"rvalue\"</th>\n",
       "      <th>delta__agg_linear_trend__f_agg_\"var\"__chunk_len_50__attr_\"rvalue\"</th>\n",
       "      <th>delta__fft_coefficient__coeff_1__attr_\"angle\"</th>\n",
       "      <th>delta__longest_strike_below_mean</th>\n",
       "      <th>delta__count_below_mean</th>\n",
       "      <th>delta__longest_strike_above_mean</th>\n",
       "    </tr>\n",
       "    <tr>\n",
       "      <th>id</th>\n",
       "      <th></th>\n",
       "      <th></th>\n",
       "      <th></th>\n",
       "      <th></th>\n",
       "      <th></th>\n",
       "      <th></th>\n",
       "      <th></th>\n",
       "      <th></th>\n",
       "      <th></th>\n",
       "      <th></th>\n",
       "      <th></th>\n",
       "      <th></th>\n",
       "      <th></th>\n",
       "      <th></th>\n",
       "      <th></th>\n",
       "      <th></th>\n",
       "      <th></th>\n",
       "      <th></th>\n",
       "      <th></th>\n",
       "      <th></th>\n",
       "      <th></th>\n",
       "    </tr>\n",
       "  </thead>\n",
       "  <tbody>\n",
       "    <tr>\n",
       "      <th>0</th>\n",
       "      <td>0.657114</td>\n",
       "      <td>0.755949</td>\n",
       "      <td>0.769167</td>\n",
       "      <td>-0.431112</td>\n",
       "      <td>-1.734249</td>\n",
       "      <td>0.522359</td>\n",
       "      <td>0.674364</td>\n",
       "      <td>-102.385873</td>\n",
       "      <td>0.857243</td>\n",
       "      <td>-0.384502</td>\n",
       "      <td>...</td>\n",
       "      <td>0.007152</td>\n",
       "      <td>0.004227</td>\n",
       "      <td>0.005399</td>\n",
       "      <td>-0.047492</td>\n",
       "      <td>-0.045574</td>\n",
       "      <td>-0.048526</td>\n",
       "      <td>92.323925</td>\n",
       "      <td>98.0</td>\n",
       "      <td>98.0</td>\n",
       "      <td>102.0</td>\n",
       "    </tr>\n",
       "    <tr>\n",
       "      <th>1</th>\n",
       "      <td>0.606452</td>\n",
       "      <td>0.761108</td>\n",
       "      <td>0.713753</td>\n",
       "      <td>-0.539858</td>\n",
       "      <td>-1.771619</td>\n",
       "      <td>0.477404</td>\n",
       "      <td>0.679939</td>\n",
       "      <td>-103.610867</td>\n",
       "      <td>0.798188</td>\n",
       "      <td>-0.421613</td>\n",
       "      <td>...</td>\n",
       "      <td>0.007898</td>\n",
       "      <td>0.004849</td>\n",
       "      <td>0.006066</td>\n",
       "      <td>-0.074915</td>\n",
       "      <td>-0.077398</td>\n",
       "      <td>-0.094158</td>\n",
       "      <td>94.481583</td>\n",
       "      <td>97.0</td>\n",
       "      <td>97.0</td>\n",
       "      <td>103.0</td>\n",
       "    </tr>\n",
       "  </tbody>\n",
       "</table>\n",
       "<p>2 rows × 210 columns</p>\n",
       "</div>"
      ],
      "text/plain": [
       "    Ug__cwt_coefficients__widths_(2, 5, 10, 20)__coeff_5__w_10  \\\n",
       "id                                                               \n",
       "0                                            0.657114            \n",
       "1                                            0.606452            \n",
       "\n",
       "    Ug__fft_coefficient__coeff_19__attr_\"real\"  \\\n",
       "id                                               \n",
       "0                                     0.755949   \n",
       "1                                     0.761108   \n",
       "\n",
       "    Ug__cwt_coefficients__widths_(2, 5, 10, 20)__coeff_6__w_10  \\\n",
       "id                                                               \n",
       "0                                            0.769167            \n",
       "1                                            0.713753            \n",
       "\n",
       "    Ug__agg_linear_trend__f_agg_\"var\"__chunk_len_50__attr_\"rvalue\"  \\\n",
       "id                                                                   \n",
       "0                                           -0.431112                \n",
       "1                                           -0.539858                \n",
       "\n",
       "    Ug__fft_coefficient__coeff_3__attr_\"real\"  \\\n",
       "id                                              \n",
       "0                                   -1.734249   \n",
       "1                                   -1.771619   \n",
       "\n",
       "    Ug__cwt_coefficients__widths_(2, 5, 10, 20)__coeff_4__w_10  \\\n",
       "id                                                               \n",
       "0                                            0.522359            \n",
       "1                                            0.477404            \n",
       "\n",
       "    Ug__fft_coefficient__coeff_20__attr_\"real\"  \\\n",
       "id                                               \n",
       "0                                     0.674364   \n",
       "1                                     0.679939   \n",
       "\n",
       "    Ug__fft_coefficient__coeff_3__attr_\"angle\"  \\\n",
       "id                                               \n",
       "0                                  -102.385873   \n",
       "1                                  -103.610867   \n",
       "\n",
       "    Ug__cwt_coefficients__widths_(2, 5, 10, 20)__coeff_7__w_10  \\\n",
       "id                                                               \n",
       "0                                            0.857243            \n",
       "1                                            0.798188            \n",
       "\n",
       "    Ug__cwt_coefficients__widths_(2, 5, 10, 20)__coeff_0__w_20  ...  \\\n",
       "id                                                              ...   \n",
       "0                                           -0.384502           ...   \n",
       "1                                           -0.421613           ...   \n",
       "\n",
       "    delta__approximate_entropy__m_2__r_0.5  \\\n",
       "id                                           \n",
       "0                                 0.007152   \n",
       "1                                 0.007898   \n",
       "\n",
       "    delta__approximate_entropy__m_2__r_0.9  \\\n",
       "id                                           \n",
       "0                                 0.004227   \n",
       "1                                 0.004849   \n",
       "\n",
       "    delta__approximate_entropy__m_2__r_0.7  \\\n",
       "id                                           \n",
       "0                                 0.005399   \n",
       "1                                 0.006066   \n",
       "\n",
       "    delta__agg_linear_trend__f_agg_\"var\"__chunk_len_5__attr_\"rvalue\"  \\\n",
       "id                                                                     \n",
       "0                                           -0.047492                  \n",
       "1                                           -0.074915                  \n",
       "\n",
       "    delta__agg_linear_trend__f_agg_\"var\"__chunk_len_10__attr_\"rvalue\"  \\\n",
       "id                                                                      \n",
       "0                                           -0.045574                   \n",
       "1                                           -0.077398                   \n",
       "\n",
       "    delta__agg_linear_trend__f_agg_\"var\"__chunk_len_50__attr_\"rvalue\"  \\\n",
       "id                                                                      \n",
       "0                                           -0.048526                   \n",
       "1                                           -0.094158                   \n",
       "\n",
       "    delta__fft_coefficient__coeff_1__attr_\"angle\"  \\\n",
       "id                                                  \n",
       "0                                       92.323925   \n",
       "1                                       94.481583   \n",
       "\n",
       "    delta__longest_strike_below_mean  delta__count_below_mean  \\\n",
       "id                                                              \n",
       "0                               98.0                     98.0   \n",
       "1                               97.0                     97.0   \n",
       "\n",
       "    delta__longest_strike_above_mean  \n",
       "id                                    \n",
       "0                              102.0  \n",
       "1                              103.0  \n",
       "\n",
       "[2 rows x 210 columns]"
      ]
     },
     "execution_count": 59,
     "metadata": {},
     "output_type": "execute_result"
    }
   ],
   "source": [
    "# Выведем первые две строки получившегося датафрэйма\n",
    "resulted_df = remain_relevant_features(features)\n",
    "resulted_df.head(2)"
   ]
  },
  {
   "cell_type": "code",
   "execution_count": 60,
   "metadata": {},
   "outputs": [],
   "source": [
    "X = resulted_df\n",
    "y = labels.label"
   ]
  },
  {
   "cell_type": "code",
   "execution_count": 61,
   "metadata": {},
   "outputs": [],
   "source": [
    "X_train, X_val, y_train, y_val = train_test_split(X, y, test_size=0.1, random_state=42)"
   ]
  },
  {
   "cell_type": "code",
   "execution_count": 62,
   "metadata": {},
   "outputs": [],
   "source": [
    "resulted_df_val = join_signal_features(features_val).reindex(columns=X.columns)\n",
    "X_test, y_test = resulted_df_val, labels_2.label"
   ]
  },
  {
   "cell_type": "markdown",
   "metadata": {},
   "source": [
    "### CatBoost"
   ]
  },
  {
   "cell_type": "code",
   "execution_count": 59,
   "metadata": {},
   "outputs": [],
   "source": [
    "from catboost import CatBoostClassifier"
   ]
  },
  {
   "cell_type": "code",
   "execution_count": 60,
   "metadata": {},
   "outputs": [],
   "source": [
    "best_l2_reg = 1.6\n",
    "best_lr = 0.86\n",
    "best_n = 500"
   ]
  },
  {
   "cell_type": "code",
   "execution_count": 125,
   "metadata": {},
   "outputs": [],
   "source": [
    "\n",
    "# Grid check leaf_reg\n",
    "results = defaultdict()\n",
    "\n",
    "for i in np.arange(0.65, 0.96, 0.01):\n",
    "    cboost_clf = CatBoostClassifier(\n",
    "                                    n_estimators=best_n,\n",
    "                                    max_depth=3,\n",
    "                                    learning_rate=i,\n",
    "                                    loss_function='MultiClass',\n",
    "                                    random_state=rndst,\n",
    "    #                                 min_\n",
    "                                    l2_leaf_reg=best_l2_reg\n",
    "                                    )\n",
    "    cboost_ev = ModelEvaluator(cboost_clf)\n",
    "    cboost_ev.evaluate(X, y, X_test, y_test)\n",
    "    results[i] = cboost_ev.metrics"
   ]
  },
  {
   "cell_type": "code",
   "execution_count": 128,
   "metadata": {},
   "outputs": [],
   "source": [
    "def plot_grid_search(results):\n",
    "    '''\n",
    "    results - dict of searched values\n",
    "    '''\n",
    "    plt.figure(figsize=(8,6))\n",
    "    acc = [i['accuracy'] for i in results.values()]\n",
    "    f1 = [i['f1_macro'] for i in results.values()]\n",
    "    plt.plot(list(results.keys()), acc, 'rv-')\n",
    "    plt.plot(list(results.keys()), f1, 'bs--')\n",
    "    plt.xlabel('Скорость обучения')\n",
    "    plt.ylabel('Точность')\n",
    "    plt.legend(['Средняя точность', 'Точность для класса'], loc='lower right')\n",
    "    plt.show()"
   ]
  },
  {
   "cell_type": "code",
   "execution_count": 129,
   "metadata": {},
   "outputs": [
    {
     "data": {
      "image/png": "[encoded data removed]",
      "text/plain": [
       "<Figure size 576x432 with 1 Axes>"
      ]
     },
     "metadata": {
      "needs_background": "light"
     },
     "output_type": "display_data"
    },
    {
     "data": {
      "text/plain": [
       "defaultdict(None,\n",
       "            {0.65: defaultdict(None,\n",
       "                         {'f1_macro': 0.7413241864108916,\n",
       "                          'f1_micro': 0.7485380116959063,\n",
       "                          'accuracy': 0.7485380116959064}),\n",
       "             0.66: defaultdict(None,\n",
       "                         {'f1_macro': 0.7910876153096505,\n",
       "                          'f1_micro': 0.7894736842105263,\n",
       "                          'accuracy': 0.7894736842105263}),\n",
       "             0.67: defaultdict(None,\n",
       "                         {'f1_macro': 0.8081608480013571,\n",
       "                          'f1_micro': 0.8070175438596491,\n",
       "                          'accuracy': 0.8070175438596491}),\n",
       "             0.68: defaultdict(None,\n",
       "                         {'f1_macro': 0.8137757087207094,\n",
       "                          'f1_micro': 0.8128654970760234,\n",
       "                          'accuracy': 0.8128654970760234}),\n",
       "             0.6900000000000001: defaultdict(None,\n",
       "                         {'f1_macro': 0.8137757087207094,\n",
       "                          'f1_micro': 0.8128654970760234,\n",
       "                          'accuracy': 0.8128654970760234}),\n",
       "             0.7000000000000001: defaultdict(None,\n",
       "                         {'f1_macro': 0.8275277193202877,\n",
       "                          'f1_micro': 0.8245614035087719,\n",
       "                          'accuracy': 0.8245614035087719}),\n",
       "             0.7100000000000001: defaultdict(None,\n",
       "                         {'f1_macro': 0.8085098632083204,\n",
       "                          'f1_micro': 0.8070175438596491,\n",
       "                          'accuracy': 0.8070175438596491}),\n",
       "             0.7200000000000001: defaultdict(None,\n",
       "                         {'f1_macro': 0.8218555211992457,\n",
       "                          'f1_micro': 0.8187134502923976,\n",
       "                          'accuracy': 0.8187134502923976}),\n",
       "             0.7300000000000001: defaultdict(None,\n",
       "                         {'f1_macro': 0.6934072047638437,\n",
       "                          'f1_micro': 0.7134502923976607,\n",
       "                          'accuracy': 0.7134502923976608}),\n",
       "             0.7400000000000001: defaultdict(None,\n",
       "                         {'f1_macro': 0.7105165019578594,\n",
       "                          'f1_micro': 0.7251461988304092,\n",
       "                          'accuracy': 0.7251461988304093}),\n",
       "             0.7500000000000001: defaultdict(None,\n",
       "                         {'f1_macro': 0.715174885675442,\n",
       "                          'f1_micro': 0.7309941520467838,\n",
       "                          'accuracy': 0.7309941520467836}),\n",
       "             0.7600000000000001: defaultdict(None,\n",
       "                         {'f1_macro': 0.7051474262868567,\n",
       "                          'f1_micro': 0.7192982456140351,\n",
       "                          'accuracy': 0.7192982456140351}),\n",
       "             0.7700000000000001: defaultdict(None,\n",
       "                         {'f1_macro': 0.7255477621147387,\n",
       "                          'f1_micro': 0.7368421052631579,\n",
       "                          'accuracy': 0.7368421052631579}),\n",
       "             0.7800000000000001: defaultdict(None,\n",
       "                         {'f1_macro': 0.7105165019578594,\n",
       "                          'f1_micro': 0.7251461988304092,\n",
       "                          'accuracy': 0.7251461988304093}),\n",
       "             0.7900000000000001: defaultdict(None,\n",
       "                         {'f1_macro': 0.6849499719553457,\n",
       "                          'f1_micro': 0.7076023391812865,\n",
       "                          'accuracy': 0.7076023391812866}),\n",
       "             0.8000000000000002: defaultdict(None,\n",
       "                         {'f1_macro': 0.7184214884890054,\n",
       "                          'f1_micro': 0.7309941520467838,\n",
       "                          'accuracy': 0.7309941520467836}),\n",
       "             0.8100000000000002: defaultdict(None,\n",
       "                         {'f1_macro': 0.8328712157074908,\n",
       "                          'f1_micro': 0.8304093567251462,\n",
       "                          'accuracy': 0.8304093567251462}),\n",
       "             0.8200000000000002: defaultdict(None,\n",
       "                         {'f1_macro': 0.8328712157074908,\n",
       "                          'f1_micro': 0.8304093567251462,\n",
       "                          'accuracy': 0.8304093567251462}),\n",
       "             0.8300000000000002: defaultdict(None,\n",
       "                         {'f1_macro': 0.7941742106057929,\n",
       "                          'f1_micro': 0.7953216374269005,\n",
       "                          'accuracy': 0.7953216374269005}),\n",
       "             0.8400000000000002: defaultdict(None,\n",
       "                         {'f1_macro': 0.814932946719826,\n",
       "                          'f1_micro': 0.8128654970760234,\n",
       "                          'accuracy': 0.8128654970760234}),\n",
       "             0.8500000000000002: defaultdict(None,\n",
       "                         {'f1_macro': 0.8085098632083204,\n",
       "                          'f1_micro': 0.8070175438596491,\n",
       "                          'accuracy': 0.8070175438596491}),\n",
       "             0.8600000000000002: defaultdict(None,\n",
       "                         {'f1_macro': 0.839338377728757,\n",
       "                          'f1_micro': 0.8362573099415205,\n",
       "                          'accuracy': 0.8362573099415205}),\n",
       "             0.8700000000000002: defaultdict(None,\n",
       "                         {'f1_macro': 0.8339967970716083,\n",
       "                          'f1_micro': 0.8304093567251462,\n",
       "                          'accuracy': 0.8304093567251462}),\n",
       "             0.8800000000000002: defaultdict(None,\n",
       "                         {'f1_macro': 0.8002745367192862,\n",
       "                          'f1_micro': 0.7953216374269005,\n",
       "                          'accuracy': 0.7953216374269005}),\n",
       "             0.8900000000000002: defaultdict(None,\n",
       "                         {'f1_macro': 0.7120100130852819,\n",
       "                          'f1_micro': 0.7192982456140351,\n",
       "                          'accuracy': 0.7192982456140351}),\n",
       "             0.9000000000000002: defaultdict(None,\n",
       "                         {'f1_macro': 0.7105165019578594,\n",
       "                          'f1_micro': 0.7251461988304092,\n",
       "                          'accuracy': 0.7251461988304093}),\n",
       "             0.9100000000000003: defaultdict(None,\n",
       "                         {'f1_macro': 0.7488520355261677,\n",
       "                          'f1_micro': 0.7602339181286549,\n",
       "                          'accuracy': 0.7602339181286549}),\n",
       "             0.9200000000000003: defaultdict(None,\n",
       "                         {'f1_macro': 0.7198654876074232,\n",
       "                          'f1_micro': 0.7368421052631579,\n",
       "                          'accuracy': 0.7368421052631579}),\n",
       "             0.9300000000000003: defaultdict(None,\n",
       "                         {'f1_macro': 0.7309554661392621,\n",
       "                          'f1_micro': 0.7426900584795322,\n",
       "                          'accuracy': 0.7426900584795322}),\n",
       "             0.9400000000000003: defaultdict(None,\n",
       "                         {'f1_macro': 0.7309554661392621,\n",
       "                          'f1_micro': 0.7426900584795322,\n",
       "                          'accuracy': 0.7426900584795322}),\n",
       "             0.9500000000000003: defaultdict(None,\n",
       "                         {'f1_macro': 0.7309554661392621,\n",
       "                          'f1_micro': 0.7426900584795322,\n",
       "                          'accuracy': 0.7426900584795322})})"
      ]
     },
     "execution_count": 129,
     "metadata": {},
     "output_type": "execute_result"
    }
   ],
   "source": [
    "plot_grid_search(results)\n",
    "results"
   ]
  },
  {
   "cell_type": "code",
   "execution_count": 61,
   "metadata": {},
   "outputs": [],
   "source": [
    "cboost_clf = CatBoostClassifier(\n",
    "                                n_estimators=best_n,\n",
    "                                max_depth=3,\n",
    "                                learning_rate=best_lr,\n",
    "                                loss_function='MultiClass',\n",
    "                                random_state=rndst,\n",
    "#                                 min_\n",
    "                                l2_leaf_reg=best_l2_reg\n",
    "                                )"
   ]
  },
  {
   "cell_type": "code",
   "execution_count": 62,
   "metadata": {},
   "outputs": [],
   "source": [
    "cboost_ev = ModelEvaluator(cboost_clf)\n",
    "clf = cboost_clf"
   ]
  },
  {
   "cell_type": "code",
   "execution_count": 63,
   "metadata": {},
   "outputs": [],
   "source": [
    "cboost_ev.evaluate(X, y, X_test, y_test)"
   ]
  },
  {
   "cell_type": "code",
   "execution_count": 64,
   "metadata": {},
   "outputs": [
    {
     "data": {
      "text/plain": [
       "Strategy ovr with estimator:\n",
       "<catboost.core.CatBoostClassifier object at 0x7f2b608e0c18>\n",
       "----------\n",
       "Confusion matrix:\n",
       "[[ 9  9  0]\n",
       " [ 0 21  0]\n",
       " [ 0 14  1]]\n",
       "----------\n",
       "f1_macro 0.4792735042735043\n",
       "f1_micro 0.5740740740740741\n",
       "accuracy 0.5740740740740741"
      ]
     },
     "execution_count": 64,
     "metadata": {},
     "output_type": "execute_result"
    }
   ],
   "source": [
    "cboost_ev"
   ]
  },
  {
   "cell_type": "code",
   "execution_count": 65,
   "metadata": {},
   "outputs": [],
   "source": [
    "clf = CatBoostClassifier(\n",
    "                                n_estimators=300,\n",
    "                                max_depth=3,\n",
    "                                learning_rate=0.7,\n",
    "                                loss_function='MultiClass',\n",
    "                                random_state=4,\n",
    "                                class_weights=[1.7,1,1],\n",
    "                                l2_leaf_reg=4\n",
    "                                )"
   ]
  },
  {
   "cell_type": "code",
   "execution_count": 66,
   "metadata": {},
   "outputs": [],
   "source": [
    "# For searching optimal params\n",
    "clf.fit(X_train, y_train,\n",
    "        eval_set=(X_val, y_val),\n",
    "        verbose=False);"
   ]
  },
  {
   "cell_type": "code",
   "execution_count": 67,
   "metadata": {},
   "outputs": [
    {
     "name": "stdout",
     "output_type": "stream",
     "text": [
      "Accuracy: 0.5\n"
     ]
    },
    {
     "data": {
      "text/plain": [
       "array([[ 6, 12,  0],\n",
       "       [ 0, 21,  0],\n",
       "       [ 0, 15,  0]])"
      ]
     },
     "execution_count": 67,
     "metadata": {},
     "output_type": "execute_result"
    }
   ],
   "source": [
    "y_pred = clf.predict(X_test)\n",
    "print(\"Accuracy:\", metrics.accuracy_score(y_true, y_pred))\n",
    "metrics.confusion_matrix(y_true, clf.predict(X_test))"
   ]
  },
  {
   "cell_type": "markdown",
   "metadata": {},
   "source": [
    "##### clf = cboost_ev"
   ]
  },
  {
   "cell_type": "code",
   "execution_count": 99,
   "metadata": {},
   "outputs": [
    {
     "data": {
      "text/html": [
       "<div>\n",
       "<style scoped>\n",
       "    .dataframe tbody tr th:only-of-type {\n",
       "        vertical-align: middle;\n",
       "    }\n",
       "\n",
       "    .dataframe tbody tr th {\n",
       "        vertical-align: top;\n",
       "    }\n",
       "\n",
       "    .dataframe thead th {\n",
       "        text-align: right;\n",
       "    }\n",
       "</style>\n",
       "<table border=\"1\" class=\"dataframe\">\n",
       "  <thead>\n",
       "    <tr style=\"text-align: right;\">\n",
       "      <th></th>\n",
       "      <th>id</th>\n",
       "      <th>class</th>\n",
       "      <th>label</th>\n",
       "      <th>predicted_class</th>\n",
       "      <th>le_8</th>\n",
       "      <th>more_8</th>\n",
       "      <th>more_20</th>\n",
       "    </tr>\n",
       "  </thead>\n",
       "  <tbody>\n",
       "    <tr>\n",
       "      <th>61</th>\n",
       "      <td>61</td>\n",
       "      <td>more_20</td>\n",
       "      <td>2</td>\n",
       "      <td>more_20</td>\n",
       "      <td>7.78606e-06</td>\n",
       "      <td>0.494097</td>\n",
       "      <td>0.505895</td>\n",
       "    </tr>\n",
       "    <tr>\n",
       "      <th>90</th>\n",
       "      <td>90</td>\n",
       "      <td>more_8</td>\n",
       "      <td>1</td>\n",
       "      <td>more_8</td>\n",
       "      <td>1.09289e-05</td>\n",
       "      <td>0.713772</td>\n",
       "      <td>0.286217</td>\n",
       "    </tr>\n",
       "    <tr>\n",
       "      <th>78</th>\n",
       "      <td>78</td>\n",
       "      <td>more_8</td>\n",
       "      <td>1</td>\n",
       "      <td>more_8</td>\n",
       "      <td>1.57065e-05</td>\n",
       "      <td>0.757036</td>\n",
       "      <td>0.242948</td>\n",
       "    </tr>\n",
       "    <tr>\n",
       "      <th>46</th>\n",
       "      <td>46</td>\n",
       "      <td>le_8</td>\n",
       "      <td>0</td>\n",
       "      <td>le_8</td>\n",
       "      <td>0.900818</td>\n",
       "      <td>0.0991528</td>\n",
       "      <td>2.89776e-05</td>\n",
       "    </tr>\n",
       "    <tr>\n",
       "      <th>8</th>\n",
       "      <td>8</td>\n",
       "      <td>more_20</td>\n",
       "      <td>2</td>\n",
       "      <td>more_20</td>\n",
       "      <td>1.30004e-05</td>\n",
       "      <td>0.00197463</td>\n",
       "      <td>0.998012</td>\n",
       "    </tr>\n",
       "    <tr>\n",
       "      <th>56</th>\n",
       "      <td>56</td>\n",
       "      <td>le_8</td>\n",
       "      <td>0</td>\n",
       "      <td>more_8</td>\n",
       "      <td>0.0110861</td>\n",
       "      <td>0.987458</td>\n",
       "      <td>0.00145578</td>\n",
       "    </tr>\n",
       "    <tr>\n",
       "      <th>110</th>\n",
       "      <td>110</td>\n",
       "      <td>more_20</td>\n",
       "      <td>2</td>\n",
       "      <td>more_8</td>\n",
       "      <td>0.000286923</td>\n",
       "      <td>0.762157</td>\n",
       "      <td>0.237556</td>\n",
       "    </tr>\n",
       "    <tr>\n",
       "      <th>94</th>\n",
       "      <td>94</td>\n",
       "      <td>le_8</td>\n",
       "      <td>0</td>\n",
       "      <td>le_8</td>\n",
       "      <td>0.999856</td>\n",
       "      <td>0.000120819</td>\n",
       "      <td>2.34417e-05</td>\n",
       "    </tr>\n",
       "    <tr>\n",
       "      <th>118</th>\n",
       "      <td>118</td>\n",
       "      <td>more_20</td>\n",
       "      <td>2</td>\n",
       "      <td>more_20</td>\n",
       "      <td>0.000990711</td>\n",
       "      <td>0.311197</td>\n",
       "      <td>0.687812</td>\n",
       "    </tr>\n",
       "    <tr>\n",
       "      <th>19</th>\n",
       "      <td>19</td>\n",
       "      <td>more_8</td>\n",
       "      <td>1</td>\n",
       "      <td>more_20</td>\n",
       "      <td>1.59345e-05</td>\n",
       "      <td>6.32806e-05</td>\n",
       "      <td>0.999921</td>\n",
       "    </tr>\n",
       "  </tbody>\n",
       "</table>\n",
       "</div>"
      ],
      "text/plain": [
       "      id    class  label predicted_class         le_8       more_8  \\\n",
       "61    61  more_20      2         more_20  7.78606e-06     0.494097   \n",
       "90    90   more_8      1          more_8  1.09289e-05     0.713772   \n",
       "78    78   more_8      1          more_8  1.57065e-05     0.757036   \n",
       "46    46     le_8      0            le_8     0.900818    0.0991528   \n",
       "8      8  more_20      2         more_20  1.30004e-05   0.00197463   \n",
       "56    56     le_8      0          more_8    0.0110861     0.987458   \n",
       "110  110  more_20      2          more_8  0.000286923     0.762157   \n",
       "94    94     le_8      0            le_8     0.999856  0.000120819   \n",
       "118  118  more_20      2         more_20  0.000990711     0.311197   \n",
       "19    19   more_8      1         more_20  1.59345e-05  6.32806e-05   \n",
       "\n",
       "         more_20  \n",
       "61      0.505895  \n",
       "90      0.286217  \n",
       "78      0.242948  \n",
       "46   2.89776e-05  \n",
       "8       0.998012  \n",
       "56    0.00145578  \n",
       "110     0.237556  \n",
       "94   2.34417e-05  \n",
       "118     0.687812  \n",
       "19      0.999921  "
      ]
     },
     "execution_count": 99,
     "metadata": {},
     "output_type": "execute_result"
    }
   ],
   "source": [
    "predicted_labels = pd.Series(clf.predict(X_test)).replace({0: 'le_8',\n",
    "                        1: 'more_8',\n",
    "                        2: 'more_20',\n",
    "                       }).values.reshape(-1,1)\n",
    "predicted_df = pd.DataFrame(np.concatenate([predicted_labels, clf.predict_proba(X_test)], axis=1),\n",
    "                            index=labels_2.index,\n",
    "                            columns=['predicted_class'] + list(['le_8', 'more_8', 'more_20']),\n",
    "                           )\n",
    "cboost_res = pd.concat(\n",
    "          [labels_2,\n",
    "           predicted_df\n",
    "          ],\n",
    "          axis=1)\n",
    "cboost_res.sample(10)"
   ]
  },
  {
   "cell_type": "code",
   "execution_count": 100,
   "metadata": {},
   "outputs": [
    {
     "data": {
      "text/html": [
       "<div>\n",
       "<style scoped>\n",
       "    .dataframe tbody tr th:only-of-type {\n",
       "        vertical-align: middle;\n",
       "    }\n",
       "\n",
       "    .dataframe tbody tr th {\n",
       "        vertical-align: top;\n",
       "    }\n",
       "\n",
       "    .dataframe thead th {\n",
       "        text-align: right;\n",
       "    }\n",
       "</style>\n",
       "<table border=\"1\" class=\"dataframe\">\n",
       "  <thead>\n",
       "    <tr style=\"text-align: right;\">\n",
       "      <th></th>\n",
       "      <th>id</th>\n",
       "      <th>class</th>\n",
       "      <th>label</th>\n",
       "      <th>predicted_class</th>\n",
       "      <th>le_8</th>\n",
       "      <th>more_8</th>\n",
       "      <th>more_20</th>\n",
       "    </tr>\n",
       "  </thead>\n",
       "  <tbody>\n",
       "    <tr>\n",
       "      <th>15</th>\n",
       "      <td>15</td>\n",
       "      <td>more_8</td>\n",
       "      <td>1</td>\n",
       "      <td>more_20</td>\n",
       "      <td>1.60078e-05</td>\n",
       "      <td>8.9364e-05</td>\n",
       "      <td>0.999895</td>\n",
       "    </tr>\n",
       "    <tr>\n",
       "      <th>16</th>\n",
       "      <td>16</td>\n",
       "      <td>more_8</td>\n",
       "      <td>1</td>\n",
       "      <td>more_20</td>\n",
       "      <td>4.18563e-05</td>\n",
       "      <td>0.0624897</td>\n",
       "      <td>0.937468</td>\n",
       "    </tr>\n",
       "    <tr>\n",
       "      <th>19</th>\n",
       "      <td>19</td>\n",
       "      <td>more_8</td>\n",
       "      <td>1</td>\n",
       "      <td>more_20</td>\n",
       "      <td>1.59345e-05</td>\n",
       "      <td>6.32806e-05</td>\n",
       "      <td>0.999921</td>\n",
       "    </tr>\n",
       "    <tr>\n",
       "      <th>22</th>\n",
       "      <td>22</td>\n",
       "      <td>more_8</td>\n",
       "      <td>1</td>\n",
       "      <td>more_20</td>\n",
       "      <td>1.47391e-05</td>\n",
       "      <td>0.00016207</td>\n",
       "      <td>0.999823</td>\n",
       "    </tr>\n",
       "    <tr>\n",
       "      <th>23</th>\n",
       "      <td>23</td>\n",
       "      <td>more_8</td>\n",
       "      <td>1</td>\n",
       "      <td>more_20</td>\n",
       "      <td>1.28743e-05</td>\n",
       "      <td>0.000224952</td>\n",
       "      <td>0.999762</td>\n",
       "    </tr>\n",
       "    <tr>\n",
       "      <th>24</th>\n",
       "      <td>24</td>\n",
       "      <td>more_8</td>\n",
       "      <td>1</td>\n",
       "      <td>more_20</td>\n",
       "      <td>1.30173e-05</td>\n",
       "      <td>0.000619101</td>\n",
       "      <td>0.999368</td>\n",
       "    </tr>\n",
       "    <tr>\n",
       "      <th>30</th>\n",
       "      <td>30</td>\n",
       "      <td>more_8</td>\n",
       "      <td>1</td>\n",
       "      <td>more_20</td>\n",
       "      <td>1.28684e-05</td>\n",
       "      <td>0.000215797</td>\n",
       "      <td>0.999771</td>\n",
       "    </tr>\n",
       "    <tr>\n",
       "      <th>33</th>\n",
       "      <td>33</td>\n",
       "      <td>more_8</td>\n",
       "      <td>1</td>\n",
       "      <td>more_20</td>\n",
       "      <td>1.49143e-05</td>\n",
       "      <td>0.000216877</td>\n",
       "      <td>0.999768</td>\n",
       "    </tr>\n",
       "    <tr>\n",
       "      <th>34</th>\n",
       "      <td>34</td>\n",
       "      <td>more_8</td>\n",
       "      <td>1</td>\n",
       "      <td>more_20</td>\n",
       "      <td>1.60051e-05</td>\n",
       "      <td>9.97088e-05</td>\n",
       "      <td>0.999884</td>\n",
       "    </tr>\n",
       "    <tr>\n",
       "      <th>38</th>\n",
       "      <td>38</td>\n",
       "      <td>more_8</td>\n",
       "      <td>1</td>\n",
       "      <td>more_20</td>\n",
       "      <td>1.68829e-05</td>\n",
       "      <td>0.00120644</td>\n",
       "      <td>0.998777</td>\n",
       "    </tr>\n",
       "    <tr>\n",
       "      <th>40</th>\n",
       "      <td>40</td>\n",
       "      <td>le_8</td>\n",
       "      <td>0</td>\n",
       "      <td>more_8</td>\n",
       "      <td>0.00127224</td>\n",
       "      <td>0.99855</td>\n",
       "      <td>0.000178067</td>\n",
       "    </tr>\n",
       "    <tr>\n",
       "      <th>41</th>\n",
       "      <td>41</td>\n",
       "      <td>le_8</td>\n",
       "      <td>0</td>\n",
       "      <td>more_8</td>\n",
       "      <td>0.0117901</td>\n",
       "      <td>0.986799</td>\n",
       "      <td>0.00141107</td>\n",
       "    </tr>\n",
       "    <tr>\n",
       "      <th>43</th>\n",
       "      <td>43</td>\n",
       "      <td>le_8</td>\n",
       "      <td>0</td>\n",
       "      <td>more_8</td>\n",
       "      <td>0.0444644</td>\n",
       "      <td>0.955272</td>\n",
       "      <td>0.000263177</td>\n",
       "    </tr>\n",
       "    <tr>\n",
       "      <th>54</th>\n",
       "      <td>54</td>\n",
       "      <td>le_8</td>\n",
       "      <td>0</td>\n",
       "      <td>more_8</td>\n",
       "      <td>0.0452029</td>\n",
       "      <td>0.954352</td>\n",
       "      <td>0.000444971</td>\n",
       "    </tr>\n",
       "    <tr>\n",
       "      <th>56</th>\n",
       "      <td>56</td>\n",
       "      <td>le_8</td>\n",
       "      <td>0</td>\n",
       "      <td>more_8</td>\n",
       "      <td>0.0110861</td>\n",
       "      <td>0.987458</td>\n",
       "      <td>0.00145578</td>\n",
       "    </tr>\n",
       "    <tr>\n",
       "      <th>86</th>\n",
       "      <td>86</td>\n",
       "      <td>more_8</td>\n",
       "      <td>1</td>\n",
       "      <td>more_20</td>\n",
       "      <td>5.2528e-05</td>\n",
       "      <td>0.37937</td>\n",
       "      <td>0.620578</td>\n",
       "    </tr>\n",
       "    <tr>\n",
       "      <th>101</th>\n",
       "      <td>101</td>\n",
       "      <td>le_8</td>\n",
       "      <td>0</td>\n",
       "      <td>more_8</td>\n",
       "      <td>0.067237</td>\n",
       "      <td>0.931923</td>\n",
       "      <td>0.00084017</td>\n",
       "    </tr>\n",
       "    <tr>\n",
       "      <th>103</th>\n",
       "      <td>103</td>\n",
       "      <td>le_8</td>\n",
       "      <td>0</td>\n",
       "      <td>more_8</td>\n",
       "      <td>0.0368317</td>\n",
       "      <td>0.96221</td>\n",
       "      <td>0.000958768</td>\n",
       "    </tr>\n",
       "    <tr>\n",
       "      <th>108</th>\n",
       "      <td>108</td>\n",
       "      <td>more_20</td>\n",
       "      <td>2</td>\n",
       "      <td>more_8</td>\n",
       "      <td>0.000209196</td>\n",
       "      <td>0.822643</td>\n",
       "      <td>0.177148</td>\n",
       "    </tr>\n",
       "    <tr>\n",
       "      <th>110</th>\n",
       "      <td>110</td>\n",
       "      <td>more_20</td>\n",
       "      <td>2</td>\n",
       "      <td>more_8</td>\n",
       "      <td>0.000286923</td>\n",
       "      <td>0.762157</td>\n",
       "      <td>0.237556</td>\n",
       "    </tr>\n",
       "    <tr>\n",
       "      <th>111</th>\n",
       "      <td>111</td>\n",
       "      <td>more_20</td>\n",
       "      <td>2</td>\n",
       "      <td>more_8</td>\n",
       "      <td>0.00025004</td>\n",
       "      <td>0.762045</td>\n",
       "      <td>0.237705</td>\n",
       "    </tr>\n",
       "    <tr>\n",
       "      <th>113</th>\n",
       "      <td>113</td>\n",
       "      <td>more_20</td>\n",
       "      <td>2</td>\n",
       "      <td>more_8</td>\n",
       "      <td>0.000199515</td>\n",
       "      <td>0.910814</td>\n",
       "      <td>0.0889865</td>\n",
       "    </tr>\n",
       "    <tr>\n",
       "      <th>114</th>\n",
       "      <td>114</td>\n",
       "      <td>more_20</td>\n",
       "      <td>2</td>\n",
       "      <td>more_8</td>\n",
       "      <td>0.000345321</td>\n",
       "      <td>0.797752</td>\n",
       "      <td>0.201903</td>\n",
       "    </tr>\n",
       "    <tr>\n",
       "      <th>115</th>\n",
       "      <td>115</td>\n",
       "      <td>more_20</td>\n",
       "      <td>2</td>\n",
       "      <td>more_8</td>\n",
       "      <td>0.000200448</td>\n",
       "      <td>0.910813</td>\n",
       "      <td>0.0889865</td>\n",
       "    </tr>\n",
       "    <tr>\n",
       "      <th>116</th>\n",
       "      <td>116</td>\n",
       "      <td>more_20</td>\n",
       "      <td>2</td>\n",
       "      <td>more_8</td>\n",
       "      <td>0.000183052</td>\n",
       "      <td>0.823865</td>\n",
       "      <td>0.175952</td>\n",
       "    </tr>\n",
       "    <tr>\n",
       "      <th>121</th>\n",
       "      <td>121</td>\n",
       "      <td>more_20</td>\n",
       "      <td>2</td>\n",
       "      <td>more_8</td>\n",
       "      <td>0.000235003</td>\n",
       "      <td>0.804851</td>\n",
       "      <td>0.194914</td>\n",
       "    </tr>\n",
       "    <tr>\n",
       "      <th>122</th>\n",
       "      <td>122</td>\n",
       "      <td>more_20</td>\n",
       "      <td>2</td>\n",
       "      <td>more_8</td>\n",
       "      <td>0.000209996</td>\n",
       "      <td>0.824236</td>\n",
       "      <td>0.175554</td>\n",
       "    </tr>\n",
       "    <tr>\n",
       "      <th>140</th>\n",
       "      <td>140</td>\n",
       "      <td>more_8</td>\n",
       "      <td>1</td>\n",
       "      <td>le_8</td>\n",
       "      <td>0.656825</td>\n",
       "      <td>0.343136</td>\n",
       "      <td>3.91967e-05</td>\n",
       "    </tr>\n",
       "  </tbody>\n",
       "</table>\n",
       "</div>"
      ],
      "text/plain": [
       "      id    class  label predicted_class         le_8       more_8  \\\n",
       "15    15   more_8      1         more_20  1.60078e-05   8.9364e-05   \n",
       "16    16   more_8      1         more_20  4.18563e-05    0.0624897   \n",
       "19    19   more_8      1         more_20  1.59345e-05  6.32806e-05   \n",
       "22    22   more_8      1         more_20  1.47391e-05   0.00016207   \n",
       "23    23   more_8      1         more_20  1.28743e-05  0.000224952   \n",
       "24    24   more_8      1         more_20  1.30173e-05  0.000619101   \n",
       "30    30   more_8      1         more_20  1.28684e-05  0.000215797   \n",
       "33    33   more_8      1         more_20  1.49143e-05  0.000216877   \n",
       "34    34   more_8      1         more_20  1.60051e-05  9.97088e-05   \n",
       "38    38   more_8      1         more_20  1.68829e-05   0.00120644   \n",
       "40    40     le_8      0          more_8   0.00127224      0.99855   \n",
       "41    41     le_8      0          more_8    0.0117901     0.986799   \n",
       "43    43     le_8      0          more_8    0.0444644     0.955272   \n",
       "54    54     le_8      0          more_8    0.0452029     0.954352   \n",
       "56    56     le_8      0          more_8    0.0110861     0.987458   \n",
       "86    86   more_8      1         more_20   5.2528e-05      0.37937   \n",
       "101  101     le_8      0          more_8     0.067237     0.931923   \n",
       "103  103     le_8      0          more_8    0.0368317      0.96221   \n",
       "108  108  more_20      2          more_8  0.000209196     0.822643   \n",
       "110  110  more_20      2          more_8  0.000286923     0.762157   \n",
       "111  111  more_20      2          more_8   0.00025004     0.762045   \n",
       "113  113  more_20      2          more_8  0.000199515     0.910814   \n",
       "114  114  more_20      2          more_8  0.000345321     0.797752   \n",
       "115  115  more_20      2          more_8  0.000200448     0.910813   \n",
       "116  116  more_20      2          more_8  0.000183052     0.823865   \n",
       "121  121  more_20      2          more_8  0.000235003     0.804851   \n",
       "122  122  more_20      2          more_8  0.000209996     0.824236   \n",
       "140  140   more_8      1            le_8     0.656825     0.343136   \n",
       "\n",
       "         more_20  \n",
       "15      0.999895  \n",
       "16      0.937468  \n",
       "19      0.999921  \n",
       "22      0.999823  \n",
       "23      0.999762  \n",
       "24      0.999368  \n",
       "30      0.999771  \n",
       "33      0.999768  \n",
       "34      0.999884  \n",
       "38      0.998777  \n",
       "40   0.000178067  \n",
       "41    0.00141107  \n",
       "43   0.000263177  \n",
       "54   0.000444971  \n",
       "56    0.00145578  \n",
       "86      0.620578  \n",
       "101   0.00084017  \n",
       "103  0.000958768  \n",
       "108     0.177148  \n",
       "110     0.237556  \n",
       "111     0.237705  \n",
       "113    0.0889865  \n",
       "114     0.201903  \n",
       "115    0.0889865  \n",
       "116     0.175952  \n",
       "121     0.194914  \n",
       "122     0.175554  \n",
       "140  3.91967e-05  "
      ]
     },
     "execution_count": 100,
     "metadata": {},
     "output_type": "execute_result"
    }
   ],
   "source": [
    "cboost_res[cboost_res['class'] != cboost_res['predicted_class']]"
   ]
  },
  {
   "cell_type": "code",
   "execution_count": 76,
   "metadata": {},
   "outputs": [
    {
     "data": {
      "text/plain": [
       "array([[1, 0, 2, 2, 0, 1, 1, 0, 2, 2, 1]])"
      ]
     },
     "execution_count": 76,
     "metadata": {},
     "output_type": "execute_result"
    }
   ],
   "source": [
    "clf.predict(X_val).reshape(1,-1)"
   ]
  },
  {
   "cell_type": "code",
   "execution_count": 77,
   "metadata": {},
   "outputs": [
    {
     "data": {
      "text/plain": [
       "array([1, 0, 2, 2, 0, 1, 1, 0, 2, 2, 1])"
      ]
     },
     "execution_count": 77,
     "metadata": {},
     "output_type": "execute_result"
    }
   ],
   "source": [
    "y_val.values"
   ]
  },
  {
   "cell_type": "code",
   "execution_count": 78,
   "metadata": {},
   "outputs": [
    {
     "data": {
      "text/plain": [
       "'more_20'"
      ]
     },
     "execution_count": 78,
     "metadata": {},
     "output_type": "execute_result"
    }
   ],
   "source": [
    "labelizer.classes_[1]"
   ]
  },
  {
   "cell_type": "markdown",
   "metadata": {},
   "source": [
    "Гит комит"
   ]
  },
  {
   "cell_type": "code",
   "execution_count": 79,
   "metadata": {},
   "outputs": [],
   "source": [
    "# !git status\n",
    "# !git add .\n",
    "# !git commit -m \"Added another generator\"\n"
   ]
  },
  {
   "cell_type": "code",
   "execution_count": null,
   "metadata": {},
   "outputs": [],
   "source": []
  },
  {
   "cell_type": "code",
   "execution_count": null,
   "metadata": {},
   "outputs": [],
   "source": []
  },
  {
   "cell_type": "code",
   "execution_count": null,
   "metadata": {},
   "outputs": [],
   "source": []
  },
  {
   "cell_type": "code",
   "execution_count": null,
   "metadata": {},
   "outputs": [],
   "source": []
  },
  {
   "cell_type": "code",
   "execution_count": null,
   "metadata": {},
   "outputs": [],
   "source": []
  },
  {
   "cell_type": "code",
   "execution_count": null,
   "metadata": {},
   "outputs": [],
   "source": []
  }
 ],
 "metadata": {
  "kernelspec": {
   "display_name": "Python 3",
   "language": "python",
   "name": "python3"
  },
  "language_info": {
   "codemirror_mode": {
    "name": "ipython",
    "version": 3
   },
   "file_extension": ".py",
   "mimetype": "text/x-python",
   "name": "python",
   "nbconvert_exporter": "python",
   "pygments_lexer": "ipython3",
   "version": "3.7.3"
  }
 },
 "nbformat": 4,
 "nbformat_minor": 2
}
