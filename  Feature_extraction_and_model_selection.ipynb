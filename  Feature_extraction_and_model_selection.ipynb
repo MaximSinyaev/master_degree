{
 "cells": [
  {
   "cell_type": "code",
   "execution_count": 1,
   "metadata": {},
   "outputs": [],
   "source": [
    "import numpy as np\n",
    "import pandas as pd\n",
    "import os\n",
    "import seaborn as sns\n",
    "import re\n",
    "from collections import defaultdict"
   ]
  },
  {
   "cell_type": "code",
   "execution_count": 2,
   "metadata": {},
   "outputs": [],
   "source": [
    "from sklearn.feature_selection import SelectKBest, chi2\n",
    "from sklearn.ensemble import ExtraTreesClassifier\n",
    "from sklearn.preprocessing import LabelEncoder\n",
    "import matplotlib.pyplot as plt"
   ]
  },
  {
   "cell_type": "code",
   "execution_count": 3,
   "metadata": {},
   "outputs": [],
   "source": [
    "# Modules for signal transform\n",
    "from tsfresh import feature_extraction\n",
    "from tsfresh import select_features\n",
    "from tsfresh.utilities.dataframe_functions import impute"
   ]
  },
  {
   "cell_type": "code",
   "execution_count": 119,
   "metadata": {},
   "outputs": [],
   "source": [
    "# Consts\n",
    "n_treads = 4 # used in sklearn and tsfresh\n",
    "n_params = 75 # Params to remain in dataset"
   ]
  },
  {
   "cell_type": "code",
   "execution_count": 5,
   "metadata": {},
   "outputs": [],
   "source": [
    "def normalize_signal(signal, min_max=False):\n",
    "    \"\"\"\n",
    "    signal - np.array or pd.Series with signal values\n",
    "    \n",
    "    Returns normalized TS: (TS - mean(TS))/std(TS)\n",
    "    \"\"\"\n",
    "    if signal.name == 'delta':\n",
    "        return signal / 180\n",
    "    if min_max:\n",
    "        return (signal - signal.min()) / (signal.max() - signal.min())\n",
    "    std = np.std(signal)\n",
    "    norm_signal = (signal - np.mean(signal)) / std if std else 1\n",
    "    return norm_signal"
   ]
  },
  {
   "cell_type": "code",
   "execution_count": 6,
   "metadata": {},
   "outputs": [],
   "source": [
    "def normalize_all_signals_in_ds(one_group_ds, min_max=1):\n",
    "    global counter\n",
    "    counter += 1\n",
    "    for signal in one_group_ds.drop('t', axis=1):\n",
    "#         if signal in ['Ug', 'Pg']:\n",
    "#             one_group_ds[signal] = one_group_ds[signal] / one_group_ds[signal][0] - 1\n",
    "#         else:\n",
    "            one_group_ds[signal] = normalize_signal(one_group_ds[signal], min_max)"
   ]
  },
  {
   "cell_type": "code",
   "execution_count": 7,
   "metadata": {},
   "outputs": [
    {
     "data": {
      "text/plain": [
       "'/home/poligon/master_degree'"
      ]
     },
     "execution_count": 7,
     "metadata": {},
     "output_type": "execute_result"
    }
   ],
   "source": [
    "# os.chdir('..')\n",
    "os.getcwd()"
   ]
  },
  {
   "cell_type": "code",
   "execution_count": 8,
   "metadata": {},
   "outputs": [],
   "source": [
    "# labels = pd.DataFrame(columns=['id', 'class', 'label'])\n",
    "# labels.columns\n",
    "# labels.append((pd.Series( [1, 2, 3], index=labels.columns)), ignore_index=True)\n",
    "# # dfObj.append(pd.Series(['Raju', 21, 'Bangalore', 'India'], index=dfObj.columns ), ignore_index=True)"
   ]
  },
  {
   "cell_type": "code",
   "execution_count": 9,
   "metadata": {},
   "outputs": [],
   "source": [
    "def append_signals_dataset(data_directory, signals_dataset = None, labels = None, min_max_norm=True):\n",
    "    data_dir_list = os.listdir(data_directory)\n",
    "    os.chdir(data_directory)\n",
    "    if labels is None:\n",
    "        signal_id = 0\n",
    "        labels = pd.DataFrame(columns=['id', 'class', 'label'])\n",
    "    else:\n",
    "        signal_id = labels.id.max() + 1\n",
    "    for signal_label, directory in enumerate(data_dir_list):\n",
    "        if os.path.isfile(directory) or directory[0] == '.':\n",
    "                continue\n",
    "        os.chdir(directory)\n",
    "        for filename in os.listdir(os.curdir):\n",
    "            if re.match(r'(.*csv)', filename):\n",
    "#                 print(f'>>{filename}')\n",
    "                if (signals_dataset) is not None:\n",
    "                    tmp_df = pd.read_csv(filename)\n",
    "                    normalize_all_signals_in_ds(tmp_df, min_max_norm)\n",
    "                    tmp_df['id'] = signal_id\n",
    "                    signals_dataset = signals_dataset.append(tmp_df, ignore_index=True)\n",
    "                else:\n",
    "                    signals_dataset = pd.read_csv(filename)\n",
    "                    normalize_all_signals_in_ds(signals_dataset, min_max_norm)\n",
    "                    signals_dataset['id'] = signal_id\n",
    "#                 print(signals_dataset.head(5))\n",
    "                tmp_labels = pd.Series([signal_id, directory, np.int(signal_label)],\n",
    "                                         index=labels.columns)\n",
    "                labels = labels.append(tmp_labels, ignore_index=True)\n",
    "                signal_id += 1\n",
    "        os.chdir('../')\n",
    "    os.chdir('../..')\n",
    "    return signals_dataset, labels"
   ]
  },
  {
   "cell_type": "markdown",
   "metadata": {},
   "source": [
    "Data preprocessing:\n",
    "    - dropping U.1 == U\n",
    "    - changing type\n",
    "    - generating features"
   ]
  },
  {
   "cell_type": "code",
   "execution_count": 10,
   "metadata": {},
   "outputs": [
    {
     "data": {
      "text/plain": [
       "'/home/poligon/master_degree'"
      ]
     },
     "execution_count": 10,
     "metadata": {},
     "output_type": "execute_result"
    }
   ],
   "source": [
    "# os.chdir('../')\n",
    "os.getcwd()"
   ]
  },
  {
   "cell_type": "code",
   "execution_count": 11,
   "metadata": {},
   "outputs": [],
   "source": [
    "# Dataset for first gen\n",
    "counter = 0\n",
    "dataset, labels = append_signals_dataset('./data/gen_1_25')\n",
    "dataset, labels = append_signals_dataset('./data/gen_3_25', dataset, labels)\n",
    "# dataset, labels = append_signals_dataset('./data/gen_1_80', dataset, labels)\n",
    "# Dataset for second gen\n",
    "dataset_2, labels_2 = append_signals_dataset('./data/gen_1_80')\n",
    "dataset_2, labels_2 = append_signals_dataset('./data/gen_2_80', dataset_2, labels_2)\n",
    "dataset_2, labels_2 = append_signals_dataset('./data/gen_3_80', dataset_2, labels_2)"
   ]
  },
  {
   "cell_type": "code",
   "execution_count": 12,
   "metadata": {},
   "outputs": [],
   "source": [
    "labelizer = LabelEncoder().fit(labels['class'])\n",
    "def normalize_labels(labels_df):\n",
    "    \"\"\"\n",
    "    Разметим все классы числами от 0 до количества классов\n",
    "    и преобразуем новую колонку в формат чисел (float)\n",
    "    \"\"\"\n",
    "    labels_df['label'] = labelizer.transform(labels_df['class'])\n",
    "    labels_df.index = labels_df['id']\n",
    "    labels_df.drop(columns=['id'])"
   ]
  },
  {
   "cell_type": "code",
   "execution_count": 13,
   "metadata": {},
   "outputs": [
    {
     "data": {
      "text/plain": [
       "1    76\n",
       "2    50\n",
       "0    45\n",
       "Name: label, dtype: int64"
      ]
     },
     "execution_count": 13,
     "metadata": {},
     "output_type": "execute_result"
    }
   ],
   "source": [
    "labels_2.label.value_counts()"
   ]
  },
  {
   "cell_type": "code",
   "execution_count": 14,
   "metadata": {},
   "outputs": [
    {
     "name": "stdout",
     "output_type": "stream",
     "text": [
      "Уникальные классы в датасете: ['le_8' 'more_20' 'more_8']\n"
     ]
    },
    {
     "data": {
      "text/html": [
       "<div>\n",
       "<style scoped>\n",
       "    .dataframe tbody tr th:only-of-type {\n",
       "        vertical-align: middle;\n",
       "    }\n",
       "\n",
       "    .dataframe tbody tr th {\n",
       "        vertical-align: top;\n",
       "    }\n",
       "\n",
       "    .dataframe thead th {\n",
       "        text-align: right;\n",
       "    }\n",
       "</style>\n",
       "<table border=\"1\" class=\"dataframe\">\n",
       "  <thead>\n",
       "    <tr style=\"text-align: right;\">\n",
       "      <th></th>\n",
       "      <th>id</th>\n",
       "      <th>class</th>\n",
       "      <th>label</th>\n",
       "    </tr>\n",
       "    <tr>\n",
       "      <th>id</th>\n",
       "      <th></th>\n",
       "      <th></th>\n",
       "      <th></th>\n",
       "    </tr>\n",
       "  </thead>\n",
       "  <tbody>\n",
       "    <tr>\n",
       "      <th>8</th>\n",
       "      <td>8</td>\n",
       "      <td>more_20</td>\n",
       "      <td>1</td>\n",
       "    </tr>\n",
       "    <tr>\n",
       "      <th>65</th>\n",
       "      <td>65</td>\n",
       "      <td>more_20</td>\n",
       "      <td>1</td>\n",
       "    </tr>\n",
       "    <tr>\n",
       "      <th>64</th>\n",
       "      <td>64</td>\n",
       "      <td>more_20</td>\n",
       "      <td>1</td>\n",
       "    </tr>\n",
       "    <tr>\n",
       "      <th>4</th>\n",
       "      <td>4</td>\n",
       "      <td>more_20</td>\n",
       "      <td>1</td>\n",
       "    </tr>\n",
       "    <tr>\n",
       "      <th>58</th>\n",
       "      <td>58</td>\n",
       "      <td>more_20</td>\n",
       "      <td>1</td>\n",
       "    </tr>\n",
       "  </tbody>\n",
       "</table>\n",
       "</div>"
      ],
      "text/plain": [
       "    id    class  label\n",
       "id                    \n",
       "8    8  more_20      1\n",
       "65  65  more_20      1\n",
       "64  64  more_20      1\n",
       "4    4  more_20      1\n",
       "58  58  more_20      1"
      ]
     },
     "execution_count": 14,
     "metadata": {},
     "output_type": "execute_result"
    }
   ],
   "source": [
    "print(\"Уникальные классы в датасете:\", np.unique(labels['class']))\n",
    "normalize_labels(labels)\n",
    "normalize_labels(labels_2)\n",
    "labels.sample(5)"
   ]
  },
  {
   "cell_type": "code",
   "execution_count": 15,
   "metadata": {},
   "outputs": [
    {
     "data": {
      "text/plain": [
       "t            0\n",
       "Ug           0\n",
       "Us           0\n",
       "Pij          0\n",
       "Pg           0\n",
       "Pgt      20200\n",
       "delta        0\n",
       "id           0\n",
       "dtype: int64"
      ]
     },
     "execution_count": 15,
     "metadata": {},
     "output_type": "execute_result"
    }
   ],
   "source": [
    "dataset.isna().sum()"
   ]
  },
  {
   "cell_type": "code",
   "execution_count": 16,
   "metadata": {},
   "outputs": [
    {
     "data": {
      "text/plain": [
       "Index(['t', 'Ug', 'Us', 'Pij', 'Pg', 'Pgt', 'delta', 'id'], dtype='object')"
      ]
     },
     "execution_count": 16,
     "metadata": {},
     "output_type": "execute_result"
    }
   ],
   "source": [
    "dataset.columns"
   ]
  },
  {
   "cell_type": "code",
   "execution_count": 17,
   "metadata": {},
   "outputs": [
    {
     "data": {
      "image/png": "[encoded data removed]",
      "text/plain": [
       "<Figure size 432x432 with 1 Axes>"
      ]
     },
     "metadata": {
      "needs_background": "light"
     },
     "output_type": "display_data"
    }
   ],
   "source": [
    "ex = dataset.query('id == 35')\n",
    "fig = plt.figure(figsize=(6,6))\n",
    "ax = plt.axes()\n",
    "x_label = 't, с'\n",
    "plt.plot(ex['t'], ex['Ug'], label='Uг')\n",
    "plt.plot(ex['t'], ex['Pg'], label='Pг')\n",
    "plt.plot(ex['t'], ex['delta'], label=' δ')\n",
    "plt.xlim(-0.01, 2.05)\n",
    "plt.xlabel(x_label)\n",
    "plt.ylabel('отн. ед.')\n",
    "plt.legend(loc='best')\n",
    "\n",
    "plt.show()"
   ]
  },
  {
   "cell_type": "code",
   "execution_count": 18,
   "metadata": {},
   "outputs": [
    {
     "data": {
      "text/html": [
       "<div>\n",
       "<style scoped>\n",
       "    .dataframe tbody tr th:only-of-type {\n",
       "        vertical-align: middle;\n",
       "    }\n",
       "\n",
       "    .dataframe tbody tr th {\n",
       "        vertical-align: top;\n",
       "    }\n",
       "\n",
       "    .dataframe thead th {\n",
       "        text-align: right;\n",
       "    }\n",
       "</style>\n",
       "<table border=\"1\" class=\"dataframe\">\n",
       "  <thead>\n",
       "    <tr style=\"text-align: right;\">\n",
       "      <th></th>\n",
       "      <th>t</th>\n",
       "      <th>Ug</th>\n",
       "      <th>Pg</th>\n",
       "      <th>delta</th>\n",
       "      <th>id</th>\n",
       "    </tr>\n",
       "    <tr>\n",
       "      <th>tmp_id</th>\n",
       "      <th></th>\n",
       "      <th></th>\n",
       "      <th></th>\n",
       "      <th></th>\n",
       "      <th></th>\n",
       "    </tr>\n",
       "  </thead>\n",
       "  <tbody>\n",
       "    <tr>\n",
       "      <th>0</th>\n",
       "      <td>0.01</td>\n",
       "      <td>0.786561</td>\n",
       "      <td>0.575077</td>\n",
       "      <td>0.282944</td>\n",
       "      <td>0</td>\n",
       "    </tr>\n",
       "    <tr>\n",
       "      <th>1</th>\n",
       "      <td>0.02</td>\n",
       "      <td>0.786561</td>\n",
       "      <td>0.575077</td>\n",
       "      <td>0.282944</td>\n",
       "      <td>0</td>\n",
       "    </tr>\n",
       "    <tr>\n",
       "      <th>2</th>\n",
       "      <td>0.03</td>\n",
       "      <td>0.786561</td>\n",
       "      <td>0.575077</td>\n",
       "      <td>0.282944</td>\n",
       "      <td>0</td>\n",
       "    </tr>\n",
       "    <tr>\n",
       "      <th>3</th>\n",
       "      <td>0.04</td>\n",
       "      <td>0.786561</td>\n",
       "      <td>0.575077</td>\n",
       "      <td>0.282944</td>\n",
       "      <td>0</td>\n",
       "    </tr>\n",
       "    <tr>\n",
       "      <th>4</th>\n",
       "      <td>0.05</td>\n",
       "      <td>0.786561</td>\n",
       "      <td>0.575077</td>\n",
       "      <td>0.282944</td>\n",
       "      <td>0</td>\n",
       "    </tr>\n",
       "  </tbody>\n",
       "</table>\n",
       "</div>"
      ],
      "text/plain": [
       "           t        Ug        Pg     delta  id\n",
       "tmp_id                                        \n",
       "0       0.01  0.786561  0.575077  0.282944   0\n",
       "1       0.02  0.786561  0.575077  0.282944   0\n",
       "2       0.03  0.786561  0.575077  0.282944   0\n",
       "3       0.04  0.786561  0.575077  0.282944   0\n",
       "4       0.05  0.786561  0.575077  0.282944   0"
      ]
     },
     "execution_count": 18,
     "metadata": {},
     "output_type": "execute_result"
    }
   ],
   "source": [
    "# Удалим колонки которые не несут достаточной информации (повторяют значения, не изменяются)\n",
    "# или могут быть некорректны\n",
    "def drop_columns(dataset):\n",
    "    mod_dataset = dataset.drop(['Us', 'Pgt', 'Pij'], axis=1)\n",
    "    mod_dataset.index.name = 'tmp_id'\n",
    "    return mod_dataset\n",
    "mod_dataset = drop_columns(dataset)\n",
    "mod_dataset_2 = drop_columns(dataset_2)\n",
    "# Проверим возможность склеить сигнал с метками\n",
    "mod_dataset.head(5)"
   ]
  },
  {
   "cell_type": "code",
   "execution_count": 19,
   "metadata": {},
   "outputs": [],
   "source": [
    "def extract_signal_features(df, labels_df, feat_selection=True, signal_list=['Ug', 'Pg', 'delta']):\n",
    "    features = defaultdict()\n",
    "    for param in signal_list:\n",
    "#     mod_dataset[param] = mod_dataset[param].astype('float')\n",
    "        features[param] = feature_extraction.extract_features\\\n",
    "        (df.loc[:,[param,'id','t']], column_sort='t', column_id='id', n_jobs=n_treads)\n",
    "        impute(features[param])\n",
    "        if feat_selection:\n",
    "            features[param] = select_features(features[param], labels_df['label'], ml_task='classification', n_jobs=n_treads)\n",
    "    return features"
   ]
  },
  {
   "cell_type": "code",
   "execution_count": 20,
   "metadata": {},
   "outputs": [
    {
     "name": "stderr",
     "output_type": "stream",
     "text": [
      "Feature Extraction: 100%|██████████| 17/17 [01:10<00:00,  4.16s/it]\n",
      "Feature Extraction: 100%|██████████| 17/17 [01:08<00:00,  4.01s/it]\n",
      "Feature Extraction: 100%|██████████| 17/17 [01:04<00:00,  3.81s/it]\n",
      "/home/poligon/master_degree/tsfresh/utilities/dataframe_functions.py:170: RuntimeWarning: The columns ['delta__friedrich_coefficients__m_3__r_30__coeff_0'\n",
      " 'delta__friedrich_coefficients__m_3__r_30__coeff_1'\n",
      " 'delta__friedrich_coefficients__m_3__r_30__coeff_2'\n",
      " 'delta__friedrich_coefficients__m_3__r_30__coeff_3'\n",
      " 'delta__max_langevin_fixed_point__m_3__r_30'] did not have any finite values. Filling with zeros.\n",
      "  df.iloc[:, np.where(is_col_non_finite)[0]].columns.values), RuntimeWarning)\n"
     ]
    }
   ],
   "source": [
    "features = extract_signal_features(mod_dataset, labels)"
   ]
  },
  {
   "cell_type": "markdown",
   "metadata": {},
   "source": [
    "Извлечем те же признаки для проверочного датасета, который модель никогда не видела"
   ]
  },
  {
   "cell_type": "code",
   "execution_count": 21,
   "metadata": {},
   "outputs": [
    {
     "name": "stderr",
     "output_type": "stream",
     "text": [
      "Feature Extraction: 100%|██████████| 19/19 [01:52<00:00,  5.94s/it]\n",
      "Feature Extraction: 100%|██████████| 19/19 [01:52<00:00,  5.92s/it]\n",
      "Feature Extraction: 100%|██████████| 19/19 [01:46<00:00,  5.60s/it]\n",
      "/home/poligon/master_degree/tsfresh/utilities/dataframe_functions.py:170: RuntimeWarning: The columns ['delta__friedrich_coefficients__m_3__r_30__coeff_0'\n",
      " 'delta__friedrich_coefficients__m_3__r_30__coeff_1'\n",
      " 'delta__friedrich_coefficients__m_3__r_30__coeff_2'\n",
      " 'delta__friedrich_coefficients__m_3__r_30__coeff_3'\n",
      " 'delta__max_langevin_fixed_point__m_3__r_30'] did not have any finite values. Filling with zeros.\n",
      "  df.iloc[:, np.where(is_col_non_finite)[0]].columns.values), RuntimeWarning)\n"
     ]
    }
   ],
   "source": [
    "features_val = extract_signal_features(mod_dataset_2, labels_2, False)"
   ]
  },
  {
   "cell_type": "markdown",
   "metadata": {},
   "source": [
    "### Отбор признаков и формирование эквивалентных датасетов\n",
    "После обработки каждого сигнала библиотекой tsfresh извлекаем всевозможные признаки, признаки классифицированы по сигналу, из которого были получены (словарь features)\n",
    "\n",
    "В конечном счете для каждого сигнала сформирован следующий набор данных:"
   ]
  },
  {
   "cell_type": "code",
   "execution_count": 120,
   "metadata": {},
   "outputs": [
    {
     "name": "stdout",
     "output_type": "stream",
     "text": [
      "Для параметра Ug получено 541 признака(ов).\n",
      "Для параметра Pg получено 609 признака(ов).\n",
      "Для параметра delta получено 670 признака(ов).\n"
     ]
    }
   ],
   "source": [
    "for param in features:\n",
    "    print(\"Для параметра\", param, \"получено\", features[param].shape[1], \"признака(ов).\")"
   ]
  },
  {
   "cell_type": "code",
   "execution_count": 121,
   "metadata": {},
   "outputs": [
    {
     "data": {
      "text/plain": [
       "array(['Ug__change_quantiles__f_agg_\"mean\"__isabs_True__qh_0.6__ql_0.0',\n",
       "       'Ug__fft_coefficient__coeff_16__attr_\"abs\"',\n",
       "       'Ug__cwt_coefficients__widths_(2, 5, 10, 20)__coeff_7__w_2',\n",
       "       'Ug__fft_coefficient__coeff_98__attr_\"real\"',\n",
       "       'Ug__cwt_coefficients__widths_(2, 5, 10, 20)__coeff_13__w_10',\n",
       "       'Ug__fft_coefficient__coeff_3__attr_\"imag\"',\n",
       "       'Ug__fft_coefficient__coeff_98__attr_\"real\"',\n",
       "       'Ug__change_quantiles__f_agg_\"var\"__isabs_True__qh_0.8__ql_0.4',\n",
       "       'Ug__fft_coefficient__coeff_55__attr_\"real\"',\n",
       "       'Ug__fft_coefficient__coeff_41__attr_\"abs\"',\n",
       "       'Ug__autocorrelation__lag_6',\n",
       "       'Ug__fft_coefficient__coeff_1__attr_\"real\"',\n",
       "       'Ug__cwt_coefficients__widths_(2, 5, 10, 20)__coeff_1__w_2',\n",
       "       'Ug__fft_coefficient__coeff_39__attr_\"real\"',\n",
       "       'Ug__fft_coefficient__coeff_23__attr_\"real\"',\n",
       "       'Ug__fft_coefficient__coeff_87__attr_\"abs\"',\n",
       "       'Ug__energy_ratio_by_chunks__num_segments_10__segment_focus_5',\n",
       "       'Ug__change_quantiles__f_agg_\"mean\"__isabs_True__qh_0.8__ql_0.6',\n",
       "       'Ug__fft_coefficient__coeff_21__attr_\"real\"',\n",
       "       'Ug__fft_coefficient__coeff_29__attr_\"imag\"'], dtype=object)"
      ]
     },
     "execution_count": 121,
     "metadata": {},
     "output_type": "execute_result"
    }
   ],
   "source": [
    "# Пример хранящихся признаков\n",
    "features['Ug'].columns.values[np.random\\\n",
    "                              .randint(0, \n",
    "                                       features['Ug'].shape[1],\n",
    "                                       20)]"
   ]
  },
  {
   "cell_type": "markdown",
   "metadata": {},
   "source": [
    "## Поиск наиболее важных признаков, которые позволят предсказывать результат переходного процесса"
   ]
  },
  {
   "cell_type": "code",
   "execution_count": 122,
   "metadata": {},
   "outputs": [],
   "source": [
    "# Удаляем фичи количество признаков в которых меньше количества классов\n",
    "def clear_useless_features(features, threshold=3):\n",
    "    for feature in features.columns:\n",
    "        if features[feature].nunique() <= threshold \\\n",
    "            or features[feature].isna().sum():\n",
    "            features = features.drop(feature, axis=1)\n",
    "    return features"
   ]
  },
  {
   "cell_type": "code",
   "execution_count": 123,
   "metadata": {},
   "outputs": [
    {
     "name": "stdout",
     "output_type": "stream",
     "text": [
      "Число удаленных признаков для Ug: 6\n",
      "Число удаленных признаков для Pg: 9\n",
      "Число удаленных признаков для delta: 8\n"
     ]
    }
   ],
   "source": [
    "modified_features = defaultdict()\n",
    "for param in features:\n",
    "    modified_features[param] = clear_useless_features(features[param],\n",
    "                                                     labels.label.nunique())\n",
    "    print(f\"Число удаленных признаков для {param}:\",\n",
    "          features[param].shape[1] - modified_features[param].shape[1])"
   ]
  },
  {
   "cell_type": "markdown",
   "metadata": {},
   "source": [
    "Поиск признаков, имеющих наибольшую корреляцию с целевой переменной sklearn (Только для регресии и неотрицательных признаков)"
   ]
  },
  {
   "cell_type": "code",
   "execution_count": 124,
   "metadata": {},
   "outputs": [],
   "source": [
    "def delete_negative_features(X):\n",
    "    for i in X.columns:\n",
    "        if X[i].min() < 0:\n",
    "            X = X.drop(i, axis=1)\n",
    "    return X"
   ]
  },
  {
   "cell_type": "code",
   "execution_count": 125,
   "metadata": {},
   "outputs": [],
   "source": [
    "# X = delete_negative_features(modified_features['U'])\n",
    "# X_2 = \n",
    "y = labels.label\n",
    "# bestfeatures = SelectKBest(score_func=chi2, k=10)\n",
    "# fit = bestfeatures.fit(X, labels.label)\n",
    "# dfscores = pd.DataFrame(fit.scores_)\n",
    "# dfcolumns = pd.DataFrame(X.columns)\n",
    "# featureScores = pd.concat([dfcolumns,dfscores],axis=1)\n",
    "# featureScores.columns = ['Specs','Score']  #naming the dataframe columns\n",
    "# print(featureScores.nlargest(10,'Score'))"
   ]
  },
  {
   "cell_type": "markdown",
   "metadata": {},
   "source": [
    "Использование дерева для поиска фич"
   ]
  },
  {
   "cell_type": "code",
   "execution_count": 126,
   "metadata": {},
   "outputs": [],
   "source": [
    "def plot_features(X, y):\n",
    "#     X = modified_features['U']\n",
    "#     y = labels.label\n",
    "    model = ExtraTreesClassifier(n_estimators=200)\n",
    "    model.fit(X,y)\n",
    "#     print(model.feature_importances_) #use inbuilt class feature_importances of tree based classifiers\n",
    "    #plot graph of feature importances for better visualization\n",
    "    feat_importances = pd.Series(model.feature_importances_, index=X.columns)\n",
    "    feat_importances.nlargest(10).plot(kind='barh')\n",
    "    plt.xlabel('Оценка значимоссти')\n",
    "    plt.ylabel('Переменная')\n",
    "    plt.show()\n",
    "    return feat_importances.nlargest(n_params)"
   ]
  },
  {
   "cell_type": "code",
   "execution_count": 127,
   "metadata": {},
   "outputs": [
    {
     "data": {
      "image/png": "[encoded data removed]",
      "text/plain": [
       "<Figure size 432x288 with 1 Axes>"
      ]
     },
     "metadata": {
      "needs_background": "light"
     },
     "output_type": "display_data"
    },
    {
     "data": {
      "image/png": "[encoded data removed]",
      "text/plain": [
       "<Figure size 432x288 with 1 Axes>"
      ]
     },
     "metadata": {
      "needs_background": "light"
     },
     "output_type": "display_data"
    },
    {
     "data": {
      "image/png": "[encoded data removed]",
      "text/plain": [
       "<Figure size 432x288 with 1 Axes>"
      ]
     },
     "metadata": {
      "needs_background": "light"
     },
     "output_type": "display_data"
    }
   ],
   "source": [
    "most_valuable_feat = dict([[feat, None] for feat in features])\n",
    "for param in features:\n",
    "    most_valuable_feat[param] = (plot_features(modified_features[param].astype('float32'), labels.label))"
   ]
  },
  {
   "cell_type": "code",
   "execution_count": 128,
   "metadata": {},
   "outputs": [],
   "source": [
    "# Создаем датафрэйм с индексами, который будем доплнять самыми релевантными фичами\n",
    "def remain_relevant_features(features):\n",
    "    resulted_df = pd.DataFrame(index=features['Ug'].index)\n",
    "    # Дополняем датафрэйм\n",
    "    for param in features:\n",
    "        for feat in features[param]:\n",
    "            if feat in most_valuable_feat[param]:\n",
    "#                 if most_valuable_feat[param][feat] >= 0.008:\n",
    "                    resulted_df = pd.concat([resulted_df, features[param][feat]], axis=1)\n",
    "    return resulted_df"
   ]
  },
  {
   "cell_type": "code",
   "execution_count": 129,
   "metadata": {},
   "outputs": [],
   "source": [
    "def join_signal_features(features):\n",
    "    resulted_df = pd.DataFrame(index=features['Ug'].index)\n",
    "    # Дополняем датафрэйм\n",
    "    for param in features:\n",
    "        for feat in features[param]:\n",
    "            resulted_df = pd.concat([resulted_df, features[param][feat]], axis=1)\n",
    "    return resulted_df"
   ]
  },
  {
   "cell_type": "code",
   "execution_count": 130,
   "metadata": {},
   "outputs": [
    {
     "data": {
      "text/html": [
       "<div>\n",
       "<style scoped>\n",
       "    .dataframe tbody tr th:only-of-type {\n",
       "        vertical-align: middle;\n",
       "    }\n",
       "\n",
       "    .dataframe tbody tr th {\n",
       "        vertical-align: top;\n",
       "    }\n",
       "\n",
       "    .dataframe thead th {\n",
       "        text-align: right;\n",
       "    }\n",
       "</style>\n",
       "<table border=\"1\" class=\"dataframe\">\n",
       "  <thead>\n",
       "    <tr style=\"text-align: right;\">\n",
       "      <th></th>\n",
       "      <th>Ug__cwt_coefficients__widths_(2, 5, 10, 20)__coeff_5__w_10</th>\n",
       "      <th>Ug__fft_coefficient__coeff_19__attr_\"real\"</th>\n",
       "      <th>Ug__cwt_coefficients__widths_(2, 5, 10, 20)__coeff_6__w_10</th>\n",
       "      <th>Ug__agg_linear_trend__f_agg_\"var\"__chunk_len_50__attr_\"rvalue\"</th>\n",
       "      <th>Ug__fft_coefficient__coeff_3__attr_\"real\"</th>\n",
       "      <th>Ug__cwt_coefficients__widths_(2, 5, 10, 20)__coeff_4__w_10</th>\n",
       "      <th>Ug__fft_coefficient__coeff_3__attr_\"angle\"</th>\n",
       "      <th>Ug__cwt_coefficients__widths_(2, 5, 10, 20)__coeff_7__w_10</th>\n",
       "      <th>Ug__cwt_coefficients__widths_(2, 5, 10, 20)__coeff_0__w_20</th>\n",
       "      <th>Ug__cwt_coefficients__widths_(2, 5, 10, 20)__coeff_1__w_20</th>\n",
       "      <th>...</th>\n",
       "      <th>delta__approximate_entropy__m_2__r_0.5</th>\n",
       "      <th>delta__approximate_entropy__m_2__r_0.9</th>\n",
       "      <th>delta__approximate_entropy__m_2__r_0.7</th>\n",
       "      <th>delta__agg_linear_trend__f_agg_\"var\"__chunk_len_5__attr_\"rvalue\"</th>\n",
       "      <th>delta__agg_linear_trend__f_agg_\"var\"__chunk_len_10__attr_\"rvalue\"</th>\n",
       "      <th>delta__agg_linear_trend__f_agg_\"var\"__chunk_len_50__attr_\"rvalue\"</th>\n",
       "      <th>delta__longest_strike_below_mean</th>\n",
       "      <th>delta__count_below_mean</th>\n",
       "      <th>delta__longest_strike_above_mean</th>\n",
       "      <th>delta__number_cwt_peaks__n_1</th>\n",
       "    </tr>\n",
       "    <tr>\n",
       "      <th>id</th>\n",
       "      <th></th>\n",
       "      <th></th>\n",
       "      <th></th>\n",
       "      <th></th>\n",
       "      <th></th>\n",
       "      <th></th>\n",
       "      <th></th>\n",
       "      <th></th>\n",
       "      <th></th>\n",
       "      <th></th>\n",
       "      <th></th>\n",
       "      <th></th>\n",
       "      <th></th>\n",
       "      <th></th>\n",
       "      <th></th>\n",
       "      <th></th>\n",
       "      <th></th>\n",
       "      <th></th>\n",
       "      <th></th>\n",
       "      <th></th>\n",
       "      <th></th>\n",
       "    </tr>\n",
       "  </thead>\n",
       "  <tbody>\n",
       "    <tr>\n",
       "      <th>0</th>\n",
       "      <td>0.657114</td>\n",
       "      <td>0.755949</td>\n",
       "      <td>0.769167</td>\n",
       "      <td>-0.431112</td>\n",
       "      <td>-1.734249</td>\n",
       "      <td>0.522359</td>\n",
       "      <td>-102.385873</td>\n",
       "      <td>0.857243</td>\n",
       "      <td>-0.384502</td>\n",
       "      <td>-0.219759</td>\n",
       "      <td>...</td>\n",
       "      <td>0.007152</td>\n",
       "      <td>0.004227</td>\n",
       "      <td>0.005399</td>\n",
       "      <td>-0.047492</td>\n",
       "      <td>-0.045574</td>\n",
       "      <td>-0.048526</td>\n",
       "      <td>98.0</td>\n",
       "      <td>98.0</td>\n",
       "      <td>102.0</td>\n",
       "      <td>28.0</td>\n",
       "    </tr>\n",
       "    <tr>\n",
       "      <th>1</th>\n",
       "      <td>0.606452</td>\n",
       "      <td>0.761108</td>\n",
       "      <td>0.713753</td>\n",
       "      <td>-0.539858</td>\n",
       "      <td>-1.771619</td>\n",
       "      <td>0.477404</td>\n",
       "      <td>-103.610867</td>\n",
       "      <td>0.798188</td>\n",
       "      <td>-0.421613</td>\n",
       "      <td>-0.259567</td>\n",
       "      <td>...</td>\n",
       "      <td>0.007898</td>\n",
       "      <td>0.004849</td>\n",
       "      <td>0.006066</td>\n",
       "      <td>-0.074915</td>\n",
       "      <td>-0.077398</td>\n",
       "      <td>-0.094158</td>\n",
       "      <td>97.0</td>\n",
       "      <td>97.0</td>\n",
       "      <td>103.0</td>\n",
       "      <td>31.0</td>\n",
       "    </tr>\n",
       "  </tbody>\n",
       "</table>\n",
       "<p>2 rows × 225 columns</p>\n",
       "</div>"
      ],
      "text/plain": [
       "    Ug__cwt_coefficients__widths_(2, 5, 10, 20)__coeff_5__w_10  \\\n",
       "id                                                               \n",
       "0                                            0.657114            \n",
       "1                                            0.606452            \n",
       "\n",
       "    Ug__fft_coefficient__coeff_19__attr_\"real\"  \\\n",
       "id                                               \n",
       "0                                     0.755949   \n",
       "1                                     0.761108   \n",
       "\n",
       "    Ug__cwt_coefficients__widths_(2, 5, 10, 20)__coeff_6__w_10  \\\n",
       "id                                                               \n",
       "0                                            0.769167            \n",
       "1                                            0.713753            \n",
       "\n",
       "    Ug__agg_linear_trend__f_agg_\"var\"__chunk_len_50__attr_\"rvalue\"  \\\n",
       "id                                                                   \n",
       "0                                           -0.431112                \n",
       "1                                           -0.539858                \n",
       "\n",
       "    Ug__fft_coefficient__coeff_3__attr_\"real\"  \\\n",
       "id                                              \n",
       "0                                   -1.734249   \n",
       "1                                   -1.771619   \n",
       "\n",
       "    Ug__cwt_coefficients__widths_(2, 5, 10, 20)__coeff_4__w_10  \\\n",
       "id                                                               \n",
       "0                                            0.522359            \n",
       "1                                            0.477404            \n",
       "\n",
       "    Ug__fft_coefficient__coeff_3__attr_\"angle\"  \\\n",
       "id                                               \n",
       "0                                  -102.385873   \n",
       "1                                  -103.610867   \n",
       "\n",
       "    Ug__cwt_coefficients__widths_(2, 5, 10, 20)__coeff_7__w_10  \\\n",
       "id                                                               \n",
       "0                                            0.857243            \n",
       "1                                            0.798188            \n",
       "\n",
       "    Ug__cwt_coefficients__widths_(2, 5, 10, 20)__coeff_0__w_20  \\\n",
       "id                                                               \n",
       "0                                           -0.384502            \n",
       "1                                           -0.421613            \n",
       "\n",
       "    Ug__cwt_coefficients__widths_(2, 5, 10, 20)__coeff_1__w_20  ...  \\\n",
       "id                                                              ...   \n",
       "0                                           -0.219759           ...   \n",
       "1                                           -0.259567           ...   \n",
       "\n",
       "    delta__approximate_entropy__m_2__r_0.5  \\\n",
       "id                                           \n",
       "0                                 0.007152   \n",
       "1                                 0.007898   \n",
       "\n",
       "    delta__approximate_entropy__m_2__r_0.9  \\\n",
       "id                                           \n",
       "0                                 0.004227   \n",
       "1                                 0.004849   \n",
       "\n",
       "    delta__approximate_entropy__m_2__r_0.7  \\\n",
       "id                                           \n",
       "0                                 0.005399   \n",
       "1                                 0.006066   \n",
       "\n",
       "    delta__agg_linear_trend__f_agg_\"var\"__chunk_len_5__attr_\"rvalue\"  \\\n",
       "id                                                                     \n",
       "0                                           -0.047492                  \n",
       "1                                           -0.074915                  \n",
       "\n",
       "    delta__agg_linear_trend__f_agg_\"var\"__chunk_len_10__attr_\"rvalue\"  \\\n",
       "id                                                                      \n",
       "0                                           -0.045574                   \n",
       "1                                           -0.077398                   \n",
       "\n",
       "    delta__agg_linear_trend__f_agg_\"var\"__chunk_len_50__attr_\"rvalue\"  \\\n",
       "id                                                                      \n",
       "0                                           -0.048526                   \n",
       "1                                           -0.094158                   \n",
       "\n",
       "    delta__longest_strike_below_mean  delta__count_below_mean  \\\n",
       "id                                                              \n",
       "0                               98.0                     98.0   \n",
       "1                               97.0                     97.0   \n",
       "\n",
       "    delta__longest_strike_above_mean  delta__number_cwt_peaks__n_1  \n",
       "id                                                                  \n",
       "0                              102.0                          28.0  \n",
       "1                              103.0                          31.0  \n",
       "\n",
       "[2 rows x 225 columns]"
      ]
     },
     "execution_count": 130,
     "metadata": {},
     "output_type": "execute_result"
    }
   ],
   "source": [
    "# Выведем первые две строки получившегося датафрэйма\n",
    "resulted_df = remain_relevant_features(features)\n",
    "resulted_df.head(2)"
   ]
  },
  {
   "cell_type": "code",
   "execution_count": 131,
   "metadata": {},
   "outputs": [
    {
     "name": "stdout",
     "output_type": "stream",
     "text": [
      "Оставшиеся фичи:\n",
      "Ug__cwt_coefficients__widths_(2, 5, 10, 20)__coeff_5__w_10\n",
      "Ug__fft_coefficient__coeff_19__attr_\"real\"\n",
      "Ug__cwt_coefficients__widths_(2, 5, 10, 20)__coeff_6__w_10\n",
      "Ug__agg_linear_trend__f_agg_\"var\"__chunk_len_50__attr_\"rvalue\"\n",
      "Ug__fft_coefficient__coeff_3__attr_\"real\"\n",
      "Ug__cwt_coefficients__widths_(2, 5, 10, 20)__coeff_4__w_10\n",
      "Ug__fft_coefficient__coeff_3__attr_\"angle\"\n",
      "Ug__cwt_coefficients__widths_(2, 5, 10, 20)__coeff_7__w_10\n",
      "Ug__cwt_coefficients__widths_(2, 5, 10, 20)__coeff_0__w_20\n",
      "Ug__cwt_coefficients__widths_(2, 5, 10, 20)__coeff_1__w_20\n"
     ]
    }
   ],
   "source": [
    "print(\"Оставшиеся фичи:\")\n",
    "print(*resulted_df.columns[:10], sep='\\n')"
   ]
  },
  {
   "cell_type": "markdown",
   "metadata": {},
   "source": [
    "## Постоение простейших моделей, градиентный бустинг и ансамбль решающих деревьев\n",
    "Так как задача трансформировалась в задачу мультиклассификации, то воспользуемся методикой One-VS-All и построим модель для каждого отдельного класса"
   ]
  },
  {
   "cell_type": "code",
   "execution_count": 132,
   "metadata": {},
   "outputs": [],
   "source": [
    "# OVA strategy\n",
    "from sklearn.multiclass import OneVsRestClassifier\n",
    "# OVO strategy\n",
    "from sklearn.multiclass import OneVsOneClassifier\n",
    "# Estimators for use in OVR (OVA)\n",
    "from sklearn.ensemble import GradientBoostingClassifier\n",
    "from sklearn.ensemble import RandomForestClassifier\n",
    "from sklearn.ensemble import AdaBoostClassifier\n",
    "from sklearn.naive_bayes import GaussianNB\n",
    "from sklearn.svm import SVC\n",
    "# Estimators with built-in OVR\n",
    "from sklearn.svm import LinearSVC\n",
    "from sklearn.gaussian_process import GaussianProcessClassifier\n",
    "# Model selection\n",
    "from sklearn.model_selection import train_test_split\n",
    "from sklearn.model_selection import cross_val_score\n",
    "# Sklearn metrics\n",
    "from sklearn import metrics\n",
    "# Defaultdict\n",
    "from collections import defaultdict"
   ]
  },
  {
   "cell_type": "code",
   "execution_count": 133,
   "metadata": {},
   "outputs": [],
   "source": [
    "X = resulted_df\n",
    "y = labels.label"
   ]
  },
  {
   "cell_type": "code",
   "execution_count": 134,
   "metadata": {},
   "outputs": [],
   "source": [
    "X_train, X_val, y_train, y_val = train_test_split(X, y, test_size=0.1, random_state=42)"
   ]
  },
  {
   "cell_type": "code",
   "execution_count": 135,
   "metadata": {},
   "outputs": [],
   "source": [
    "resulted_df_val = join_signal_features(features_val).reindex(columns=X.columns)\n",
    "X_test, y_test = resulted_df_val, labels_2.label"
   ]
  },
  {
   "cell_type": "markdown",
   "metadata": {},
   "source": [
    "## Class for model evaluating"
   ]
  },
  {
   "cell_type": "code",
   "execution_count": 136,
   "metadata": {},
   "outputs": [],
   "source": [
    "class ModelEvaluator():\n",
    "    strategy_list = {'ovr': OneVsRestClassifier,\n",
    "                     'ovo': OneVsRestClassifier}\n",
    "    metric_list = {'F1 macro':\n",
    "                       lambda y_true, y_pred: metrics.f1_score(y_true, y_pred, average='macro'),\n",
    "                   'F1 micro':\n",
    "                       lambda y_true, y_pred: metrics.f1_score(y_true, y_pred, average='micro'),\n",
    "                   'Accuracy': metrics.accuracy_score,\n",
    "                   }\n",
    "    \n",
    "    def __init__(self, clf, strategy='ovr', n_jobs=4):\n",
    "        \"\"\"\n",
    "        clf - classifier with fit, predict and predict_proba methods (classic)\n",
    "        X_train, y_train - training dataset\n",
    "        X_test, y_test - test dataset\n",
    "        strategy - multiclasss Strategy OVO/OVR\n",
    "        \"\"\"\n",
    "        if strategy.lower() not in self.strategy_list:\n",
    "            raise AttributeError('Strategy must be OVR or OVO')\n",
    "        self.strategy = strategy\n",
    "        self.clf = self.strategy_list[strategy.lower()](clf, n_jobs)\n",
    "        self.conf_matrix = None\n",
    "        self.metrics = defaultdict()\n",
    "    \n",
    "    def count_metrics(self, y_true, y_pred):\n",
    "        for metric_name, metric_func in self.metric_list.items():\n",
    "            self.metrics[metric_name] = metric_func(y_true, y_pred)\n",
    "    \n",
    "    def evaluate(self, X_train, y_train, X_test, y_test, output=False):\n",
    "        self.fit(X_train, y_train)\n",
    "        y_pred = self.predict(X_test)\n",
    "        self.conf_matrix = metrics.confusion_matrix(y_test, y_pred)\n",
    "        self.count_metrics(y_test, y_pred)\n",
    "        if output: print(*self.metrics.items(), sep='\\n')\n",
    "        \n",
    "    def fit(self, X, y):\n",
    "        self.clf.fit(X, y)\n",
    "        \n",
    "    def predict(self, X):\n",
    "        return self.clf.predict(X)\n",
    "    \n",
    "    def predict_proba(self, X):\n",
    "        if self.strategy == 'ovo':\n",
    "            raise AttributeError('OVO strategy has no predict_proba!')\n",
    "        return self.clf.predict_proba(X)\n",
    "    \n",
    "    def __repr__(self):\n",
    "        sep = '-' * 10 + '\\n'\n",
    "        res = ''\n",
    "        res += f'Strategy {self.strategy} with estimator:\\n'\n",
    "        res += str(self.clf.estimator) + '\\n'\n",
    "        res += sep\n",
    "        if self.conf_matrix is not None:\n",
    "            res += f'Confusion matrix:\\n{self.conf_matrix}\\n'\n",
    "            res += sep\n",
    "            res += '\\n'.join([' '.join(list(map(str, pair))) for pair in self.metrics.items()])\n",
    "        else:\n",
    "            res += 'Model is not fitted'\n",
    "        return res"
   ]
  },
  {
   "cell_type": "markdown",
   "metadata": {},
   "source": [
    "### AdaBoost"
   ]
  },
  {
   "cell_type": "code",
   "execution_count": 137,
   "metadata": {},
   "outputs": [],
   "source": [
    "ada = AdaBoostClassifier(n_estimators=110)"
   ]
  },
  {
   "cell_type": "code",
   "execution_count": 138,
   "metadata": {},
   "outputs": [],
   "source": [
    "ada_ev = ModelEvaluator(ada)"
   ]
  },
  {
   "cell_type": "code",
   "execution_count": 139,
   "metadata": {},
   "outputs": [
    {
     "data": {
      "text/plain": [
       "Strategy ovr with estimator:\n",
       "AdaBoostClassifier(algorithm='SAMME.R', base_estimator=None, learning_rate=1.0,\n",
       "                   n_estimators=110, random_state=None)\n",
       "----------\n",
       "Confusion matrix:\n",
       "[[24  0 26]\n",
       " [ 0 12 33]\n",
       " [10  9 57]]\n",
       "----------\n",
       "F1 macro 0.5096049783549783\n",
       "F1 micro 0.543859649122807\n",
       "Accuracy 0.543859649122807"
      ]
     },
     "execution_count": 139,
     "metadata": {},
     "output_type": "execute_result"
    }
   ],
   "source": [
    "ada_ev.evaluate(X, y, X_test, y_test)\n",
    "ada_ev"
   ]
  },
  {
   "cell_type": "markdown",
   "metadata": {},
   "source": [
    "### Naive Bayes"
   ]
  },
  {
   "cell_type": "code",
   "execution_count": 140,
   "metadata": {},
   "outputs": [],
   "source": [
    "gnb = GaussianNB()"
   ]
  },
  {
   "cell_type": "code",
   "execution_count": 141,
   "metadata": {},
   "outputs": [],
   "source": [
    "gnb_ev = ModelEvaluator(gnb)"
   ]
  },
  {
   "cell_type": "code",
   "execution_count": 142,
   "metadata": {},
   "outputs": [
    {
     "data": {
      "text/plain": [
       "Strategy ovr with estimator:\n",
       "GaussianNB(priors=None, var_smoothing=1e-09)\n",
       "----------\n",
       "Confusion matrix:\n",
       "[[47  0  3]\n",
       " [ 0 15 30]\n",
       " [ 6  4 66]]\n",
       "----------\n",
       "F1 macro 0.7118856911696717\n",
       "F1 micro 0.7485380116959063\n",
       "Accuracy 0.7485380116959064"
      ]
     },
     "execution_count": 142,
     "metadata": {},
     "output_type": "execute_result"
    }
   ],
   "source": [
    "gnb_ev.evaluate(X, y, X_test, y_test)\n",
    "gnb_ev"
   ]
  },
  {
   "cell_type": "markdown",
   "metadata": {},
   "source": [
    "### SVM (SVC)"
   ]
  },
  {
   "cell_type": "code",
   "execution_count": 143,
   "metadata": {},
   "outputs": [],
   "source": [
    "svm_clf = SVC()"
   ]
  },
  {
   "cell_type": "code",
   "execution_count": 144,
   "metadata": {},
   "outputs": [],
   "source": [
    "svm_ev = ModelEvaluator(svm_clf)"
   ]
  },
  {
   "cell_type": "code",
   "execution_count": 145,
   "metadata": {},
   "outputs": [
    {
     "data": {
      "text/plain": [
       "Strategy ovr with estimator:\n",
       "SVC(C=1.0, break_ties=False, cache_size=200, class_weight=None, coef0=0.0,\n",
       "    decision_function_shape='ovr', degree=3, gamma='scale', kernel='rbf',\n",
       "    max_iter=-1, probability=False, random_state=None, shrinking=True,\n",
       "    tol=0.001, verbose=False)\n",
       "----------\n",
       "Confusion matrix:\n",
       "[[35  0 15]\n",
       " [15  0 30]\n",
       " [19  0 57]]\n",
       "----------\n",
       "F1 macro 0.4095615774399648\n",
       "F1 micro 0.5380116959064327\n",
       "Accuracy 0.5380116959064327"
      ]
     },
     "execution_count": 145,
     "metadata": {},
     "output_type": "execute_result"
    }
   ],
   "source": [
    "svm_ev.evaluate(X, y, X_test, y_test)\n",
    "svm_ev"
   ]
  },
  {
   "cell_type": "markdown",
   "metadata": {},
   "source": [
    "### GaussianProcess"
   ]
  },
  {
   "cell_type": "code",
   "execution_count": 146,
   "metadata": {},
   "outputs": [],
   "source": [
    "gpc = GaussianProcessClassifier(multi_class = 'one_vs_one',\n",
    "                                max_iter_predict=100\n",
    "                               )\n",
    "clf = gpc"
   ]
  },
  {
   "cell_type": "code",
   "execution_count": 147,
   "metadata": {},
   "outputs": [
    {
     "data": {
      "text/plain": [
       "GaussianProcessClassifier(copy_X_train=True, kernel=None, max_iter_predict=100,\n",
       "                          multi_class='one_vs_one', n_jobs=None,\n",
       "                          n_restarts_optimizer=0, optimizer='fmin_l_bfgs_b',\n",
       "                          random_state=None, warm_start=False)"
      ]
     },
     "execution_count": 147,
     "metadata": {},
     "output_type": "execute_result"
    }
   ],
   "source": [
    "clf.fit(X, y)"
   ]
  },
  {
   "cell_type": "code",
   "execution_count": 148,
   "metadata": {},
   "outputs": [],
   "source": [
    "y_pred = clf.predict(X_test)"
   ]
  },
  {
   "cell_type": "code",
   "execution_count": 149,
   "metadata": {
    "scrolled": true
   },
   "outputs": [
    {
     "name": "stdout",
     "output_type": "stream",
     "text": [
      "Accuracy: 0.5964912280701754\n",
      "F1-macro: 0.568560507834018\n"
     ]
    },
    {
     "data": {
      "text/plain": [
       "array([[47,  0,  3],\n",
       "       [15, 15, 15],\n",
       "       [25, 11, 40]])"
      ]
     },
     "execution_count": 149,
     "metadata": {},
     "output_type": "execute_result"
    }
   ],
   "source": [
    "y_true = np.array(y_test)\n",
    "print(\"Accuracy:\", metrics.accuracy_score(y_true, y_pred))\n",
    "print(\"F1-macro:\", metrics.f1_score(y_true, y_pred, average='macro'))\n",
    "metrics.confusion_matrix(y_true, y_pred)"
   ]
  },
  {
   "cell_type": "markdown",
   "metadata": {},
   "source": [
    "### Ансамбль решающих деревьев\n",
    "Так как задача трансформировалась в задачу мультиклассификации, то воспользуемся методикой One-VS-All и построим модель для каждого отдельного класса"
   ]
  },
  {
   "cell_type": "code",
   "execution_count": 150,
   "metadata": {},
   "outputs": [],
   "source": [
    "rfc = RandomForestClassifier(n_estimators=500,\n",
    "                             max_depth=5,\n",
    "                             max_features='auto',\n",
    "                             class_weight='balanced',\n",
    "#                              bootstrap=False\n",
    "                            )"
   ]
  },
  {
   "cell_type": "code",
   "execution_count": 151,
   "metadata": {
    "scrolled": true
   },
   "outputs": [],
   "source": [
    "rfc_ev = ModelEvaluator(rfc)"
   ]
  },
  {
   "cell_type": "code",
   "execution_count": 153,
   "metadata": {},
   "outputs": [
    {
     "data": {
      "text/plain": [
       "Strategy ovr with estimator:\n",
       "RandomForestClassifier(bootstrap=True, ccp_alpha=0.0, class_weight='balanced',\n",
       "                       criterion='gini', max_depth=5, max_features='auto',\n",
       "                       max_leaf_nodes=None, max_samples=None,\n",
       "                       min_impurity_decrease=0.0, min_impurity_split=None,\n",
       "                       min_samples_leaf=1, min_samples_split=2,\n",
       "                       min_weight_fraction_leaf=0.0, n_estimators=500,\n",
       "                       n_jobs=None, oob_score=False, random_state=None,\n",
       "                       verbose=0, warm_start=False)\n",
       "----------\n",
       "Confusion matrix:\n",
       "[[38  0 12]\n",
       " [ 0  4 41]\n",
       " [ 0  9 67]]\n",
       "----------\n",
       "F1 macro 0.5617469558356257\n",
       "F1 micro 0.6374269005847953\n",
       "Accuracy 0.6374269005847953"
      ]
     },
     "execution_count": 153,
     "metadata": {},
     "output_type": "execute_result"
    }
   ],
   "source": [
    "rfc_ev.evaluate(X, y, X_test, y_test)\n",
    "rfc_ev"
   ]
  },
  {
   "cell_type": "markdown",
   "metadata": {},
   "source": [
    "### Градиентный бустинг"
   ]
  },
  {
   "cell_type": "code",
   "execution_count": 154,
   "metadata": {},
   "outputs": [],
   "source": [
    "gbc = GradientBoostingClassifier(learning_rate=0.01,\n",
    "                                 random_state=42,\n",
    "                                 n_estimators=500,\n",
    "                                 min_samples_leaf=3,\n",
    "                                 max_depth=3)"
   ]
  },
  {
   "cell_type": "code",
   "execution_count": 155,
   "metadata": {},
   "outputs": [],
   "source": [
    "gbc_ev = ModelEvaluator(gbc)"
   ]
  },
  {
   "cell_type": "code",
   "execution_count": 156,
   "metadata": {},
   "outputs": [
    {
     "data": {
      "text/plain": [
       "Strategy ovr with estimator:\n",
       "GradientBoostingClassifier(ccp_alpha=0.0, criterion='friedman_mse', init=None,\n",
       "                           learning_rate=0.01, loss='deviance', max_depth=3,\n",
       "                           max_features=None, max_leaf_nodes=None,\n",
       "                           min_impurity_decrease=0.0, min_impurity_split=None,\n",
       "                           min_samples_leaf=3, min_samples_split=2,\n",
       "                           min_weight_fraction_leaf=0.0, n_estimators=500,\n",
       "                           n_iter_no_change=None, presort='deprecated',\n",
       "                           random_state=42, subsample=1.0, tol=0.0001,\n",
       "                           validation_fraction=0.1, verbose=0,\n",
       "                           warm_start=False)\n",
       "----------\n",
       "Confusion matrix:\n",
       "[[35  0 15]\n",
       " [ 0  7 38]\n",
       " [10  9 57]]\n",
       "----------\n",
       "F1 macro 0.5264178425969737\n",
       "F1 micro 0.5789473684210527\n",
       "Accuracy 0.5789473684210527"
      ]
     },
     "execution_count": 156,
     "metadata": {},
     "output_type": "execute_result"
    }
   ],
   "source": [
    "gbc_ev.evaluate(X, y, X_test, y_test)\n",
    "gbc_ev"
   ]
  },
  {
   "cell_type": "markdown",
   "metadata": {},
   "source": [
    "### CatBoost"
   ]
  },
  {
   "cell_type": "code",
   "execution_count": 157,
   "metadata": {},
   "outputs": [],
   "source": [
    "from catboost import CatBoostClassifier"
   ]
  },
  {
   "cell_type": "code",
   "execution_count": 200,
   "metadata": {},
   "outputs": [],
   "source": [
    "cboost_clf = CatBoostClassifier(\n",
    "                                n_estimators=500,\n",
    "                                max_depth=2,\n",
    "                                learning_rate=0.05,\n",
    "                                loss_function='MultiClass',\n",
    "                                random_state=4\n",
    "                                )"
   ]
  },
  {
   "cell_type": "code",
   "execution_count": 201,
   "metadata": {},
   "outputs": [],
   "source": [
    "cboost_ev = ModelEvaluator(cboost_clf)\n",
    "clf = cboost_clf"
   ]
  },
  {
   "cell_type": "code",
   "execution_count": 202,
   "metadata": {},
   "outputs": [],
   "source": [
    "cboost_ev.evaluate(X, y, X_test, y_test)"
   ]
  },
  {
   "cell_type": "code",
   "execution_count": 203,
   "metadata": {},
   "outputs": [
    {
     "data": {
      "text/plain": [
       "Strategy ovr with estimator:\n",
       "<catboost.core.CatBoostClassifier object at 0x7fd87e7bcf60>\n",
       "----------\n",
       "Confusion matrix:\n",
       "[[41  0  9]\n",
       " [ 0 15 30]\n",
       " [ 3  9 64]]\n",
       "----------\n",
       "F1 macro 0.6740689443700828\n",
       "F1 micro 0.7017543859649122\n",
       "Accuracy 0.7017543859649122"
      ]
     },
     "execution_count": 203,
     "metadata": {},
     "output_type": "execute_result"
    }
   ],
   "source": [
    "cboost_ev"
   ]
  },
  {
   "cell_type": "code",
   "execution_count": 190,
   "metadata": {},
   "outputs": [],
   "source": [
    "clf = CatBoostClassifier(\n",
    "                                n_estimators=700,\n",
    "                                max_depth=3,\n",
    "                                learning_rate=0.063,\n",
    "                                loss_function='MultiClass',\n",
    "                                random_state=42\n",
    "                                )"
   ]
  },
  {
   "cell_type": "code",
   "execution_count": 64,
   "metadata": {},
   "outputs": [
    {
     "name": "stdout",
     "output_type": "stream",
     "text": [
      "0:\tlearn: 1.0360761\ttest: 1.0290912\tbest: 1.0290912 (0)\ttotal: 86.4ms\tremaining: 1m\n",
      "1:\tlearn: 0.9609966\ttest: 0.9485136\tbest: 0.9485136 (1)\ttotal: 109ms\tremaining: 38.2s\n",
      "2:\tlearn: 0.9055330\ttest: 0.8887445\tbest: 0.8887445 (2)\ttotal: 138ms\tremaining: 32s\n",
      "3:\tlearn: 0.8454204\ttest: 0.8259301\tbest: 0.8259301 (3)\ttotal: 162ms\tremaining: 28.2s\n",
      "4:\tlearn: 0.8006856\ttest: 0.7728981\tbest: 0.7728981 (4)\ttotal: 188ms\tremaining: 26.2s\n",
      "5:\tlearn: 0.7629418\ttest: 0.7346438\tbest: 0.7346438 (5)\ttotal: 212ms\tremaining: 24.5s\n",
      "6:\tlearn: 0.7220805\ttest: 0.6877881\tbest: 0.6877881 (6)\ttotal: 245ms\tremaining: 24.2s\n",
      "7:\tlearn: 0.6832742\ttest: 0.6463077\tbest: 0.6463077 (7)\ttotal: 273ms\tremaining: 23.6s\n",
      "8:\tlearn: 0.6478579\ttest: 0.6079727\tbest: 0.6079727 (8)\ttotal: 301ms\tremaining: 23.1s\n",
      "9:\tlearn: 0.6127747\ttest: 0.5699622\tbest: 0.5699622 (9)\ttotal: 335ms\tremaining: 23.1s\n",
      "10:\tlearn: 0.5795793\ttest: 0.5332589\tbest: 0.5332589 (10)\ttotal: 377ms\tremaining: 23.6s\n",
      "11:\tlearn: 0.5589349\ttest: 0.5112856\tbest: 0.5112856 (11)\ttotal: 407ms\tremaining: 23.3s\n",
      "12:\tlearn: 0.5349146\ttest: 0.4849971\tbest: 0.4849971 (12)\ttotal: 428ms\tremaining: 22.6s\n",
      "13:\tlearn: 0.5100083\ttest: 0.4602218\tbest: 0.4602218 (13)\ttotal: 467ms\tremaining: 22.9s\n",
      "14:\tlearn: 0.4868355\ttest: 0.4386147\tbest: 0.4386147 (14)\ttotal: 494ms\tremaining: 22.6s\n",
      "15:\tlearn: 0.4654611\ttest: 0.4144926\tbest: 0.4144926 (15)\ttotal: 531ms\tremaining: 22.7s\n",
      "16:\tlearn: 0.4489218\ttest: 0.3947381\tbest: 0.3947381 (16)\ttotal: 584ms\tremaining: 23.4s\n",
      "17:\tlearn: 0.4325189\ttest: 0.3763345\tbest: 0.3763345 (17)\ttotal: 619ms\tremaining: 23.5s\n",
      "18:\tlearn: 0.4148914\ttest: 0.3567664\tbest: 0.3567664 (18)\ttotal: 649ms\tremaining: 23.3s\n",
      "19:\tlearn: 0.4001270\ttest: 0.3402258\tbest: 0.3402258 (19)\ttotal: 677ms\tremaining: 23s\n",
      "20:\tlearn: 0.3870791\ttest: 0.3275528\tbest: 0.3275528 (20)\ttotal: 703ms\tremaining: 22.7s\n",
      "21:\tlearn: 0.3751267\ttest: 0.3160420\tbest: 0.3160420 (21)\ttotal: 760ms\tremaining: 23.4s\n",
      "22:\tlearn: 0.3575533\ttest: 0.2994782\tbest: 0.2994782 (22)\ttotal: 810ms\tremaining: 23.8s\n",
      "23:\tlearn: 0.3423110\ttest: 0.2838360\tbest: 0.2838360 (23)\ttotal: 865ms\tremaining: 24.4s\n",
      "24:\tlearn: 0.3293041\ttest: 0.2722149\tbest: 0.2722149 (24)\ttotal: 889ms\tremaining: 24s\n",
      "25:\tlearn: 0.3175300\ttest: 0.2603033\tbest: 0.2603033 (25)\ttotal: 915ms\tremaining: 23.7s\n",
      "26:\tlearn: 0.3063697\ttest: 0.2491017\tbest: 0.2491017 (26)\ttotal: 941ms\tremaining: 23.5s\n",
      "27:\tlearn: 0.2962504\ttest: 0.2379013\tbest: 0.2379013 (27)\ttotal: 971ms\tremaining: 23.3s\n",
      "28:\tlearn: 0.2866943\ttest: 0.2313056\tbest: 0.2313056 (28)\ttotal: 1s\tremaining: 23.2s\n",
      "29:\tlearn: 0.2748816\ttest: 0.2213769\tbest: 0.2213769 (29)\ttotal: 1.04s\tremaining: 23.2s\n",
      "30:\tlearn: 0.2651750\ttest: 0.2123088\tbest: 0.2123088 (30)\ttotal: 1.08s\tremaining: 23.3s\n",
      "31:\tlearn: 0.2557821\ttest: 0.2037476\tbest: 0.2037476 (31)\ttotal: 1.1s\tremaining: 23s\n",
      "32:\tlearn: 0.2490732\ttest: 0.1960028\tbest: 0.1960028 (32)\ttotal: 1.13s\tremaining: 22.8s\n",
      "33:\tlearn: 0.2412328\ttest: 0.1887488\tbest: 0.1887488 (33)\ttotal: 1.15s\tremaining: 22.6s\n",
      "34:\tlearn: 0.2329323\ttest: 0.1812697\tbest: 0.1812697 (34)\ttotal: 1.19s\tremaining: 22.6s\n",
      "35:\tlearn: 0.2258555\ttest: 0.1754402\tbest: 0.1754402 (35)\ttotal: 1.23s\tremaining: 22.8s\n",
      "36:\tlearn: 0.2198968\ttest: 0.1705318\tbest: 0.1705318 (36)\ttotal: 1.26s\tremaining: 22.6s\n",
      "37:\tlearn: 0.2132421\ttest: 0.1638596\tbest: 0.1638596 (37)\ttotal: 1.3s\tremaining: 22.6s\n",
      "38:\tlearn: 0.2075355\ttest: 0.1576293\tbest: 0.1576293 (38)\ttotal: 1.32s\tremaining: 22.4s\n",
      "39:\tlearn: 0.2014781\ttest: 0.1522403\tbest: 0.1522403 (39)\ttotal: 1.35s\tremaining: 22.2s\n",
      "40:\tlearn: 0.1959217\ttest: 0.1476001\tbest: 0.1476001 (40)\ttotal: 1.37s\tremaining: 22.1s\n",
      "41:\tlearn: 0.1907034\ttest: 0.1424422\tbest: 0.1424422 (41)\ttotal: 1.41s\tremaining: 22.1s\n",
      "42:\tlearn: 0.1849976\ttest: 0.1375757\tbest: 0.1375757 (42)\ttotal: 1.44s\tremaining: 22s\n",
      "43:\tlearn: 0.1802051\ttest: 0.1328668\tbest: 0.1328668 (43)\ttotal: 1.48s\tremaining: 22.1s\n",
      "44:\tlearn: 0.1742003\ttest: 0.1276047\tbest: 0.1276047 (44)\ttotal: 1.51s\tremaining: 21.9s\n",
      "45:\tlearn: 0.1696651\ttest: 0.1233344\tbest: 0.1233344 (45)\ttotal: 1.53s\tremaining: 21.8s\n",
      "46:\tlearn: 0.1650714\ttest: 0.1201327\tbest: 0.1201327 (46)\ttotal: 1.56s\tremaining: 21.8s\n",
      "47:\tlearn: 0.1599741\ttest: 0.1156695\tbest: 0.1156695 (47)\ttotal: 1.59s\tremaining: 21.6s\n",
      "48:\tlearn: 0.1558552\ttest: 0.1120151\tbest: 0.1120151 (48)\ttotal: 1.63s\tremaining: 21.6s\n",
      "49:\tlearn: 0.1503034\ttest: 0.1072984\tbest: 0.1072984 (49)\ttotal: 1.66s\tremaining: 21.6s\n",
      "50:\tlearn: 0.1476549\ttest: 0.1050120\tbest: 0.1050120 (50)\ttotal: 1.7s\tremaining: 21.6s\n",
      "51:\tlearn: 0.1436261\ttest: 0.1014021\tbest: 0.1014021 (51)\ttotal: 1.73s\tremaining: 21.6s\n",
      "52:\tlearn: 0.1400581\ttest: 0.0984013\tbest: 0.0984013 (52)\ttotal: 1.77s\tremaining: 21.6s\n",
      "53:\tlearn: 0.1373556\ttest: 0.0956054\tbest: 0.0956054 (53)\ttotal: 1.79s\tremaining: 21.5s\n",
      "54:\tlearn: 0.1336604\ttest: 0.0931412\tbest: 0.0931412 (54)\ttotal: 1.82s\tremaining: 21.3s\n",
      "55:\tlearn: 0.1294661\ttest: 0.0904077\tbest: 0.0904077 (55)\ttotal: 1.86s\tremaining: 21.4s\n",
      "56:\tlearn: 0.1271533\ttest: 0.0884796\tbest: 0.0884796 (56)\ttotal: 1.89s\tremaining: 21.3s\n",
      "57:\tlearn: 0.1248873\ttest: 0.0866609\tbest: 0.0866609 (57)\ttotal: 1.93s\tremaining: 21.3s\n",
      "58:\tlearn: 0.1223285\ttest: 0.0848546\tbest: 0.0848546 (58)\ttotal: 1.98s\tremaining: 21.5s\n",
      "59:\tlearn: 0.1205835\ttest: 0.0829066\tbest: 0.0829066 (59)\ttotal: 2.02s\tremaining: 21.5s\n",
      "60:\tlearn: 0.1173571\ttest: 0.0805387\tbest: 0.0805387 (60)\ttotal: 2.06s\tremaining: 21.6s\n",
      "61:\tlearn: 0.1140768\ttest: 0.0780060\tbest: 0.0780060 (61)\ttotal: 2.13s\tremaining: 21.9s\n",
      "62:\tlearn: 0.1116020\ttest: 0.0758795\tbest: 0.0758795 (62)\ttotal: 2.19s\tremaining: 22.1s\n",
      "63:\tlearn: 0.1095723\ttest: 0.0740458\tbest: 0.0740458 (63)\ttotal: 2.22s\tremaining: 22.1s\n",
      "64:\tlearn: 0.1070133\ttest: 0.0717505\tbest: 0.0717505 (64)\ttotal: 2.28s\tremaining: 22.3s\n",
      "65:\tlearn: 0.1045424\ttest: 0.0697042\tbest: 0.0697042 (65)\ttotal: 2.32s\tremaining: 22.3s\n",
      "66:\tlearn: 0.1020992\ttest: 0.0676465\tbest: 0.0676465 (66)\ttotal: 2.37s\tremaining: 22.3s\n",
      "67:\tlearn: 0.0998333\ttest: 0.0657336\tbest: 0.0657336 (67)\ttotal: 2.4s\tremaining: 22.3s\n",
      "68:\tlearn: 0.0972356\ttest: 0.0636988\tbest: 0.0636988 (68)\ttotal: 2.44s\tremaining: 22.3s\n",
      "69:\tlearn: 0.0944823\ttest: 0.0615794\tbest: 0.0615794 (69)\ttotal: 2.46s\tremaining: 22.2s\n",
      "70:\tlearn: 0.0926020\ttest: 0.0603637\tbest: 0.0603637 (70)\ttotal: 2.49s\tremaining: 22.1s\n",
      "71:\tlearn: 0.0899661\ttest: 0.0586113\tbest: 0.0586113 (71)\ttotal: 2.54s\tremaining: 22.1s\n",
      "72:\tlearn: 0.0885663\ttest: 0.0578157\tbest: 0.0578157 (72)\ttotal: 2.57s\tremaining: 22s\n",
      "73:\tlearn: 0.0869302\ttest: 0.0565910\tbest: 0.0565910 (73)\ttotal: 2.59s\tremaining: 21.9s\n",
      "74:\tlearn: 0.0854198\ttest: 0.0554371\tbest: 0.0554371 (74)\ttotal: 2.63s\tremaining: 21.9s\n",
      "75:\tlearn: 0.0838093\ttest: 0.0541411\tbest: 0.0541411 (75)\ttotal: 2.65s\tremaining: 21.8s\n",
      "76:\tlearn: 0.0821176\ttest: 0.0529464\tbest: 0.0529464 (76)\ttotal: 2.68s\tremaining: 21.7s\n",
      "77:\tlearn: 0.0807036\ttest: 0.0518665\tbest: 0.0518665 (77)\ttotal: 2.71s\tremaining: 21.6s\n",
      "78:\tlearn: 0.0792899\ttest: 0.0507662\tbest: 0.0507662 (78)\ttotal: 2.74s\tremaining: 21.6s\n",
      "79:\tlearn: 0.0779446\ttest: 0.0498515\tbest: 0.0498515 (79)\ttotal: 2.77s\tremaining: 21.5s\n",
      "80:\tlearn: 0.0766039\ttest: 0.0485948\tbest: 0.0485948 (80)\ttotal: 2.8s\tremaining: 21.4s\n",
      "81:\tlearn: 0.0747686\ttest: 0.0473979\tbest: 0.0473979 (81)\ttotal: 2.83s\tremaining: 21.3s\n",
      "82:\tlearn: 0.0729257\ttest: 0.0461069\tbest: 0.0461069 (82)\ttotal: 2.85s\tremaining: 21.2s\n",
      "83:\tlearn: 0.0715955\ttest: 0.0451818\tbest: 0.0451818 (83)\ttotal: 2.88s\tremaining: 21.1s\n",
      "84:\tlearn: 0.0701269\ttest: 0.0441411\tbest: 0.0441411 (84)\ttotal: 2.9s\tremaining: 21s\n",
      "85:\tlearn: 0.0687650\ttest: 0.0431652\tbest: 0.0431652 (85)\ttotal: 2.94s\tremaining: 21s\n",
      "86:\tlearn: 0.0674018\ttest: 0.0422285\tbest: 0.0422285 (86)\ttotal: 2.98s\tremaining: 21s\n",
      "87:\tlearn: 0.0664775\ttest: 0.0414457\tbest: 0.0414457 (87)\ttotal: 3.01s\tremaining: 20.9s\n",
      "88:\tlearn: 0.0649261\ttest: 0.0403163\tbest: 0.0403163 (88)\ttotal: 3.04s\tremaining: 20.9s\n",
      "89:\tlearn: 0.0638986\ttest: 0.0394645\tbest: 0.0394645 (89)\ttotal: 3.06s\tremaining: 20.8s\n",
      "90:\tlearn: 0.0623588\ttest: 0.0384735\tbest: 0.0384735 (90)\ttotal: 3.09s\tremaining: 20.7s\n",
      "91:\tlearn: 0.0610428\ttest: 0.0376336\tbest: 0.0376336 (91)\ttotal: 3.13s\tremaining: 20.7s\n",
      "92:\tlearn: 0.0600611\ttest: 0.0367892\tbest: 0.0367892 (92)\ttotal: 3.18s\tremaining: 20.7s\n",
      "93:\tlearn: 0.0591964\ttest: 0.0361558\tbest: 0.0361558 (93)\ttotal: 3.22s\tremaining: 20.8s\n",
      "94:\tlearn: 0.0583584\ttest: 0.0356019\tbest: 0.0356019 (94)\ttotal: 3.25s\tremaining: 20.7s\n",
      "95:\tlearn: 0.0573644\ttest: 0.0349004\tbest: 0.0349004 (95)\ttotal: 3.27s\tremaining: 20.6s\n",
      "96:\tlearn: 0.0562498\ttest: 0.0341575\tbest: 0.0341575 (96)\ttotal: 3.3s\tremaining: 20.5s\n",
      "97:\tlearn: 0.0551542\ttest: 0.0335070\tbest: 0.0335070 (97)\ttotal: 3.33s\tremaining: 20.4s\n"
     ]
    },
    {
     "name": "stdout",
     "output_type": "stream",
     "text": [
      "98:\tlearn: 0.0541475\ttest: 0.0328745\tbest: 0.0328745 (98)\ttotal: 3.35s\tremaining: 20.3s\n",
      "99:\tlearn: 0.0532805\ttest: 0.0322427\tbest: 0.0322427 (99)\ttotal: 3.39s\tremaining: 20.3s\n",
      "100:\tlearn: 0.0521826\ttest: 0.0315955\tbest: 0.0315955 (100)\ttotal: 3.42s\tremaining: 20.3s\n",
      "101:\tlearn: 0.0513151\ttest: 0.0310335\tbest: 0.0310335 (101)\ttotal: 3.45s\tremaining: 20.2s\n",
      "102:\tlearn: 0.0505357\ttest: 0.0304796\tbest: 0.0304796 (102)\ttotal: 3.47s\tremaining: 20.1s\n",
      "103:\tlearn: 0.0496939\ttest: 0.0299114\tbest: 0.0299114 (103)\ttotal: 3.5s\tremaining: 20.1s\n",
      "104:\tlearn: 0.0487038\ttest: 0.0293124\tbest: 0.0293124 (104)\ttotal: 3.53s\tremaining: 20s\n",
      "105:\tlearn: 0.0478176\ttest: 0.0286928\tbest: 0.0286928 (105)\ttotal: 3.56s\tremaining: 20s\n",
      "106:\tlearn: 0.0471759\ttest: 0.0283502\tbest: 0.0283502 (106)\ttotal: 3.61s\tremaining: 20s\n",
      "107:\tlearn: 0.0467601\ttest: 0.0280800\tbest: 0.0280800 (107)\ttotal: 3.63s\tremaining: 19.9s\n",
      "108:\tlearn: 0.0461604\ttest: 0.0276503\tbest: 0.0276503 (108)\ttotal: 3.66s\tremaining: 19.9s\n",
      "109:\tlearn: 0.0454343\ttest: 0.0271712\tbest: 0.0271712 (109)\ttotal: 3.69s\tremaining: 19.8s\n",
      "110:\tlearn: 0.0453658\ttest: 0.0271747\tbest: 0.0271712 (109)\ttotal: 3.71s\tremaining: 19.7s\n",
      "111:\tlearn: 0.0445536\ttest: 0.0266617\tbest: 0.0266617 (111)\ttotal: 3.74s\tremaining: 19.6s\n",
      "112:\tlearn: 0.0439871\ttest: 0.0263006\tbest: 0.0263006 (112)\ttotal: 3.76s\tremaining: 19.6s\n",
      "113:\tlearn: 0.0433116\ttest: 0.0258596\tbest: 0.0258596 (113)\ttotal: 3.81s\tremaining: 19.6s\n",
      "114:\tlearn: 0.0428429\ttest: 0.0255966\tbest: 0.0255966 (114)\ttotal: 3.84s\tremaining: 19.5s\n",
      "115:\tlearn: 0.0421943\ttest: 0.0251596\tbest: 0.0251596 (115)\ttotal: 3.86s\tremaining: 19.4s\n",
      "116:\tlearn: 0.0418387\ttest: 0.0248927\tbest: 0.0248927 (116)\ttotal: 3.89s\tremaining: 19.4s\n",
      "117:\tlearn: 0.0412173\ttest: 0.0245119\tbest: 0.0245119 (117)\ttotal: 3.91s\tremaining: 19.3s\n",
      "118:\tlearn: 0.0411221\ttest: 0.0245146\tbest: 0.0245119 (117)\ttotal: 3.94s\tremaining: 19.2s\n",
      "119:\tlearn: 0.0405701\ttest: 0.0241938\tbest: 0.0241938 (119)\ttotal: 3.97s\tremaining: 19.2s\n",
      "120:\tlearn: 0.0401066\ttest: 0.0239055\tbest: 0.0239055 (120)\ttotal: 3.99s\tremaining: 19.1s\n",
      "121:\tlearn: 0.0397145\ttest: 0.0236509\tbest: 0.0236509 (121)\ttotal: 4.03s\tremaining: 19.1s\n",
      "122:\tlearn: 0.0392216\ttest: 0.0233070\tbest: 0.0233070 (122)\ttotal: 4.07s\tremaining: 19.1s\n",
      "123:\tlearn: 0.0385306\ttest: 0.0229591\tbest: 0.0229591 (123)\ttotal: 4.09s\tremaining: 19s\n",
      "124:\tlearn: 0.0381077\ttest: 0.0227203\tbest: 0.0227203 (124)\ttotal: 4.12s\tremaining: 18.9s\n",
      "125:\tlearn: 0.0375593\ttest: 0.0224140\tbest: 0.0224140 (125)\ttotal: 4.14s\tremaining: 18.9s\n",
      "126:\tlearn: 0.0370158\ttest: 0.0220654\tbest: 0.0220654 (126)\ttotal: 4.17s\tremaining: 18.8s\n",
      "127:\tlearn: 0.0367179\ttest: 0.0218856\tbest: 0.0218856 (127)\ttotal: 4.19s\tremaining: 18.7s\n",
      "128:\tlearn: 0.0363573\ttest: 0.0216534\tbest: 0.0216534 (128)\ttotal: 4.22s\tremaining: 18.7s\n",
      "129:\tlearn: 0.0357818\ttest: 0.0213360\tbest: 0.0213360 (129)\ttotal: 4.25s\tremaining: 18.6s\n",
      "130:\tlearn: 0.0355480\ttest: 0.0211550\tbest: 0.0211550 (130)\ttotal: 4.29s\tremaining: 18.6s\n",
      "131:\tlearn: 0.0351132\ttest: 0.0208693\tbest: 0.0208693 (131)\ttotal: 4.32s\tremaining: 18.6s\n",
      "132:\tlearn: 0.0347598\ttest: 0.0206088\tbest: 0.0206088 (132)\ttotal: 4.34s\tremaining: 18.5s\n",
      "133:\tlearn: 0.0346662\ttest: 0.0206027\tbest: 0.0206027 (133)\ttotal: 4.37s\tremaining: 18.5s\n",
      "134:\tlearn: 0.0341940\ttest: 0.0203023\tbest: 0.0203023 (134)\ttotal: 4.39s\tremaining: 18.4s\n",
      "135:\tlearn: 0.0341233\ttest: 0.0202752\tbest: 0.0202752 (135)\ttotal: 4.42s\tremaining: 18.4s\n",
      "136:\tlearn: 0.0334907\ttest: 0.0198737\tbest: 0.0198737 (136)\ttotal: 4.46s\tremaining: 18.3s\n",
      "137:\tlearn: 0.0330463\ttest: 0.0195918\tbest: 0.0195918 (137)\ttotal: 4.5s\tremaining: 18.3s\n",
      "138:\tlearn: 0.0326565\ttest: 0.0193972\tbest: 0.0193972 (138)\ttotal: 4.52s\tremaining: 18.3s\n",
      "139:\tlearn: 0.0321266\ttest: 0.0190599\tbest: 0.0190599 (139)\ttotal: 4.55s\tremaining: 18.2s\n",
      "140:\tlearn: 0.0317651\ttest: 0.0189091\tbest: 0.0189091 (140)\ttotal: 4.58s\tremaining: 18.1s\n",
      "141:\tlearn: 0.0314597\ttest: 0.0187129\tbest: 0.0187129 (141)\ttotal: 4.61s\tremaining: 18.1s\n",
      "142:\tlearn: 0.0311296\ttest: 0.0184821\tbest: 0.0184821 (142)\ttotal: 4.64s\tremaining: 18.1s\n",
      "143:\tlearn: 0.0308083\ttest: 0.0183116\tbest: 0.0183116 (143)\ttotal: 4.67s\tremaining: 18s\n",
      "144:\tlearn: 0.0304456\ttest: 0.0180894\tbest: 0.0180894 (144)\ttotal: 4.71s\tremaining: 18s\n",
      "145:\tlearn: 0.0300745\ttest: 0.0178720\tbest: 0.0178720 (145)\ttotal: 4.74s\tremaining: 18s\n",
      "146:\tlearn: 0.0296931\ttest: 0.0176401\tbest: 0.0176401 (146)\ttotal: 4.76s\tremaining: 17.9s\n",
      "147:\tlearn: 0.0293826\ttest: 0.0174604\tbest: 0.0174604 (147)\ttotal: 4.79s\tremaining: 17.9s\n",
      "148:\tlearn: 0.0288915\ttest: 0.0171493\tbest: 0.0171493 (148)\ttotal: 4.83s\tremaining: 17.8s\n",
      "149:\tlearn: 0.0287026\ttest: 0.0170273\tbest: 0.0170273 (149)\ttotal: 4.85s\tremaining: 17.8s\n",
      "150:\tlearn: 0.0286023\ttest: 0.0170013\tbest: 0.0170013 (150)\ttotal: 4.88s\tremaining: 17.7s\n",
      "151:\tlearn: 0.0282656\ttest: 0.0167880\tbest: 0.0167880 (151)\ttotal: 4.92s\tremaining: 17.7s\n",
      "152:\tlearn: 0.0280407\ttest: 0.0166168\tbest: 0.0166168 (152)\ttotal: 4.95s\tremaining: 17.7s\n",
      "153:\tlearn: 0.0277165\ttest: 0.0164125\tbest: 0.0164125 (153)\ttotal: 4.97s\tremaining: 17.6s\n",
      "154:\tlearn: 0.0276716\ttest: 0.0163907\tbest: 0.0163907 (154)\ttotal: 5s\tremaining: 17.6s\n",
      "155:\tlearn: 0.0274513\ttest: 0.0163068\tbest: 0.0163068 (155)\ttotal: 5.03s\tremaining: 17.5s\n",
      "156:\tlearn: 0.0270142\ttest: 0.0160305\tbest: 0.0160305 (156)\ttotal: 5.06s\tremaining: 17.5s\n",
      "157:\tlearn: 0.0266905\ttest: 0.0158359\tbest: 0.0158359 (157)\ttotal: 5.1s\tremaining: 17.5s\n",
      "158:\tlearn: 0.0264170\ttest: 0.0156607\tbest: 0.0156607 (158)\ttotal: 5.13s\tremaining: 17.5s\n",
      "159:\tlearn: 0.0260332\ttest: 0.0154356\tbest: 0.0154356 (159)\ttotal: 5.16s\tremaining: 17.4s\n",
      "160:\tlearn: 0.0257485\ttest: 0.0152562\tbest: 0.0152562 (160)\ttotal: 5.2s\tremaining: 17.4s\n",
      "161:\tlearn: 0.0254887\ttest: 0.0151019\tbest: 0.0151019 (161)\ttotal: 5.22s\tremaining: 17.3s\n",
      "162:\tlearn: 0.0254387\ttest: 0.0151020\tbest: 0.0151019 (161)\ttotal: 5.25s\tremaining: 17.3s\n",
      "163:\tlearn: 0.0251656\ttest: 0.0149296\tbest: 0.0149296 (163)\ttotal: 5.27s\tremaining: 17.2s\n",
      "164:\tlearn: 0.0248975\ttest: 0.0147327\tbest: 0.0147327 (164)\ttotal: 5.31s\tremaining: 17.2s\n",
      "165:\tlearn: 0.0246532\ttest: 0.0145784\tbest: 0.0145784 (165)\ttotal: 5.35s\tremaining: 17.2s\n",
      "166:\tlearn: 0.0243514\ttest: 0.0143836\tbest: 0.0143836 (166)\ttotal: 5.38s\tremaining: 17.2s\n",
      "167:\tlearn: 0.0241112\ttest: 0.0142256\tbest: 0.0142256 (167)\ttotal: 5.4s\tremaining: 17.1s\n",
      "168:\tlearn: 0.0237632\ttest: 0.0140071\tbest: 0.0140071 (168)\ttotal: 5.43s\tremaining: 17.1s\n",
      "169:\tlearn: 0.0235991\ttest: 0.0138968\tbest: 0.0138968 (169)\ttotal: 5.46s\tremaining: 17s\n",
      "170:\tlearn: 0.0235749\ttest: 0.0139006\tbest: 0.0138968 (169)\ttotal: 5.48s\tremaining: 17s\n",
      "171:\tlearn: 0.0234698\ttest: 0.0138264\tbest: 0.0138264 (171)\ttotal: 5.5s\tremaining: 16.9s\n",
      "172:\tlearn: 0.0233239\ttest: 0.0137376\tbest: 0.0137376 (172)\ttotal: 5.55s\tremaining: 16.9s\n",
      "173:\tlearn: 0.0231405\ttest: 0.0136242\tbest: 0.0136242 (173)\ttotal: 5.58s\tremaining: 16.9s\n",
      "174:\tlearn: 0.0229608\ttest: 0.0135132\tbest: 0.0135132 (174)\ttotal: 5.61s\tremaining: 16.8s\n",
      "175:\tlearn: 0.0227646\ttest: 0.0133983\tbest: 0.0133983 (175)\ttotal: 5.63s\tremaining: 16.8s\n",
      "176:\tlearn: 0.0225425\ttest: 0.0132743\tbest: 0.0132743 (176)\ttotal: 5.66s\tremaining: 16.7s\n",
      "177:\tlearn: 0.0223718\ttest: 0.0131748\tbest: 0.0131748 (177)\ttotal: 5.68s\tremaining: 16.7s\n",
      "178:\tlearn: 0.0220663\ttest: 0.0129833\tbest: 0.0129833 (178)\ttotal: 5.71s\tremaining: 16.6s\n",
      "179:\tlearn: 0.0218413\ttest: 0.0128758\tbest: 0.0128758 (179)\ttotal: 5.73s\tremaining: 16.6s\n",
      "180:\tlearn: 0.0216518\ttest: 0.0127556\tbest: 0.0127556 (180)\ttotal: 5.76s\tremaining: 16.5s\n",
      "181:\tlearn: 0.0214952\ttest: 0.0126634\tbest: 0.0126634 (181)\ttotal: 5.81s\tremaining: 16.5s\n",
      "182:\tlearn: 0.0213214\ttest: 0.0126005\tbest: 0.0126005 (182)\ttotal: 5.84s\tremaining: 16.5s\n",
      "183:\tlearn: 0.0211619\ttest: 0.0124964\tbest: 0.0124964 (183)\ttotal: 5.88s\tremaining: 16.5s\n",
      "184:\tlearn: 0.0210625\ttest: 0.0124519\tbest: 0.0124519 (184)\ttotal: 5.91s\tremaining: 16.4s\n",
      "185:\tlearn: 0.0208681\ttest: 0.0123306\tbest: 0.0123306 (185)\ttotal: 5.93s\tremaining: 16.4s\n",
      "186:\tlearn: 0.0207617\ttest: 0.0122600\tbest: 0.0122600 (186)\ttotal: 5.95s\tremaining: 16.3s\n",
      "187:\tlearn: 0.0206104\ttest: 0.0121766\tbest: 0.0121766 (187)\ttotal: 5.99s\tremaining: 16.3s\n",
      "188:\tlearn: 0.0204362\ttest: 0.0120870\tbest: 0.0120870 (188)\ttotal: 6.02s\tremaining: 16.3s\n",
      "189:\tlearn: 0.0202701\ttest: 0.0119810\tbest: 0.0119810 (189)\ttotal: 6.05s\tremaining: 16.2s\n",
      "190:\tlearn: 0.0200883\ttest: 0.0118617\tbest: 0.0118617 (190)\ttotal: 6.07s\tremaining: 16.2s\n",
      "191:\tlearn: 0.0199749\ttest: 0.0118003\tbest: 0.0118003 (191)\ttotal: 6.09s\tremaining: 16.1s\n",
      "192:\tlearn: 0.0197986\ttest: 0.0116906\tbest: 0.0116906 (192)\ttotal: 6.12s\tremaining: 16.1s\n",
      "193:\tlearn: 0.0196707\ttest: 0.0116189\tbest: 0.0116189 (193)\ttotal: 6.15s\tremaining: 16s\n",
      "194:\tlearn: 0.0196496\ttest: 0.0116189\tbest: 0.0116189 (194)\ttotal: 6.18s\tremaining: 16s\n"
     ]
    },
    {
     "name": "stdout",
     "output_type": "stream",
     "text": [
      "195:\tlearn: 0.0195422\ttest: 0.0115564\tbest: 0.0115564 (195)\ttotal: 6.21s\tremaining: 16s\n",
      "196:\tlearn: 0.0193718\ttest: 0.0114314\tbest: 0.0114314 (196)\ttotal: 6.24s\tremaining: 15.9s\n",
      "197:\tlearn: 0.0193474\ttest: 0.0114155\tbest: 0.0114155 (197)\ttotal: 6.27s\tremaining: 15.9s\n",
      "198:\tlearn: 0.0192281\ttest: 0.0113481\tbest: 0.0113481 (198)\ttotal: 6.3s\tremaining: 15.9s\n",
      "199:\tlearn: 0.0190281\ttest: 0.0112141\tbest: 0.0112141 (199)\ttotal: 6.32s\tremaining: 15.8s\n",
      "200:\tlearn: 0.0189331\ttest: 0.0111411\tbest: 0.0111411 (200)\ttotal: 6.35s\tremaining: 15.8s\n",
      "201:\tlearn: 0.0187828\ttest: 0.0110501\tbest: 0.0110501 (201)\ttotal: 6.38s\tremaining: 15.7s\n",
      "202:\tlearn: 0.0187470\ttest: 0.0110362\tbest: 0.0110362 (202)\ttotal: 6.42s\tremaining: 15.7s\n",
      "203:\tlearn: 0.0185621\ttest: 0.0109172\tbest: 0.0109172 (203)\ttotal: 6.46s\tremaining: 15.7s\n",
      "204:\tlearn: 0.0184218\ttest: 0.0108260\tbest: 0.0108260 (204)\ttotal: 6.49s\tremaining: 15.7s\n",
      "205:\tlearn: 0.0184081\ttest: 0.0108253\tbest: 0.0108253 (205)\ttotal: 6.51s\tremaining: 15.6s\n",
      "206:\tlearn: 0.0182792\ttest: 0.0107538\tbest: 0.0107538 (206)\ttotal: 6.55s\tremaining: 15.6s\n",
      "207:\tlearn: 0.0181606\ttest: 0.0106872\tbest: 0.0106872 (207)\ttotal: 6.58s\tremaining: 15.6s\n",
      "208:\tlearn: 0.0181506\ttest: 0.0106864\tbest: 0.0106864 (208)\ttotal: 6.61s\tremaining: 15.5s\n",
      "209:\tlearn: 0.0180022\ttest: 0.0105944\tbest: 0.0105944 (209)\ttotal: 6.64s\tremaining: 15.5s\n",
      "210:\tlearn: 0.0178749\ttest: 0.0105283\tbest: 0.0105283 (210)\ttotal: 6.68s\tremaining: 15.5s\n",
      "211:\tlearn: 0.0177138\ttest: 0.0104375\tbest: 0.0104375 (211)\ttotal: 6.7s\tremaining: 15.4s\n",
      "212:\tlearn: 0.0175922\ttest: 0.0103639\tbest: 0.0103639 (212)\ttotal: 6.75s\tremaining: 15.4s\n",
      "213:\tlearn: 0.0175829\ttest: 0.0103632\tbest: 0.0103632 (213)\ttotal: 6.78s\tremaining: 15.4s\n",
      "214:\tlearn: 0.0175699\ttest: 0.0103652\tbest: 0.0103632 (213)\ttotal: 6.8s\tremaining: 15.3s\n",
      "215:\tlearn: 0.0174302\ttest: 0.0102783\tbest: 0.0102783 (215)\ttotal: 6.83s\tremaining: 15.3s\n",
      "216:\tlearn: 0.0172927\ttest: 0.0101929\tbest: 0.0101929 (216)\ttotal: 6.88s\tremaining: 15.3s\n",
      "217:\tlearn: 0.0172736\ttest: 0.0101793\tbest: 0.0101793 (217)\ttotal: 6.9s\tremaining: 15.3s\n",
      "218:\tlearn: 0.0171390\ttest: 0.0100961\tbest: 0.0100961 (218)\ttotal: 6.93s\tremaining: 15.2s\n",
      "219:\tlearn: 0.0170273\ttest: 0.0100280\tbest: 0.0100280 (219)\ttotal: 6.96s\tremaining: 15.2s\n",
      "220:\tlearn: 0.0169679\ttest: 0.0099885\tbest: 0.0099885 (220)\ttotal: 6.98s\tremaining: 15.1s\n",
      "221:\tlearn: 0.0168460\ttest: 0.0099085\tbest: 0.0099085 (221)\ttotal: 7.02s\tremaining: 15.1s\n",
      "222:\tlearn: 0.0167174\ttest: 0.0098290\tbest: 0.0098290 (222)\ttotal: 7.05s\tremaining: 15.1s\n",
      "223:\tlearn: 0.0165977\ttest: 0.0097667\tbest: 0.0097667 (223)\ttotal: 7.09s\tremaining: 15.1s\n",
      "224:\tlearn: 0.0164887\ttest: 0.0097012\tbest: 0.0097012 (224)\ttotal: 7.12s\tremaining: 15s\n",
      "225:\tlearn: 0.0163892\ttest: 0.0096471\tbest: 0.0096471 (225)\ttotal: 7.14s\tremaining: 15s\n",
      "226:\tlearn: 0.0163031\ttest: 0.0095902\tbest: 0.0095902 (226)\ttotal: 7.16s\tremaining: 14.9s\n",
      "227:\tlearn: 0.0161819\ttest: 0.0095152\tbest: 0.0095152 (227)\ttotal: 7.19s\tremaining: 14.9s\n",
      "228:\tlearn: 0.0160311\ttest: 0.0094311\tbest: 0.0094311 (228)\ttotal: 7.22s\tremaining: 14.8s\n",
      "229:\tlearn: 0.0159914\ttest: 0.0094221\tbest: 0.0094221 (229)\ttotal: 7.25s\tremaining: 14.8s\n",
      "230:\tlearn: 0.0158920\ttest: 0.0093447\tbest: 0.0093447 (230)\ttotal: 7.29s\tremaining: 14.8s\n",
      "231:\tlearn: 0.0158685\ttest: 0.0093367\tbest: 0.0093367 (231)\ttotal: 7.32s\tremaining: 14.8s\n",
      "232:\tlearn: 0.0157529\ttest: 0.0092651\tbest: 0.0092651 (232)\ttotal: 7.34s\tremaining: 14.7s\n",
      "233:\tlearn: 0.0156474\ttest: 0.0092000\tbest: 0.0092000 (233)\ttotal: 7.37s\tremaining: 14.7s\n",
      "234:\tlearn: 0.0154962\ttest: 0.0091040\tbest: 0.0091040 (234)\ttotal: 7.4s\tremaining: 14.6s\n",
      "235:\tlearn: 0.0154168\ttest: 0.0090623\tbest: 0.0090623 (235)\ttotal: 7.42s\tremaining: 14.6s\n",
      "236:\tlearn: 0.0153284\ttest: 0.0090187\tbest: 0.0090187 (236)\ttotal: 7.45s\tremaining: 14.6s\n",
      "237:\tlearn: 0.0152322\ttest: 0.0089586\tbest: 0.0089586 (237)\ttotal: 7.47s\tremaining: 14.5s\n",
      "238:\tlearn: 0.0152199\ttest: 0.0089587\tbest: 0.0089586 (237)\ttotal: 7.5s\tremaining: 14.5s\n",
      "239:\tlearn: 0.0152003\ttest: 0.0089586\tbest: 0.0089586 (237)\ttotal: 7.55s\tremaining: 14.5s\n",
      "240:\tlearn: 0.0151440\ttest: 0.0089187\tbest: 0.0089187 (240)\ttotal: 7.58s\tremaining: 14.4s\n",
      "241:\tlearn: 0.0150444\ttest: 0.0088567\tbest: 0.0088567 (241)\ttotal: 7.6s\tremaining: 14.4s\n",
      "242:\tlearn: 0.0149027\ttest: 0.0087742\tbest: 0.0087742 (242)\ttotal: 7.63s\tremaining: 14.3s\n",
      "243:\tlearn: 0.0148898\ttest: 0.0087735\tbest: 0.0087735 (243)\ttotal: 7.65s\tremaining: 14.3s\n",
      "244:\tlearn: 0.0148051\ttest: 0.0087249\tbest: 0.0087249 (244)\ttotal: 7.68s\tremaining: 14.3s\n",
      "245:\tlearn: 0.0147922\ttest: 0.0087259\tbest: 0.0087249 (244)\ttotal: 7.71s\tremaining: 14.2s\n",
      "246:\tlearn: 0.0147121\ttest: 0.0086815\tbest: 0.0086815 (246)\ttotal: 7.74s\tremaining: 14.2s\n",
      "247:\tlearn: 0.0145906\ttest: 0.0085994\tbest: 0.0085994 (247)\ttotal: 7.77s\tremaining: 14.2s\n",
      "248:\tlearn: 0.0145172\ttest: 0.0085600\tbest: 0.0085600 (248)\ttotal: 7.8s\tremaining: 14.1s\n",
      "249:\tlearn: 0.0145059\ttest: 0.0085608\tbest: 0.0085600 (248)\ttotal: 7.83s\tremaining: 14.1s\n",
      "250:\tlearn: 0.0144954\ttest: 0.0085597\tbest: 0.0085597 (250)\ttotal: 7.85s\tremaining: 14.1s\n",
      "251:\tlearn: 0.0143640\ttest: 0.0084758\tbest: 0.0084758 (251)\ttotal: 7.88s\tremaining: 14s\n",
      "252:\tlearn: 0.0142673\ttest: 0.0084156\tbest: 0.0084156 (252)\ttotal: 7.9s\tremaining: 14s\n",
      "253:\tlearn: 0.0141731\ttest: 0.0083596\tbest: 0.0083596 (253)\ttotal: 7.95s\tremaining: 14s\n",
      "254:\tlearn: 0.0140902\ttest: 0.0083070\tbest: 0.0083070 (254)\ttotal: 7.98s\tremaining: 13.9s\n",
      "255:\tlearn: 0.0139783\ttest: 0.0082314\tbest: 0.0082314 (255)\ttotal: 8.01s\tremaining: 13.9s\n",
      "256:\tlearn: 0.0138867\ttest: 0.0081747\tbest: 0.0081747 (256)\ttotal: 8.04s\tremaining: 13.9s\n",
      "257:\tlearn: 0.0138374\ttest: 0.0081455\tbest: 0.0081455 (257)\ttotal: 8.07s\tremaining: 13.8s\n",
      "258:\tlearn: 0.0138240\ttest: 0.0081368\tbest: 0.0081368 (258)\ttotal: 8.1s\tremaining: 13.8s\n",
      "259:\tlearn: 0.0137511\ttest: 0.0080954\tbest: 0.0080954 (259)\ttotal: 8.12s\tremaining: 13.7s\n",
      "260:\tlearn: 0.0136622\ttest: 0.0080402\tbest: 0.0080402 (260)\ttotal: 8.16s\tremaining: 13.7s\n",
      "261:\tlearn: 0.0135906\ttest: 0.0080004\tbest: 0.0080004 (261)\ttotal: 8.19s\tremaining: 13.7s\n",
      "262:\tlearn: 0.0135096\ttest: 0.0079514\tbest: 0.0079514 (262)\ttotal: 8.23s\tremaining: 13.7s\n",
      "263:\tlearn: 0.0134510\ttest: 0.0079149\tbest: 0.0079149 (263)\ttotal: 8.25s\tremaining: 13.6s\n",
      "264:\tlearn: 0.0133361\ttest: 0.0078545\tbest: 0.0078545 (264)\ttotal: 8.28s\tremaining: 13.6s\n",
      "265:\tlearn: 0.0132657\ttest: 0.0078156\tbest: 0.0078156 (265)\ttotal: 8.3s\tremaining: 13.5s\n",
      "266:\tlearn: 0.0131677\ttest: 0.0077524\tbest: 0.0077524 (266)\ttotal: 8.33s\tremaining: 13.5s\n",
      "267:\tlearn: 0.0131049\ttest: 0.0077284\tbest: 0.0077284 (267)\ttotal: 8.36s\tremaining: 13.5s\n",
      "268:\tlearn: 0.0130899\ttest: 0.0077196\tbest: 0.0077196 (268)\ttotal: 8.39s\tremaining: 13.4s\n",
      "269:\tlearn: 0.0129816\ttest: 0.0076565\tbest: 0.0076565 (269)\ttotal: 8.43s\tremaining: 13.4s\n",
      "270:\tlearn: 0.0129074\ttest: 0.0076115\tbest: 0.0076115 (270)\ttotal: 8.45s\tremaining: 13.4s\n",
      "271:\tlearn: 0.0128545\ttest: 0.0075821\tbest: 0.0075821 (271)\ttotal: 8.48s\tremaining: 13.3s\n",
      "272:\tlearn: 0.0127907\ttest: 0.0075455\tbest: 0.0075455 (272)\ttotal: 8.51s\tremaining: 13.3s\n",
      "273:\tlearn: 0.0127279\ttest: 0.0075079\tbest: 0.0075079 (273)\ttotal: 8.54s\tremaining: 13.3s\n",
      "274:\tlearn: 0.0126490\ttest: 0.0074567\tbest: 0.0074567 (274)\ttotal: 8.57s\tremaining: 13.2s\n",
      "275:\tlearn: 0.0126417\ttest: 0.0074554\tbest: 0.0074554 (275)\ttotal: 8.6s\tremaining: 13.2s\n",
      "276:\tlearn: 0.0125768\ttest: 0.0074163\tbest: 0.0074163 (276)\ttotal: 8.64s\tremaining: 13.2s\n",
      "277:\tlearn: 0.0124905\ttest: 0.0073611\tbest: 0.0073611 (277)\ttotal: 8.67s\tremaining: 13.2s\n",
      "278:\tlearn: 0.0124160\ttest: 0.0073148\tbest: 0.0073148 (278)\ttotal: 8.7s\tremaining: 13.1s\n",
      "279:\tlearn: 0.0123424\ttest: 0.0072692\tbest: 0.0072692 (279)\ttotal: 8.73s\tremaining: 13.1s\n",
      "280:\tlearn: 0.0122805\ttest: 0.0072350\tbest: 0.0072350 (280)\ttotal: 8.76s\tremaining: 13.1s\n",
      "281:\tlearn: 0.0122142\ttest: 0.0071951\tbest: 0.0071951 (281)\ttotal: 8.78s\tremaining: 13s\n",
      "282:\tlearn: 0.0121978\ttest: 0.0071934\tbest: 0.0071934 (282)\ttotal: 8.82s\tremaining: 13s\n",
      "283:\tlearn: 0.0121381\ttest: 0.0071533\tbest: 0.0071533 (283)\ttotal: 8.85s\tremaining: 13s\n",
      "284:\tlearn: 0.0120806\ttest: 0.0071204\tbest: 0.0071204 (284)\ttotal: 8.89s\tremaining: 12.9s\n",
      "285:\tlearn: 0.0120218\ttest: 0.0070853\tbest: 0.0070853 (285)\ttotal: 8.91s\tremaining: 12.9s\n",
      "286:\tlearn: 0.0119518\ttest: 0.0070477\tbest: 0.0070477 (286)\ttotal: 8.94s\tremaining: 12.9s\n",
      "287:\tlearn: 0.0118725\ttest: 0.0070201\tbest: 0.0070201 (287)\ttotal: 8.97s\tremaining: 12.8s\n",
      "288:\tlearn: 0.0118206\ttest: 0.0070005\tbest: 0.0070005 (288)\ttotal: 9s\tremaining: 12.8s\n"
     ]
    },
    {
     "name": "stdout",
     "output_type": "stream",
     "text": [
      "289:\tlearn: 0.0118084\ttest: 0.0069992\tbest: 0.0069992 (289)\ttotal: 9.03s\tremaining: 12.8s\n",
      "290:\tlearn: 0.0118007\ttest: 0.0069929\tbest: 0.0069929 (290)\ttotal: 9.06s\tremaining: 12.7s\n",
      "291:\tlearn: 0.0117387\ttest: 0.0069552\tbest: 0.0069552 (291)\ttotal: 9.12s\tremaining: 12.7s\n",
      "292:\tlearn: 0.0116795\ttest: 0.0069236\tbest: 0.0069236 (292)\ttotal: 9.14s\tremaining: 12.7s\n",
      "293:\tlearn: 0.0116242\ttest: 0.0068920\tbest: 0.0068920 (293)\ttotal: 9.16s\tremaining: 12.7s\n",
      "294:\tlearn: 0.0116169\ttest: 0.0068915\tbest: 0.0068915 (294)\ttotal: 9.2s\tremaining: 12.6s\n",
      "295:\tlearn: 0.0115719\ttest: 0.0068639\tbest: 0.0068639 (295)\ttotal: 9.22s\tremaining: 12.6s\n",
      "296:\tlearn: 0.0115654\ttest: 0.0068632\tbest: 0.0068632 (296)\ttotal: 9.26s\tremaining: 12.6s\n",
      "297:\tlearn: 0.0114797\ttest: 0.0068073\tbest: 0.0068073 (297)\ttotal: 9.3s\tremaining: 12.5s\n",
      "298:\tlearn: 0.0114179\ttest: 0.0067663\tbest: 0.0067663 (298)\ttotal: 9.33s\tremaining: 12.5s\n",
      "299:\tlearn: 0.0113597\ttest: 0.0067310\tbest: 0.0067310 (299)\ttotal: 9.35s\tremaining: 12.5s\n",
      "300:\tlearn: 0.0113024\ttest: 0.0066933\tbest: 0.0066933 (300)\ttotal: 9.38s\tremaining: 12.4s\n",
      "301:\tlearn: 0.0112899\ttest: 0.0066924\tbest: 0.0066924 (301)\ttotal: 9.41s\tremaining: 12.4s\n",
      "302:\tlearn: 0.0112440\ttest: 0.0066659\tbest: 0.0066659 (302)\ttotal: 9.43s\tremaining: 12.4s\n",
      "303:\tlearn: 0.0111825\ttest: 0.0066278\tbest: 0.0066278 (303)\ttotal: 9.46s\tremaining: 12.3s\n",
      "304:\tlearn: 0.0111373\ttest: 0.0065935\tbest: 0.0065935 (304)\ttotal: 9.5s\tremaining: 12.3s\n",
      "305:\tlearn: 0.0110828\ttest: 0.0065510\tbest: 0.0065510 (305)\ttotal: 9.53s\tremaining: 12.3s\n",
      "306:\tlearn: 0.0110433\ttest: 0.0065263\tbest: 0.0065263 (306)\ttotal: 9.55s\tremaining: 12.2s\n",
      "307:\tlearn: 0.0109953\ttest: 0.0064988\tbest: 0.0064988 (307)\ttotal: 9.58s\tremaining: 12.2s\n",
      "308:\tlearn: 0.0109438\ttest: 0.0064663\tbest: 0.0064663 (308)\ttotal: 9.61s\tremaining: 12.2s\n",
      "309:\tlearn: 0.0109001\ttest: 0.0064307\tbest: 0.0064307 (309)\ttotal: 9.64s\tremaining: 12.1s\n",
      "310:\tlearn: 0.0108782\ttest: 0.0064172\tbest: 0.0064172 (310)\ttotal: 9.69s\tremaining: 12.1s\n",
      "311:\tlearn: 0.0108726\ttest: 0.0064174\tbest: 0.0064172 (310)\ttotal: 9.73s\tremaining: 12.1s\n",
      "312:\tlearn: 0.0108673\ttest: 0.0064159\tbest: 0.0064159 (312)\ttotal: 9.77s\tremaining: 12.1s\n",
      "313:\tlearn: 0.0108090\ttest: 0.0063760\tbest: 0.0063760 (313)\ttotal: 9.81s\tremaining: 12.1s\n",
      "314:\tlearn: 0.0108050\ttest: 0.0063764\tbest: 0.0063760 (313)\ttotal: 9.85s\tremaining: 12s\n",
      "315:\tlearn: 0.0107628\ttest: 0.0063478\tbest: 0.0063478 (315)\ttotal: 9.9s\tremaining: 12s\n",
      "316:\tlearn: 0.0107527\ttest: 0.0063428\tbest: 0.0063428 (316)\ttotal: 9.94s\tremaining: 12s\n",
      "317:\tlearn: 0.0107251\ttest: 0.0063230\tbest: 0.0063230 (317)\ttotal: 9.98s\tremaining: 12s\n",
      "318:\tlearn: 0.0106764\ttest: 0.0062977\tbest: 0.0062977 (318)\ttotal: 10s\tremaining: 12s\n",
      "319:\tlearn: 0.0106479\ttest: 0.0062772\tbest: 0.0062772 (319)\ttotal: 10.1s\tremaining: 12s\n",
      "320:\tlearn: 0.0106198\ttest: 0.0062576\tbest: 0.0062576 (320)\ttotal: 10.1s\tremaining: 11.9s\n",
      "321:\tlearn: 0.0105878\ttest: 0.0062327\tbest: 0.0062327 (321)\ttotal: 10.2s\tremaining: 11.9s\n",
      "322:\tlearn: 0.0105334\ttest: 0.0061991\tbest: 0.0061991 (322)\ttotal: 10.2s\tremaining: 11.9s\n",
      "323:\tlearn: 0.0104882\ttest: 0.0061718\tbest: 0.0061718 (323)\ttotal: 10.2s\tremaining: 11.9s\n",
      "324:\tlearn: 0.0104128\ttest: 0.0061239\tbest: 0.0061239 (324)\ttotal: 10.3s\tremaining: 11.8s\n",
      "325:\tlearn: 0.0103441\ttest: 0.0060906\tbest: 0.0060906 (325)\ttotal: 10.3s\tremaining: 11.8s\n",
      "326:\tlearn: 0.0103201\ttest: 0.0060719\tbest: 0.0060719 (326)\ttotal: 10.3s\tremaining: 11.8s\n",
      "327:\tlearn: 0.0102728\ttest: 0.0060443\tbest: 0.0060443 (327)\ttotal: 10.3s\tremaining: 11.7s\n",
      "328:\tlearn: 0.0102268\ttest: 0.0060232\tbest: 0.0060232 (328)\ttotal: 10.4s\tremaining: 11.7s\n",
      "329:\tlearn: 0.0101759\ttest: 0.0059918\tbest: 0.0059918 (329)\ttotal: 10.4s\tremaining: 11.7s\n",
      "330:\tlearn: 0.0101452\ttest: 0.0059688\tbest: 0.0059688 (330)\ttotal: 10.4s\tremaining: 11.6s\n",
      "331:\tlearn: 0.0100946\ttest: 0.0059412\tbest: 0.0059412 (331)\ttotal: 10.5s\tremaining: 11.6s\n",
      "332:\tlearn: 0.0100626\ttest: 0.0059176\tbest: 0.0059176 (332)\ttotal: 10.5s\tremaining: 11.6s\n",
      "333:\tlearn: 0.0100183\ttest: 0.0058973\tbest: 0.0058973 (333)\ttotal: 10.5s\tremaining: 11.5s\n",
      "334:\tlearn: 0.0100077\ttest: 0.0058912\tbest: 0.0058912 (334)\ttotal: 10.6s\tremaining: 11.5s\n",
      "335:\tlearn: 0.0099717\ttest: 0.0058721\tbest: 0.0058721 (335)\ttotal: 10.6s\tremaining: 11.5s\n",
      "336:\tlearn: 0.0099112\ttest: 0.0058331\tbest: 0.0058331 (336)\ttotal: 10.6s\tremaining: 11.4s\n",
      "337:\tlearn: 0.0098667\ttest: 0.0058049\tbest: 0.0058049 (337)\ttotal: 10.7s\tremaining: 11.4s\n",
      "338:\tlearn: 0.0098225\ttest: 0.0057804\tbest: 0.0057804 (338)\ttotal: 10.7s\tremaining: 11.4s\n",
      "339:\tlearn: 0.0097844\ttest: 0.0057611\tbest: 0.0057611 (339)\ttotal: 10.7s\tremaining: 11.4s\n",
      "340:\tlearn: 0.0097401\ttest: 0.0057322\tbest: 0.0057322 (340)\ttotal: 10.8s\tremaining: 11.3s\n",
      "341:\tlearn: 0.0097079\ttest: 0.0057136\tbest: 0.0057136 (341)\ttotal: 10.8s\tremaining: 11.3s\n",
      "342:\tlearn: 0.0096721\ttest: 0.0056918\tbest: 0.0056918 (342)\ttotal: 10.8s\tremaining: 11.3s\n",
      "343:\tlearn: 0.0096319\ttest: 0.0056688\tbest: 0.0056688 (343)\ttotal: 10.9s\tremaining: 11.3s\n",
      "344:\tlearn: 0.0096227\ttest: 0.0056647\tbest: 0.0056647 (344)\ttotal: 10.9s\tremaining: 11.2s\n",
      "345:\tlearn: 0.0095681\ttest: 0.0056296\tbest: 0.0056296 (345)\ttotal: 10.9s\tremaining: 11.2s\n",
      "346:\tlearn: 0.0095232\ttest: 0.0056020\tbest: 0.0056020 (346)\ttotal: 11s\tremaining: 11.2s\n",
      "347:\tlearn: 0.0094790\ttest: 0.0055806\tbest: 0.0055806 (347)\ttotal: 11s\tremaining: 11.1s\n",
      "348:\tlearn: 0.0094545\ttest: 0.0055603\tbest: 0.0055603 (348)\ttotal: 11.1s\tremaining: 11.1s\n",
      "349:\tlearn: 0.0094222\ttest: 0.0055442\tbest: 0.0055442 (349)\ttotal: 11.1s\tremaining: 11.1s\n",
      "350:\tlearn: 0.0093603\ttest: 0.0055050\tbest: 0.0055050 (350)\ttotal: 11.1s\tremaining: 11.1s\n",
      "351:\tlearn: 0.0093173\ttest: 0.0054785\tbest: 0.0054785 (351)\ttotal: 11.1s\tremaining: 11s\n",
      "352:\tlearn: 0.0093083\ttest: 0.0054733\tbest: 0.0054733 (352)\ttotal: 11.2s\tremaining: 11s\n",
      "353:\tlearn: 0.0092580\ttest: 0.0054561\tbest: 0.0054561 (353)\ttotal: 11.2s\tremaining: 11s\n",
      "354:\tlearn: 0.0092506\ttest: 0.0054556\tbest: 0.0054556 (354)\ttotal: 11.3s\tremaining: 10.9s\n",
      "355:\tlearn: 0.0092193\ttest: 0.0054345\tbest: 0.0054345 (355)\ttotal: 11.3s\tremaining: 10.9s\n",
      "356:\tlearn: 0.0091805\ttest: 0.0054093\tbest: 0.0054093 (356)\ttotal: 11.3s\tremaining: 10.9s\n",
      "357:\tlearn: 0.0091746\ttest: 0.0054060\tbest: 0.0054060 (357)\ttotal: 11.4s\tremaining: 10.8s\n",
      "358:\tlearn: 0.0091658\ttest: 0.0054035\tbest: 0.0054035 (358)\ttotal: 11.4s\tremaining: 10.8s\n",
      "359:\tlearn: 0.0091605\ttest: 0.0054039\tbest: 0.0054035 (358)\ttotal: 11.4s\tremaining: 10.8s\n",
      "360:\tlearn: 0.0091545\ttest: 0.0054016\tbest: 0.0054016 (360)\ttotal: 11.5s\tremaining: 10.8s\n",
      "361:\tlearn: 0.0091225\ttest: 0.0053828\tbest: 0.0053828 (361)\ttotal: 11.5s\tremaining: 10.7s\n",
      "362:\tlearn: 0.0090867\ttest: 0.0053653\tbest: 0.0053653 (362)\ttotal: 11.5s\tremaining: 10.7s\n",
      "363:\tlearn: 0.0090238\ttest: 0.0053271\tbest: 0.0053271 (363)\ttotal: 11.6s\tremaining: 10.7s\n",
      "364:\tlearn: 0.0089985\ttest: 0.0053073\tbest: 0.0053073 (364)\ttotal: 11.6s\tremaining: 10.6s\n",
      "365:\tlearn: 0.0089667\ttest: 0.0052901\tbest: 0.0052901 (365)\ttotal: 11.6s\tremaining: 10.6s\n",
      "366:\tlearn: 0.0089375\ttest: 0.0052713\tbest: 0.0052713 (366)\ttotal: 11.7s\tremaining: 10.6s\n",
      "367:\tlearn: 0.0089292\ttest: 0.0052685\tbest: 0.0052685 (367)\ttotal: 11.7s\tremaining: 10.6s\n",
      "368:\tlearn: 0.0089236\ttest: 0.0052653\tbest: 0.0052653 (368)\ttotal: 11.8s\tremaining: 10.6s\n",
      "369:\tlearn: 0.0088961\ttest: 0.0052501\tbest: 0.0052501 (369)\ttotal: 11.8s\tremaining: 10.5s\n",
      "370:\tlearn: 0.0088595\ttest: 0.0052300\tbest: 0.0052300 (370)\ttotal: 11.8s\tremaining: 10.5s\n",
      "371:\tlearn: 0.0088211\ttest: 0.0052073\tbest: 0.0052073 (371)\ttotal: 11.9s\tremaining: 10.5s\n",
      "372:\tlearn: 0.0087892\ttest: 0.0051887\tbest: 0.0051887 (372)\ttotal: 11.9s\tremaining: 10.5s\n",
      "373:\tlearn: 0.0087832\ttest: 0.0051885\tbest: 0.0051885 (373)\ttotal: 12s\tremaining: 10.4s\n",
      "374:\tlearn: 0.0087290\ttest: 0.0051540\tbest: 0.0051540 (374)\ttotal: 12s\tremaining: 10.4s\n",
      "375:\tlearn: 0.0086923\ttest: 0.0051299\tbest: 0.0051299 (375)\ttotal: 12.1s\tremaining: 10.4s\n",
      "376:\tlearn: 0.0086628\ttest: 0.0051138\tbest: 0.0051138 (376)\ttotal: 12.1s\tremaining: 10.4s\n",
      "377:\tlearn: 0.0086259\ttest: 0.0050960\tbest: 0.0050960 (377)\ttotal: 12.2s\tremaining: 10.4s\n",
      "378:\tlearn: 0.0086205\ttest: 0.0050924\tbest: 0.0050924 (378)\ttotal: 12.2s\tremaining: 10.4s\n",
      "379:\tlearn: 0.0086176\ttest: 0.0050924\tbest: 0.0050924 (378)\ttotal: 12.3s\tremaining: 10.3s\n",
      "380:\tlearn: 0.0085941\ttest: 0.0050742\tbest: 0.0050742 (380)\ttotal: 12.3s\tremaining: 10.3s\n",
      "381:\tlearn: 0.0085688\ttest: 0.0050574\tbest: 0.0050574 (381)\ttotal: 12.4s\tremaining: 10.3s\n",
      "382:\tlearn: 0.0085358\ttest: 0.0050407\tbest: 0.0050407 (382)\ttotal: 12.4s\tremaining: 10.3s\n",
      "383:\tlearn: 0.0085104\ttest: 0.0050271\tbest: 0.0050271 (383)\ttotal: 12.4s\tremaining: 10.2s\n",
      "384:\tlearn: 0.0084830\ttest: 0.0050115\tbest: 0.0050115 (384)\ttotal: 12.5s\tremaining: 10.2s\n",
      "385:\tlearn: 0.0084684\ttest: 0.0050035\tbest: 0.0050035 (385)\ttotal: 12.5s\tremaining: 10.2s\n"
     ]
    },
    {
     "name": "stdout",
     "output_type": "stream",
     "text": [
      "386:\tlearn: 0.0084453\ttest: 0.0049865\tbest: 0.0049865 (386)\ttotal: 12.5s\tremaining: 10.1s\n",
      "387:\tlearn: 0.0084131\ttest: 0.0049613\tbest: 0.0049613 (387)\ttotal: 12.6s\tremaining: 10.1s\n",
      "388:\tlearn: 0.0084093\ttest: 0.0049609\tbest: 0.0049609 (388)\ttotal: 12.6s\tremaining: 10.1s\n",
      "389:\tlearn: 0.0083768\ttest: 0.0049413\tbest: 0.0049413 (389)\ttotal: 12.6s\tremaining: 10s\n",
      "390:\tlearn: 0.0083704\ttest: 0.0049413\tbest: 0.0049413 (389)\ttotal: 12.7s\tremaining: 10s\n",
      "391:\tlearn: 0.0083386\ttest: 0.0049213\tbest: 0.0049213 (391)\ttotal: 12.7s\tremaining: 9.97s\n",
      "392:\tlearn: 0.0082976\ttest: 0.0048933\tbest: 0.0048933 (392)\ttotal: 12.7s\tremaining: 9.94s\n",
      "393:\tlearn: 0.0082927\ttest: 0.0048931\tbest: 0.0048931 (393)\ttotal: 12.8s\tremaining: 9.9s\n",
      "394:\tlearn: 0.0082585\ttest: 0.0048719\tbest: 0.0048719 (394)\ttotal: 12.8s\tremaining: 9.88s\n",
      "395:\tlearn: 0.0082115\ttest: 0.0048469\tbest: 0.0048469 (395)\ttotal: 12.8s\tremaining: 9.85s\n",
      "396:\tlearn: 0.0081645\ttest: 0.0048197\tbest: 0.0048197 (396)\ttotal: 12.9s\tremaining: 9.81s\n",
      "397:\tlearn: 0.0081424\ttest: 0.0048078\tbest: 0.0048078 (397)\ttotal: 12.9s\tremaining: 9.78s\n",
      "398:\tlearn: 0.0081146\ttest: 0.0047932\tbest: 0.0047932 (398)\ttotal: 12.9s\tremaining: 9.74s\n",
      "399:\tlearn: 0.0080875\ttest: 0.0047774\tbest: 0.0047774 (399)\ttotal: 12.9s\tremaining: 9.71s\n",
      "400:\tlearn: 0.0080467\ttest: 0.0047511\tbest: 0.0047511 (400)\ttotal: 13s\tremaining: 9.67s\n",
      "401:\tlearn: 0.0080233\ttest: 0.0047377\tbest: 0.0047377 (401)\ttotal: 13s\tremaining: 9.64s\n",
      "402:\tlearn: 0.0079962\ttest: 0.0047166\tbest: 0.0047166 (402)\ttotal: 13s\tremaining: 9.61s\n",
      "403:\tlearn: 0.0079742\ttest: 0.0047020\tbest: 0.0047020 (403)\ttotal: 13.1s\tremaining: 9.58s\n",
      "404:\tlearn: 0.0079480\ttest: 0.0046868\tbest: 0.0046868 (404)\ttotal: 13.1s\tremaining: 9.54s\n",
      "405:\tlearn: 0.0079218\ttest: 0.0046698\tbest: 0.0046698 (405)\ttotal: 13.1s\tremaining: 9.51s\n",
      "406:\tlearn: 0.0078954\ttest: 0.0046545\tbest: 0.0046545 (406)\ttotal: 13.2s\tremaining: 9.48s\n",
      "407:\tlearn: 0.0078740\ttest: 0.0046404\tbest: 0.0046404 (407)\ttotal: 13.2s\tremaining: 9.45s\n",
      "408:\tlearn: 0.0078366\ttest: 0.0046197\tbest: 0.0046197 (408)\ttotal: 13.2s\tremaining: 9.41s\n",
      "409:\tlearn: 0.0078115\ttest: 0.0046050\tbest: 0.0046050 (409)\ttotal: 13.3s\tremaining: 9.38s\n",
      "410:\tlearn: 0.0077846\ttest: 0.0045885\tbest: 0.0045885 (410)\ttotal: 13.3s\tremaining: 9.35s\n",
      "411:\tlearn: 0.0077699\ttest: 0.0045786\tbest: 0.0045786 (411)\ttotal: 13.3s\tremaining: 9.31s\n",
      "412:\tlearn: 0.0077457\ttest: 0.0045635\tbest: 0.0045635 (412)\ttotal: 13.3s\tremaining: 9.27s\n",
      "413:\tlearn: 0.0077197\ttest: 0.0045480\tbest: 0.0045480 (413)\ttotal: 13.4s\tremaining: 9.23s\n",
      "414:\tlearn: 0.0076933\ttest: 0.0045313\tbest: 0.0045313 (414)\ttotal: 13.4s\tremaining: 9.19s\n",
      "415:\tlearn: 0.0076684\ttest: 0.0045184\tbest: 0.0045184 (415)\ttotal: 13.4s\tremaining: 9.16s\n",
      "416:\tlearn: 0.0076264\ttest: 0.0044917\tbest: 0.0044917 (416)\ttotal: 13.5s\tremaining: 9.14s\n",
      "417:\tlearn: 0.0076024\ttest: 0.0044778\tbest: 0.0044778 (417)\ttotal: 13.5s\tremaining: 9.1s\n",
      "418:\tlearn: 0.0075734\ttest: 0.0044598\tbest: 0.0044598 (418)\ttotal: 13.5s\tremaining: 9.07s\n",
      "419:\tlearn: 0.0075697\ttest: 0.0044593\tbest: 0.0044593 (419)\ttotal: 13.5s\tremaining: 9.03s\n",
      "420:\tlearn: 0.0075558\ttest: 0.0044506\tbest: 0.0044506 (420)\ttotal: 13.6s\tremaining: 9s\n",
      "421:\tlearn: 0.0075294\ttest: 0.0044347\tbest: 0.0044347 (421)\ttotal: 13.6s\tremaining: 8.96s\n",
      "422:\tlearn: 0.0075032\ttest: 0.0044189\tbest: 0.0044189 (422)\ttotal: 13.6s\tremaining: 8.94s\n",
      "423:\tlearn: 0.0074782\ttest: 0.0044032\tbest: 0.0044032 (423)\ttotal: 13.7s\tremaining: 8.91s\n",
      "424:\tlearn: 0.0074382\ttest: 0.0043778\tbest: 0.0043778 (424)\ttotal: 13.7s\tremaining: 8.89s\n",
      "425:\tlearn: 0.0074242\ttest: 0.0043687\tbest: 0.0043687 (425)\ttotal: 13.8s\tremaining: 8.86s\n",
      "426:\tlearn: 0.0074198\ttest: 0.0043668\tbest: 0.0043668 (426)\ttotal: 13.8s\tremaining: 8.82s\n",
      "427:\tlearn: 0.0073805\ttest: 0.0043418\tbest: 0.0043418 (427)\ttotal: 13.8s\tremaining: 8.79s\n",
      "428:\tlearn: 0.0073530\ttest: 0.0043249\tbest: 0.0043249 (428)\ttotal: 13.9s\tremaining: 8.76s\n",
      "429:\tlearn: 0.0073505\ttest: 0.0043248\tbest: 0.0043248 (429)\ttotal: 13.9s\tremaining: 8.73s\n",
      "430:\tlearn: 0.0073456\ttest: 0.0043219\tbest: 0.0043219 (430)\ttotal: 13.9s\tremaining: 8.7s\n",
      "431:\tlearn: 0.0073234\ttest: 0.0043089\tbest: 0.0043089 (431)\ttotal: 14s\tremaining: 8.66s\n",
      "432:\tlearn: 0.0073033\ttest: 0.0042957\tbest: 0.0042957 (432)\ttotal: 14s\tremaining: 8.63s\n",
      "433:\tlearn: 0.0072987\ttest: 0.0042926\tbest: 0.0042926 (433)\ttotal: 14s\tremaining: 8.59s\n",
      "434:\tlearn: 0.0072703\ttest: 0.0042741\tbest: 0.0042741 (434)\ttotal: 14s\tremaining: 8.56s\n",
      "435:\tlearn: 0.0072679\ttest: 0.0042742\tbest: 0.0042741 (434)\ttotal: 14.1s\tremaining: 8.52s\n",
      "436:\tlearn: 0.0072454\ttest: 0.0042608\tbest: 0.0042608 (436)\ttotal: 14.1s\tremaining: 8.49s\n",
      "437:\tlearn: 0.0072184\ttest: 0.0042465\tbest: 0.0042465 (437)\ttotal: 14.1s\tremaining: 8.46s\n",
      "438:\tlearn: 0.0071961\ttest: 0.0042344\tbest: 0.0042344 (438)\ttotal: 14.2s\tremaining: 8.43s\n",
      "439:\tlearn: 0.0071735\ttest: 0.0042233\tbest: 0.0042233 (439)\ttotal: 14.2s\tremaining: 8.39s\n",
      "440:\tlearn: 0.0071704\ttest: 0.0042225\tbest: 0.0042225 (440)\ttotal: 14.2s\tremaining: 8.36s\n",
      "441:\tlearn: 0.0071414\ttest: 0.0042062\tbest: 0.0042062 (441)\ttotal: 14.3s\tremaining: 8.32s\n",
      "442:\tlearn: 0.0071051\ttest: 0.0041834\tbest: 0.0041834 (442)\ttotal: 14.3s\tremaining: 8.29s\n",
      "443:\tlearn: 0.0070925\ttest: 0.0041732\tbest: 0.0041732 (443)\ttotal: 14.3s\tremaining: 8.26s\n",
      "444:\tlearn: 0.0070750\ttest: 0.0041635\tbest: 0.0041635 (444)\ttotal: 14.4s\tremaining: 8.23s\n",
      "445:\tlearn: 0.0070531\ttest: 0.0041529\tbest: 0.0041529 (445)\ttotal: 14.4s\tremaining: 8.2s\n",
      "446:\tlearn: 0.0070209\ttest: 0.0041351\tbest: 0.0041351 (446)\ttotal: 14.4s\tremaining: 8.17s\n",
      "447:\tlearn: 0.0069987\ttest: 0.0041211\tbest: 0.0041211 (447)\ttotal: 14.5s\tremaining: 8.13s\n",
      "448:\tlearn: 0.0069788\ttest: 0.0041097\tbest: 0.0041097 (448)\ttotal: 14.5s\tremaining: 8.1s\n",
      "449:\tlearn: 0.0069763\ttest: 0.0041096\tbest: 0.0041096 (449)\ttotal: 14.5s\tremaining: 8.07s\n",
      "450:\tlearn: 0.0069600\ttest: 0.0040965\tbest: 0.0040965 (450)\ttotal: 14.5s\tremaining: 8.03s\n",
      "451:\tlearn: 0.0069433\ttest: 0.0040917\tbest: 0.0040917 (451)\ttotal: 14.6s\tremaining: 8s\n",
      "452:\tlearn: 0.0069267\ttest: 0.0040818\tbest: 0.0040818 (452)\ttotal: 14.6s\tremaining: 7.97s\n",
      "453:\tlearn: 0.0069064\ttest: 0.0040704\tbest: 0.0040704 (453)\ttotal: 14.6s\tremaining: 7.93s\n",
      "454:\tlearn: 0.0068884\ttest: 0.0040601\tbest: 0.0040601 (454)\ttotal: 14.7s\tremaining: 7.9s\n",
      "455:\tlearn: 0.0068861\ttest: 0.0040599\tbest: 0.0040599 (455)\ttotal: 14.7s\tremaining: 7.86s\n",
      "456:\tlearn: 0.0068669\ttest: 0.0040506\tbest: 0.0040506 (456)\ttotal: 14.7s\tremaining: 7.83s\n",
      "457:\tlearn: 0.0068430\ttest: 0.0040358\tbest: 0.0040358 (457)\ttotal: 14.8s\tremaining: 7.8s\n",
      "458:\tlearn: 0.0068212\ttest: 0.0040227\tbest: 0.0040227 (458)\ttotal: 14.8s\tremaining: 7.77s\n",
      "459:\tlearn: 0.0067983\ttest: 0.0040077\tbest: 0.0040077 (459)\ttotal: 14.9s\tremaining: 7.75s\n",
      "460:\tlearn: 0.0067767\ttest: 0.0039958\tbest: 0.0039958 (460)\ttotal: 14.9s\tremaining: 7.72s\n",
      "461:\tlearn: 0.0067581\ttest: 0.0039864\tbest: 0.0039864 (461)\ttotal: 14.9s\tremaining: 7.68s\n",
      "462:\tlearn: 0.0067439\ttest: 0.0039749\tbest: 0.0039749 (462)\ttotal: 14.9s\tremaining: 7.65s\n",
      "463:\tlearn: 0.0067253\ttest: 0.0039643\tbest: 0.0039643 (463)\ttotal: 15s\tremaining: 7.62s\n",
      "464:\tlearn: 0.0067222\ttest: 0.0039643\tbest: 0.0039643 (464)\ttotal: 15s\tremaining: 7.59s\n",
      "465:\tlearn: 0.0067188\ttest: 0.0039641\tbest: 0.0039641 (465)\ttotal: 15.1s\tremaining: 7.56s\n",
      "466:\tlearn: 0.0066894\ttest: 0.0039501\tbest: 0.0039501 (466)\ttotal: 15.1s\tremaining: 7.53s\n",
      "467:\tlearn: 0.0066755\ttest: 0.0039389\tbest: 0.0039389 (467)\ttotal: 15.1s\tremaining: 7.5s\n",
      "468:\tlearn: 0.0066736\ttest: 0.0039388\tbest: 0.0039388 (468)\ttotal: 15.2s\tremaining: 7.47s\n",
      "469:\tlearn: 0.0066400\ttest: 0.0039186\tbest: 0.0039186 (469)\ttotal: 15.3s\tremaining: 7.46s\n",
      "470:\tlearn: 0.0066177\ttest: 0.0039048\tbest: 0.0039048 (470)\ttotal: 15.3s\tremaining: 7.44s\n",
      "471:\tlearn: 0.0065955\ttest: 0.0038911\tbest: 0.0038911 (471)\ttotal: 15.3s\tremaining: 7.4s\n",
      "472:\tlearn: 0.0065813\ttest: 0.0038806\tbest: 0.0038806 (472)\ttotal: 15.4s\tremaining: 7.37s\n",
      "473:\tlearn: 0.0065643\ttest: 0.0038703\tbest: 0.0038703 (473)\ttotal: 15.4s\tremaining: 7.34s\n",
      "474:\tlearn: 0.0065601\ttest: 0.0038701\tbest: 0.0038701 (474)\ttotal: 15.4s\tremaining: 7.3s\n",
      "475:\tlearn: 0.0065313\ttest: 0.0038537\tbest: 0.0038537 (475)\ttotal: 15.4s\tremaining: 7.27s\n",
      "476:\tlearn: 0.0065103\ttest: 0.0038399\tbest: 0.0038399 (476)\ttotal: 15.5s\tremaining: 7.24s\n",
      "477:\tlearn: 0.0064829\ttest: 0.0038262\tbest: 0.0038262 (477)\ttotal: 15.5s\tremaining: 7.21s\n",
      "478:\tlearn: 0.0064680\ttest: 0.0038179\tbest: 0.0038179 (478)\ttotal: 15.6s\tremaining: 7.19s\n",
      "479:\tlearn: 0.0064431\ttest: 0.0038049\tbest: 0.0038049 (479)\ttotal: 15.6s\tremaining: 7.15s\n",
      "480:\tlearn: 0.0064307\ttest: 0.0037967\tbest: 0.0037967 (480)\ttotal: 15.6s\tremaining: 7.12s\n",
      "481:\tlearn: 0.0064288\ttest: 0.0037965\tbest: 0.0037965 (481)\ttotal: 15.7s\tremaining: 7.09s\n"
     ]
    },
    {
     "name": "stdout",
     "output_type": "stream",
     "text": [
      "482:\tlearn: 0.0064075\ttest: 0.0037829\tbest: 0.0037829 (482)\ttotal: 15.7s\tremaining: 7.06s\n",
      "483:\tlearn: 0.0063965\ttest: 0.0037758\tbest: 0.0037758 (483)\ttotal: 15.7s\tremaining: 7.03s\n",
      "484:\tlearn: 0.0063929\ttest: 0.0037758\tbest: 0.0037758 (484)\ttotal: 15.8s\tremaining: 6.99s\n",
      "485:\tlearn: 0.0063739\ttest: 0.0037640\tbest: 0.0037640 (485)\ttotal: 15.8s\tremaining: 6.96s\n",
      "486:\tlearn: 0.0063717\ttest: 0.0037638\tbest: 0.0037638 (486)\ttotal: 15.8s\tremaining: 6.93s\n",
      "487:\tlearn: 0.0063697\ttest: 0.0037636\tbest: 0.0037636 (487)\ttotal: 15.9s\tremaining: 6.9s\n",
      "488:\tlearn: 0.0063565\ttest: 0.0037551\tbest: 0.0037551 (488)\ttotal: 15.9s\tremaining: 6.88s\n",
      "489:\tlearn: 0.0063428\ttest: 0.0037465\tbest: 0.0037465 (489)\ttotal: 16s\tremaining: 6.85s\n",
      "490:\tlearn: 0.0063254\ttest: 0.0037369\tbest: 0.0037369 (490)\ttotal: 16s\tremaining: 6.82s\n",
      "491:\tlearn: 0.0063119\ttest: 0.0037261\tbest: 0.0037261 (491)\ttotal: 16s\tremaining: 6.78s\n",
      "492:\tlearn: 0.0063011\ttest: 0.0037171\tbest: 0.0037171 (492)\ttotal: 16.1s\tremaining: 6.75s\n",
      "493:\tlearn: 0.0062742\ttest: 0.0037004\tbest: 0.0037004 (493)\ttotal: 16.1s\tremaining: 6.71s\n",
      "494:\tlearn: 0.0062625\ttest: 0.0036926\tbest: 0.0036926 (494)\ttotal: 16.1s\tremaining: 6.68s\n",
      "495:\tlearn: 0.0062582\ttest: 0.0036911\tbest: 0.0036911 (495)\ttotal: 16.2s\tremaining: 6.65s\n",
      "496:\tlearn: 0.0062413\ttest: 0.0036819\tbest: 0.0036819 (496)\ttotal: 16.2s\tremaining: 6.62s\n",
      "497:\tlearn: 0.0062248\ttest: 0.0036720\tbest: 0.0036720 (497)\ttotal: 16.2s\tremaining: 6.58s\n",
      "498:\tlearn: 0.0061971\ttest: 0.0036560\tbest: 0.0036560 (498)\ttotal: 16.3s\tremaining: 6.55s\n",
      "499:\tlearn: 0.0061808\ttest: 0.0036462\tbest: 0.0036462 (499)\ttotal: 16.3s\tremaining: 6.52s\n",
      "500:\tlearn: 0.0061769\ttest: 0.0036448\tbest: 0.0036448 (500)\ttotal: 16.3s\tremaining: 6.49s\n",
      "501:\tlearn: 0.0061613\ttest: 0.0036359\tbest: 0.0036359 (501)\ttotal: 16.4s\tremaining: 6.45s\n",
      "502:\tlearn: 0.0061472\ttest: 0.0036255\tbest: 0.0036255 (502)\ttotal: 16.4s\tremaining: 6.43s\n",
      "503:\tlearn: 0.0061362\ttest: 0.0036174\tbest: 0.0036174 (503)\ttotal: 16.5s\tremaining: 6.4s\n",
      "504:\tlearn: 0.0061256\ttest: 0.0036113\tbest: 0.0036113 (504)\ttotal: 16.5s\tremaining: 6.36s\n",
      "505:\tlearn: 0.0061118\ttest: 0.0036038\tbest: 0.0036038 (505)\ttotal: 16.5s\tremaining: 6.33s\n",
      "506:\tlearn: 0.0060993\ttest: 0.0035954\tbest: 0.0035954 (506)\ttotal: 16.6s\tremaining: 6.3s\n",
      "507:\tlearn: 0.0060854\ttest: 0.0035862\tbest: 0.0035862 (507)\ttotal: 16.6s\tremaining: 6.26s\n",
      "508:\tlearn: 0.0060700\ttest: 0.0035773\tbest: 0.0035773 (508)\ttotal: 16.6s\tremaining: 6.23s\n",
      "509:\tlearn: 0.0060512\ttest: 0.0035656\tbest: 0.0035656 (509)\ttotal: 16.6s\tremaining: 6.2s\n",
      "510:\tlearn: 0.0060363\ttest: 0.0035572\tbest: 0.0035572 (510)\ttotal: 16.7s\tremaining: 6.17s\n",
      "511:\tlearn: 0.0060340\ttest: 0.0035574\tbest: 0.0035572 (510)\ttotal: 16.7s\tremaining: 6.14s\n",
      "512:\tlearn: 0.0060207\ttest: 0.0035502\tbest: 0.0035502 (512)\ttotal: 16.7s\tremaining: 6.11s\n",
      "513:\tlearn: 0.0060051\ttest: 0.0035423\tbest: 0.0035423 (513)\ttotal: 16.8s\tremaining: 6.07s\n",
      "514:\tlearn: 0.0059900\ttest: 0.0035336\tbest: 0.0035336 (514)\ttotal: 16.8s\tremaining: 6.04s\n",
      "515:\tlearn: 0.0059733\ttest: 0.0035230\tbest: 0.0035230 (515)\ttotal: 16.8s\tremaining: 6s\n",
      "516:\tlearn: 0.0059719\ttest: 0.0035229\tbest: 0.0035229 (516)\ttotal: 16.9s\tremaining: 5.97s\n",
      "517:\tlearn: 0.0059691\ttest: 0.0035228\tbest: 0.0035228 (517)\ttotal: 16.9s\tremaining: 5.93s\n",
      "518:\tlearn: 0.0059508\ttest: 0.0035115\tbest: 0.0035115 (518)\ttotal: 16.9s\tremaining: 5.9s\n",
      "519:\tlearn: 0.0059483\ttest: 0.0035116\tbest: 0.0035115 (518)\ttotal: 16.9s\tremaining: 5.87s\n",
      "520:\tlearn: 0.0059366\ttest: 0.0035040\tbest: 0.0035040 (520)\ttotal: 17s\tremaining: 5.83s\n",
      "521:\tlearn: 0.0059165\ttest: 0.0034929\tbest: 0.0034929 (521)\ttotal: 17s\tremaining: 5.79s\n",
      "522:\tlearn: 0.0059078\ttest: 0.0034863\tbest: 0.0034863 (522)\ttotal: 17s\tremaining: 5.76s\n",
      "523:\tlearn: 0.0058957\ttest: 0.0034790\tbest: 0.0034790 (523)\ttotal: 17.1s\tremaining: 5.73s\n",
      "524:\tlearn: 0.0058809\ttest: 0.0034706\tbest: 0.0034706 (524)\ttotal: 17.1s\tremaining: 5.7s\n",
      "525:\tlearn: 0.0058682\ttest: 0.0034638\tbest: 0.0034638 (525)\ttotal: 17.1s\tremaining: 5.67s\n",
      "526:\tlearn: 0.0058568\ttest: 0.0034560\tbest: 0.0034560 (526)\ttotal: 17.2s\tremaining: 5.63s\n",
      "527:\tlearn: 0.0058466\ttest: 0.0034523\tbest: 0.0034523 (527)\ttotal: 17.2s\tremaining: 5.6s\n",
      "528:\tlearn: 0.0058314\ttest: 0.0034408\tbest: 0.0034408 (528)\ttotal: 17.2s\tremaining: 5.56s\n",
      "529:\tlearn: 0.0058070\ttest: 0.0034267\tbest: 0.0034267 (529)\ttotal: 17.3s\tremaining: 5.53s\n",
      "530:\tlearn: 0.0057950\ttest: 0.0034192\tbest: 0.0034192 (530)\ttotal: 17.3s\tremaining: 5.5s\n",
      "531:\tlearn: 0.0057832\ttest: 0.0034109\tbest: 0.0034109 (531)\ttotal: 17.3s\tremaining: 5.47s\n",
      "532:\tlearn: 0.0057734\ttest: 0.0034037\tbest: 0.0034037 (532)\ttotal: 17.4s\tremaining: 5.44s\n",
      "533:\tlearn: 0.0057598\ttest: 0.0033960\tbest: 0.0033960 (533)\ttotal: 17.4s\tremaining: 5.41s\n",
      "534:\tlearn: 0.0057479\ttest: 0.0033894\tbest: 0.0033894 (534)\ttotal: 17.4s\tremaining: 5.37s\n",
      "535:\tlearn: 0.0057318\ttest: 0.0033789\tbest: 0.0033789 (535)\ttotal: 17.5s\tremaining: 5.34s\n",
      "536:\tlearn: 0.0057188\ttest: 0.0033719\tbest: 0.0033719 (536)\ttotal: 17.5s\tremaining: 5.31s\n",
      "537:\tlearn: 0.0056960\ttest: 0.0033589\tbest: 0.0033589 (537)\ttotal: 17.5s\tremaining: 5.28s\n",
      "538:\tlearn: 0.0056793\ttest: 0.0033485\tbest: 0.0033485 (538)\ttotal: 17.6s\tremaining: 5.25s\n",
      "539:\tlearn: 0.0056680\ttest: 0.0033410\tbest: 0.0033410 (539)\ttotal: 17.6s\tremaining: 5.21s\n",
      "540:\tlearn: 0.0056515\ttest: 0.0033331\tbest: 0.0033331 (540)\ttotal: 17.6s\tremaining: 5.18s\n",
      "541:\tlearn: 0.0056398\ttest: 0.0033267\tbest: 0.0033267 (541)\ttotal: 17.6s\tremaining: 5.14s\n",
      "542:\tlearn: 0.0056308\ttest: 0.0033215\tbest: 0.0033215 (542)\ttotal: 17.7s\tremaining: 5.11s\n",
      "543:\tlearn: 0.0056179\ttest: 0.0033150\tbest: 0.0033150 (543)\ttotal: 17.7s\tremaining: 5.08s\n",
      "544:\tlearn: 0.0056070\ttest: 0.0033094\tbest: 0.0033094 (544)\ttotal: 17.8s\tremaining: 5.05s\n",
      "545:\tlearn: 0.0056055\ttest: 0.0033097\tbest: 0.0033094 (544)\ttotal: 17.8s\tremaining: 5.02s\n",
      "546:\tlearn: 0.0055980\ttest: 0.0033044\tbest: 0.0033044 (546)\ttotal: 17.8s\tremaining: 4.99s\n",
      "547:\tlearn: 0.0055861\ttest: 0.0032965\tbest: 0.0032965 (547)\ttotal: 17.9s\tremaining: 4.96s\n",
      "548:\tlearn: 0.0055848\ttest: 0.0032966\tbest: 0.0032965 (547)\ttotal: 17.9s\tremaining: 4.92s\n",
      "549:\tlearn: 0.0055711\ttest: 0.0032896\tbest: 0.0032896 (549)\ttotal: 17.9s\tremaining: 4.89s\n",
      "550:\tlearn: 0.0055596\ttest: 0.0032835\tbest: 0.0032835 (550)\ttotal: 18s\tremaining: 4.86s\n",
      "551:\tlearn: 0.0055464\ttest: 0.0032761\tbest: 0.0032761 (551)\ttotal: 18.1s\tremaining: 4.84s\n",
      "552:\tlearn: 0.0055448\ttest: 0.0032751\tbest: 0.0032751 (552)\ttotal: 18.1s\tremaining: 4.82s\n",
      "553:\tlearn: 0.0055350\ttest: 0.0032679\tbest: 0.0032679 (553)\ttotal: 18.2s\tremaining: 4.79s\n",
      "554:\tlearn: 0.0055160\ttest: 0.0032556\tbest: 0.0032556 (554)\ttotal: 18.2s\tremaining: 4.76s\n",
      "555:\tlearn: 0.0055063\ttest: 0.0032478\tbest: 0.0032478 (555)\ttotal: 18.3s\tremaining: 4.74s\n",
      "556:\tlearn: 0.0054906\ttest: 0.0032381\tbest: 0.0032381 (556)\ttotal: 18.3s\tremaining: 4.71s\n",
      "557:\tlearn: 0.0054732\ttest: 0.0032284\tbest: 0.0032284 (557)\ttotal: 18.4s\tremaining: 4.67s\n",
      "558:\tlearn: 0.0054577\ttest: 0.0032183\tbest: 0.0032183 (558)\ttotal: 18.4s\tremaining: 4.64s\n",
      "559:\tlearn: 0.0054428\ttest: 0.0032085\tbest: 0.0032085 (559)\ttotal: 18.5s\tremaining: 4.61s\n",
      "560:\tlearn: 0.0054283\ttest: 0.0031991\tbest: 0.0031991 (560)\ttotal: 18.5s\tremaining: 4.58s\n",
      "561:\tlearn: 0.0054095\ttest: 0.0031886\tbest: 0.0031886 (561)\ttotal: 18.5s\tremaining: 4.55s\n",
      "562:\tlearn: 0.0054080\ttest: 0.0031884\tbest: 0.0031884 (562)\ttotal: 18.6s\tremaining: 4.52s\n",
      "563:\tlearn: 0.0053948\ttest: 0.0031803\tbest: 0.0031803 (563)\ttotal: 18.6s\tremaining: 4.49s\n",
      "564:\tlearn: 0.0053783\ttest: 0.0031723\tbest: 0.0031723 (564)\ttotal: 18.7s\tremaining: 4.46s\n",
      "565:\tlearn: 0.0053671\ttest: 0.0031644\tbest: 0.0031644 (565)\ttotal: 18.7s\tremaining: 4.43s\n",
      "566:\tlearn: 0.0053566\ttest: 0.0031587\tbest: 0.0031587 (566)\ttotal: 18.7s\tremaining: 4.4s\n",
      "567:\tlearn: 0.0053539\ttest: 0.0031584\tbest: 0.0031584 (567)\ttotal: 18.8s\tremaining: 4.37s\n",
      "568:\tlearn: 0.0053344\ttest: 0.0031494\tbest: 0.0031494 (568)\ttotal: 18.8s\tremaining: 4.34s\n",
      "569:\tlearn: 0.0053209\ttest: 0.0031409\tbest: 0.0031409 (569)\ttotal: 18.9s\tremaining: 4.31s\n",
      "570:\tlearn: 0.0053033\ttest: 0.0031295\tbest: 0.0031295 (570)\ttotal: 18.9s\tremaining: 4.28s\n",
      "571:\tlearn: 0.0052915\ttest: 0.0031227\tbest: 0.0031227 (571)\ttotal: 19s\tremaining: 4.24s\n",
      "572:\tlearn: 0.0052818\ttest: 0.0031164\tbest: 0.0031164 (572)\ttotal: 19s\tremaining: 4.21s\n",
      "573:\tlearn: 0.0052803\ttest: 0.0031154\tbest: 0.0031154 (573)\ttotal: 19s\tremaining: 4.18s\n"
     ]
    },
    {
     "name": "stdout",
     "output_type": "stream",
     "text": [
      "574:\tlearn: 0.0052664\ttest: 0.0031084\tbest: 0.0031084 (574)\ttotal: 19.1s\tremaining: 4.15s\n",
      "575:\tlearn: 0.0052492\ttest: 0.0030973\tbest: 0.0030973 (575)\ttotal: 19.1s\tremaining: 4.12s\n",
      "576:\tlearn: 0.0052374\ttest: 0.0030914\tbest: 0.0030914 (576)\ttotal: 19.2s\tremaining: 4.09s\n",
      "577:\tlearn: 0.0052265\ttest: 0.0030855\tbest: 0.0030855 (577)\ttotal: 19.2s\tremaining: 4.06s\n",
      "578:\tlearn: 0.0052137\ttest: 0.0030774\tbest: 0.0030774 (578)\ttotal: 19.3s\tremaining: 4.03s\n",
      "579:\tlearn: 0.0052028\ttest: 0.0030738\tbest: 0.0030738 (579)\ttotal: 19.3s\tremaining: 4s\n",
      "580:\tlearn: 0.0051835\ttest: 0.0030626\tbest: 0.0030626 (580)\ttotal: 19.4s\tremaining: 3.97s\n",
      "581:\tlearn: 0.0051694\ttest: 0.0030542\tbest: 0.0030542 (581)\ttotal: 19.4s\tremaining: 3.94s\n",
      "582:\tlearn: 0.0051568\ttest: 0.0030466\tbest: 0.0030466 (582)\ttotal: 19.5s\tremaining: 3.91s\n",
      "583:\tlearn: 0.0051458\ttest: 0.0030403\tbest: 0.0030403 (583)\ttotal: 19.5s\tremaining: 3.87s\n",
      "584:\tlearn: 0.0051295\ttest: 0.0030313\tbest: 0.0030313 (584)\ttotal: 19.6s\tremaining: 3.84s\n",
      "585:\tlearn: 0.0051203\ttest: 0.0030251\tbest: 0.0030251 (585)\ttotal: 19.6s\tremaining: 3.81s\n",
      "586:\tlearn: 0.0051090\ttest: 0.0030183\tbest: 0.0030183 (586)\ttotal: 19.6s\tremaining: 3.78s\n",
      "587:\tlearn: 0.0051056\ttest: 0.0030180\tbest: 0.0030180 (587)\ttotal: 19.7s\tremaining: 3.75s\n",
      "588:\tlearn: 0.0050957\ttest: 0.0030116\tbest: 0.0030116 (588)\ttotal: 19.7s\tremaining: 3.72s\n",
      "589:\tlearn: 0.0050796\ttest: 0.0030012\tbest: 0.0030012 (589)\ttotal: 19.8s\tremaining: 3.69s\n",
      "590:\tlearn: 0.0050783\ttest: 0.0030012\tbest: 0.0030012 (589)\ttotal: 19.8s\tremaining: 3.66s\n",
      "591:\tlearn: 0.0050677\ttest: 0.0029961\tbest: 0.0029961 (591)\ttotal: 19.9s\tremaining: 3.62s\n",
      "592:\tlearn: 0.0050638\ttest: 0.0029951\tbest: 0.0029951 (592)\ttotal: 19.9s\tremaining: 3.59s\n",
      "593:\tlearn: 0.0050609\ttest: 0.0029938\tbest: 0.0029938 (593)\ttotal: 19.9s\tremaining: 3.56s\n",
      "594:\tlearn: 0.0050543\ttest: 0.0029895\tbest: 0.0029895 (594)\ttotal: 20s\tremaining: 3.52s\n",
      "595:\tlearn: 0.0050459\ttest: 0.0029834\tbest: 0.0029834 (595)\ttotal: 20s\tremaining: 3.49s\n",
      "596:\tlearn: 0.0050443\ttest: 0.0029835\tbest: 0.0029834 (595)\ttotal: 20s\tremaining: 3.46s\n",
      "597:\tlearn: 0.0050294\ttest: 0.0029761\tbest: 0.0029761 (597)\ttotal: 20.1s\tremaining: 3.42s\n",
      "598:\tlearn: 0.0050138\ttest: 0.0029660\tbest: 0.0029660 (598)\ttotal: 20.1s\tremaining: 3.39s\n",
      "599:\tlearn: 0.0050060\ttest: 0.0029618\tbest: 0.0029618 (599)\ttotal: 20.1s\tremaining: 3.35s\n",
      "600:\tlearn: 0.0049930\ttest: 0.0029547\tbest: 0.0029547 (600)\ttotal: 20.1s\tremaining: 3.32s\n",
      "601:\tlearn: 0.0049807\ttest: 0.0029466\tbest: 0.0029466 (601)\ttotal: 20.2s\tremaining: 3.29s\n",
      "602:\tlearn: 0.0049681\ttest: 0.0029383\tbest: 0.0029383 (602)\ttotal: 20.2s\tremaining: 3.25s\n",
      "603:\tlearn: 0.0049658\ttest: 0.0029383\tbest: 0.0029383 (602)\ttotal: 20.3s\tremaining: 3.22s\n",
      "604:\tlearn: 0.0049574\ttest: 0.0029321\tbest: 0.0029321 (604)\ttotal: 20.3s\tremaining: 3.19s\n",
      "605:\tlearn: 0.0049456\ttest: 0.0029261\tbest: 0.0029261 (605)\ttotal: 20.3s\tremaining: 3.15s\n",
      "606:\tlearn: 0.0049356\ttest: 0.0029206\tbest: 0.0029206 (606)\ttotal: 20.4s\tremaining: 3.12s\n",
      "607:\tlearn: 0.0049256\ttest: 0.0029155\tbest: 0.0029155 (607)\ttotal: 20.4s\tremaining: 3.08s\n",
      "608:\tlearn: 0.0049129\ttest: 0.0029076\tbest: 0.0029076 (608)\ttotal: 20.4s\tremaining: 3.05s\n",
      "609:\tlearn: 0.0049018\ttest: 0.0029006\tbest: 0.0029006 (609)\ttotal: 20.5s\tremaining: 3.02s\n",
      "610:\tlearn: 0.0048843\ttest: 0.0028905\tbest: 0.0028905 (610)\ttotal: 20.5s\tremaining: 2.99s\n",
      "611:\tlearn: 0.0048815\ttest: 0.0028908\tbest: 0.0028905 (610)\ttotal: 20.5s\tremaining: 2.95s\n",
      "612:\tlearn: 0.0048790\ttest: 0.0028905\tbest: 0.0028905 (612)\ttotal: 20.6s\tremaining: 2.92s\n",
      "613:\tlearn: 0.0048702\ttest: 0.0028850\tbest: 0.0028850 (613)\ttotal: 20.6s\tremaining: 2.88s\n",
      "614:\tlearn: 0.0048597\ttest: 0.0028799\tbest: 0.0028799 (614)\ttotal: 20.6s\tremaining: 2.85s\n",
      "615:\tlearn: 0.0048415\ttest: 0.0028684\tbest: 0.0028684 (615)\ttotal: 20.6s\tremaining: 2.81s\n",
      "616:\tlearn: 0.0048262\ttest: 0.0028611\tbest: 0.0028611 (616)\ttotal: 20.7s\tremaining: 2.78s\n",
      "617:\tlearn: 0.0048170\ttest: 0.0028558\tbest: 0.0028558 (617)\ttotal: 20.7s\tremaining: 2.75s\n",
      "618:\tlearn: 0.0048097\ttest: 0.0028501\tbest: 0.0028501 (618)\ttotal: 20.7s\tremaining: 2.71s\n",
      "619:\tlearn: 0.0048014\ttest: 0.0028455\tbest: 0.0028455 (619)\ttotal: 20.8s\tremaining: 2.68s\n",
      "620:\tlearn: 0.0047851\ttest: 0.0028348\tbest: 0.0028348 (620)\ttotal: 20.8s\tremaining: 2.64s\n",
      "621:\tlearn: 0.0047798\ttest: 0.0028319\tbest: 0.0028319 (621)\ttotal: 20.8s\tremaining: 2.61s\n",
      "622:\tlearn: 0.0047699\ttest: 0.0028260\tbest: 0.0028260 (622)\ttotal: 20.9s\tremaining: 2.58s\n",
      "623:\tlearn: 0.0047623\ttest: 0.0028222\tbest: 0.0028222 (623)\ttotal: 20.9s\tremaining: 2.54s\n",
      "624:\tlearn: 0.0047609\ttest: 0.0028221\tbest: 0.0028221 (624)\ttotal: 20.9s\tremaining: 2.51s\n",
      "625:\tlearn: 0.0047586\ttest: 0.0028206\tbest: 0.0028206 (625)\ttotal: 20.9s\tremaining: 2.48s\n",
      "626:\tlearn: 0.0047489\ttest: 0.0028159\tbest: 0.0028159 (626)\ttotal: 21s\tremaining: 2.44s\n",
      "627:\tlearn: 0.0047372\ttest: 0.0028099\tbest: 0.0028099 (627)\ttotal: 21s\tremaining: 2.41s\n",
      "628:\tlearn: 0.0047254\ttest: 0.0028025\tbest: 0.0028025 (628)\ttotal: 21s\tremaining: 2.38s\n",
      "629:\tlearn: 0.0047102\ttest: 0.0027938\tbest: 0.0027938 (629)\ttotal: 21.1s\tremaining: 2.34s\n",
      "630:\tlearn: 0.0047039\ttest: 0.0027889\tbest: 0.0027889 (630)\ttotal: 21.1s\tremaining: 2.31s\n",
      "631:\tlearn: 0.0046941\ttest: 0.0027839\tbest: 0.0027839 (631)\ttotal: 21.1s\tremaining: 2.27s\n",
      "632:\tlearn: 0.0046871\ttest: 0.0027798\tbest: 0.0027798 (632)\ttotal: 21.2s\tremaining: 2.24s\n",
      "633:\tlearn: 0.0046798\ttest: 0.0027754\tbest: 0.0027754 (633)\ttotal: 21.2s\tremaining: 2.21s\n",
      "634:\tlearn: 0.0046717\ttest: 0.0027694\tbest: 0.0027694 (634)\ttotal: 21.3s\tremaining: 2.18s\n",
      "635:\tlearn: 0.0046608\ttest: 0.0027622\tbest: 0.0027622 (635)\ttotal: 21.3s\tremaining: 2.14s\n",
      "636:\tlearn: 0.0046548\ttest: 0.0027596\tbest: 0.0027596 (636)\ttotal: 21.3s\tremaining: 2.11s\n",
      "637:\tlearn: 0.0046423\ttest: 0.0027509\tbest: 0.0027509 (637)\ttotal: 21.4s\tremaining: 2.08s\n",
      "638:\tlearn: 0.0046412\ttest: 0.0027508\tbest: 0.0027508 (638)\ttotal: 21.4s\tremaining: 2.04s\n",
      "639:\tlearn: 0.0046271\ttest: 0.0027417\tbest: 0.0027417 (639)\ttotal: 21.4s\tremaining: 2.01s\n",
      "640:\tlearn: 0.0046247\ttest: 0.0027405\tbest: 0.0027405 (640)\ttotal: 21.5s\tremaining: 1.97s\n",
      "641:\tlearn: 0.0046159\ttest: 0.0027361\tbest: 0.0027361 (641)\ttotal: 21.5s\tremaining: 1.94s\n",
      "642:\tlearn: 0.0046084\ttest: 0.0027310\tbest: 0.0027310 (642)\ttotal: 21.5s\tremaining: 1.91s\n",
      "643:\tlearn: 0.0045984\ttest: 0.0027254\tbest: 0.0027254 (643)\ttotal: 21.6s\tremaining: 1.88s\n",
      "644:\tlearn: 0.0045933\ttest: 0.0027214\tbest: 0.0027214 (644)\ttotal: 21.6s\tremaining: 1.84s\n",
      "645:\tlearn: 0.0045846\ttest: 0.0027165\tbest: 0.0027165 (645)\ttotal: 21.6s\tremaining: 1.81s\n",
      "646:\tlearn: 0.0045774\ttest: 0.0027122\tbest: 0.0027122 (646)\ttotal: 21.7s\tremaining: 1.77s\n",
      "647:\tlearn: 0.0045707\ttest: 0.0027072\tbest: 0.0027072 (647)\ttotal: 21.7s\tremaining: 1.74s\n",
      "648:\tlearn: 0.0045577\ttest: 0.0026988\tbest: 0.0026988 (648)\ttotal: 21.7s\tremaining: 1.71s\n",
      "649:\tlearn: 0.0045483\ttest: 0.0026942\tbest: 0.0026942 (649)\ttotal: 21.8s\tremaining: 1.67s\n",
      "650:\tlearn: 0.0045472\ttest: 0.0026940\tbest: 0.0026940 (650)\ttotal: 21.8s\tremaining: 1.64s\n",
      "651:\tlearn: 0.0045343\ttest: 0.0026871\tbest: 0.0026871 (651)\ttotal: 21.8s\tremaining: 1.61s\n",
      "652:\tlearn: 0.0045247\ttest: 0.0026812\tbest: 0.0026812 (652)\ttotal: 21.9s\tremaining: 1.57s\n",
      "653:\tlearn: 0.0045162\ttest: 0.0026763\tbest: 0.0026763 (653)\ttotal: 21.9s\tremaining: 1.54s\n",
      "654:\tlearn: 0.0045071\ttest: 0.0026709\tbest: 0.0026709 (654)\ttotal: 21.9s\tremaining: 1.5s\n",
      "655:\tlearn: 0.0045011\ttest: 0.0026671\tbest: 0.0026671 (655)\ttotal: 21.9s\tremaining: 1.47s\n",
      "656:\tlearn: 0.0044879\ttest: 0.0026592\tbest: 0.0026592 (656)\ttotal: 22s\tremaining: 1.44s\n",
      "657:\tlearn: 0.0044856\ttest: 0.0026581\tbest: 0.0026581 (657)\ttotal: 22s\tremaining: 1.4s\n",
      "658:\tlearn: 0.0044763\ttest: 0.0026533\tbest: 0.0026533 (658)\ttotal: 22s\tremaining: 1.37s\n",
      "659:\tlearn: 0.0044679\ttest: 0.0026484\tbest: 0.0026484 (659)\ttotal: 22.1s\tremaining: 1.34s\n",
      "660:\tlearn: 0.0044555\ttest: 0.0026403\tbest: 0.0026403 (660)\ttotal: 22.1s\tremaining: 1.3s\n",
      "661:\tlearn: 0.0044531\ttest: 0.0026395\tbest: 0.0026395 (661)\ttotal: 22.1s\tremaining: 1.27s\n",
      "662:\tlearn: 0.0044510\ttest: 0.0026390\tbest: 0.0026390 (662)\ttotal: 22.1s\tremaining: 1.24s\n",
      "663:\tlearn: 0.0044450\ttest: 0.0026363\tbest: 0.0026363 (663)\ttotal: 22.2s\tremaining: 1.2s\n",
      "664:\tlearn: 0.0044434\ttest: 0.0026358\tbest: 0.0026358 (664)\ttotal: 22.2s\tremaining: 1.17s\n",
      "665:\tlearn: 0.0044353\ttest: 0.0026317\tbest: 0.0026317 (665)\ttotal: 22.3s\tremaining: 1.14s\n",
      "666:\tlearn: 0.0044337\ttest: 0.0026316\tbest: 0.0026316 (666)\ttotal: 22.3s\tremaining: 1.1s\n",
      "667:\tlearn: 0.0044222\ttest: 0.0026259\tbest: 0.0026259 (667)\ttotal: 22.3s\tremaining: 1.07s\n",
      "668:\tlearn: 0.0044157\ttest: 0.0026215\tbest: 0.0026215 (668)\ttotal: 22.3s\tremaining: 1.03s\n",
      "669:\tlearn: 0.0044088\ttest: 0.0026168\tbest: 0.0026168 (669)\ttotal: 22.4s\tremaining: 1s\n"
     ]
    },
    {
     "name": "stdout",
     "output_type": "stream",
     "text": [
      "670:\tlearn: 0.0043991\ttest: 0.0026104\tbest: 0.0026104 (670)\ttotal: 22.4s\tremaining: 968ms\n",
      "671:\tlearn: 0.0043939\ttest: 0.0026069\tbest: 0.0026069 (671)\ttotal: 22.5s\tremaining: 936ms\n",
      "672:\tlearn: 0.0043864\ttest: 0.0026026\tbest: 0.0026026 (672)\ttotal: 22.5s\tremaining: 902ms\n",
      "673:\tlearn: 0.0043742\ttest: 0.0025959\tbest: 0.0025959 (673)\ttotal: 22.5s\tremaining: 868ms\n",
      "674:\tlearn: 0.0043638\ttest: 0.0025900\tbest: 0.0025900 (674)\ttotal: 22.5s\tremaining: 835ms\n",
      "675:\tlearn: 0.0043555\ttest: 0.0025849\tbest: 0.0025849 (675)\ttotal: 22.6s\tremaining: 801ms\n",
      "676:\tlearn: 0.0043475\ttest: 0.0025804\tbest: 0.0025804 (676)\ttotal: 22.6s\tremaining: 768ms\n",
      "677:\tlearn: 0.0043462\ttest: 0.0025796\tbest: 0.0025796 (677)\ttotal: 22.6s\tremaining: 734ms\n",
      "678:\tlearn: 0.0043360\ttest: 0.0025744\tbest: 0.0025744 (678)\ttotal: 22.7s\tremaining: 701ms\n",
      "679:\tlearn: 0.0043281\ttest: 0.0025697\tbest: 0.0025697 (679)\ttotal: 22.7s\tremaining: 669ms\n",
      "680:\tlearn: 0.0043216\ttest: 0.0025661\tbest: 0.0025661 (680)\ttotal: 22.8s\tremaining: 635ms\n",
      "681:\tlearn: 0.0043130\ttest: 0.0025621\tbest: 0.0025621 (681)\ttotal: 22.8s\tremaining: 602ms\n",
      "682:\tlearn: 0.0043078\ttest: 0.0025586\tbest: 0.0025586 (682)\ttotal: 22.8s\tremaining: 568ms\n",
      "683:\tlearn: 0.0043030\ttest: 0.0025552\tbest: 0.0025552 (683)\ttotal: 22.9s\tremaining: 535ms\n",
      "684:\tlearn: 0.0043020\ttest: 0.0025551\tbest: 0.0025551 (684)\ttotal: 22.9s\tremaining: 502ms\n",
      "685:\tlearn: 0.0042931\ttest: 0.0025494\tbest: 0.0025494 (685)\ttotal: 23s\tremaining: 469ms\n",
      "686:\tlearn: 0.0042922\ttest: 0.0025493\tbest: 0.0025493 (686)\ttotal: 23s\tremaining: 435ms\n",
      "687:\tlearn: 0.0042859\ttest: 0.0025450\tbest: 0.0025450 (687)\ttotal: 23s\tremaining: 402ms\n",
      "688:\tlearn: 0.0042798\ttest: 0.0025417\tbest: 0.0025417 (688)\ttotal: 23.1s\tremaining: 368ms\n",
      "689:\tlearn: 0.0042722\ttest: 0.0025373\tbest: 0.0025373 (689)\ttotal: 23.1s\tremaining: 335ms\n",
      "690:\tlearn: 0.0042699\ttest: 0.0025359\tbest: 0.0025359 (690)\ttotal: 23.2s\tremaining: 302ms\n",
      "691:\tlearn: 0.0042612\ttest: 0.0025303\tbest: 0.0025303 (691)\ttotal: 23.2s\tremaining: 268ms\n",
      "692:\tlearn: 0.0042536\ttest: 0.0025258\tbest: 0.0025258 (692)\ttotal: 23.2s\tremaining: 234ms\n",
      "693:\tlearn: 0.0042445\ttest: 0.0025202\tbest: 0.0025202 (693)\ttotal: 23.2s\tremaining: 201ms\n",
      "694:\tlearn: 0.0042380\ttest: 0.0025166\tbest: 0.0025166 (694)\ttotal: 23.3s\tremaining: 167ms\n",
      "695:\tlearn: 0.0042317\ttest: 0.0025133\tbest: 0.0025133 (695)\ttotal: 23.3s\tremaining: 134ms\n",
      "696:\tlearn: 0.0042244\ttest: 0.0025092\tbest: 0.0025092 (696)\ttotal: 23.3s\tremaining: 100ms\n",
      "697:\tlearn: 0.0042224\ttest: 0.0025090\tbest: 0.0025090 (697)\ttotal: 23.4s\tremaining: 66.9ms\n",
      "698:\tlearn: 0.0042171\ttest: 0.0025069\tbest: 0.0025069 (698)\ttotal: 23.4s\tremaining: 33.5ms\n",
      "699:\tlearn: 0.0042035\ttest: 0.0024997\tbest: 0.0024997 (699)\ttotal: 23.4s\tremaining: 0us\n",
      "\n",
      "bestTest = 0.002499703184\n",
      "bestIteration = 699\n",
      "\n"
     ]
    },
    {
     "data": {
      "text/plain": [
       "<catboost.core.CatBoostClassifier at 0x7fd87fe0d1d0>"
      ]
     },
     "execution_count": 64,
     "metadata": {},
     "output_type": "execute_result"
    }
   ],
   "source": [
    "# For searching optimal params\n",
    "clf.fit(X_train, y_train, eval_set=(X_val, y_val))"
   ]
  },
  {
   "cell_type": "code",
   "execution_count": 65,
   "metadata": {},
   "outputs": [
    {
     "name": "stdout",
     "output_type": "stream",
     "text": [
      "Accuracy: 0.672514619883041\n"
     ]
    },
    {
     "data": {
      "text/plain": [
       "array([[39,  0, 11],\n",
       "       [ 0, 15, 30],\n",
       "       [ 6,  9, 61]])"
      ]
     },
     "execution_count": 65,
     "metadata": {},
     "output_type": "execute_result"
    }
   ],
   "source": [
    "y_pred = clf.predict(X_test)\n",
    "print(\"Accuracy:\", metrics.accuracy_score(y_true, y_pred))\n",
    "metrics.confusion_matrix(y_true, clf.predict(X_test))"
   ]
  },
  {
   "cell_type": "code",
   "execution_count": 66,
   "metadata": {},
   "outputs": [],
   "source": [
    "clf = cboost_ev"
   ]
  },
  {
   "cell_type": "code",
   "execution_count": 67,
   "metadata": {},
   "outputs": [
    {
     "data": {
      "text/html": [
       "<div>\n",
       "<style scoped>\n",
       "    .dataframe tbody tr th:only-of-type {\n",
       "        vertical-align: middle;\n",
       "    }\n",
       "\n",
       "    .dataframe tbody tr th {\n",
       "        vertical-align: top;\n",
       "    }\n",
       "\n",
       "    .dataframe thead th {\n",
       "        text-align: right;\n",
       "    }\n",
       "</style>\n",
       "<table border=\"1\" class=\"dataframe\">\n",
       "  <thead>\n",
       "    <tr style=\"text-align: right;\">\n",
       "      <th></th>\n",
       "      <th>id</th>\n",
       "      <th>class</th>\n",
       "      <th>label</th>\n",
       "      <th>predicted_class</th>\n",
       "      <th>le_8</th>\n",
       "      <th>more_20</th>\n",
       "      <th>more_8</th>\n",
       "    </tr>\n",
       "    <tr>\n",
       "      <th>id</th>\n",
       "      <th></th>\n",
       "      <th></th>\n",
       "      <th></th>\n",
       "      <th></th>\n",
       "      <th></th>\n",
       "      <th></th>\n",
       "      <th></th>\n",
       "    </tr>\n",
       "  </thead>\n",
       "  <tbody>\n",
       "    <tr>\n",
       "      <th>126</th>\n",
       "      <td>126</td>\n",
       "      <td>more_8</td>\n",
       "      <td>2</td>\n",
       "      <td>more_8</td>\n",
       "      <td>0.406774</td>\n",
       "      <td>0.00195406</td>\n",
       "      <td>0.591272</td>\n",
       "    </tr>\n",
       "    <tr>\n",
       "      <th>4</th>\n",
       "      <td>4</td>\n",
       "      <td>more_20</td>\n",
       "      <td>1</td>\n",
       "      <td>more_20</td>\n",
       "      <td>0.00225557</td>\n",
       "      <td>0.706967</td>\n",
       "      <td>0.290778</td>\n",
       "    </tr>\n",
       "    <tr>\n",
       "      <th>59</th>\n",
       "      <td>59</td>\n",
       "      <td>more_20</td>\n",
       "      <td>1</td>\n",
       "      <td>more_8</td>\n",
       "      <td>0.0019366</td>\n",
       "      <td>0.235572</td>\n",
       "      <td>0.762491</td>\n",
       "    </tr>\n",
       "    <tr>\n",
       "      <th>129</th>\n",
       "      <td>129</td>\n",
       "      <td>more_8</td>\n",
       "      <td>2</td>\n",
       "      <td>more_8</td>\n",
       "      <td>0.0299204</td>\n",
       "      <td>0.00797385</td>\n",
       "      <td>0.962106</td>\n",
       "    </tr>\n",
       "    <tr>\n",
       "      <th>60</th>\n",
       "      <td>60</td>\n",
       "      <td>more_20</td>\n",
       "      <td>1</td>\n",
       "      <td>more_8</td>\n",
       "      <td>0.00178214</td>\n",
       "      <td>0.233548</td>\n",
       "      <td>0.76467</td>\n",
       "    </tr>\n",
       "    <tr>\n",
       "      <th>105</th>\n",
       "      <td>105</td>\n",
       "      <td>le_8</td>\n",
       "      <td>0</td>\n",
       "      <td>le_8</td>\n",
       "      <td>0.990509</td>\n",
       "      <td>0.00381133</td>\n",
       "      <td>0.00567962</td>\n",
       "    </tr>\n",
       "    <tr>\n",
       "      <th>44</th>\n",
       "      <td>44</td>\n",
       "      <td>le_8</td>\n",
       "      <td>0</td>\n",
       "      <td>more_8</td>\n",
       "      <td>0.472633</td>\n",
       "      <td>0.0028351</td>\n",
       "      <td>0.524532</td>\n",
       "    </tr>\n",
       "    <tr>\n",
       "      <th>10</th>\n",
       "      <td>10</td>\n",
       "      <td>more_20</td>\n",
       "      <td>1</td>\n",
       "      <td>more_20</td>\n",
       "      <td>0.00225752</td>\n",
       "      <td>0.706713</td>\n",
       "      <td>0.291029</td>\n",
       "    </tr>\n",
       "    <tr>\n",
       "      <th>84</th>\n",
       "      <td>84</td>\n",
       "      <td>more_8</td>\n",
       "      <td>2</td>\n",
       "      <td>more_8</td>\n",
       "      <td>0.0267604</td>\n",
       "      <td>0.00534608</td>\n",
       "      <td>0.967894</td>\n",
       "    </tr>\n",
       "    <tr>\n",
       "      <th>161</th>\n",
       "      <td>161</td>\n",
       "      <td>le_8</td>\n",
       "      <td>0</td>\n",
       "      <td>le_8</td>\n",
       "      <td>0.983517</td>\n",
       "      <td>0.00365625</td>\n",
       "      <td>0.0128265</td>\n",
       "    </tr>\n",
       "  </tbody>\n",
       "</table>\n",
       "</div>"
      ],
      "text/plain": [
       "      id    class  label predicted_class        le_8     more_20      more_8\n",
       "id                                                                          \n",
       "126  126   more_8      2          more_8    0.406774  0.00195406    0.591272\n",
       "4      4  more_20      1         more_20  0.00225557    0.706967    0.290778\n",
       "59    59  more_20      1          more_8   0.0019366    0.235572    0.762491\n",
       "129  129   more_8      2          more_8   0.0299204  0.00797385    0.962106\n",
       "60    60  more_20      1          more_8  0.00178214    0.233548     0.76467\n",
       "105  105     le_8      0            le_8    0.990509  0.00381133  0.00567962\n",
       "44    44     le_8      0          more_8    0.472633   0.0028351    0.524532\n",
       "10    10  more_20      1         more_20  0.00225752    0.706713    0.291029\n",
       "84    84   more_8      2          more_8   0.0267604  0.00534608    0.967894\n",
       "161  161     le_8      0            le_8    0.983517  0.00365625   0.0128265"
      ]
     },
     "execution_count": 67,
     "metadata": {},
     "output_type": "execute_result"
    }
   ],
   "source": [
    "predicted_labels = labelizer.inverse_transform(clf.predict(X_test)).reshape(-1,1)\n",
    "predicted_df = pd.DataFrame(np.concatenate([predicted_labels, clf.predict_proba(X_test)], axis=1),\n",
    "                            index=labels_2.index,\n",
    "                            columns=['predicted_class'] + list(labelizer.classes_),\n",
    "                           )\n",
    "pd.concat(\n",
    "          [labels_2,\n",
    "           predicted_df\n",
    "          ],\n",
    "          axis=1).sample(10)"
   ]
  },
  {
   "cell_type": "code",
   "execution_count": 68,
   "metadata": {},
   "outputs": [
    {
     "data": {
      "text/plain": [
       "array([[2, 0, 1, 1, 0, 2, 2, 0, 1, 1, 2]])"
      ]
     },
     "execution_count": 68,
     "metadata": {},
     "output_type": "execute_result"
    }
   ],
   "source": [
    "clf.predict(X_val).reshape(1,-1)"
   ]
  },
  {
   "cell_type": "code",
   "execution_count": 69,
   "metadata": {},
   "outputs": [
    {
     "data": {
      "text/plain": [
       "array([2, 0, 1, 1, 0, 2, 2, 0, 1, 1, 2])"
      ]
     },
     "execution_count": 69,
     "metadata": {},
     "output_type": "execute_result"
    }
   ],
   "source": [
    "y_val.values"
   ]
  },
  {
   "cell_type": "code",
   "execution_count": 70,
   "metadata": {},
   "outputs": [
    {
     "data": {
      "text/plain": [
       "'more_20'"
      ]
     },
     "execution_count": 70,
     "metadata": {},
     "output_type": "execute_result"
    }
   ],
   "source": [
    "labelizer.classes_[1]"
   ]
  },
  {
   "cell_type": "markdown",
   "metadata": {},
   "source": [
    "Гит комит"
   ]
  },
  {
   "cell_type": "code",
   "execution_count": 71,
   "metadata": {},
   "outputs": [],
   "source": [
    "# !git status\n",
    "# !git add .\n",
    "# !git commit -m \"Added another generator\"\n"
   ]
  },
  {
   "cell_type": "code",
   "execution_count": null,
   "metadata": {},
   "outputs": [],
   "source": []
  },
  {
   "cell_type": "code",
   "execution_count": null,
   "metadata": {},
   "outputs": [],
   "source": []
  },
  {
   "cell_type": "code",
   "execution_count": null,
   "metadata": {},
   "outputs": [],
   "source": []
  },
  {
   "cell_type": "code",
   "execution_count": null,
   "metadata": {},
   "outputs": [],
   "source": []
  },
  {
   "cell_type": "code",
   "execution_count": null,
   "metadata": {},
   "outputs": [],
   "source": []
  },
  {
   "cell_type": "code",
   "execution_count": null,
   "metadata": {},
   "outputs": [],
   "source": []
  }
 ],
 "metadata": {
  "kernelspec": {
   "display_name": "Python 3",
   "language": "python",
   "name": "python3"
  },
  "language_info": {
   "codemirror_mode": {
    "name": "ipython",
    "version": 3
   },
   "file_extension": ".py",
   "mimetype": "text/x-python",
   "name": "python",
   "nbconvert_exporter": "python",
   "pygments_lexer": "ipython3",
   "version": "3.7.3"
  }
 },
 "nbformat": 4,
 "nbformat_minor": 2
}
